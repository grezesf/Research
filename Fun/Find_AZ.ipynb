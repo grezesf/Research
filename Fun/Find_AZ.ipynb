{
 "cells": [
  {
   "cell_type": "code",
   "execution_count": 1,
   "metadata": {},
   "outputs": [],
   "source": [
    "# given a long string, find shortest substring with alphabet in order\n",
    "\n",
    "# relies on the string being in Unicode, but the logic of Find_AZ can easily be adapted to any ordered alphabet\n",
    "\n",
    "# runs in O(N) time, with N=len(long string)\n",
    "# and uses O(k) space, with k=size of alphabet\n",
    "\n",
    "# .txt files from project Gutemberg https://www.gutenberg.org/"
   ]
  },
  {
   "cell_type": "code",
   "execution_count": 2,
   "metadata": {},
   "outputs": [],
   "source": [
    "### - Preliminaries functions"
   ]
  },
  {
   "cell_type": "code",
   "execution_count": 3,
   "metadata": {},
   "outputs": [],
   "source": [
    "def previous_char(c):\n",
    "    # return the previous character in the alphabet\n",
    "    # simple function but might be confusing if in main logic\n",
    "    # can also be changed if a different alphabet is required\n",
    "    # relies on unicode\n",
    "    return chr(ord(c)-1)\n",
    "\n",
    "assert previous_char('f')=='e'\n",
    "assert "
   ]
  },
  {
   "cell_type": "code",
   "execution_count": 4,
   "metadata": {},
   "outputs": [
    {
     "name": "stdout",
     "output_type": "stream",
     "text": [
      "This is \u001b[1m\u001b[91ma\u001b[0m test string with many characters to em\u001b[1m\u001b[91mb\u001b[0molded and reddify, su\u001b[1m\u001b[91mc\u001b[0mh as \u001b[1m\u001b[91mD\u001b[0m and \u001b[1m\u001b[91mE\u001b[0m and \u001b[1m\u001b[91mF\u001b[0m, and so on...\n"
     ]
    }
   ],
   "source": [
    "def pretty_print_AZ(solution_text):\n",
    "    # function to hightlight the A-Z alphabet in a solution\n",
    "    # will crash if run past the final Z\n",
    "    \n",
    "    BOLD = '\\033[1m'\n",
    "    RED = '\\033[91m'\n",
    "    END = '\\033[0m'\n",
    "    \n",
    "    alphabet = [chr(c) for c in range(97, 97+26)]\n",
    "    next_char = 0 \n",
    "    \n",
    "    r = solution_text[:]\n",
    "    \n",
    "    for p,c in enumerate(r):\n",
    "        \n",
    "        if c.lower()==alphabet[next_char]:\n",
    "            r = r[:p+(13*next_char)] + BOLD+RED+c+END + r[p+1+(13*next_char):]\n",
    "            next_char+=1\n",
    "    \n",
    "    print(r)\n",
    "    \n",
    "pretty_print_AZ(\"This is a test string with many characters to embolded and reddify, such as D and E and F, and so on...\")"
   ]
  },
  {
   "cell_type": "code",
   "execution_count": 5,
   "metadata": {},
   "outputs": [],
   "source": [
    "#####\n",
    "# MAIN FUNCTION\n",
    "#####"
   ]
  },
  {
   "cell_type": "code",
   "execution_count": 6,
   "metadata": {},
   "outputs": [],
   "source": [
    "def find_AZ(text):\n",
    "    \n",
    "    alphabet = [chr(c) for c in range(97, 97+26)]\n",
    "    # list containing where to start the current substring that ends with character c\n",
    "    # best to walk through an example to understand\n",
    "    V = {c:None for c in alphabet}\n",
    "    \n",
    "    cur_best_start_end = None\n",
    "    cur_best_len = float('inf')\n",
    "    \n",
    "    for p,c in enumerate(text):\n",
    "                \n",
    "        # convert char to lower case\n",
    "        c = c.lower()\n",
    "                \n",
    "        # if it's an alphabet letter\n",
    "        # relies on internal ord() function\n",
    "        if ord(c)<97+26 and ord(c)>96:\n",
    "                        \n",
    "            # case 1: character is first of the alphabet\n",
    "            if c=='a':\n",
    "                V[c] = p\n",
    "\n",
    "            # case 2: character is in the middle of alphabet\n",
    "            else:\n",
    "                # if the previous char has a value\n",
    "                if V[previous_char(c)] != None: \n",
    "                    V[c] = V[previous_char(c)]\n",
    "                    V[previous_char(c)] = None\n",
    "                    \n",
    "                # we could do a chec khere to see if p-V[c] < cur_best_len\n",
    "                # but it wouldn't actually save anything\n",
    "                # instead only check when you hit a Z character\n",
    "                \n",
    "            # debug print statements\n",
    "#             if V[c] != None:\n",
    "#                 print(p, c, V)\n",
    "\n",
    "            # finally, if it's the end of the alphabet\n",
    "            # and V['z'] exists\n",
    "            if c=='z' and V[c]!=None:\n",
    "                # len from finish to start\n",
    "                cur_len = p-V[c]\n",
    "                if cur_len < cur_best_len:\n",
    "                    cur_best_len = cur_len\n",
    "                    cur_best_start_end = (V[c], p)\n",
    "                    \n",
    "    print(\"final V: {}\".format(V))\n",
    "    return cur_best_start_end"
   ]
  },
  {
   "cell_type": "code",
   "execution_count": 7,
   "metadata": {},
   "outputs": [
    {
     "name": "stdout",
     "output_type": "stream",
     "text": [
      "final V: {'a': 83, 'c': 78, 'b': 81, 'e': 69, 'd': 74, 'g': None, 'f': None, 'i': None, 'h': None, 'k': None, 'j': None, 'm': None, 'l': None, 'o': None, 'n': None, 'q': None, 'p': None, 's': None, 'r': None, 'u': None, 't': None, 'w': None, 'v': None, 'y': None, 'x': None, 'z': 43}\n",
      "(43, 68)\n"
     ]
    }
   ],
   "source": [
    "r = find_AZ(\"aaaaabcdezzzfghijzzzklmnzzopqrzzstuvwxyzzzaabcdefghijklmnopqrstuvwxyzabcdeabcdabcaba\")\n",
    "print(r)"
   ]
  },
  {
   "cell_type": "code",
   "execution_count": 8,
   "metadata": {
    "scrolled": true
   },
   "outputs": [
    {
     "name": "stdout",
     "output_type": "stream",
     "text": [
      "final V: {'a': 347, 'c': 342, 'b': 345, 'e': 333, 'd': 338, 'g': 320, 'f': 327, 'i': 303, 'h': 312, 'k': 282, 'j': 293, 'm': 257, 'l': 270, 'o': 228, 'n': 243, 'q': 195, 'p': 212, 's': 158, 'r': 177, 'u': 117, 't': 138, 'w': None, 'v': 95, 'y': None, 'x': None, 'z': 50}\n",
      "(50, 350)\n"
     ]
    }
   ],
   "source": [
    "# close to a worst case? not really, it's still constant\n",
    "# just a cast where almost all the dic values are filled\n",
    "r = find_AZ(\"zabcdefghijklmnopqrstuvwxyabcdefghijklmnopqrstuvwxabcdefghijklmnopqrstuvwabcdefghijklmnopqrstuvabcdefghijklmnopqrstuvabcdefghijklmnopqrstuabcdefghijklmnopqrstabcdefghijklmnopqrsabcdefghijklmnopqrabcdefghijklmnopqabcdefghijklmnopabcdefghijklmnoabcdefghijklmnabcdefghijklmabcdefghijklabcdefghijkabcdefghijabcdefghiabcdefghabcdefgabcdefabcdeabcdabcabaxyz\")\n",
    "print(r)"
   ]
  },
  {
   "cell_type": "code",
   "execution_count": 9,
   "metadata": {},
   "outputs": [],
   "source": [
    "# now load a large unicode text"
   ]
  },
  {
   "cell_type": "code",
   "execution_count": 10,
   "metadata": {},
   "outputs": [],
   "source": [
    "# Open a file: \n",
    "# file = open('bible_king_james.txt',mode='r')\n",
    "file = open('heart_of_darkness.txt',mode='r')\n",
    "# file = open('xmas_carol.txt',mode='r')\n",
    "# file = open('frankenstein.txt',mode='r')\n",
    "# file = open('huck_finn.txt',mode='r')\n",
    "# file = open('dracula.txt',mode='r')\n",
    "# file = open('war_peace.txt',mode='r')\n",
    "# file = open('metamorphosis.txt',mode='r')\n",
    "# file = open('works_of_poe.txt',mode='r')\n",
    "# file = open('ulysses.txt',mode='r')\n",
    "\n",
    "# read all lines at once\n",
    "text = file.read()\n",
    " \n",
    "# close the file\n",
    "file.close()\n"
   ]
  },
  {
   "cell_type": "code",
   "execution_count": 11,
   "metadata": {},
   "outputs": [
    {
     "data": {
      "text/plain": [
       "234089"
      ]
     },
     "execution_count": 11,
     "metadata": {},
     "output_type": "execute_result"
    }
   ],
   "source": [
    "# number of characters in the long string\n",
    "len(text)"
   ]
  },
  {
   "cell_type": "code",
   "execution_count": 12,
   "metadata": {},
   "outputs": [
    {
     "name": "stdout",
     "output_type": "stream",
     "text": [
      "final V: {'a': None, 'c': 234016, 'b': 234070, 'e': 233918, 'd': None, 'g': None, 'f': 233864, 'i': None, 'h': None, 'k': None, 'j': None, 'm': None, 'l': 233784, 'o': 233647, 'n': None, 'q': None, 'p': 232944, 's': None, 'r': None, 'u': None, 't': None, 'w': None, 'v': None, 'y': 231224, 'x': None, 'z': 226149}\n"
     ]
    }
   ],
   "source": [
    "r = find_AZ(text)"
   ]
  },
  {
   "cell_type": "code",
   "execution_count": 13,
   "metadata": {
    "scrolled": false
   },
   "outputs": [
    {
     "name": "stdout",
     "output_type": "stream",
     "text": [
      "Shortest solution interval is (92395, 94143)\n"
     ]
    }
   ],
   "source": [
    "print(\"Shortest solution interval is {}\".format(r))"
   ]
  },
  {
   "cell_type": "code",
   "execution_count": 14,
   "metadata": {
    "scrolled": false
   },
   "outputs": [
    {
     "name": "stdout",
     "output_type": "stream",
     "text": [
      "\u001b[1m\u001b[91ma\u001b[0m sluggish \u001b[1m\u001b[91mb\u001b[0meetle \u001b[1m\u001b[91mc\u001b[0mrawling on the\r\n",
      "floor of a lofty portico. It ma\u001b[1m\u001b[91md\u001b[0m\u001b[1m\u001b[91me\u001b[0m you \u001b[1m\u001b[91mf\u001b[0meel very small, very lost, and\r\n",
      "yet it was not alto\u001b[1m\u001b[91mg\u001b[0met\u001b[1m\u001b[91mh\u001b[0mer depress\u001b[1m\u001b[91mi\u001b[0mng, that feeling. After all, if you\r\n",
      "were small, the grimy beetle crawled on--which was \u001b[1m\u001b[91mj\u001b[0must what you wanted\r\n",
      "it to do. Where the pilgrims imagined it crawled to I don't \u001b[1m\u001b[91mk\u001b[0mnow.\r\n",
      "To some p\u001b[1m\u001b[91ml\u001b[0mace where they expected to get so\u001b[1m\u001b[91mm\u001b[0methi\u001b[1m\u001b[91mn\u001b[0mg. I bet! F\u001b[1m\u001b[91mo\u001b[0mr me it\r\n",
      "crawled towards Kurtz--exclusively; but when the steam-\u001b[1m\u001b[91mp\u001b[0mipes started\r\n",
      "leaking we crawled very slow. The reaches opened before us and closed\r\n",
      "behind, as if the forest had stepped leisurely across the water to bar\r\n",
      "the way for our return. We penetrated deeper and deeper into the heart\r\n",
      "of darkness. It was very \u001b[1m\u001b[91mq\u001b[0muiet the\u001b[1m\u001b[91mr\u001b[0me. At night \u001b[1m\u001b[91ms\u001b[0mome\u001b[1m\u001b[91mt\u001b[0mimes the roll of\r\n",
      "dr\u001b[1m\u001b[91mu\u001b[0mms behind the curtain of trees would run up the ri\u001b[1m\u001b[91mv\u001b[0mer and remain\r\n",
      "sustained faintly, as if hovering in the air high over our heads, till\r\n",
      "the first break of day. \u001b[1m\u001b[91mW\u001b[0mhether it meant war, peace, or prayer we could\r\n",
      "not tell. The dawns were heralded by the descent of a chill stillness;\r\n",
      "the wood-cutters slept, their fires burned low; the snapping of a twig\r\n",
      "would make you start. We were wanderers on a prehistoric earth, on an\r\n",
      "earth that wore the aspect of an unknown planet. We could have fancied\r\n",
      "ourselves the first of men taking possession of an accursed inheritance,\r\n",
      "to be subdued at the cost of profound anguish and of e\u001b[1m\u001b[91mx\u001b[0mcessive toil. But\r\n",
      "suddenl\u001b[1m\u001b[91my\u001b[0m, as we struggled round a bend, there would be a glimpse of rush\r\n",
      "walls, of peaked grass-roofs, a burst of yells, a whirl of black limbs,\r\n",
      "a mass of hands clapping of feet stamping, of bodies swaying, of eyes\r\n",
      "rolling, under the droop of heavy and motionless foliage. The steamer\r\n",
      "toiled along slowly on the edge of a black and incomprehensible fren\u001b[1m\u001b[91mz\u001b[0m\n"
     ]
    }
   ],
   "source": [
    "pretty_print_AZ(text[r[0]:r[1]+1])"
   ]
  },
  {
   "cell_type": "code",
   "execution_count": null,
   "metadata": {},
   "outputs": [],
   "source": []
  }
 ],
 "metadata": {
  "kernelspec": {
   "display_name": "Python 2",
   "language": "python",
   "name": "python2"
  },
  "language_info": {
   "codemirror_mode": {
    "name": "ipython",
    "version": 2
   },
   "file_extension": ".py",
   "mimetype": "text/x-python",
   "name": "python",
   "nbconvert_exporter": "python",
   "pygments_lexer": "ipython2",
   "version": "2.7.15+"
  }
 },
 "nbformat": 4,
 "nbformat_minor": 2
}
