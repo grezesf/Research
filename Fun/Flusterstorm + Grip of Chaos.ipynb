{
 "cells": [
  {
   "cell_type": "code",
   "execution_count": 1,
   "metadata": {
    "collapsed": true
   },
   "outputs": [],
   "source": [
    "# mtg situation:\n",
    "# opponent casts boring sorcery, I cast flusterstorm with storm = X\n",
    "# I control a grip of chaos\n",
    "# no mana for anyone"
   ]
  },
  {
   "cell_type": "code",
   "execution_count": 2,
   "metadata": {
    "collapsed": true
   },
   "outputs": [],
   "source": [
    "import random"
   ]
  },
  {
   "cell_type": "code",
   "execution_count": 3,
   "metadata": {
    "collapsed": false
   },
   "outputs": [],
   "source": [
    "def resolves(storm):\n",
    "    # create stack, 0 is original spell, 1 is the first fluster (that will always target the original spell)\n",
    "    stack = range(storm+2)\n",
    "#     print \"       stack: \", stack\n",
    "\n",
    "    # redirect each copie of fluster (except the first one)\n",
    "    redirections = [0, 0] #first two spell on the stack do not get redirected\n",
    "    for copy in stack[2:]:\n",
    "        target = copy\n",
    "        # choose another target (not itself)\n",
    "        while target == copy:\n",
    "            target = random.randint(0,storm+1)\n",
    "\n",
    "        redirections.append(target)\n",
    "\n",
    "#     print \"redirections: \", redirections\n",
    "\n",
    "    # resolve copies in backwards order\n",
    "    pos = storm +2\n",
    "    for target in reversed(redirections[2:]):\n",
    "        pos -= 1\n",
    "        if target > pos:\n",
    "            # target is already resolved\n",
    "            pass\n",
    "        elif stack[target] == '-1' :\n",
    "            # target has been previously countered \n",
    "            pass\n",
    "        else:\n",
    "            stack[target] = -1\n",
    "#     print \"       stack: \", stack\n",
    "    \n",
    "    return stack[0] == 0\n"
   ]
  },
  {
   "cell_type": "code",
   "execution_count": 4,
   "metadata": {
    "collapsed": false
   },
   "outputs": [
    {
     "name": "stdout",
     "output_type": "stream",
     "text": [
      "False\n"
     ]
    }
   ],
   "source": [
    "print resolves(10)"
   ]
  },
  {
   "cell_type": "code",
   "execution_count": 5,
   "metadata": {
    "collapsed": false
   },
   "outputs": [],
   "source": [
    "# perform experiments\n",
    "distribution = [0]\n",
    "for storm in range(100)[1:]:\n",
    "    distribution.append(0)\n",
    "    # do each exp k times\n",
    "    k = 5000\n",
    "    for x in range(k):\n",
    "        if resolves(storm):\n",
    "            distribution[storm] += 1\n",
    "    # normalize\n",
    "    distribution[storm] /= float(k)"
   ]
  },
  {
   "cell_type": "code",
   "execution_count": 6,
   "metadata": {
    "collapsed": false
   },
   "outputs": [
    {
     "name": "stdout",
     "output_type": "stream",
     "text": [
      "[0, 0.508, 0.4432, 0.406, 0.4194, 0.408, 0.403, 0.3976, 0.3838, 0.3934, 0.3808, 0.3968, 0.386, 0.392, 0.38, 0.3722, 0.3776, 0.3852, 0.3822, 0.375, 0.393, 0.389, 0.3664, 0.3682, 0.3826, 0.3794, 0.3696, 0.3824, 0.3748, 0.3662, 0.3638, 0.3712, 0.3782, 0.3726, 0.3666, 0.363, 0.368, 0.3636, 0.373, 0.3666, 0.3808, 0.377, 0.3856, 0.3758, 0.3778, 0.376, 0.3654, 0.3822, 0.3644, 0.3762, 0.3624, 0.3718, 0.382, 0.3676, 0.3712, 0.372, 0.3632, 0.3826, 0.375, 0.383, 0.3802, 0.3922, 0.3746, 0.3624, 0.3616, 0.3798, 0.3628, 0.3844, 0.3918, 0.3796, 0.373, 0.3762, 0.379, 0.3812, 0.3742, 0.3688, 0.3606, 0.3686, 0.3676, 0.3814, 0.3738, 0.3674, 0.3644, 0.368, 0.3574, 0.3622, 0.3688, 0.3724, 0.3706, 0.3742, 0.368, 0.3678, 0.3728, 0.3604, 0.3698, 0.3712, 0.3688, 0.3708, 0.3584, 0.3624]\n"
     ]
    }
   ],
   "source": [
    "print distribution"
   ]
  },
  {
   "cell_type": "code",
   "execution_count": 7,
   "metadata": {
    "collapsed": false
   },
   "outputs": [],
   "source": [
    "# plot\n",
    "import pylab\n",
    "import matplotlib.pyplot as plt\n",
    "%matplotlib inline\n",
    "pylab.rcParams['figure.figsize'] = (20.0, 8.0) #adjust to your screen"
   ]
  },
  {
   "cell_type": "code",
   "execution_count": 8,
   "metadata": {
    "collapsed": false
   },
   "outputs": [
    {
     "data": {
      "text/plain": [
       "[<matplotlib.lines.Line2D at 0x6723e30>]"
      ]
     },
     "execution_count": 8,
     "metadata": {},
     "output_type": "execute_result"
    },
    {
     "data": {
      "image/png": "[encoded data removed]",
      "text/plain": [
       "<matplotlib.figure.Figure at 0x3460310>"
      ]
     },
     "metadata": {},
     "output_type": "display_data"
    }
   ],
   "source": [
    "plt.plot(distribution)"
   ]
  },
  {
   "cell_type": "code",
   "execution_count": null,
   "metadata": {
    "collapsed": true
   },
   "outputs": [],
   "source": []
  }
 ],
 "metadata": {
  "kernelspec": {
   "display_name": "Python 2",
   "language": "python",
   "name": "python2"
  },
  "language_info": {
   "codemirror_mode": {
    "name": "ipython",
    "version": 2
   },
   "file_extension": ".py",
   "mimetype": "text/x-python",
   "name": "python",
   "nbconvert_exporter": "python",
   "pygments_lexer": "ipython2",
   "version": "2.7.9"
  }
 },
 "nbformat": 4,
 "nbformat_minor": 0
}
