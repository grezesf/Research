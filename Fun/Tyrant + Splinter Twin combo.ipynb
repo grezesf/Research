{
 "cells": [
  {
   "cell_type": "code",
   "execution_count": 1,
   "metadata": {
    "collapsed": true
   },
   "outputs": [],
   "source": [
    "# Tyrant + Splinter Twin combo\n",
    "# https://twitter.com/Flusterstorm/status/639356812270174208\n",
    "# my opponent says \"make a million dudes\" with twin, I vial in tyrant of discord. How do we handle this?"
   ]
  },
  {
   "cell_type": "raw",
   "metadata": {},
   "source": [
    "# Math:\n",
    "# Lands = # of land permanents\n",
    "# Exarchs = # of attacking Deceiver Exarchs\n",
    "# Rest = # of other non-lands permanents (ignored because doesn't change asymptotic probabilities)\n",
    "\n",
    "# Life = player's life\n",
    "\n",
    "# probability of hitting a land P_stop = Lands/(Lands + Exarchs + Rest)\n",
    "probability of sacrificing N Exarcs = (1-Lands/(Lands+Exarchs+Rest))*(1-Lands/(Lands+Exarchs+Rest-1))*...*(1-Lands/(Lands + Exarchs + Rest-N))Lands/(Lands + Exarchs + Rest)\n",
    "# Expected number of permanents to be sacrificed:\n",
    "sum for i 1-Lands/(Lands + Exarchs + Rest - i)\n",
    "\n",
    "asymptotically, only x=number of exarchs matter\n",
    "probability of sacrificing N Exarcs = 1/(x) * product 1-1/(x- i), i = 0..n-1 = (1 - n/x)/x\n",
    "expected surviving: x -  sum n * (1 - n/x)/x,  n=0..x = x-(x^2-1)/(6 x)"
   ]
  },
  {
   "cell_type": "code",
   "execution_count": null,
   "metadata": {
    "collapsed": true
   },
   "outputs": [],
   "source": [
    "# Simulation\n",
    "lands = 10\n",
    "exarchs = 10^6\n",
    "rest = 1 #(splinter twin)\n",
    "\n",
    "while lands == 10:\n",
    "    "
   ]
  }
 ],
 "metadata": {
  "kernelspec": {
   "display_name": "Python 2",
   "language": "python",
   "name": "python2"
  },
  "language_info": {
   "codemirror_mode": {
    "name": "ipython",
    "version": 2
   },
   "file_extension": ".py",
   "mimetype": "text/x-python",
   "name": "python",
   "nbconvert_exporter": "python",
   "pygments_lexer": "ipython2",
   "version": "2.7.9"
  }
 },
 "nbformat": 4,
 "nbformat_minor": 0
}
