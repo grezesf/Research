{
 "cells": [
  {
   "cell_type": "markdown",
   "metadata": {},
   "source": [
    "given a biased coin, how to obtain fair flips?\n",
    "\n",
    "Method:\n",
    "    flip the coin twice\n",
    "        if both flips are identical, repeat\n",
    "        if both are different, use second flip as result experiment"
   ]
  },
  {
   "cell_type": "code",
   "execution_count": null,
   "metadata": {
    "collapsed": true
   },
   "outputs": [],
   "source": [
    "# Q1: expected number of X pair-flips? (as a function of the coin bias p_heads)\n",
    "# E[X] = Psuccess + (1-Psuccess)(1+E[X])\n",
    "#     = Psuccess + 1 + E[X] - Psuccess -Psuccess*E[X]\n",
    "# E[X] = 1/Psuccess\n",
    "# E[X] = 1/(2*p*(1-p))"
   ]
  },
  {
   "cell_type": "code",
   "execution_count": 3,
   "metadata": {
    "collapsed": false
   },
   "outputs": [],
   "source": [
    "import pylab\n",
    "import matplotlib.pyplot as plt\n",
    "%matplotlib inline\n",
    "pylab.rcParams['figure.figsize'] = (20.0, 8.0) #adjust to your screen"
   ]
  },
  {
   "cell_type": "code",
   "execution_count": null,
   "metadata": {
    "collapsed": true
   },
   "outputs": [],
   "source": []
  }
 ],
 "metadata": {
  "kernelspec": {
   "display_name": "Python 2",
   "language": "python",
   "name": "python2"
  },
  "language_info": {
   "codemirror_mode": {
    "name": "ipython",
    "version": 2
   },
   "file_extension": ".py",
   "mimetype": "text/x-python",
   "name": "python",
   "nbconvert_exporter": "python",
   "pygments_lexer": "ipython2",
   "version": "2.7.9"
  }
 },
 "nbformat": 4,
 "nbformat_minor": 0
}
