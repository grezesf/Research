{
 "cells": [
  {
   "cell_type": "code",
   "execution_count": 1,
   "metadata": {},
   "outputs": [],
   "source": [
    "# Newton method of sqrt\n",
    "# this is actually Heron's method\n",
    "# based on http://lomont.org/papers/2003/InvSqrt.pdf\n",
    "# orignal guess within 3% of target inv_sqrt in that paper\n",
    "# 0.1% after one newton step\n",
    "\n",
    "### V1 - my own init_guess\n",
    "# Here i show my init_guess for sqrt is within 6-7% of target sqrt on average (13.46% max)\n",
    "# and within 0.6-0.7% (average) after one Newton step (1.05% max)\n",
    "\n",
    "### V2 - init_guess from wikipedia\n",
    "# https://en.wikipedia.org/wiki/Methods_of_computing_square_roots\n",
    "# #Rough Estimation\n",
    "# is worse than v1, ~17% average\n",
    "\n",
    "### V3 - 'Approximations that depend on the floating point representation'\n",
    "# seems to be slightly better than v1 on average, within 4-5% of target, but has a much worse max errore (on tiny numbers)\n",
    "\n",
    "### V4 - Hybrid between my v1 and v3\n",
    "# best yet. guess is within 1.7% average and 2.5% max off target\n",
    "# 0.018% average and 0.033% max off target after one newton step\n",
    "\n",
    "\n",
    "# it's still much slower than default math.sqrt()"
   ]
  },
  {
   "cell_type": "code",
   "execution_count": 2,
   "metadata": {},
   "outputs": [],
   "source": [
    "import math\n",
    "import random\n",
    "import sys\n",
    "import matplotlib.pyplot as plt\n",
    "import numpy as np"
   ]
  },
  {
   "cell_type": "code",
   "execution_count": 3,
   "metadata": {},
   "outputs": [],
   "source": [
    "def f(x, I):\n",
    "    # function to use the newton method with\n",
    "    # this function's zeroes are when x = sqrt(I)\n",
    "    # the x*x product limits to floats with exponent smaller than 10^152\n",
    "    return x*x - I"
   ]
  },
  {
   "cell_type": "code",
   "execution_count": 4,
   "metadata": {},
   "outputs": [],
   "source": [
    "def f_p(x):\n",
    "    # the derivative of the f function (doesn't include I in this case, but in general might)\n",
    "    return 2*x"
   ]
  },
  {
   "cell_type": "code",
   "execution_count": 5,
   "metadata": {},
   "outputs": [],
   "source": [
    "def init_sqrt_guess_1(x):\n",
    "    # returns a guess for sqrt(x)\n",
    "    # get the mantissa and exponent\n",
    "    m, e = math.frexp(x)\n",
    "    # we're looking for a new m and e such that (m*2**e)**2 ~= x\n",
    "    # for the exponent it's just half\n",
    "    e = e/2.0\n",
    "    # for the mantissa which is in [0.5,1[ (because x is positive), the best value is obviously sqrt(m)\n",
    "    # we approximate that by sqrt(x) ~= x+k\n",
    "    # k = solve ((2 1^(3/2))/3 - 1^2/2 ) - ((2 0.5^(3/2))/3 - 0.5^2/2)-k/2 ==0\n",
    "    # I believe this k makes the integral of sqrt(x)-(x+k) in between 0.5,1 to be zero\n",
    "    # and that this is optimal as a first guess (but doesn't necessarily optimized for the first step, the second step...)\n",
    "    # approximately\n",
    "    k = 0.111928812542301634\n",
    "    # if k = 0, guess is ~29% off\n",
    "    m = m+k\n",
    "    # init guess \n",
    "    g = m*(2**e)\n",
    "    return g\n",
    "\n",
    "# comments on dev of a better hex version of the init guess.\n",
    "# since actually m*(2**e) == x, if m, e = math.frexp(x), and not a close number due to floating points\n",
    "# maybe a hex version isn't much better"
   ]
  },
  {
   "cell_type": "code",
   "execution_count": 6,
   "metadata": {},
   "outputs": [],
   "source": [
    "def init_sqrt_guess_2(x):\n",
    "    # v2\n",
    "    # returns a guess for sqrt(x)\n",
    "    # get the mantissa and exponent\n",
    "    m, e = math.frexp(x)\n",
    "    # guess based on 'Rough estimation' section of wiki page linked above\n",
    "    e = math.floor(e/2.0)\n",
    "    # init guess \n",
    "    g = (2**e)\n",
    "    return g"
   ]
  },
  {
   "cell_type": "code",
   "execution_count": 7,
   "metadata": {},
   "outputs": [
    {
     "name": "stdout",
     "output_type": "stream",
     "text": [
      "1.10000002384\n",
      "1066192077\n",
      "1065353216\n"
     ]
    }
   ],
   "source": [
    "# tools to convert float from int bytes and vice-versa\n",
    "# adapted from https://stackoverflow.com/questions/34402334/how-to-interpret-a-integer-as-a-float\n",
    "import struct\n",
    "\n",
    "def float_from_integer(integer):\n",
    "    return struct.unpack('!f', struct.pack('!I', integer))[0]\n",
    "\n",
    "def integer_from_float(float_num):\n",
    "    return struct.unpack('!I', struct.pack('!f', float_num))[0]\n",
    "\n",
    "# check from stackoverflow\n",
    "assert float_from_integer(1066192077) == 1.100000023841858\n",
    "assert integer_from_float(1.100000023841858) == 1066192077\n",
    "# check from wikipedia\n",
    "assert integer_from_float(1.0) == 1065353216\n",
    "\n",
    "print(float_from_integer(1066192077))\n",
    "print(integer_from_float(1.100000023841858))\n",
    "print(integer_from_float(1.0))"
   ]
  },
  {
   "cell_type": "code",
   "execution_count": 8,
   "metadata": {},
   "outputs": [],
   "source": [
    "def init_sqrt_guess_3(x, magic_num=0x1fb99a06):\n",
    "    # v3\n",
    "    # returns a guess for sqrt(x)\n",
    "    # guess based on 'Approximations that depend on the floating point representation' from wikipedia link above\n",
    "    # and from https://stackoverflow.com/questions/43120045/how-does-this-float-square-root-approximation-work\n",
    "    # default magic constant 0x1fbb4000 = 532365312\n",
    "    # best for [0.5-1[ min-max error 0x1fb99a06 = 532257286\n",
    "    g = integer_from_float(x)>>1\n",
    "    g = float_from_integer(magic_num+g)\n",
    "    \n",
    "    return g"
   ]
  },
  {
   "cell_type": "code",
   "execution_count": 9,
   "metadata": {},
   "outputs": [],
   "source": [
    "def init_sqrt_guess_4(x, magic_num=0x1fb99a06):\n",
    "    # v4 hybrid between v1 and v2\n",
    "    m, e = math.frexp(x)\n",
    "    e = e/2.\n",
    "    m = init_sqrt_guess_3(m, magic_num)\n",
    "    \n",
    "    g = m*2**e\n",
    "    \n",
    "    return g"
   ]
  },
  {
   "cell_type": "code",
   "execution_count": 10,
   "metadata": {},
   "outputs": [],
   "source": [
    "def newton_sqrt(I, max_steps=1, init_guess_func=init_sqrt_guess_4, min_error=1e-10, add_noise=False, verbose=False):\n",
    "    # computes the sqrt of I using the Newton method\n",
    "    # default max_step=1 to mirror fast inverse sqrt paper\n",
    "    # converges very fast so a very small min_error is possible\n",
    "    # after 3 steps, 0% error\n",
    "    \n",
    "    I = float(I)\n",
    "    \n",
    "    # initial guess:\n",
    "    x = init_guess_func(I)\n",
    "    \n",
    "    step=0\n",
    "\n",
    "    abs_error = abs(x*x-I)\n",
    "    rel_error = 100.0*abs_error/I\n",
    "    \n",
    "    if verbose:\n",
    "        print(\"Init guess: {}\".format(x))\n",
    "        print(\"Absolute Error: {}\".format(abs_error))\n",
    "        print(\"Relative Error: {:.10f} %\".format(rel_error))\n",
    "    \n",
    "    # takes steps until max_steps or min_error reached, whichever comes first\n",
    "    while (rel_error>min_error and step<max_steps):\n",
    "        \n",
    "        # add noise to prevent getting stuck?\n",
    "        if add_noise: x += random.random()*min_error*2\n",
    "        \n",
    "        # Newton step\n",
    "#         x = x - f(x,I)/f_p(x) # original form\n",
    "        x =(x**2+I)/(2*x)\n",
    "        \n",
    "        step += 1\n",
    "        \n",
    "        abs_error = abs(x*x-I)\n",
    "        rel_error = 100.0*abs_error/I\n",
    "        \n",
    "        if verbose: \n",
    "            print(\"After step {}\".format(step))\n",
    "            print(\"Current x: {}\".format(x))\n",
    "            print(\"Absolute Error: {}\".format(abs_error))\n",
    "            print(\"Relative Error: {:.10f} %\".format(rel_error))\n",
    "    \n",
    "    return x"
   ]
  },
  {
   "cell_type": "code",
   "execution_count": 11,
   "metadata": {},
   "outputs": [],
   "source": [
    "def gen_rand_positive_32_bit_float():\n",
    "    # generate a positive 32 bit float from hexadecimal\n",
    "    \n",
    "    # random components\n",
    "    mantissa = ''.join([random.choice('01234567890abcdef') for _ in range(8)])\n",
    "    # limit range \n",
    "    exponent = random.randint(a=-126, b=127)\n",
    "\n",
    "    # combine into a string for float.fromhex()\n",
    "    hex_string = '0x1.'+mantissa+'p'+str(exponent)\n",
    "\n",
    "    # convert\n",
    "    float_from_hex = float.fromhex(hex_string)\n",
    "    \n",
    "#     print(mantissa)\n",
    "#     print(exponent)\n",
    "#     print(hex_string)\n",
    "\n",
    "    return float_from_hex"
   ]
  },
  {
   "cell_type": "code",
   "execution_count": 12,
   "metadata": {},
   "outputs": [],
   "source": [
    "def gen_rand_positive_32_bit_float():\n",
    "    # generates positive 32 bit floats from integers\n",
    "    rand_int = random.randint(a=0, b=2139095039)\n",
    "    r = float_from_integer(rand_int)\n",
    "    if r!=r:\n",
    "        print(\"NAN\", rand_int)\n",
    "    return r"
   ]
  },
  {
   "cell_type": "code",
   "execution_count": 13,
   "metadata": {},
   "outputs": [
    {
     "name": "stdout",
     "output_type": "stream",
     "text": [
      "('One step newton computation with default init_guess:', 0.8000156825781851)\n",
      "('V1 init guess', 0.7519288125423016)\n",
      "('V2 init guess', 1.0)\n",
      "('V3 init guess', 0.7950064539909363)\n",
      "('V4 init guess', 0.7950064539909363)\n"
     ]
    }
   ],
   "source": [
    "# test some known values\n",
    "num_to_test = 0.64\n",
    "print(\"One step newton computation with default init_guess:\", newton_sqrt(num_to_test))\n",
    "print(\"V1 init guess\", init_sqrt_guess_1(num_to_test))\n",
    "print(\"V2 init guess\", init_sqrt_guess_2(num_to_test))\n",
    "print(\"V3 init guess\", init_sqrt_guess_3(num_to_test))\n",
    "print(\"V4 init guess\", init_sqrt_guess_4(num_to_test))"
   ]
  },
  {
   "cell_type": "code",
   "execution_count": 14,
   "metadata": {},
   "outputs": [
    {
     "name": "stdout",
     "output_type": "stream",
     "text": [
      "Init guess: 0.795006453991\n",
      "Absolute Error: 0.00796473811276\n",
      "Relative Error: 1.2444903301 %\n",
      "After step 1\n",
      "Current x: 0.800015682578\n",
      "Absolute Error: 2.50923710394e-05\n",
      "Relative Error: 0.0039206830 %\n",
      "0.800015682578\n"
     ]
    }
   ],
   "source": [
    "# see the computation\n",
    "print(newton_sqrt(num_to_test, verbose=True))"
   ]
  },
  {
   "cell_type": "code",
   "execution_count": 15,
   "metadata": {},
   "outputs": [
    {
     "name": "stdout",
     "output_type": "stream",
     "text": [
      "Number to test: 1.20825238023e+33\n",
      "My computation\n",
      "Init guess: 3.38817815224e+16\n",
      "Absolute Error: 6.02772611017e+31\n",
      "Relative Error: 4.9887972155 %\n",
      "After step 1\n",
      "Current x: 3.47713047174e+16\n",
      "Absolute Error: 7.91251514377e+29\n",
      "Relative Error: 0.0654872713 %\n",
      "After step 2\n",
      "Current x: 3.47599267791e+16\n",
      "Absolute Error: 1.29457478157e+26\n",
      "Relative Error: 0.0000107144 %\n",
      "After step 3\n",
      "Current x: 3.4759924917e+16\n",
      "Absolute Error: 3.45876451382e+18\n",
      "Relative Error: 0.0000000000 %\n",
      "After step 4\n",
      "Current x: 3.4759924917e+16\n",
      "Absolute Error: 1.44115188076e+17\n",
      "Relative Error: 0.0000000000 %\n",
      "After step 5\n",
      "Current x: 3.4759924917e+16\n",
      "Absolute Error: 1.44115188076e+17\n",
      "Relative Error: 0.0000000000 %\n",
      "After step 6\n",
      "Current x: 3.4759924917e+16\n",
      "Absolute Error: 1.44115188076e+17\n",
      "Relative Error: 0.0000000000 %\n",
      "\n",
      "my results: 34759924916968072.0000000000000000000000000000000000000000000000000000000000000000000000000000000000000000000000000000\n",
      "python's  : 34759924916968072.0000000000000000000000000000000000000000000000000000000000000000000000000000000000000000000000000000\n",
      "Newton Absolute Error: 1.44115188076e+17\n",
      "Newton Relative Error: 0.00000%\n",
      "Python Absolute Error: 1.44115188076e+17\n",
      "Python Relative Error: 0.00000%\n"
     ]
    }
   ],
   "source": [
    "# test some random values\n",
    "num_to_test = gen_rand_positive_32_bit_float()\n",
    "print(\"Number to test: {}\".format(num_to_test))\n",
    "\n",
    "# my computation\n",
    "print(\"My computation\")\n",
    "my_result = newton_sqrt(num_to_test, max_steps=6, min_error=1e-200, add_noise=False, verbose=True)\n",
    "\n",
    "# python's computation\n",
    "python_result = math.sqrt(num_to_test)\n",
    "\n",
    "# compare\n",
    "print(\"\")\n",
    "print(\"my results: {0:.100f}\".format(my_result))\n",
    "print(\"python's  : {0:.100f}\".format(python_result))\n",
    "my_error = abs(my_result*my_result-num_to_test)\n",
    "print(\"Newton Absolute Error: {}\".format(my_error))\n",
    "print(\"Newton Relative Error: {:.5f}%\".format(100.0*my_error/num_to_test))\n",
    "\n",
    "py_error = abs(python_result*python_result-num_to_test)\n",
    "print(\"Python Absolute Error: {}\".format(py_error))\n",
    "print(\"Python Relative Error: {:.5f}%\".format(100.0*py_error/num_to_test))"
   ]
  },
  {
   "cell_type": "code",
   "execution_count": 16,
   "metadata": {},
   "outputs": [],
   "source": [
    "### Timing Tests"
   ]
  },
  {
   "cell_type": "code",
   "execution_count": 17,
   "metadata": {},
   "outputs": [
    {
     "name": "stdout",
     "output_type": "stream",
     "text": [
      "2000000 loops, best of 5: 2.49 µs per loop\n"
     ]
    }
   ],
   "source": [
    "%%timeit -n 2000000 -r 5\n",
    "num_to_test = gen_rand_positive_32_bit_float()"
   ]
  },
  {
   "cell_type": "code",
   "execution_count": 18,
   "metadata": {},
   "outputs": [
    {
     "name": "stdout",
     "output_type": "stream",
     "text": [
      "2000000 loops, best of 5: 2.49 µs per loop\n"
     ]
    }
   ],
   "source": [
    "%%timeit -n 2000000 -r 5\n",
    "num_to_test = gen_rand_positive_32_bit_float()\n",
    "math.sqrt(num_to_test)"
   ]
  },
  {
   "cell_type": "code",
   "execution_count": 19,
   "metadata": {},
   "outputs": [],
   "source": [
    "# math.sqrt() takes about 0.57 µs"
   ]
  },
  {
   "cell_type": "code",
   "execution_count": 20,
   "metadata": {},
   "outputs": [
    {
     "name": "stdout",
     "output_type": "stream",
     "text": [
      "2000000 loops, best of 5: 3.52 µs per loop\n"
     ]
    }
   ],
   "source": [
    "%%timeit -n 2000000 -r 5\n",
    "num_to_test = gen_rand_positive_32_bit_float()\n",
    "init_sqrt_guess_1(num_to_test)"
   ]
  },
  {
   "cell_type": "code",
   "execution_count": 21,
   "metadata": {},
   "outputs": [
    {
     "name": "stdout",
     "output_type": "stream",
     "text": [
      "2000000 loops, best of 5: 4.12 µs per loop\n"
     ]
    }
   ],
   "source": [
    "%%timeit -n 2000000 -r 5\n",
    "num_to_test = gen_rand_positive_32_bit_float()\n",
    "init_sqrt_guess_3(num_to_test)"
   ]
  },
  {
   "cell_type": "code",
   "execution_count": 22,
   "metadata": {},
   "outputs": [
    {
     "name": "stdout",
     "output_type": "stream",
     "text": [
      "2000000 loops, best of 5: 5.07 µs per loop\n"
     ]
    }
   ],
   "source": [
    "%%timeit -n 2000000 -r 5\n",
    "num_to_test = gen_rand_positive_32_bit_float()\n",
    "init_sqrt_guess_4(num_to_test)"
   ]
  },
  {
   "cell_type": "code",
   "execution_count": 23,
   "metadata": {},
   "outputs": [
    {
     "name": "stdout",
     "output_type": "stream",
     "text": [
      "2000000 loops, best of 5: 6.27 µs per loop\n"
     ]
    }
   ],
   "source": [
    "%%timeit -n 2000000 -r 5\n",
    "num_to_test = gen_rand_positive_32_bit_float()\n",
    "newton_sqrt(num_to_test, max_steps=0)"
   ]
  },
  {
   "cell_type": "code",
   "execution_count": 24,
   "metadata": {},
   "outputs": [
    {
     "name": "stdout",
     "output_type": "stream",
     "text": [
      "2000000 loops, best of 5: 7.4 µs per loop\n"
     ]
    }
   ],
   "source": [
    "%%timeit -n 2000000 -r 5\n",
    "num_to_test = gen_rand_positive_32_bit_float()\n",
    "newton_sqrt(num_to_test, max_steps=1)"
   ]
  },
  {
   "cell_type": "code",
   "execution_count": 25,
   "metadata": {},
   "outputs": [
    {
     "name": "stdout",
     "output_type": "stream",
     "text": [
      "2000000 loops, best of 5: 8.64 µs per loop\n"
     ]
    }
   ],
   "source": [
    "%%timeit -n 2000000 -r 5\n",
    "num_to_test = gen_rand_positive_32_bit_float()\n",
    "newton_sqrt(num_to_test, max_steps=2)"
   ]
  },
  {
   "cell_type": "code",
   "execution_count": 26,
   "metadata": {},
   "outputs": [
    {
     "name": "stdout",
     "output_type": "stream",
     "text": [
      "2000000 loops, best of 5: 9.41 µs per loop\n"
     ]
    }
   ],
   "source": [
    "%%timeit -n 2000000 -r 5\n",
    "num_to_test = gen_rand_positive_32_bit_float()\n",
    "newton_sqrt(num_to_test, max_steps=3)"
   ]
  },
  {
   "cell_type": "code",
   "execution_count": 27,
   "metadata": {},
   "outputs": [
    {
     "name": "stdout",
     "output_type": "stream",
     "text": [
      "2000000 loops, best of 5: 9.55 µs per loop\n"
     ]
    }
   ],
   "source": [
    "%%timeit -n 2000000 -r 5\n",
    "num_to_test = gen_rand_positive_32_bit_float()\n",
    "newton_sqrt(num_to_test, max_steps=4)"
   ]
  },
  {
   "cell_type": "code",
   "execution_count": 28,
   "metadata": {},
   "outputs": [
    {
     "name": "stdout",
     "output_type": "stream",
     "text": [
      "2000000 loops, best of 5: 9.27 µs per loop\n"
     ]
    }
   ],
   "source": [
    "%%timeit -n 2000000 -r 5\n",
    "num_to_test = gen_rand_positive_32_bit_float()\n",
    "newton_sqrt(num_to_test, max_steps=5)"
   ]
  },
  {
   "cell_type": "code",
   "execution_count": 29,
   "metadata": {},
   "outputs": [
    {
     "name": "stdout",
     "output_type": "stream",
     "text": [
      "2000000 loops, best of 5: 9.23 µs per loop\n"
     ]
    }
   ],
   "source": [
    "%%timeit -n 2000000 -r 5\n",
    "num_to_test = gen_rand_positive_32_bit_float()\n",
    "newton_sqrt(num_to_test, max_steps=6)"
   ]
  },
  {
   "cell_type": "code",
   "execution_count": 30,
   "metadata": {},
   "outputs": [],
   "source": [
    "# seems about 20 times slower with maxstep=1"
   ]
  },
  {
   "cell_type": "code",
   "execution_count": 31,
   "metadata": {
    "scrolled": false
   },
   "outputs": [
    {
     "name": "stdout",
     "output_type": "stream",
     "text": [
      "Testing with max_steps=0\n",
      "Max absolute error: 1.67971281956e+37 (result: 3.2348418404e+38  target: 3.40281312236e+38)\n",
      "Max relative error: 5.12686596127% (result: 4.01027263738e-06  target: 3.81469817512e-06)\n",
      "Max sqrt absolute error: 4.61049956065e+17 (result: 1.79851350075e+19  target: 1.84461849636e+19)\n",
      "Max sqrt relative error: 2.53139671246% (result: 1.2812817034e-06  target: 1.3145583913e-06)\n",
      "Average absolute error: 7.28704747025e+34\n",
      "Average relative error: 3.42485090936%\n",
      "Average sqrt absolute error: 3.79195998324e+15\n",
      "Average sqrt relative error: 1.72656186061%\n",
      "\n",
      "Testing with max_steps=1\n",
      "Max absolute error: 2.18051893096e+35 (result: 3.40295911278e+38  target: 3.40077859385e+38)\n",
      "Max relative error: 0.0657547385768% (result: 4.59700222808e+24  target: 4.59398146757e+24)\n",
      "Max sqrt absolute error: 5.94825316462e+15 (result: 1.82171904353e+19  target: 1.82112421821e+19)\n",
      "Max sqrt relative error: 0.0328719664575% (result: 2.14406208587e+12  target: 2.14335752211e+12)\n",
      "Average absolute error: 8.12790219477e+32\n",
      "Average relative error: 0.0366312054657%\n",
      "Average sqrt absolute error: 4.11238937473e+13\n",
      "Average sqrt relative error: 0.0183132058038%\n",
      "\n",
      "Testing with max_steps=2\n",
      "Max absolute error: 3.53701633368e+31 (result: 3.31654285528e+38  target: 3.31654250158e+38)\n",
      "Max relative error: 1.08021112318e-05% (result: 2.46635640804e+33  target: 2.46635614162e+33)\n",
      "Max sqrt absolute error: 9.74214463488e+11 (result: 1.80946970348e+19  target: 1.80946960605e+19)\n",
      "Max sqrt relative error: 5.40105547289e-06% (result: 4.96624245083e+16  target: 4.9662421826e+16)\n",
      "Average absolute error: 1.10035857451e+29\n",
      "Average relative error: 4.79207407212e-06%\n",
      "Average sqrt absolute error: 5496340274.55\n",
      "Average sqrt relative error: 2.39603698508e-06%\n",
      "\n",
      "Testing with max_steps=3\n",
      "Max absolute error: 1.0200311603e+24 (result: 3.36288922729e+38  target: 3.36288922729e+38)\n",
      "Max relative error: 3.29390539065e-13% (result: 494797.0  target: 494797.0)\n",
      "Max sqrt absolute error: 28672.0 (result: 1.79907988258e+19  target: 1.79907988258e+19)\n",
      "Max sqrt relative error: 1.63862370464e-13% (result: 0.0846917310455  target: 0.0846917310455)\n",
      "Average absolute error: 2.50958961674e+21\n",
      "Average relative error: 1.069720084e-13%\n",
      "Average sqrt absolute error: 122.560043641\n",
      "Average sqrt relative error: 5.30646110006e-14%\n",
      "\n",
      "Testing with max_steps=4\n",
      "Max absolute error: 7.55578637259e+22 (result: 2.8290610743e+38  target: 2.8290610743e+38)\n",
      "Max relative error: 6.54734394539e-14% (result: 5.03797404084e+27  target: 5.03797404084e+27)\n",
      "Max sqrt absolute error: 2048.0 (result: 1.68198129428e+19  target: 1.68198129428e+19)\n",
      "Max sqrt relative error: 2.2204340056e-14% (result: 262145.421871  target: 262145.421871)\n",
      "Average absolute error: 2.1280594161e+20\n",
      "Average relative error: 1.09079733509e-14%\n",
      "Average sqrt absolute error: 9.41036913621\n",
      "Average sqrt relative error: 4.58049848614e-15%\n",
      "\n",
      "Testing with max_steps=5\n",
      "Max absolute error: 7.55578637259e+22 (result: 2.7128826208e+38  target: 2.7128826208e+38)\n",
      "Max relative error: 6.54734394539e-14% (result: 5.92211002459e-11  target: 5.92211002459e-11)\n",
      "Max sqrt absolute error: 2048.0 (result: 1.80450054302e+19  target: 1.80450054302e+19)\n",
      "Max sqrt relative error: 2.22043188805e-14% (result: 2.77557526317e-17  target: 2.77557526317e-17)\n",
      "Average absolute error: 1.70551350698e+20\n",
      "Average relative error: 9.36853920041e-15%\n",
      "Average sqrt absolute error: 9.6186978526\n",
      "Average sqrt relative error: 4.5974700736e-15%\n",
      "\n",
      "Testing with max_steps=6\n",
      "Max absolute error: 5.66683977944e+22 (result: 1.50763146219e+38  target: 1.50763146219e+38)\n",
      "Max relative error: 6.55336468112e-14% (result: 16653.9433594  target: 16653.9433594)\n",
      "Max sqrt absolute error: 2048.0 (result: 1.33347752061e+19  target: 1.33347752061e+19)\n",
      "Max sqrt relative error: 2.22043427029e-14% (result: 2147495039.97  target: 2147495039.97)\n",
      "Average absolute error: 1.58671277692e+20\n",
      "Average relative error: 8.78784878736e-15%\n",
      "Average sqrt absolute error: 7.29241662572\n",
      "Average sqrt relative error: 3.71494667087e-15%\n",
      "\n",
      "Testing with max_steps=7\n",
      "Max absolute error: 5.66683977944e+22 (result: 1.64525471019e+38  target: 1.64525471019e+38)\n",
      "Max relative error: 6.5406267951e-14% (result: 9.48510714416e-10  target: 9.48510714416e-10)\n",
      "Max sqrt absolute error: 2048.0 (result: 1.23330226794e+19  target: 1.23330226794e+19)\n",
      "Max sqrt relative error: 2.22043453499e-14% (result: 1.49012384652e-08  target: 1.49012384652e-08)\n",
      "Average absolute error: 1.63906995799e+20\n",
      "Average relative error: 9.05510741659e-15%\n",
      "Average sqrt absolute error: 9.30710774742\n",
      "Average sqrt relative error: 4.46615422934e-15%\n",
      "\n",
      "Testing with max_steps=8\n",
      "Max absolute error: 5.66683977944e+22 (result: 1.29144795142e+38  target: 1.29144795142e+38)\n",
      "Max relative error: 6.54655311174e-14% (result: 1.32083420648e+33  target: 1.32083420648e+33)\n",
      "Max sqrt absolute error: 2048.0 (result: 1.16494952025e+19  target: 1.16494952025e+19)\n",
      "Max sqrt relative error: 2.2204340056e-14% (result: 1.4210931795e-14  target: 1.4210931795e-14)\n",
      "Average absolute error: 1.54091373593e+20\n",
      "Average relative error: 8.78357989612e-15%\n",
      "Average sqrt absolute error: 7.04215724784\n",
      "Average sqrt relative error: 3.71501363381e-15%\n",
      "\n",
      "Testing with max_steps=9\n",
      "Max absolute error: 5.66683977944e+22 (result: 1.64418643568e+38  target: 1.64418643568e+38)\n",
      "Max relative error: 6.54734394539e-14% (result: 2.9324868466e+17  target: 2.9324868466e+17)\n",
      "Max sqrt absolute error: 2048.0 (result: 1.68945035355e+19  target: 1.68945035355e+19)\n",
      "Max sqrt relative error: 2.22043281448e-14% (result: 512.003051749  target: 512.003051749)\n",
      "Average absolute error: 1.60369605876e+20\n",
      "Average relative error: 9.0623101334e-15%\n",
      "Average sqrt absolute error: 9.0884799195\n",
      "Average sqrt relative error: 4.47597256541e-15%\n",
      "\n"
     ]
    }
   ],
   "source": [
    "# test over a bunch of floats, to evaluate the impact of the number of steps\n",
    "\n",
    "num_samples = 2000000\n",
    "\n",
    "for max_steps in range(10):\n",
    "    print(\"Testing with max_steps={}\".format(max_steps))\n",
    "    \n",
    "    max_abs_error = -1\n",
    "    max_abs_err_num = -1\n",
    "    max_abs_err_res = -1\n",
    "    \n",
    "    max_rel_error = -1\n",
    "    max_rel_err_num = -1\n",
    "    max_rel_err_res =-1\n",
    "    \n",
    "    max_sqrt_abs_error = -1\n",
    "    max_sqrt_abs_err_num = -1\n",
    "    max_sqrt_abs_err_res = -1\n",
    "    \n",
    "    max_sqrt_rel_error = -1\n",
    "    max_sqrt_abs_err_num = -1\n",
    "    max_sqrt_abs_err_res  -1\n",
    "    \n",
    "    average_abs_err = 0\n",
    "    average_rel_err = 0\n",
    "    average_abs_sqrt_err = 0\n",
    "    average_rel_sqrt_err = 0\n",
    "    \n",
    "    for _ in xrange(num_samples):\n",
    "        # generate a new random value\n",
    "        num_to_test = gen_rand_positive_32_bit_float()\n",
    "\n",
    "        # compute my sqrt\n",
    "        my_result = newton_sqrt(num_to_test, max_steps=max_steps, min_error=1e-100, add_noise=False, verbose=False)\n",
    "        \n",
    "        my_abs_error = abs(my_result*my_result-num_to_test)\n",
    "        my_rel_error = 100.0*my_abs_error/num_to_test\n",
    "        \n",
    "        sqrt_abs_error = abs(my_result-math.sqrt(num_to_test))\n",
    "        sqrt_rel_error = 100.0*sqrt_abs_error/math.sqrt(num_to_test)\n",
    "        \n",
    "        average_abs_err += my_abs_error\n",
    "        average_rel_err += my_rel_error\n",
    "        average_abs_sqrt_err += sqrt_abs_error\n",
    "        average_rel_sqrt_err += sqrt_rel_error\n",
    "        \n",
    "        if (max_abs_error == -1) or (my_abs_error>max_abs_error):\n",
    "            max_abs_error = my_abs_error\n",
    "            max_abs_err_num = num_to_test\n",
    "            max_abs_err_res = my_result*my_result\n",
    "            \n",
    "        if (max_rel_error == -1) or (my_rel_error>max_rel_error):\n",
    "            max_rel_error = my_rel_error\n",
    "            max_rel_err_num = num_to_test\n",
    "            max_rel_err_res = my_result*my_result\n",
    "\n",
    "        if (max_sqrt_abs_error == -1) or (sqrt_abs_error>max_sqrt_abs_error):\n",
    "            max_sqrt_abs_error = sqrt_abs_error\n",
    "            max_sqrt_abs_err_num = math.sqrt(num_to_test)\n",
    "            max_sqrt_abs_err_res = my_result\n",
    "            \n",
    "        if (max_sqrt_rel_error == -1) or (sqrt_rel_error>max_sqrt_rel_error):\n",
    "            max_sqrt_rel_error = sqrt_rel_error\n",
    "            max_sqrt_rel_err_num = math.sqrt(num_to_test)\n",
    "            max_sqrt_rel_err_res = my_result\n",
    "\n",
    "    average_abs_err /= num_samples\n",
    "    average_rel_err /= num_samples\n",
    "    average_abs_sqrt_err /= num_samples\n",
    "    average_rel_sqrt_err /= num_samples\n",
    "            \n",
    "    print(\"Max absolute error: {} (result: {}  target: {})\".format(max_abs_error, max_abs_err_res, max_abs_err_num))\n",
    "    print(\"Max relative error: {}% (result: {}  target: {})\".format(max_rel_error, max_rel_err_res, max_rel_err_num))\n",
    "    print(\"Max sqrt absolute error: {} (result: {}  target: {})\".format(max_sqrt_abs_error, max_sqrt_abs_err_res, max_sqrt_abs_err_num))\n",
    "    print(\"Max sqrt relative error: {}% (result: {}  target: {})\".format(max_sqrt_rel_error, max_sqrt_rel_err_res, max_sqrt_rel_err_num))\n",
    "    print(\"Average absolute error: {}\".format(average_abs_err))\n",
    "    print(\"Average relative error: {}%\".format(average_rel_err))\n",
    "    print(\"Average sqrt absolute error: {}\".format(average_abs_sqrt_err))\n",
    "    print(\"Average sqrt relative error: {}%\".format(average_rel_sqrt_err))\n",
    "    print('')\n",
    "    "
   ]
  },
  {
   "cell_type": "code",
   "execution_count": 32,
   "metadata": {},
   "outputs": [
    {
     "name": "stdout",
     "output_type": "stream",
     "text": [
      "Evaluating init guess function 1\n",
      "Max absolute error: 8.04336602748e+37 (result: 4.20712579186e+38  target: 3.40278918911e+38)\n",
      "Max relative error: 25.1085407495% (result: 3.60589904657e-35  target: 4.81483347055e-35)\n",
      "Max sqrt absolute error: 2.06462870119e+18 (result: 2.05112793162e+19  target: 1.8446650615e+19)\n",
      "Max sqrt relative error: 13.4601483417% (result: 6.00491385998e-18  target: 6.93890010776e-18)\n",
      "Average absolute error: 2.43005874017e+35\n",
      "Average relative error: 12.2277744936%\n",
      "Average sqrt absolute error: 1.29689209881e+16\n",
      "Average sqrt relative error: 6.16351777948%\n",
      "\n",
      "Evaluating init guess function 2\n",
      "Max absolute error: 1.70136559071e+38 (result: 3.40282366921e+38  target: 1.7014580785e+38)\n",
      "Max relative error: 99.9999761581% (result: 7.92281625143e+28  target: 3.96140859795e+28)\n",
      "Max sqrt absolute error: 5.40274898594e+18 (result: 1.84467440737e+19  target: 1.30439950878e+19)\n",
      "Max sqrt relative error: 41.4213478079% (result: 2.81474976711e+14  target: 1.9903287663e+14)\n",
      "Average absolute error: 6.70750451739e+35\n",
      "Average relative error: 34.6630228857%\n",
      "Average sqrt absolute error: 3.59116528519e+16\n",
      "Average sqrt relative error: 17.1572092052%\n",
      "\n",
      "Evaluating init guess function 3\n",
      "Max absolute error: 1.67967234328e+37 (result: 3.23467612426e+38  target: 3.40264335859e+38)\n",
      "Max relative error: 452640.631988% (result: 6.17929708782e-39  target: 1.36486470425e-42)\n",
      "Max sqrt absolute error: 4.61049958064e+17 (result: 1.79852053763e+19  target: 1.84462553343e+19)\n",
      "Max sqrt relative error: 6628.60038929% (result: 7.86085051875e-20  target: 1.16827424189e-21)\n",
      "Average absolute error: 7.68480597046e+34\n",
      "Average relative error: 5.77687299605%\n",
      "Average sqrt absolute error: 4.17288609468e+15\n",
      "Average sqrt relative error: 2.2461136574%\n",
      "\n",
      "Evaluating init guess function 4\n",
      "Max absolute error: 1.67962634195e+37 (result: 3.23449696576e+38  target: 3.40245959996e+38)\n",
      "Max relative error: 5.12682231445% (result: 3.25352182999e+26  target: 3.0948541565e+26)\n",
      "Max sqrt absolute error: 4.61049938142e+17 (result: 1.79847072975e+19  target: 1.84457572356e+19)\n",
      "Max sqrt relative error: 2.53139671246% (result: 2.68704181249  target: 2.75682806756)\n",
      "Average absolute error: 7.35590878371e+34\n",
      "Average relative error: 3.4259820324%\n",
      "Average sqrt absolute error: 3.81962123588e+15\n",
      "Average sqrt relative error: 1.72713951403%\n",
      "\n"
     ]
    }
   ],
   "source": [
    "#### Evaluation of the init_guess\n",
    "\n",
    "for i,init_guess_func in enumerate([init_sqrt_guess_1, init_sqrt_guess_2, init_sqrt_guess_3, init_sqrt_guess_4]):\n",
    "    \n",
    "    print(\"Evaluating init guess function {}\".format(i+1))\n",
    "    \n",
    "    num_samples = 2000000\n",
    "\n",
    "\n",
    "    max_abs_error = -1\n",
    "    max_abs_err_num = -1\n",
    "    max_abs_err_res = -1\n",
    "\n",
    "    max_rel_error = -1\n",
    "    max_rel_err_num = -1\n",
    "    max_rel_err_res =-1\n",
    "\n",
    "    max_sqrt_abs_error = -1\n",
    "    max_sqrt_abs_err_num = -1\n",
    "    max_sqrt_abs_err_res = -1\n",
    "\n",
    "    max_sqrt_rel_error = -1\n",
    "    max_sqrt_abs_err_num = -1\n",
    "    max_sqrt_abs_err_res  -1\n",
    "\n",
    "    average_abs_err = 0\n",
    "    average_rel_err = 0\n",
    "    average_abs_sqrt_err = 0\n",
    "    average_rel_sqrt_err = 0\n",
    "\n",
    "    for _ in xrange(num_samples):\n",
    "        # generate a new random value\n",
    "        num_to_test = gen_rand_positive_32_bit_float()\n",
    "\n",
    "        # compute my guess\n",
    "        my_result = init_guess_func(num_to_test)\n",
    "\n",
    "        my_abs_error = abs(my_result*my_result-num_to_test)\n",
    "        my_rel_error = 100.0*my_abs_error/num_to_test\n",
    "\n",
    "        sqrt_abs_error = abs(my_result-math.sqrt(num_to_test))\n",
    "        sqrt_rel_error = 100.0*sqrt_abs_error/math.sqrt(num_to_test)\n",
    "\n",
    "        average_abs_err += my_abs_error\n",
    "        average_rel_err += my_rel_error\n",
    "        average_abs_sqrt_err += sqrt_abs_error\n",
    "        average_rel_sqrt_err += sqrt_rel_error\n",
    "\n",
    "        if (max_abs_error == -1) or (my_abs_error>max_abs_error):\n",
    "            max_abs_error = my_abs_error\n",
    "            max_abs_err_num = num_to_test\n",
    "            max_abs_err_res = my_result*my_result\n",
    "\n",
    "        if (max_rel_error == -1) or (my_rel_error>max_rel_error):\n",
    "            max_rel_error = my_rel_error\n",
    "            max_rel_err_num = num_to_test\n",
    "            max_rel_err_res = my_result*my_result\n",
    "\n",
    "        if (max_sqrt_abs_error == -1) or (sqrt_abs_error>max_sqrt_abs_error):\n",
    "            max_sqrt_abs_error = sqrt_abs_error\n",
    "            max_sqrt_abs_err_num = math.sqrt(num_to_test)\n",
    "            max_sqrt_abs_err_res = my_result\n",
    "\n",
    "        if (max_sqrt_rel_error == -1) or (sqrt_rel_error>max_sqrt_rel_error):\n",
    "            max_sqrt_rel_error = sqrt_rel_error\n",
    "            max_sqrt_rel_err_num = math.sqrt(num_to_test)\n",
    "            max_sqrt_rel_err_res = my_result\n",
    "\n",
    "    average_abs_err /= num_samples\n",
    "    average_rel_err /= num_samples\n",
    "    average_abs_sqrt_err /= num_samples\n",
    "    average_rel_sqrt_err /= num_samples\n",
    "\n",
    "    print(\"Max absolute error: {} (result: {}  target: {})\".format(max_abs_error, max_abs_err_res, max_abs_err_num))\n",
    "    print(\"Max relative error: {}% (result: {}  target: {})\".format(max_rel_error, max_rel_err_res, max_rel_err_num))\n",
    "    print(\"Max sqrt absolute error: {} (result: {}  target: {})\".format(max_sqrt_abs_error, max_sqrt_abs_err_res, max_sqrt_abs_err_num))\n",
    "    print(\"Max sqrt relative error: {}% (result: {}  target: {})\".format(max_sqrt_rel_error, max_sqrt_rel_err_res, max_sqrt_rel_err_num))\n",
    "    print(\"Average absolute error: {}\".format(average_abs_err))\n",
    "    print(\"Average relative error: {}%\".format(average_rel_err))\n",
    "    print(\"Average sqrt absolute error: {}\".format(average_abs_sqrt_err))\n",
    "    print(\"Average sqrt relative error: {}%\".format(average_rel_sqrt_err))\n",
    "    print('')\n"
   ]
  },
  {
   "cell_type": "code",
   "execution_count": 33,
   "metadata": {},
   "outputs": [],
   "source": [
    "### evaluate various magic numbers"
   ]
  },
  {
   "cell_type": "code",
   "execution_count": 34,
   "metadata": {},
   "outputs": [],
   "source": [
    "def evaluate_magic_num_v3(magic_num, num_samples=100000, verbose=False):\n",
    "    # evaluate v3 in between [0.5,1[\n",
    "\n",
    "    max_abs_error = -1\n",
    "    max_abs_err_num = -1\n",
    "    max_abs_err_res = -1\n",
    "\n",
    "    max_rel_error = -1\n",
    "    max_rel_err_num = -1\n",
    "    max_rel_err_res =-1\n",
    "\n",
    "    max_sqrt_abs_error = -1\n",
    "    max_sqrt_abs_err_num = -1\n",
    "    max_sqrt_abs_err_res = -1\n",
    "\n",
    "    max_sqrt_rel_error = -1\n",
    "    max_sqrt_abs_err_num = -1\n",
    "    max_sqrt_abs_err_res  -1\n",
    "\n",
    "    average_abs_err = 0\n",
    "    average_rel_err = 0\n",
    "    average_abs_sqrt_err = 0\n",
    "    average_rel_sqrt_err = 0\n",
    "\n",
    "    for _ in range(num_samples):\n",
    "\n",
    "        num_to_test = 0.5+random.random()/2.0\n",
    "        my_result = init_sqrt_guess_3(num_to_test, magic_num=magic_num)\n",
    "\n",
    "        my_abs_error = abs(my_result*my_result-num_to_test)\n",
    "        my_rel_error = 100.0*my_abs_error/num_to_test\n",
    "\n",
    "        sqrt_abs_error = abs(my_result-math.sqrt(num_to_test))\n",
    "        sqrt_rel_error = 100.0*sqrt_abs_error/math.sqrt(num_to_test)\n",
    "\n",
    "        average_abs_err += my_abs_error\n",
    "        average_rel_err += my_rel_error\n",
    "        average_abs_sqrt_err += sqrt_abs_error\n",
    "        average_rel_sqrt_err += sqrt_rel_error\n",
    "\n",
    "        if (max_abs_error == -1) or (my_abs_error>max_abs_error):\n",
    "            max_abs_error = my_abs_error\n",
    "            max_abs_err_num = num_to_test\n",
    "            max_abs_err_res = my_result*my_result\n",
    "\n",
    "        if (max_rel_error == -1) or (my_rel_error>max_rel_error):\n",
    "            max_rel_error = my_rel_error\n",
    "            max_rel_err_num = num_to_test\n",
    "            max_rel_err_res = my_result*my_result\n",
    "\n",
    "        if (max_sqrt_abs_error == -1) or (sqrt_abs_error>max_sqrt_abs_error):\n",
    "            max_sqrt_abs_error = sqrt_abs_error\n",
    "            max_sqrt_abs_err_num = math.sqrt(num_to_test)\n",
    "            max_sqrt_abs_err_res = my_result\n",
    "\n",
    "        if (max_sqrt_rel_error == -1) or (sqrt_rel_error>max_sqrt_rel_error):\n",
    "            max_sqrt_rel_error = sqrt_rel_error\n",
    "            max_sqrt_rel_err_num = math.sqrt(num_to_test)\n",
    "            max_sqrt_rel_err_res = my_result\n",
    "\n",
    "    average_abs_err /= num_samples\n",
    "    average_rel_err /= num_samples\n",
    "    average_abs_sqrt_err /= num_samples\n",
    "    average_rel_sqrt_err /= num_samples\n",
    "\n",
    "\n",
    "    if verbose:\n",
    "        print(\"Evaluating constant {} = {} in between [0.5,1[\".format(hex(magic_num), magic_num))\n",
    "        print(\"Max absolute error: {} (result: {}  target: {})\".format(max_abs_error, max_abs_err_res, max_abs_err_num))\n",
    "        print(\"Max relative error: {}% (result: {}  target: {})\".format(max_rel_error, max_rel_err_res, max_rel_err_num))\n",
    "        print(\"Max sqrt absolute error: {} (result: {}  target: {})\".format(max_sqrt_abs_error, max_sqrt_abs_err_res, max_sqrt_abs_err_num))\n",
    "        print(\"Max sqrt relative error: {}% (result: {}  target: {})\".format(max_sqrt_rel_error, max_sqrt_rel_err_res, max_sqrt_rel_err_num))\n",
    "        print(\"Average absolute error: {}\".format(average_abs_err))\n",
    "        print(\"Average relative error: {}%\".format(average_rel_err))\n",
    "        print(\"Average sqrt absolute error: {}\".format(average_abs_sqrt_err))\n",
    "        print(\"Average sqrt relative error: {}%\".format(average_rel_sqrt_err))\n",
    "        \n",
    "    return(max_sqrt_abs_error, max_sqrt_rel_error, average_abs_sqrt_err, average_rel_sqrt_err)\n"
   ]
  },
  {
   "cell_type": "code",
   "execution_count": 35,
   "metadata": {},
   "outputs": [
    {
     "name": "stdout",
     "output_type": "stream",
     "text": [
      "Evaluating constant 0x1fbb4000 = 532365312 in between [0.5,1[\n",
      "Max absolute error: 0.0367651629197 (result: 0.963233965449  target: 0.999999128369)\n",
      "Max relative error: 7.00243384205% (result: 0.535012419568  target: 0.500000233974)\n",
      "Max sqrt absolute error: 0.024338485078 (result: 0.731445431709  target: 0.707106946631)\n",
      "Max sqrt relative error: 3.44198076316% (result: 0.731445431709  target: 0.707106946631)\n",
      "Average absolute error: 0.0213370874035\n",
      "Average relative error: 2.81060187099%\n",
      "Average sqrt absolute error: 0.0122025043626\n",
      "Average sqrt relative error: 1.40793031125%\n",
      "\n",
      "Evaluating constant 0x1fb99a06 = 532257286 in between [0.5,1[\n",
      "Max absolute error: 0.0493624583495 (result: 0.950637250582  target: 0.999999708932)\n",
      "Max relative error: 5.12683069532% (result: 0.525634800837  target: 0.50000061579)\n",
      "Max sqrt absolute error: 0.0249935832106 (result: 0.974989235401  target: 0.999982818612)\n",
      "Max sqrt relative error: 2.53139821952% (result: 0.950000524521  target: 0.974673389345)\n",
      "Average absolute error: 0.0273947440276\n",
      "Average relative error: 3.42787472586%\n",
      "Average sqrt absolute error: 0.0153924609124\n",
      "Average sqrt relative error: 1.72811036868%\n"
     ]
    },
    {
     "data": {
      "text/plain": [
       "(0.024993583210597525,\n",
       " 2.5313982195202533,\n",
       " 0.015392460912431155,\n",
       " 1.728110368675623)"
      ]
     },
     "execution_count": 35,
     "metadata": {},
     "output_type": "execute_result"
    }
   ],
   "source": [
    "### Evaluate the magic number given by stackoverflow\n",
    "evaluate_magic_num_v3(0x1fbb4000, num_samples=2000000, verbose=True)\n",
    "\n",
    "print \n",
    "\n",
    "### Evaluate the one I found, which minimizes the max error\n",
    "evaluate_magic_num_v3(0x1fb99a06, num_samples=2000000, verbose=True)"
   ]
  },
  {
   "cell_type": "code",
   "execution_count": 36,
   "metadata": {},
   "outputs": [
    {
     "name": "stdout",
     "output_type": "stream",
     "text": [
      "('best_max_sqrt_abs_error', 0.02497945723893913, 532257523)\n",
      "('best_max_sqrt_rel_error', 2.531392082727419, 532257287)\n",
      "('best_average_abs_sqrt_err', 0.015366470516089947, 532257475)\n",
      "('best_average_rel_sqrt_err', 1.7255378588506212, 532257475)\n"
     ]
    }
   ],
   "source": [
    "# explore the vicinity of the default magic number for [0.5-1[\n",
    "\n",
    "best_max_sqrt_abs_error = sys.float_info.max\n",
    "best_max_sqrt_abs_error_num = -1\n",
    "\n",
    "best_max_sqrt_rel_error = sys.float_info.max\n",
    "best_max_sqrt_rel_error_num = -1\n",
    "\n",
    "best_average_abs_sqrt_err = sys.float_info.max\n",
    "best_average_abs_sqrt_err_num = -1\n",
    "\n",
    "best_average_rel_sqrt_err = sys.float_info.max\n",
    "best_average_rel_sqrt_err_num = -1\n",
    "\n",
    "delta = 0 \n",
    "starting_magic_num = 0x1fb99a06\n",
    "\n",
    "\n",
    "delta_list = []\n",
    "max_sqrt_rel_error_list = []\n",
    "average_rel_sqrt_err_list = []\n",
    "\n",
    "for i in range(1,100):\n",
    "#     print(\"Evaluating delta {}, hex {}\".format(delta, hex(delta+starting_magic_num)))\n",
    "    \n",
    "    # eval\n",
    "    max_sqrt_abs_error, max_sqrt_rel_error, average_abs_sqrt_err, average_rel_sqrt_err = evaluate_magic_num_v3(\n",
    "        magic_num=starting_magic_num+delta, num_samples=2000000, verbose=False)\n",
    "    \n",
    "    # save bests\n",
    "    if max_sqrt_abs_error < best_max_sqrt_abs_error:\n",
    "        best_max_sqrt_abs_error = max_sqrt_abs_error\n",
    "        best_max_sqrt_abs_error_num = starting_magic_num+delta\n",
    "        \n",
    "    if max_sqrt_rel_error < best_max_sqrt_rel_error:\n",
    "        best_max_sqrt_rel_error = max_sqrt_rel_error\n",
    "        best_max_sqrt_rel_error_num = starting_magic_num+delta\n",
    "        \n",
    "    if average_abs_sqrt_err < best_average_abs_sqrt_err:\n",
    "        best_average_abs_sqrt_err = average_abs_sqrt_err\n",
    "        best_average_abs_sqrt_err_num = starting_magic_num+delta\n",
    "        \n",
    "    if average_rel_sqrt_err < best_average_rel_sqrt_err:\n",
    "        best_average_rel_sqrt_err = average_rel_sqrt_err\n",
    "        best_average_rel_sqrt_err_num = starting_magic_num+delta\n",
    "       \n",
    "    \n",
    "    # append to lists\n",
    "    delta_list.append(delta)\n",
    "    max_sqrt_rel_error_list.append(max_sqrt_rel_error)\n",
    "    average_rel_sqrt_err_list.append(average_rel_sqrt_err)\n",
    "    \n",
    "    # next delta\n",
    "    delta = -1*delta+i%2*int(np.log2(i+1)/np.log2(2))\n",
    "    \n",
    "print(\"best_max_sqrt_abs_error\", best_max_sqrt_abs_error, best_max_sqrt_abs_error_num)\n",
    "print(\"best_max_sqrt_rel_error\", best_max_sqrt_rel_error, best_max_sqrt_rel_error_num)\n",
    "print(\"best_average_abs_sqrt_err\", best_average_abs_sqrt_err, best_average_abs_sqrt_err_num)\n",
    "print(\"best_average_rel_sqrt_err\", best_average_rel_sqrt_err, best_average_rel_sqrt_err_num)"
   ]
  },
  {
   "cell_type": "code",
   "execution_count": 37,
   "metadata": {},
   "outputs": [
    {
     "data": {
      "image/png": "[encoded data removed]",
      "text/plain": [
       "<Figure size 432x288 with 1 Axes>"
      ]
     },
     "metadata": {
      "needs_background": "light"
     },
     "output_type": "display_data"
    }
   ],
   "source": [
    "plt.plot(delta_list, max_sqrt_rel_error_list, '.')\n",
    "plt.show()"
   ]
  },
  {
   "cell_type": "code",
   "execution_count": 38,
   "metadata": {},
   "outputs": [
    {
     "data": {
      "image/png": "[encoded data removed]",
      "text/plain": [
       "<Figure size 432x288 with 1 Axes>"
      ]
     },
     "metadata": {
      "needs_background": "light"
     },
     "output_type": "display_data"
    }
   ],
   "source": [
    "plt.plot(delta_list, average_rel_sqrt_err_list, '.')\n",
    "plt.show()"
   ]
  },
  {
   "cell_type": "code",
   "execution_count": 39,
   "metadata": {},
   "outputs": [
    {
     "data": {
      "image/png": "[encoded data removed]",
      "text/plain": [
       "<Figure size 432x288 with 1 Axes>"
      ]
     },
     "metadata": {
      "needs_background": "light"
     },
     "output_type": "display_data"
    }
   ],
   "source": [
    "plt.plot(max_sqrt_rel_error_list, average_rel_sqrt_err_list, '.')\n",
    "plt.show()"
   ]
  },
  {
   "cell_type": "code",
   "execution_count": null,
   "metadata": {},
   "outputs": [],
   "source": []
  }
 ],
 "metadata": {
  "kernelspec": {
   "display_name": "Python 2",
   "language": "python",
   "name": "python2"
  },
  "language_info": {
   "codemirror_mode": {
    "name": "ipython",
    "version": 2
   },
   "file_extension": ".py",
   "mimetype": "text/x-python",
   "name": "python",
   "nbconvert_exporter": "python",
   "pygments_lexer": "ipython2",
   "version": "2.7.15+"
  }
 },
 "nbformat": 4,
 "nbformat_minor": 2
}
