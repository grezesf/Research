{
 "cells": [
  {
   "cell_type": "code",
   "execution_count": 1,
   "metadata": {},
   "outputs": [],
   "source": [
    "# Newton method of sqrt\n",
    "# this is actually Heron's method\n",
    "# based on http://lomont.org/papers/2003/InvSqrt.pdf\n",
    "# orignal guess within 3% of target inv_sqrt in that paper\n",
    "# 0.1% after one newton step\n",
    "\n",
    "###\n",
    "# Here i show my init_guess for sqrt is within 25% of target sqrt\n",
    "# 2% after one Newton step\n",
    "\n",
    "# it's still much slower than default math.sqrt()"
   ]
  },
  {
   "cell_type": "code",
   "execution_count": 2,
   "metadata": {},
   "outputs": [],
   "source": [
    "import math\n",
    "import random"
   ]
  },
  {
   "cell_type": "code",
   "execution_count": 3,
   "metadata": {},
   "outputs": [],
   "source": [
    "def f(x, I):\n",
    "    # function to use the newton method with\n",
    "    return x*x - I"
   ]
  },
  {
   "cell_type": "code",
   "execution_count": 4,
   "metadata": {},
   "outputs": [],
   "source": [
    "def f_p(x):\n",
    "    # the derivative of the f function (doesn't include I in this case, but in general might)\n",
    "    return 2*x"
   ]
  },
  {
   "cell_type": "code",
   "execution_count": 5,
   "metadata": {},
   "outputs": [],
   "source": [
    "def init_sqrt_guess(x):\n",
    "    # returns a guess for sqrt(x)\n",
    "    # get the mantissa and exponent\n",
    "    m, e = math.frexp(x)\n",
    "    # we're looking for a new m and e such that (m*2**e)**2 ~= x\n",
    "    # for the exponent it's just half\n",
    "    e = e/2.0\n",
    "    # for the mantissa which is in [0.5,1[ (because x is positive), the best value is obviously sqrt(m)\n",
    "    # we approximate that by sqrt(x) ~= x+k\n",
    "    # k = solve ((2 1^(3/2))/3 - 1^2/2 ) - ((2 0.5^(3/2))/3 - 0.5^2/2)-k/2 ==0\n",
    "    # I believe this k makes the integral of sqrt(x)-(x+k) in between 0.5,1 to be zero\n",
    "    # and that this is optimal as a first guess (but doesn't necessarily optimized for the first step, the second step...)\n",
    "    # approximately\n",
    "    k = 0.111928812542301634\n",
    "    m = m+k\n",
    "    # init guess is\n",
    "    g = m*(2**e)\n",
    "    return g"
   ]
  },
  {
   "cell_type": "code",
   "execution_count": 6,
   "metadata": {},
   "outputs": [],
   "source": [
    "def newton_sqrt(I, max_steps=1, min_error=1e-200, add_noise=False, verbose=False):\n",
    "    # computes the sqrt of I using the Newton method\n",
    "    # default max_step=1 to mirror fast inverse sqrt paper\n",
    "    # converges very fast so a very small min_error is possible\n",
    "    \n",
    "    I = float(I)\n",
    "    \n",
    "    # initial guess:\n",
    "    x = init_sqrt_guess(I)\n",
    "    \n",
    "    step=0\n",
    "    abs_error = abs(x*x-I)\n",
    "    rel_error = 100.0*abs_error/I\n",
    "\n",
    "    if verbose: \n",
    "        print(\"Init guess: {}\".format(x))\n",
    "        print(\"Absolute Error: {}\".format(abs_error))\n",
    "        print(\"Relative Error: {:.10f} %\".format(rel_error))\n",
    "    \n",
    "    # takes steps until max_steps or min_error reached, whichever comes first\n",
    "    while (abs_error>min_error and step<max_steps):\n",
    "        \n",
    "        # add noise to prevent getting stuck?\n",
    "        if add_noise: x += random.random()*min_error*2\n",
    "        \n",
    "        # Newton step\n",
    "        x = x - f(x,I)/f_p(x)\n",
    "        \n",
    "        abs_error = abs(x*x-I)\n",
    "        rel_error = 100.0*abs_error/I\n",
    "        step += 1\n",
    "        \n",
    "        if verbose: \n",
    "            print(\"After step {}\".format(step))\n",
    "            print(\"Current x: {}\".format(x))\n",
    "            print(\"Absolute Error: {}\".format(abs_error))\n",
    "            print(\"Relative Error: {:.10f} %\".format(rel_error))\n",
    "    \n",
    "    return x"
   ]
  },
  {
   "cell_type": "code",
   "execution_count": 7,
   "metadata": {},
   "outputs": [],
   "source": [
    "def gen_rand_positive_32_bit_float():\n",
    "    # random positive 32 bit string\n",
    "    r = '0b'+''.join([str(random.choice([0,1])) for _ in xrange(31)])\n",
    "    # convert to float\n",
    "    r = float(int(r,0))\n",
    "    return r"
   ]
  },
  {
   "cell_type": "code",
   "execution_count": 8,
   "metadata": {},
   "outputs": [
    {
     "name": "stdout",
     "output_type": "stream",
     "text": [
      "8.08374269822\n"
     ]
    }
   ],
   "source": [
    "# test some known values\n",
    "num_to_test = 64\n",
    "print(newton_sqrt(num_to_test))"
   ]
  },
  {
   "cell_type": "code",
   "execution_count": 9,
   "metadata": {},
   "outputs": [
    {
     "name": "stdout",
     "output_type": "stream",
     "text": [
      "Init guess: 6.92318420723\n",
      "Absolute Error: 16.0695204327\n",
      "Relative Error: 25.1086256761 %\n",
      "After step 1\n",
      "Current x: 8.08374269822\n",
      "Absolute Error: 1.346896011\n",
      "Relative Error: 2.1045250172 %\n",
      "8.08374269822\n"
     ]
    }
   ],
   "source": [
    "# see the computation\n",
    "print(newton_sqrt(num_to_test, verbose=True))"
   ]
  },
  {
   "cell_type": "code",
   "execution_count": 10,
   "metadata": {},
   "outputs": [
    {
     "name": "stdout",
     "output_type": "stream",
     "text": [
      "Number to test: 1125425573.0\n",
      "My computation\n",
      "Init guess: 29472.6557683\n",
      "Absolute Error: 256788134.964\n",
      "Relative Error: 22.8169806271 %\n",
      "After step 1\n",
      "Current x: 33829.0350675\n",
      "Absolute Error: 18978040.5986\n",
      "Relative Error: 1.6862990369 %\n",
      "After step 2\n",
      "Current x: 33548.5357781\n",
      "Absolute Error: 78679.8513834\n",
      "Relative Error: 0.0069911199 %\n",
      "After step 3\n",
      "Current x: 33547.3631509\n",
      "Absolute Error: 1.37505459785\n",
      "Relative Error: 0.0000001222 %\n",
      "After step 4\n",
      "Current x: 33547.3631304\n",
      "Absolute Error: 0.0\n",
      "Relative Error: 0.0000000000 %\n",
      "\n",
      "my results: 33547.3631303564616246148943901062011718750000000000000000000000000000000000000000000000000000000000000000\n",
      "python's  : 33547.3631303564616246148943901062011718750000000000000000000000000000000000000000000000000000000000000000\n",
      "Newton Absolute Error: 0.0\n",
      "Newton Relative Error: 0.00000 %\n",
      "Python Absolute Error: 0.0\n",
      "Python Relative Error: 0.00000 %\n"
     ]
    }
   ],
   "source": [
    "# test some random values\n",
    "num_to_test = gen_rand_positive_32_bit_float()\n",
    "print(\"Number to test: {}\".format(num_to_test))\n",
    "\n",
    "# my computation\n",
    "print(\"My computation\")\n",
    "my_result = newton_sqrt(num_to_test, max_steps=6, min_error=1e-200, add_noise=False, verbose=True)\n",
    "\n",
    "# python's computation\n",
    "python_result = math.sqrt(num_to_test)\n",
    "\n",
    "# compare\n",
    "print(\"\")\n",
    "print(\"my results: {0:.100f}\".format(my_result))\n",
    "print(\"python's  : {0:.100f}\".format(python_result))\n",
    "my_error = abs(my_result*my_result-num_to_test)\n",
    "print(\"Newton Absolute Error: {}\".format(my_error))\n",
    "print(\"Newton Relative Error: {:.5f} %\".format(100.0*my_error/num_to_test))\n",
    "\n",
    "py_error = abs(python_result*python_result-num_to_test)\n",
    "print(\"Python Absolute Error: {}\".format(py_error))\n",
    "print(\"Python Relative Error: {:.5f} %\".format(100.0*py_error/num_to_test))"
   ]
  },
  {
   "cell_type": "code",
   "execution_count": 11,
   "metadata": {},
   "outputs": [
    {
     "name": "stdout",
     "output_type": "stream",
     "text": [
      "100000 loops, best of 5: 90.9 ns per loop\n"
     ]
    }
   ],
   "source": [
    "%%timeit -n 100000 -r 5\n",
    "math.sqrt(num_to_test)"
   ]
  },
  {
   "cell_type": "code",
   "execution_count": 12,
   "metadata": {},
   "outputs": [
    {
     "name": "stdout",
     "output_type": "stream",
     "text": [
      "100000 loops, best of 5: 1.27 µs per loop\n"
     ]
    }
   ],
   "source": [
    "%%timeit -n 100000 -r 5\n",
    "newton_sqrt(num_to_test, max_steps=0)"
   ]
  },
  {
   "cell_type": "code",
   "execution_count": 13,
   "metadata": {},
   "outputs": [
    {
     "name": "stdout",
     "output_type": "stream",
     "text": [
      "100000 loops, best of 5: 1.81 µs per loop\n"
     ]
    }
   ],
   "source": [
    "%%timeit -n 100000 -r 5\n",
    "newton_sqrt(num_to_test, max_steps=1)"
   ]
  },
  {
   "cell_type": "code",
   "execution_count": 14,
   "metadata": {},
   "outputs": [
    {
     "name": "stdout",
     "output_type": "stream",
     "text": [
      "100000 loops, best of 5: 2.5 µs per loop\n"
     ]
    }
   ],
   "source": [
    "%%timeit -n 100000 -r 5\n",
    "newton_sqrt(num_to_test, max_steps=2)"
   ]
  },
  {
   "cell_type": "code",
   "execution_count": 15,
   "metadata": {},
   "outputs": [
    {
     "name": "stdout",
     "output_type": "stream",
     "text": [
      "100000 loops, best of 5: 3.59 µs per loop\n"
     ]
    }
   ],
   "source": [
    "%%timeit -n 100000 -r 5\n",
    "newton_sqrt(num_to_test, max_steps=3)"
   ]
  },
  {
   "cell_type": "code",
   "execution_count": 16,
   "metadata": {},
   "outputs": [
    {
     "name": "stdout",
     "output_type": "stream",
     "text": [
      "100000 loops, best of 5: 4.2 µs per loop\n"
     ]
    }
   ],
   "source": [
    "%%timeit -n 100000 -r 5\n",
    "newton_sqrt(num_to_test, max_steps=4)"
   ]
  },
  {
   "cell_type": "code",
   "execution_count": null,
   "metadata": {},
   "outputs": [],
   "source": [
    "%%timeit -n 100000 -r 5\n",
    "newton_sqrt(num_to_test, max_steps=5)"
   ]
  },
  {
   "cell_type": "code",
   "execution_count": null,
   "metadata": {},
   "outputs": [],
   "source": [
    "# seems about 10 times slower with maxstep=0"
   ]
  },
  {
   "cell_type": "code",
   "execution_count": null,
   "metadata": {
    "scrolled": false
   },
   "outputs": [],
   "source": [
    "# test over a bunch of floats, to evaluate the quality of my init_guess\n",
    "\n",
    "for max_steps in range(10):\n",
    "    print(\"Testing with max_steps={}\".format(max_steps))\n",
    "    \n",
    "    max_abs_error = -1\n",
    "    max_rel_error = -1\n",
    "    \n",
    "    for _ in xrange(100000):\n",
    "        # generate a new random value\n",
    "        num_to_test = gen_rand_positive_32_bit_float()\n",
    "\n",
    "        # compute my sqrt\n",
    "        my_result = newton_sqrt(num_to_test, max_steps=max_steps, min_error=1e-100, add_noise=False, verbose=False)\n",
    "        \n",
    "        my_abs_error = abs(my_result*my_result-num_to_test)\n",
    "        my_rel_error = 100.0*my_abs_error/num_to_test\n",
    "        \n",
    "        if (max_abs_error == -1) or (my_abs_error>max_abs_error):\n",
    "            max_abs_error = my_abs_error\n",
    "        if (max_rel_error == -1) or (my_rel_error>max_rel_error):\n",
    "            max_rel_error = my_rel_error\n",
    "            \n",
    "    print(\"Max absolute error: {}\".format(max_abs_error))\n",
    "    print(\"Max relative error: {:.30f} %\".format(max_rel_error))\n",
    "    print('')\n",
    "    "
   ]
  },
  {
   "cell_type": "code",
   "execution_count": null,
   "metadata": {},
   "outputs": [],
   "source": []
  }
 ],
 "metadata": {
  "kernelspec": {
   "display_name": "Python 2",
   "language": "python",
   "name": "python2"
  },
  "language_info": {
   "codemirror_mode": {
    "name": "ipython",
    "version": 2
   },
   "file_extension": ".py",
   "mimetype": "text/x-python",
   "name": "python",
   "nbconvert_exporter": "python",
   "pygments_lexer": "ipython2",
   "version": "2.7.15+"
  }
 },
 "nbformat": 4,
 "nbformat_minor": 2
}
