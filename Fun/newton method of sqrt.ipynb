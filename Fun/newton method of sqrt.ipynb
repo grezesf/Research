{
 "cells": [
  {
   "cell_type": "code",
   "execution_count": 1,
   "metadata": {},
   "outputs": [],
   "source": [
    "# Newton method of sqrt\n",
    "# this is actually Heron's method"
   ]
  },
  {
   "cell_type": "code",
   "execution_count": 2,
   "metadata": {},
   "outputs": [],
   "source": [
    "def f(x, I):\n",
    "    # function to use the newton method with\n",
    "    return x*x - I"
   ]
  },
  {
   "cell_type": "code",
   "execution_count": 3,
   "metadata": {},
   "outputs": [],
   "source": [
    "def f_p(x):\n",
    "    # the derivative of the f function (doesn't include I in this case, but in general might)\n",
    "    return 2*x"
   ]
  },
  {
   "cell_type": "code",
   "execution_count": 41,
   "metadata": {},
   "outputs": [],
   "source": [
    "def init_sqrt_guess(x, verbose=False):\n",
    "    # returns a guess for sqrt(x)\n",
    "    # get the mantissa and exponent\n",
    "    m, e = math.frexp(x)\n",
    "    g = (m)*(2**(e/2))\n",
    "    if verbose: print(\"Init guess:\", g)\n",
    "    return g"
   ]
  },
  {
   "cell_type": "code",
   "execution_count": 42,
   "metadata": {},
   "outputs": [],
   "source": [
    "def sqrt(I, max_steps=10, min_error=1e-5, verbose=False):\n",
    "    # computes the sqrt of I using the Newton method\n",
    "    \n",
    "    I = float(I)\n",
    "    \n",
    "    # initial guess:\n",
    "    x = init_sqrt_guess(I, verbose)\n",
    "    \n",
    "    step=0\n",
    "    error = abs(x*x-I)\n",
    "    \n",
    "    # takes steps until max_steps or min_error reached, whichever comes first\n",
    "    while (error>min_error and step<max_steps):\n",
    "        \n",
    "        # Newton step\n",
    "        x = x - f(x,I)/f_p(x)\n",
    "        \n",
    "        error = abs(x*x-I)\n",
    "        step += 1\n",
    "        \n",
    "        if verbose: print(\"Error:\", error); print(\"Current x:\",x)\n",
    "    \n",
    "    return x"
   ]
  },
  {
   "cell_type": "code",
   "execution_count": 45,
   "metadata": {},
   "outputs": [
    {
     "name": "stdout",
     "output_type": "stream",
     "text": [
      "('Init guess:', 7.6875)\n",
      "('Error:', 17.2744140625)\n",
      "('Current x:', 11.84375)\n",
      "('Error:', 0.5318243230546358)\n",
      "('Current x:', 11.114487137203167)\n",
      "('Error:', 0.0005723972590345738)\n",
      "('Current x:', 11.090562312040767)\n",
      "('Error:', 6.659348628090811e-10)\n",
      "('Current x:', 11.09053650643944)\n",
      "('Error:', 1.4210854715202004e-14)\n",
      "('Current x:', 11.090536506409418)\n",
      "('Error:', 1.4210854715202004e-14)\n",
      "('Current x:', 11.090536506409418)\n",
      "('Error:', 1.4210854715202004e-14)\n",
      "('Current x:', 11.090536506409418)\n",
      "('Error:', 1.4210854715202004e-14)\n",
      "('Current x:', 11.090536506409418)\n",
      "('Error:', 1.4210854715202004e-14)\n",
      "('Current x:', 11.090536506409418)\n",
      "('Error:', 1.4210854715202004e-14)\n",
      "('Current x:', 11.090536506409418)\n"
     ]
    },
    {
     "data": {
      "text/plain": [
       "11.090536506409418"
      ]
     },
     "execution_count": 45,
     "metadata": {},
     "output_type": "execute_result"
    }
   ],
   "source": [
    "sqrt(123, max_steps=10, min_error=1e-15, verbose=True)"
   ]
  },
  {
   "cell_type": "code",
   "execution_count": null,
   "metadata": {},
   "outputs": [],
   "source": []
  }
 ],
 "metadata": {
  "kernelspec": {
   "display_name": "Python 2",
   "language": "python",
   "name": "python2"
  },
  "language_info": {
   "codemirror_mode": {
    "name": "ipython",
    "version": 2
   },
   "file_extension": ".py",
   "mimetype": "text/x-python",
   "name": "python",
   "nbconvert_exporter": "python",
   "pygments_lexer": "ipython2",
   "version": "2.7.15+"
  }
 },
 "nbformat": 4,
 "nbformat_minor": 2
}
