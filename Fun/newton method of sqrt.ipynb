{
 "cells": [
  {
   "cell_type": "code",
   "execution_count": 1,
   "metadata": {},
   "outputs": [],
   "source": [
    "# Newton method of sqrt\n",
    "# this is actually Heron's method\n",
    "# based on http://lomont.org/papers/2003/InvSqrt.pdf\n",
    "# orignal guess within 3% of target inv_sqrt in that paper\n",
    "# 0.1% after one newton step\n",
    "\n",
    "###\n",
    "# Here i show my init_guess for sqrt is within 12-13% of target sqrt\n",
    "# 0.6-0.7% after one Newton step\n",
    "\n",
    "# it's still much slower than default math.sqrt()"
   ]
  },
  {
   "cell_type": "code",
   "execution_count": 2,
   "metadata": {},
   "outputs": [],
   "source": [
    "import math\n",
    "import random"
   ]
  },
  {
   "cell_type": "code",
   "execution_count": 3,
   "metadata": {},
   "outputs": [],
   "source": [
    "def f(x, I):\n",
    "    # function to use the newton method with\n",
    "    return x*x - I"
   ]
  },
  {
   "cell_type": "code",
   "execution_count": 4,
   "metadata": {},
   "outputs": [],
   "source": [
    "def f_p(x):\n",
    "    # the derivative of the f function (doesn't include I in this case, but in general might)\n",
    "    return 2*x"
   ]
  },
  {
   "cell_type": "code",
   "execution_count": 5,
   "metadata": {},
   "outputs": [],
   "source": [
    "def init_sqrt_guess(x):\n",
    "    # returns a guess for sqrt(x)\n",
    "    # get the mantissa and exponent\n",
    "    m, e = math.frexp(x)\n",
    "    # we're looking for a new m and e such that (m*2**e)**2 ~= x\n",
    "    # for the exponent it's just half\n",
    "    e = e/2.0\n",
    "    # for the mantissa which is in [0.5,1[ (because x is positive), the best value is obviously sqrt(m)\n",
    "    # we approximate that by sqrt(x) ~= x+k\n",
    "    # k = solve ((2 1^(3/2))/3 - 1^2/2 ) - ((2 0.5^(3/2))/3 - 0.5^2/2)-k/2 ==0\n",
    "    # I believe this k makes the integral of sqrt(x)-(x+k) in between 0.5,1 to be zero\n",
    "    # and that this is optimal as a first guess (but doesn't necessarily optimized for the first step, the second step...)\n",
    "    # approximately\n",
    "    k = 0.111928812542301634\n",
    "    m = m+k\n",
    "    # init guess is\n",
    "    g = m*(2**e)\n",
    "    return g"
   ]
  },
  {
   "cell_type": "code",
   "execution_count": 6,
   "metadata": {},
   "outputs": [],
   "source": [
    "def newton_sqrt(I, max_steps=1, min_error=1e-200, add_noise=False, verbose=False):\n",
    "    # computes the sqrt of I using the Newton method\n",
    "    # default max_step=1 to mirror fast inverse sqrt paper\n",
    "    # converges very fast so a very small min_error is possible\n",
    "    # after 3 steps, 0% error\n",
    "    \n",
    "    I = float(I)\n",
    "    \n",
    "    # initial guess:\n",
    "    x = init_sqrt_guess(I)\n",
    "    \n",
    "    step=0\n",
    "    abs_error = abs(x*x-I)\n",
    "    rel_error = 100.0*abs_error/I\n",
    "\n",
    "    if verbose: \n",
    "        print(\"Init guess: {}\".format(x))\n",
    "        print(\"Absolute Error: {}\".format(abs_error))\n",
    "        print(\"Relative Error: {:.10f} %\".format(rel_error))\n",
    "    \n",
    "    # takes steps until max_steps or min_error reached, whichever comes first\n",
    "    while (abs_error>min_error and step<max_steps):\n",
    "        \n",
    "        # add noise to prevent getting stuck?\n",
    "        if add_noise: x += random.random()*min_error*2\n",
    "        \n",
    "        # Newton step\n",
    "        x = x - f(x,I)/f_p(x)\n",
    "        \n",
    "        abs_error = abs(x*x-I)\n",
    "        rel_error = 100.0*abs_error/I\n",
    "        step += 1\n",
    "        \n",
    "        if verbose: \n",
    "            print(\"After step {}\".format(step))\n",
    "            print(\"Current x: {}\".format(x))\n",
    "            print(\"Absolute Error: {}\".format(abs_error))\n",
    "            print(\"Relative Error: {:.10f} %\".format(rel_error))\n",
    "    \n",
    "    return x"
   ]
  },
  {
   "cell_type": "code",
   "execution_count": 7,
   "metadata": {},
   "outputs": [],
   "source": [
    "def gen_rand_positive_32_bit_float():\n",
    "    # hopefully a rand value over all the positive 32 bit floats?\n",
    "    \n",
    "    exponent_bits = [random.choice([0,1]) for _ in xrange(8)]\n",
    "    mantissa_bits = [random.choice([0,1]) for _ in xrange(23)]\n",
    "    \n",
    "    # exponent, random int between -127 and 127\n",
    "    exponent = 0\n",
    "    for e,b in enumerate(exponent_bits[1:]):\n",
    "        exponent += b*(2**e)\n",
    "    # first bit defines exponent sign \n",
    "    exponent *= (2*exponent_bits[0]-1)\n",
    "    \n",
    "    # mantissa\n",
    "    mantissa = 1\n",
    "    for e,b in enumerate(mantissa_bits):\n",
    "        mantissa += b*(2**-e)\n",
    "    \n",
    "#     print(mantissa_bits)\n",
    "#     print(exponent_bits)\n",
    "#     print(mantissa, exponent)\n",
    "    \n",
    "    # always positive\n",
    "    r = mantissa*(2**exponent)\n",
    "    \n",
    "    return r"
   ]
  },
  {
   "cell_type": "code",
   "execution_count": 21,
   "metadata": {},
   "outputs": [
    {
     "name": "stdout",
     "output_type": "stream",
     "text": [
      "10.0005472261\n"
     ]
    }
   ],
   "source": [
    "# test some known values\n",
    "num_to_test = 100\n",
    "print(newton_sqrt(num_to_test))"
   ]
  },
  {
   "cell_type": "code",
   "execution_count": 9,
   "metadata": {},
   "outputs": [
    {
     "name": "stdout",
     "output_type": "stream",
     "text": [
      "Init guess: 6.92318420723\n",
      "Absolute Error: 16.0695204327\n",
      "Relative Error: 25.1086256761 %\n",
      "After step 1\n",
      "Current x: 8.08374269822\n",
      "Absolute Error: 1.346896011\n",
      "Relative Error: 2.1045250172 %\n",
      "8.08374269822\n"
     ]
    }
   ],
   "source": [
    "# see the computation\n",
    "print(newton_sqrt(num_to_test, verbose=True))"
   ]
  },
  {
   "cell_type": "code",
   "execution_count": 10,
   "metadata": {},
   "outputs": [
    {
     "name": "stdout",
     "output_type": "stream",
     "text": [
      "Number to test: 3.96595994124e-24\n",
      "My computation\n",
      "Init guess: 1.82964175434e-12\n",
      "Absolute Error: 6.18370992004e-25\n",
      "Relative Error: 15.5919626311 %\n",
      "After step 1\n",
      "Current x: 1.99862865862e-12\n",
      "Absolute Error: 2.8556573817e-26\n",
      "Relative Error: 0.7200419127 %\n",
      "After step 2\n",
      "Current x: 1.99148461671e-12\n",
      "Absolute Error: 5.10373348747e-29\n",
      "Relative Error: 0.0012868848 %\n",
      "After step 3\n",
      "Current x: 1.99147180282e-12\n",
      "Absolute Error: 1.64195989659e-34\n",
      "Relative Error: 0.0000000041 %\n",
      "After step 4\n",
      "Current x: 1.99147180277e-12\n",
      "Absolute Error: 7.34683969264e-40\n",
      "Relative Error: 0.0000000000 %\n",
      "After step 5\n",
      "Current x: 1.99147180277e-12\n",
      "Absolute Error: 7.34683969264e-40\n",
      "Relative Error: 0.0000000000 %\n",
      "After step 6\n",
      "Current x: 1.99147180277e-12\n",
      "Absolute Error: 7.34683969264e-40\n",
      "Relative Error: 0.0000000000 %\n",
      "\n",
      "my results: 0.0000000000019914718027742026441318161048662081671727086540357731792028062045574188232421875000000000\n",
      "python's  : 0.0000000000019914718027742030480285995780242525379777340788223227718845009803771972656250000000000000\n",
      "Newton Absolute Error: 7.34683969264e-40\n",
      "Newton Relative Error: 0.00000%\n",
      "Python Absolute Error: 7.34683969264e-40\n",
      "Python Relative Error: 0.00000%\n"
     ]
    }
   ],
   "source": [
    "# test some random values\n",
    "num_to_test = gen_rand_positive_32_bit_float()\n",
    "print(\"Number to test: {}\".format(num_to_test))\n",
    "\n",
    "# my computation\n",
    "print(\"My computation\")\n",
    "my_result = newton_sqrt(num_to_test, max_steps=6, min_error=1e-200, add_noise=False, verbose=True)\n",
    "\n",
    "# python's computation\n",
    "python_result = math.sqrt(num_to_test)\n",
    "\n",
    "# compare\n",
    "print(\"\")\n",
    "print(\"my results: {0:.100f}\".format(my_result))\n",
    "print(\"python's  : {0:.100f}\".format(python_result))\n",
    "my_error = abs(my_result*my_result-num_to_test)\n",
    "print(\"Newton Absolute Error: {}\".format(my_error))\n",
    "print(\"Newton Relative Error: {:.5f}%\".format(100.0*my_error/num_to_test))\n",
    "\n",
    "py_error = abs(python_result*python_result-num_to_test)\n",
    "print(\"Python Absolute Error: {}\".format(py_error))\n",
    "print(\"Python Relative Error: {:.5f}%\".format(100.0*py_error/num_to_test))"
   ]
  },
  {
   "cell_type": "code",
   "execution_count": 11,
   "metadata": {},
   "outputs": [
    {
     "name": "stdout",
     "output_type": "stream",
     "text": [
      "100000 loops, best of 5: 91.2 ns per loop\n"
     ]
    }
   ],
   "source": [
    "%%timeit -n 100000 -r 5\n",
    "math.sqrt(num_to_test)"
   ]
  },
  {
   "cell_type": "code",
   "execution_count": 12,
   "metadata": {},
   "outputs": [
    {
     "name": "stdout",
     "output_type": "stream",
     "text": [
      "100000 loops, best of 5: 1.11 µs per loop\n"
     ]
    }
   ],
   "source": [
    "%%timeit -n 100000 -r 5\n",
    "newton_sqrt(num_to_test, max_steps=0)"
   ]
  },
  {
   "cell_type": "code",
   "execution_count": 13,
   "metadata": {},
   "outputs": [
    {
     "name": "stdout",
     "output_type": "stream",
     "text": [
      "100000 loops, best of 5: 1.73 µs per loop\n"
     ]
    }
   ],
   "source": [
    "%%timeit -n 100000 -r 5\n",
    "newton_sqrt(num_to_test, max_steps=1)"
   ]
  },
  {
   "cell_type": "code",
   "execution_count": 14,
   "metadata": {},
   "outputs": [
    {
     "name": "stdout",
     "output_type": "stream",
     "text": [
      "100000 loops, best of 5: 2.8 µs per loop\n"
     ]
    }
   ],
   "source": [
    "%%timeit -n 100000 -r 5\n",
    "newton_sqrt(num_to_test, max_steps=2)"
   ]
  },
  {
   "cell_type": "code",
   "execution_count": 15,
   "metadata": {},
   "outputs": [
    {
     "name": "stdout",
     "output_type": "stream",
     "text": [
      "100000 loops, best of 5: 3.31 µs per loop\n"
     ]
    }
   ],
   "source": [
    "%%timeit -n 100000 -r 5\n",
    "newton_sqrt(num_to_test, max_steps=3)"
   ]
  },
  {
   "cell_type": "code",
   "execution_count": 16,
   "metadata": {},
   "outputs": [
    {
     "name": "stdout",
     "output_type": "stream",
     "text": [
      "100000 loops, best of 5: 4.39 µs per loop\n"
     ]
    }
   ],
   "source": [
    "%%timeit -n 100000 -r 5\n",
    "newton_sqrt(num_to_test, max_steps=4)"
   ]
  },
  {
   "cell_type": "code",
   "execution_count": 17,
   "metadata": {},
   "outputs": [
    {
     "name": "stdout",
     "output_type": "stream",
     "text": [
      "100000 loops, best of 5: 5.59 µs per loop\n"
     ]
    }
   ],
   "source": [
    "%%timeit -n 100000 -r 5\n",
    "newton_sqrt(num_to_test, max_steps=5)"
   ]
  },
  {
   "cell_type": "code",
   "execution_count": 18,
   "metadata": {},
   "outputs": [],
   "source": [
    "# seems about 20 times slower with maxstep=1"
   ]
  },
  {
   "cell_type": "code",
   "execution_count": 19,
   "metadata": {
    "scrolled": false
   },
   "outputs": [
    {
     "name": "stdout",
     "output_type": "stream",
     "text": [
      "Testing with max_steps=0\n",
      "Max absolute error: 8.54318421654e+37 (result: 2.54887966084e+38  target: 3.40319808249e+38)\n",
      "Max relative error: 25.1085237642% (result: 4.25709668749e-14  target: 5.68435408336e-14)\n",
      "Max sqrt absolute error: 2.48254777573e+18 (result: 1.59652111193e+19  target: 1.8447758895e+19)\n",
      "Max sqrt relative error: 13.4601385281% (result: 2.06327329443e-07  target: 2.38418834897e-07)\n",
      "Average absolute error: 3.2547308125e+35\n",
      "Average relative error: 12.6443008656%\n",
      "\n",
      "Testing with max_steps=1\n",
      "Max absolute error: 7.15771615647e+36 (result: 3.47490302324e+38  target: 3.40332586167e+38)\n",
      "Max relative error: 2.10452501718% (result: 0.510522625086  target: 0.5)\n",
      "Max sqrt absolute error: 1.92986549665e+17 (result: 1.86410917686e+19  target: 1.84481052189e+19)\n",
      "Max sqrt relative error: 1.04678372773% (result: 0.71450865991  target: 0.707106781187)\n",
      "Average absolute error: 1.51072690122e+34\n",
      "Average relative error: 0.605191753169%\n",
      "\n",
      "Testing with max_steps=2\n",
      "Max absolute error: 3.68135084371e+34 (result: 3.40423918793e+38  target: 3.40387105284e+38)\n",
      "Max relative error: 0.0108442515549% (result: 64.0070013628  target: 64.0000610352)\n",
      "Max sqrt absolute error: 9.97651641741e+14 (result: 1.8450580446e+19  target: 1.84495827943e+19)\n",
      "Max sqrt relative error: 0.00542197878817% (result: 8.00043757321  target: 8.0000038147)\n",
      "Average absolute error: 3.9841555815e+31\n",
      "Average relative error: 0.0017124450769%\n",
      "\n",
      "Testing with max_steps=3\n",
      "Max absolute error: 9.96085135454e+29 (result: 3.40369906797e+38  target: 3.40369905801e+38)\n",
      "Max relative error: 2.9396692684e-07% (result: 17179871282.5  target: 17179871232.0)\n",
      "Max sqrt absolute error: 26995470336.0 (result: 1.84491166942e+19  target: 1.84491166672e+19)\n",
      "Max sqrt relative error: 1.46983461079e-07% (result: 131072.008005  target: 131072.007812)\n",
      "Average absolute error: 5.53729386455e+26\n",
      "Average relative error: 2.36442946349e-08%\n",
      "\n",
      "Testing with max_steps=4\n",
      "Max absolute error: 1.51115727452e+23 (result: 4.32647040487e+38  target: 4.32647040487e+38)\n",
      "Max relative error: 4.42161718457e-14% (result: 4.52323192288e+15  target: 4.52323192288e+15)\n",
      "Max sqrt absolute error: 4096.0 (result: 2.07109436902e+19  target: 2.07109436902e+19)\n",
      "Max sqrt relative error: 2.22042275621e-14% (result: 3.05178982655e-05  target: 3.05178982655e-05)\n",
      "Average absolute error: 2.16277722264e+20\n",
      "Average relative error: 8.15315896066e-15%\n",
      "\n",
      "Testing with max_steps=5\n",
      "Max absolute error: 7.55578637259e+22 (result: 4.8917930835e+38  target: 4.8917930835e+38)\n",
      "Max relative error: 2.22044393167e-14% (result: 2.35099094372e-38  target: 2.35099094372e-38)\n",
      "Max sqrt absolute error: 4096.0 (result: 2.02234731734e+19  target: 2.02234731734e+19)\n",
      "Max sqrt relative error: 2.22042725595e-14% (result: 0.062500528989  target: 0.062500528989)\n",
      "Average absolute error: 2.10425059926e+20\n",
      "Average relative error: 7.84093481805e-15%\n",
      "\n"
     ]
    }
   ],
   "source": [
    "# test over a bunch of floats, to evaluate the quality of my init_guess\n",
    "\n",
    "num_samples = 1000000\n",
    "\n",
    "for max_steps in range(6):\n",
    "    print(\"Testing with max_steps={}\".format(max_steps))\n",
    "    \n",
    "    max_abs_error = -1\n",
    "    max_abs_err_num = -1\n",
    "    max_abs_err_res = -1\n",
    "    \n",
    "    max_rel_error = -1\n",
    "    max_rel_err_num = -1\n",
    "    max_rel_err_res =-1\n",
    "    \n",
    "    max_sqrt_abs_error = -1\n",
    "    max_sqrt_abs_err_num = -1\n",
    "    max_sqrt_abs_err_res = -1\n",
    "    \n",
    "    max_sqrt_rel_error = -1\n",
    "    max_sqrt_abs_err_num = -1\n",
    "    max_sqrt_abs_err_res  -1\n",
    "    \n",
    "    average_abs_err = 0\n",
    "    average_rel_err = 0\n",
    "    \n",
    "    for _ in xrange(num_samples):\n",
    "        # generate a new random value\n",
    "        num_to_test = gen_rand_positive_32_bit_float()\n",
    "\n",
    "        # compute my sqrt\n",
    "        my_result = newton_sqrt(num_to_test, max_steps=max_steps, min_error=1e-100, add_noise=False, verbose=False)\n",
    "        \n",
    "        my_abs_error = abs(my_result*my_result-num_to_test)\n",
    "        my_rel_error = 100.0*my_abs_error/num_to_test\n",
    "        \n",
    "        sqrt_abs_error = abs(my_result-math.sqrt(num_to_test))\n",
    "        sqrt_rel_error = 100.0*sqrt_abs_error/math.sqrt(num_to_test)\n",
    "        \n",
    "        average_abs_err += my_abs_error\n",
    "        average_rel_err += my_rel_error\n",
    "        \n",
    "        if (max_abs_error == -1) or (my_abs_error>max_abs_error):\n",
    "            max_abs_error = my_abs_error\n",
    "            max_abs_err_num = num_to_test\n",
    "            max_abs_err_res = my_result*my_result\n",
    "            \n",
    "        if (max_rel_error == -1) or (my_rel_error>max_rel_error):\n",
    "            max_rel_error = my_rel_error\n",
    "            max_rel_err_num = num_to_test\n",
    "            max_rel_err_res = my_result*my_result\n",
    "\n",
    "        if (max_sqrt_abs_error == -1) or (sqrt_abs_error>max_sqrt_abs_error):\n",
    "            max_sqrt_abs_error = sqrt_abs_error\n",
    "            max_sqrt_abs_err_num = math.sqrt(num_to_test)\n",
    "            max_sqrt_abs_err_res = my_result\n",
    "            \n",
    "        if (max_sqrt_rel_error == -1) or (sqrt_rel_error>max_sqrt_rel_error):\n",
    "            max_sqrt_rel_error = sqrt_rel_error\n",
    "            max_sqrt_rel_err_num = math.sqrt(num_to_test)\n",
    "            max_sqrt_rel_err_res = my_result\n",
    "\n",
    "    average_abs_err /= num_samples\n",
    "    average_rel_err /= num_samples\n",
    "            \n",
    "    print(\"Max absolute error: {} (result: {}  target: {})\".format(max_abs_error, max_abs_err_res, max_abs_err_num))\n",
    "    print(\"Max relative error: {}% (result: {}  target: {})\".format(max_rel_error, max_rel_err_res, max_rel_err_num))\n",
    "    print(\"Max sqrt absolute error: {} (result: {}  target: {})\".format(max_sqrt_abs_error, max_sqrt_abs_err_res, max_sqrt_abs_err_num))\n",
    "    print(\"Max sqrt relative error: {}% (result: {}  target: {})\".format(max_sqrt_rel_error, max_sqrt_rel_err_res, max_sqrt_rel_err_num))\n",
    "    print(\"Average absolute error: {}\".format(average_abs_err))\n",
    "    print(\"Average relative error: {}%\".format(average_rel_err))\n",
    "    print('')\n",
    "    "
   ]
  }
 ],
 "metadata": {
  "kernelspec": {
   "display_name": "Python 2",
   "language": "python",
   "name": "python2"
  },
  "language_info": {
   "codemirror_mode": {
    "name": "ipython",
    "version": 2
   },
   "file_extension": ".py",
   "mimetype": "text/x-python",
   "name": "python",
   "nbconvert_exporter": "python",
   "pygments_lexer": "ipython2",
   "version": "2.7.15+"
  }
 },
 "nbformat": 4,
 "nbformat_minor": 2
}
