{
 "metadata": {
  "name": "",
  "signature": "sha256:759bb44e3dda4b4d0f903803dab6bce4cf04cb80f9aac4ee3a85de2df9c41fdb"
 },
 "nbformat": 3,
 "nbformat_minor": 0,
 "worksheets": []
}