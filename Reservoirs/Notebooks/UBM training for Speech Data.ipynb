{
 "metadata": {
  "name": "",
  "signature": "sha256:d7aa37449287a179a5f1ac729a447c0ff02a5f9b6a5cc66f1ac452803d12027a"
 },
 "nbformat": 3,
 "nbformat_minor": 0,
 "worksheets": [
  {
   "cells": [
    {
     "cell_type": "code",
     "collapsed": false,
     "input": [
      "import numpy as np\n",
      "import math\n",
      "import os"
     ],
     "language": "python",
     "metadata": {},
     "outputs": [],
     "prompt_number": 3
    },
    {
     "cell_type": "code",
     "collapsed": false,
     "input": [
      "from sklearn import mixture"
     ],
     "language": "python",
     "metadata": {},
     "outputs": [],
     "prompt_number": 4
    },
    {
     "cell_type": "code",
     "collapsed": false,
     "input": [
      "# load phone list\n",
      "phone_path = \"C:\\\\Users\\\\FG\\\\Desktop\\\\PhD\\\\Research\\\\Reservoirs\\\\datasets\\\\TIMIT-MFCCs\\\\TIMIT_phone_list.txt\"\n",
      "phone_list = load_phone_file(phone_path)\n",
      "print phone_list"
     ],
     "language": "python",
     "metadata": {},
     "outputs": [
      {
       "output_type": "stream",
       "stream": "stdout",
       "text": [
        "['aa', 'ae', 'ah', 'ao', 'aw', 'ax', 'ax-h', 'axr', 'ay', 'b', 'bcl', 'ch', 'd', 'dcl', 'dh', 'dx', 'eh', 'el', 'em', 'en', 'eng', 'epi', 'er', 'ey', 'f', 'g', 'gcl', 'h#', 'hh', 'hv', 'ih', 'ix', 'iy', 'jh', 'k', 'kcl', 'l', 'm', 'n', 'ng', 'nx', 'ow', 'oy', 'p', 'pau', 'pcl', 'q', 'r', 's', 'sh', 't', 'tcl', 'th', 'uh', 'uw', 'ux', 'v', 'w', 'y', 'z', 'zh']\n"
       ]
      }
     ],
     "prompt_number": 5
    },
    {
     "cell_type": "code",
     "collapsed": false,
     "input": [
      "#load mfccs into sklearn observations, each frame is an obs\n",
      "# (CURRENTLY FALSE: shape should be nb_files -> nb_frames -> 39 MFFC dim)\n",
      "\n",
      "train_TIMIT_dir = \"C:\\\\Users\\\\FG\\Desktop\\\\PhD\\\\Research\\\\Reservoirs\\\\datasets\\\\TIMIT-MFCCs\\\\test\"\n",
      "\n",
      "train_obs = []\n",
      "train_obs_labels = []\n",
      "\n",
      "# walk the directories\n",
      "for (path, dirs, files) in os.walk(train_TIMIT_dir):\n",
      "    for file in files:\n",
      "        # skip the SA files\n",
      "        #dev, only work on file si1573.mfcc.csv     \"si1573\" in file and\n",
      "        if \".mfcc\" in file  and \"sa\" not in file:\n",
      "            #check if corresponding .phn file exists\n",
      "            if not os.path.exists(path + \"/\" + file[:-8] + \"phn\"):\n",
      "                print path + \"/\" + file[:-8] + \"phn\"\n",
      "                print \"corresponding .phn file does not exist!\"\n",
      "            else:\n",
      "                \n",
      "                print \"working on: \" + file\n",
      "                print \"from path : \" + path\n",
      "\n",
      "                # open the files\n",
      "                mfcc_file = open(path + \"/\" + file)\n",
      "                phn_file = open(path + \"/\" + file[:-8] + \"phn\")\n",
      "\n",
      "                # extract phone times\n",
      "                phone_times = []\n",
      "                for phn_line in phn_file:\n",
      "                    phone_times.append(phn_line.split())\n",
      "                # transpose for easier use\n",
      "                phone_times = map(list, zip(*phone_times))\n",
      "\n",
      "                # skip mfcc_file header\n",
      "                next(mfcc_file)\n",
      "\n",
      "                # reset frame count\n",
      "                frame_cnt = 0\n",
      "\n",
      "                # for each line of mfcc_file\n",
      "                for mfcc_line in mfcc_file:\n",
      "\n",
      "                    # increment frame count\n",
      "                    frame_cnt += 1 \n",
      "\n",
      "                    # print \"frame line #:\", frame_cnt \n",
      "\n",
      "                    # frame start time in seconds\n",
      "                    start_t = mfcc_line.split(\";\")[1]\n",
      "\n",
      "                    # create frame (skiping first 2 values, frame_index and frame_time)\n",
      "                    frame = map( float,  mfcc_line.split(\";\")[2:])\n",
      "                    # print numpy.shape(frame)\n",
      "                    # print frame\n",
      "\n",
      "                    # find correspond phoneme and index in the list\n",
      "                    phn_index = find_phn_index(start_t, phone_times, phone_list)\n",
      "\n",
      "                    # add to instances\n",
      "                    train_obs.append(frame)\n",
      "                    train_obs_labels.append(phone_list[phn_index])"
     ],
     "language": "python",
     "metadata": {},
     "outputs": [
      {
       "output_type": "stream",
       "stream": "stdout",
       "text": [
        "working on: si1573.mfcc.csv\n",
        "from path : C:\\Users\\FG\\Desktop\\PhD\\Research\\Reservoirs\\datasets\\TIMIT-MFCCs\\test\\dr1\\faks0\n",
        "working on: si2203.mfcc.csv"
       ]
      },
      {
       "output_type": "stream",
       "stream": "stdout",
       "text": [
        "\n",
        "from path : C:\\Users\\FG\\Desktop\\PhD\\Research\\Reservoirs\\datasets\\TIMIT-MFCCs\\test\\dr1\\faks0\n",
        "working on: si943.mfcc.csv"
       ]
      },
      {
       "output_type": "stream",
       "stream": "stdout",
       "text": [
        "\n",
        "from path : C:\\Users\\FG\\Desktop\\PhD\\Research\\Reservoirs\\datasets\\TIMIT-MFCCs\\test\\dr1\\faks0\n",
        "working on: sx133.mfcc.csv"
       ]
      },
      {
       "output_type": "stream",
       "stream": "stdout",
       "text": [
        "\n",
        "from path : C:\\Users\\FG\\Desktop\\PhD\\Research\\Reservoirs\\datasets\\TIMIT-MFCCs\\test\\dr1\\faks0\n",
        "working on: sx223.mfcc.csv"
       ]
      },
      {
       "output_type": "stream",
       "stream": "stdout",
       "text": [
        "\n",
        "from path : C:\\Users\\FG\\Desktop\\PhD\\Research\\Reservoirs\\datasets\\TIMIT-MFCCs\\test\\dr1\\faks0\n",
        "working on: sx313.mfcc.csv"
       ]
      },
      {
       "output_type": "stream",
       "stream": "stdout",
       "text": [
        "\n",
        "from path : C:\\Users\\FG\\Desktop\\PhD\\Research\\Reservoirs\\datasets\\TIMIT-MFCCs\\test\\dr1\\faks0\n",
        "working on: sx403.mfcc.csv\n",
        "from path : C:\\Users\\FG\\Desktop\\PhD\\Research\\Reservoirs\\datasets\\TIMIT-MFCCs\\test\\dr1\\faks0\n",
        "working on: sx43.mfcc.csv"
       ]
      },
      {
       "output_type": "stream",
       "stream": "stdout",
       "text": [
        "\n",
        "from path : C:\\Users\\FG\\Desktop\\PhD\\Research\\Reservoirs\\datasets\\TIMIT-MFCCs\\test\\dr1\\faks0\n",
        "working on: si1474.mfcc.csv"
       ]
      },
      {
       "output_type": "stream",
       "stream": "stdout",
       "text": [
        "\n",
        "from path : C:\\Users\\FG\\Desktop\\PhD\\Research\\Reservoirs\\datasets\\TIMIT-MFCCs\\test\\dr1\\fdac1\n",
        "working on: si2104.mfcc.csv"
       ]
      },
      {
       "output_type": "stream",
       "stream": "stdout",
       "text": [
        "\n",
        "from path : C:\\Users\\FG\\Desktop\\PhD\\Research\\Reservoirs\\datasets\\TIMIT-MFCCs\\test\\dr1\\fdac1\n",
        "working on: si844.mfcc.csv"
       ]
      },
      {
       "output_type": "stream",
       "stream": "stdout",
       "text": [
        "\n",
        "from path : C:\\Users\\FG\\Desktop\\PhD\\Research\\Reservoirs\\datasets\\TIMIT-MFCCs\\test\\dr1\\fdac1\n",
        "working on: sx124.mfcc.csv"
       ]
      },
      {
       "output_type": "stream",
       "stream": "stdout",
       "text": [
        "\n",
        "from path : C:\\Users\\FG\\Desktop\\PhD\\Research\\Reservoirs\\datasets\\TIMIT-MFCCs\\test\\dr1\\fdac1\n",
        "working on: sx214.mfcc.csv\n",
        "from path : C:\\Users\\FG\\Desktop\\PhD\\Research\\Reservoirs\\datasets\\TIMIT-MFCCs\\test\\dr1\\fdac1\n",
        "working on: sx304.mfcc.csv"
       ]
      },
      {
       "output_type": "stream",
       "stream": "stdout",
       "text": [
        "\n",
        "from path : C:\\Users\\FG\\Desktop\\PhD\\Research\\Reservoirs\\datasets\\TIMIT-MFCCs\\test\\dr1\\fdac1\n",
        "working on: sx34.mfcc.csv"
       ]
      },
      {
       "output_type": "stream",
       "stream": "stdout",
       "text": [
        "\n",
        "from path : C:\\Users\\FG\\Desktop\\PhD\\Research\\Reservoirs\\datasets\\TIMIT-MFCCs\\test\\dr1\\fdac1\n",
        "working on: sx394.mfcc.csv"
       ]
      },
      {
       "output_type": "stream",
       "stream": "stdout",
       "text": [
        "\n",
        "from path : C:\\Users\\FG\\Desktop\\PhD\\Research\\Reservoirs\\datasets\\TIMIT-MFCCs\\test\\dr1\\fdac1\n",
        "working on: si1386.mfcc.csv"
       ]
      },
      {
       "output_type": "stream",
       "stream": "stdout",
       "text": [
        "\n",
        "from path : C:\\Users\\FG\\Desktop\\PhD\\Research\\Reservoirs\\datasets\\TIMIT-MFCCs\\test\\dr1\\felc0\n",
        "working on: si2016.mfcc.csv"
       ]
      },
      {
       "output_type": "stream",
       "stream": "stdout",
       "text": [
        "\n",
        "from path : C:\\Users\\FG\\Desktop\\PhD\\Research\\Reservoirs\\datasets\\TIMIT-MFCCs\\test\\dr1\\felc0\n",
        "working on: si756.mfcc.csv"
       ]
      },
      {
       "output_type": "stream",
       "stream": "stdout",
       "text": [
        "\n",
        "from path : C:\\Users\\FG\\Desktop\\PhD\\Research\\Reservoirs\\datasets\\TIMIT-MFCCs\\test\\dr1\\felc0\n",
        "working on: sx126.mfcc.csv"
       ]
      },
      {
       "output_type": "stream",
       "stream": "stdout",
       "text": [
        "\n",
        "from path : C:\\Users\\FG\\Desktop\\PhD\\Research\\Reservoirs\\datasets\\TIMIT-MFCCs\\test\\dr1\\felc0\n",
        "working on: sx216.mfcc.csv"
       ]
      },
      {
       "output_type": "stream",
       "stream": "stdout",
       "text": [
        "\n",
        "from path : C:\\Users\\FG\\Desktop\\PhD\\Research\\Reservoirs\\datasets\\TIMIT-MFCCs\\test\\dr1\\felc0\n",
        "working on: sx306.mfcc.csv"
       ]
      },
      {
       "output_type": "stream",
       "stream": "stdout",
       "text": [
        "\n",
        "from path : C:\\Users\\FG\\Desktop\\PhD\\Research\\Reservoirs\\datasets\\TIMIT-MFCCs\\test\\dr1\\felc0\n",
        "working on: sx36.mfcc.csv"
       ]
      },
      {
       "output_type": "stream",
       "stream": "stdout",
       "text": [
        "\n",
        "from path : C:\\Users\\FG\\Desktop\\PhD\\Research\\Reservoirs\\datasets\\TIMIT-MFCCs\\test\\dr1\\felc0\n",
        "working on: sx396.mfcc.csv"
       ]
      },
      {
       "output_type": "stream",
       "stream": "stdout",
       "text": [
        "\n",
        "from path : C:\\Users\\FG\\Desktop\\PhD\\Research\\Reservoirs\\datasets\\TIMIT-MFCCs\\test\\dr1\\felc0\n",
        "working on: si1264.mfcc.csv"
       ]
      },
      {
       "output_type": "stream",
       "stream": "stdout",
       "text": [
        "\n",
        "from path : C:\\Users\\FG\\Desktop\\PhD\\Research\\Reservoirs\\datasets\\TIMIT-MFCCs\\test\\dr1\\fjem0\n",
        "working on: si1894.mfcc.csv"
       ]
      },
      {
       "output_type": "stream",
       "stream": "stdout",
       "text": [
        "\n",
        "from path : C:\\Users\\FG\\Desktop\\PhD\\Research\\Reservoirs\\datasets\\TIMIT-MFCCs\\test\\dr1\\fjem0\n",
        "working on: si634.mfcc.csv\n",
        "from path : C:\\Users\\FG\\Desktop\\PhD\\Research\\Reservoirs\\datasets\\TIMIT-MFCCs\\test\\dr1\\fjem0\n",
        "working on: sx184.mfcc.csv"
       ]
      },
      {
       "output_type": "stream",
       "stream": "stdout",
       "text": [
        "\n",
        "from path : C:\\Users\\FG\\Desktop\\PhD\\Research\\Reservoirs\\datasets\\TIMIT-MFCCs\\test\\dr1\\fjem0\n",
        "working on: sx274.mfcc.csv"
       ]
      },
      {
       "output_type": "stream",
       "stream": "stdout",
       "text": [
        "\n",
        "from path : C:\\Users\\FG\\Desktop\\PhD\\Research\\Reservoirs\\datasets\\TIMIT-MFCCs\\test\\dr1\\fjem0\n",
        "working on: sx364.mfcc.csv"
       ]
      },
      {
       "output_type": "stream",
       "stream": "stdout",
       "text": [
        "\n",
        "from path : C:\\Users\\FG\\Desktop\\PhD\\Research\\Reservoirs\\datasets\\TIMIT-MFCCs\\test\\dr1\\fjem0\n",
        "working on: sx4.mfcc.csv"
       ]
      },
      {
       "output_type": "stream",
       "stream": "stdout",
       "text": [
        "\n",
        "from path : C:\\Users\\FG\\Desktop\\PhD\\Research\\Reservoirs\\datasets\\TIMIT-MFCCs\\test\\dr1\\fjem0\n",
        "working on: sx94.mfcc.csv"
       ]
      },
      {
       "output_type": "stream",
       "stream": "stdout",
       "text": [
        "\n",
        "from path : C:\\Users\\FG\\Desktop\\PhD\\Research\\Reservoirs\\datasets\\TIMIT-MFCCs\\test\\dr1\\fjem0\n",
        "working on: si1039.mfcc.csv"
       ]
      },
      {
       "output_type": "stream",
       "stream": "stdout",
       "text": [
        "\n",
        "from path : C:\\Users\\FG\\Desktop\\PhD\\Research\\Reservoirs\\datasets\\TIMIT-MFCCs\\test\\dr1\\mdab0\n",
        "working on: si1669.mfcc.csv"
       ]
      },
      {
       "output_type": "stream",
       "stream": "stdout",
       "text": [
        "\n",
        "from path : C:\\Users\\FG\\Desktop\\PhD\\Research\\Reservoirs\\datasets\\TIMIT-MFCCs\\test\\dr1\\mdab0\n",
        "working on: si2299.mfcc.csv\n",
        "from path : C:\\Users\\FG\\Desktop\\PhD\\Research\\Reservoirs\\datasets\\TIMIT-MFCCs\\test\\dr1\\mdab0\n",
        "working on: sx139.mfcc.csv"
       ]
      },
      {
       "output_type": "stream",
       "stream": "stdout",
       "text": [
        "\n",
        "from path : C:\\Users\\FG\\Desktop\\PhD\\Research\\Reservoirs\\datasets\\TIMIT-MFCCs\\test\\dr1\\mdab0\n",
        "working on: sx229.mfcc.csv\n",
        "from path : C:\\Users\\FG\\Desktop\\PhD\\Research\\Reservoirs\\datasets\\TIMIT-MFCCs\\test\\dr1\\mdab0\n",
        "working on: sx319.mfcc.csv"
       ]
      },
      {
       "output_type": "stream",
       "stream": "stdout",
       "text": [
        "\n",
        "from path : C:\\Users\\FG\\Desktop\\PhD\\Research\\Reservoirs\\datasets\\TIMIT-MFCCs\\test\\dr1\\mdab0\n",
        "working on: sx409.mfcc.csv"
       ]
      },
      {
       "output_type": "stream",
       "stream": "stdout",
       "text": [
        "\n",
        "from path : C:\\Users\\FG\\Desktop\\PhD\\Research\\Reservoirs\\datasets\\TIMIT-MFCCs\\test\\dr1\\mdab0\n",
        "working on: sx49.mfcc.csv"
       ]
      },
      {
       "output_type": "stream",
       "stream": "stdout",
       "text": [
        "\n",
        "from path : C:\\Users\\FG\\Desktop\\PhD\\Research\\Reservoirs\\datasets\\TIMIT-MFCCs\\test\\dr1\\mdab0\n",
        "working on: si1010.mfcc.csv\n",
        "from path : C:\\Users\\FG\\Desktop\\PhD\\Research\\Reservoirs\\datasets\\TIMIT-MFCCs\\test\\dr1\\mjsw0\n",
        "working on: si1640.mfcc.csv"
       ]
      },
      {
       "output_type": "stream",
       "stream": "stdout",
       "text": [
        "\n",
        "from path : C:\\Users\\FG\\Desktop\\PhD\\Research\\Reservoirs\\datasets\\TIMIT-MFCCs\\test\\dr1\\mjsw0\n",
        "working on: si2270.mfcc.csv\n",
        "from path : C:\\Users\\FG\\Desktop\\PhD\\Research\\Reservoirs\\datasets\\TIMIT-MFCCs\\test\\dr1\\mjsw0\n",
        "working on: sx110.mfcc.csv"
       ]
      },
      {
       "output_type": "stream",
       "stream": "stdout",
       "text": [
        "\n",
        "from path : C:\\Users\\FG\\Desktop\\PhD\\Research\\Reservoirs\\datasets\\TIMIT-MFCCs\\test\\dr1\\mjsw0\n",
        "working on: sx20.mfcc.csv\n",
        "from path : C:\\Users\\FG\\Desktop\\PhD\\Research\\Reservoirs\\datasets\\TIMIT-MFCCs\\test\\dr1\\mjsw0\n",
        "working on: sx200.mfcc.csv"
       ]
      },
      {
       "output_type": "stream",
       "stream": "stdout",
       "text": [
        "\n",
        "from path : C:\\Users\\FG\\Desktop\\PhD\\Research\\Reservoirs\\datasets\\TIMIT-MFCCs\\test\\dr1\\mjsw0\n",
        "working on: sx290.mfcc.csv\n",
        "from path : C:\\Users\\FG\\Desktop\\PhD\\Research\\Reservoirs\\datasets\\TIMIT-MFCCs\\test\\dr1\\mjsw0\n",
        "working on: sx380.mfcc.csv"
       ]
      },
      {
       "output_type": "stream",
       "stream": "stdout",
       "text": [
        "\n",
        "from path : C:\\Users\\FG\\Desktop\\PhD\\Research\\Reservoirs\\datasets\\TIMIT-MFCCs\\test\\dr1\\mjsw0\n",
        "working on: si1375.mfcc.csv"
       ]
      },
      {
       "output_type": "stream",
       "stream": "stdout",
       "text": [
        "\n",
        "from path : C:\\Users\\FG\\Desktop\\PhD\\Research\\Reservoirs\\datasets\\TIMIT-MFCCs\\test\\dr1\\mreb0\n",
        "working on: si2005.mfcc.csv"
       ]
      },
      {
       "output_type": "stream",
       "stream": "stdout",
       "text": [
        "\n",
        "from path : C:\\Users\\FG\\Desktop\\PhD\\Research\\Reservoirs\\datasets\\TIMIT-MFCCs\\test\\dr1\\mreb0\n",
        "working on: si745.mfcc.csv"
       ]
      },
      {
       "output_type": "stream",
       "stream": "stdout",
       "text": [
        "\n",
        "from path : C:\\Users\\FG\\Desktop\\PhD\\Research\\Reservoirs\\datasets\\TIMIT-MFCCs\\test\\dr1\\mreb0\n",
        "working on: sx115.mfcc.csv\n",
        "from path : C:\\Users\\FG\\Desktop\\PhD\\Research\\Reservoirs\\datasets\\TIMIT-MFCCs\\test\\dr1\\mreb0\n",
        "working on: sx205.mfcc.csv"
       ]
      },
      {
       "output_type": "stream",
       "stream": "stdout",
       "text": [
        "\n",
        "from path : C:\\Users\\FG\\Desktop\\PhD\\Research\\Reservoirs\\datasets\\TIMIT-MFCCs\\test\\dr1\\mreb0\n",
        "working on: sx25.mfcc.csv\n",
        "from path : C:\\Users\\FG\\Desktop\\PhD\\Research\\Reservoirs\\datasets\\TIMIT-MFCCs\\test\\dr1\\mreb0\n",
        "working on: sx295.mfcc.csv"
       ]
      },
      {
       "output_type": "stream",
       "stream": "stdout",
       "text": [
        "\n",
        "from path : C:\\Users\\FG\\Desktop\\PhD\\Research\\Reservoirs\\datasets\\TIMIT-MFCCs\\test\\dr1\\mreb0\n",
        "working on: sx385.mfcc.csv\n",
        "from path : C:\\Users\\FG\\Desktop\\PhD\\Research\\Reservoirs\\datasets\\TIMIT-MFCCs\\test\\dr1\\mreb0\n",
        "working on: si1364.mfcc.csv"
       ]
      },
      {
       "output_type": "stream",
       "stream": "stdout",
       "text": [
        "\n",
        "from path : C:\\Users\\FG\\Desktop\\PhD\\Research\\Reservoirs\\datasets\\TIMIT-MFCCs\\test\\dr1\\mrjo0\n",
        "working on: si1624.mfcc.csv"
       ]
      },
      {
       "output_type": "stream",
       "stream": "stdout",
       "text": [
        "\n",
        "from path : C:\\Users\\FG\\Desktop\\PhD\\Research\\Reservoirs\\datasets\\TIMIT-MFCCs\\test\\dr1\\mrjo0\n",
        "working on: si734.mfcc.csv"
       ]
      },
      {
       "output_type": "stream",
       "stream": "stdout",
       "text": [
        "\n",
        "from path : C:\\Users\\FG\\Desktop\\PhD\\Research\\Reservoirs\\datasets\\TIMIT-MFCCs\\test\\dr1\\mrjo0\n",
        "working on: sx104.mfcc.csv"
       ]
      },
      {
       "output_type": "stream",
       "stream": "stdout",
       "text": [
        "\n",
        "from path : C:\\Users\\FG\\Desktop\\PhD\\Research\\Reservoirs\\datasets\\TIMIT-MFCCs\\test\\dr1\\mrjo0\n",
        "working on: sx14.mfcc.csv\n",
        "from path : C:\\Users\\FG\\Desktop\\PhD\\Research\\Reservoirs\\datasets\\TIMIT-MFCCs\\test\\dr1\\mrjo0\n",
        "working on: sx194.mfcc.csv"
       ]
      },
      {
       "output_type": "stream",
       "stream": "stdout",
       "text": [
        "\n",
        "from path : C:\\Users\\FG\\Desktop\\PhD\\Research\\Reservoirs\\datasets\\TIMIT-MFCCs\\test\\dr1\\mrjo0\n",
        "working on: sx284.mfcc.csv\n",
        "from path : C:\\Users\\FG\\Desktop\\PhD\\Research\\Reservoirs\\datasets\\TIMIT-MFCCs\\test\\dr1\\mrjo0\n",
        "working on: sx374.mfcc.csv"
       ]
      },
      {
       "output_type": "stream",
       "stream": "stdout",
       "text": [
        "\n",
        "from path : C:\\Users\\FG\\Desktop\\PhD\\Research\\Reservoirs\\datasets\\TIMIT-MFCCs\\test\\dr1\\mrjo0\n",
        "working on: si1899.mfcc.csv"
       ]
      },
      {
       "output_type": "stream",
       "stream": "stdout",
       "text": [
        "\n",
        "from path : C:\\Users\\FG\\Desktop\\PhD\\Research\\Reservoirs\\datasets\\TIMIT-MFCCs\\test\\dr1\\msjs1\n",
        "working on: si639.mfcc.csv"
       ]
      },
      {
       "output_type": "stream",
       "stream": "stdout",
       "text": [
        "\n",
        "from path : C:\\Users\\FG\\Desktop\\PhD\\Research\\Reservoirs\\datasets\\TIMIT-MFCCs\\test\\dr1\\msjs1\n",
        "working on: si869.mfcc.csv"
       ]
      },
      {
       "output_type": "stream",
       "stream": "stdout",
       "text": [
        "\n",
        "from path : C:\\Users\\FG\\Desktop\\PhD\\Research\\Reservoirs\\datasets\\TIMIT-MFCCs\\test\\dr1\\msjs1\n",
        "working on: sx189.mfcc.csv"
       ]
      },
      {
       "output_type": "stream",
       "stream": "stdout",
       "text": [
        "\n",
        "from path : C:\\Users\\FG\\Desktop\\PhD\\Research\\Reservoirs\\datasets\\TIMIT-MFCCs\\test\\dr1\\msjs1\n",
        "working on: sx279.mfcc.csv\n",
        "from path : C:\\Users\\FG\\Desktop\\PhD\\Research\\Reservoirs\\datasets\\TIMIT-MFCCs\\test\\dr1\\msjs1\n",
        "working on: sx369.mfcc.csv"
       ]
      },
      {
       "output_type": "stream",
       "stream": "stdout",
       "text": [
        "\n",
        "from path : C:\\Users\\FG\\Desktop\\PhD\\Research\\Reservoirs\\datasets\\TIMIT-MFCCs\\test\\dr1\\msjs1\n",
        "working on: sx9.mfcc.csv\n",
        "from path : C:\\Users\\FG\\Desktop\\PhD\\Research\\Reservoirs\\datasets\\TIMIT-MFCCs\\test\\dr1\\msjs1\n",
        "working on: sx99.mfcc.csv"
       ]
      },
      {
       "output_type": "stream",
       "stream": "stdout",
       "text": [
        "\n",
        "from path : C:\\Users\\FG\\Desktop\\PhD\\Research\\Reservoirs\\datasets\\TIMIT-MFCCs\\test\\dr1\\msjs1\n",
        "working on: si1024.mfcc.csv\n",
        "from path : C:\\Users\\FG\\Desktop\\PhD\\Research\\Reservoirs\\datasets\\TIMIT-MFCCs\\test\\dr1\\mstk0\n",
        "working on: si2222.mfcc.csv"
       ]
      },
      {
       "output_type": "stream",
       "stream": "stdout",
       "text": [
        "\n",
        "from path : C:\\Users\\FG\\Desktop\\PhD\\Research\\Reservoirs\\datasets\\TIMIT-MFCCs\\test\\dr1\\mstk0\n",
        "working on: si2284.mfcc.csv"
       ]
      },
      {
       "output_type": "stream",
       "stream": "stdout",
       "text": [
        "\n",
        "from path : C:\\Users\\FG\\Desktop\\PhD\\Research\\Reservoirs\\datasets\\TIMIT-MFCCs\\test\\dr1\\mstk0\n",
        "working on: sx124.mfcc.csv\n",
        "from path : C:\\Users\\FG\\Desktop\\PhD\\Research\\Reservoirs\\datasets\\TIMIT-MFCCs\\test\\dr1\\mstk0\n",
        "working on: sx214.mfcc.csv"
       ]
      },
      {
       "output_type": "stream",
       "stream": "stdout",
       "text": [
        "\n",
        "from path : C:\\Users\\FG\\Desktop\\PhD\\Research\\Reservoirs\\datasets\\TIMIT-MFCCs\\test\\dr1\\mstk0\n",
        "working on: sx304.mfcc.csv\n",
        "from path : C:\\Users\\FG\\Desktop\\PhD\\Research\\Reservoirs\\datasets\\TIMIT-MFCCs\\test\\dr1\\mstk0\n",
        "working on: sx34.mfcc.csv"
       ]
      },
      {
       "output_type": "stream",
       "stream": "stdout",
       "text": [
        "\n",
        "from path : C:\\Users\\FG\\Desktop\\PhD\\Research\\Reservoirs\\datasets\\TIMIT-MFCCs\\test\\dr1\\mstk0\n",
        "working on: sx394.mfcc.csv\n",
        "from path : C:\\Users\\FG\\Desktop\\PhD\\Research\\Reservoirs\\datasets\\TIMIT-MFCCs\\test\\dr1\\mstk0\n",
        "working on: si1553.mfcc.csv"
       ]
      },
      {
       "output_type": "stream",
       "stream": "stdout",
       "text": [
        "\n",
        "from path : C:\\Users\\FG\\Desktop\\PhD\\Research\\Reservoirs\\datasets\\TIMIT-MFCCs\\test\\dr1\\mwbt0\n",
        "working on: si2183.mfcc.csv"
       ]
      },
      {
       "output_type": "stream",
       "stream": "stdout",
       "text": [
        "\n",
        "from path : C:\\Users\\FG\\Desktop\\PhD\\Research\\Reservoirs\\datasets\\TIMIT-MFCCs\\test\\dr1\\mwbt0\n",
        "working on: si923.mfcc.csv\n",
        "from path : C:\\Users\\FG\\Desktop\\PhD\\Research\\Reservoirs\\datasets\\TIMIT-MFCCs\\test\\dr1\\mwbt0\n",
        "working on: sx113.mfcc.csv"
       ]
      },
      {
       "output_type": "stream",
       "stream": "stdout",
       "text": [
        "\n",
        "from path : C:\\Users\\FG\\Desktop\\PhD\\Research\\Reservoirs\\datasets\\TIMIT-MFCCs\\test\\dr1\\mwbt0\n",
        "working on: sx203.mfcc.csv"
       ]
      },
      {
       "output_type": "stream",
       "stream": "stdout",
       "text": [
        "\n",
        "from path : C:\\Users\\FG\\Desktop\\PhD\\Research\\Reservoirs\\datasets\\TIMIT-MFCCs\\test\\dr1\\mwbt0\n",
        "working on: sx23.mfcc.csv\n",
        "from path : C:\\Users\\FG\\Desktop\\PhD\\Research\\Reservoirs\\datasets\\TIMIT-MFCCs\\test\\dr1\\mwbt0\n",
        "working on: sx293.mfcc.csv"
       ]
      },
      {
       "output_type": "stream",
       "stream": "stdout",
       "text": [
        "\n",
        "from path : C:\\Users\\FG\\Desktop\\PhD\\Research\\Reservoirs\\datasets\\TIMIT-MFCCs\\test\\dr1\\mwbt0\n",
        "working on: sx383.mfcc.csv"
       ]
      },
      {
       "output_type": "stream",
       "stream": "stdout",
       "text": [
        "\n",
        "from path : C:\\Users\\FG\\Desktop\\PhD\\Research\\Reservoirs\\datasets\\TIMIT-MFCCs\\test\\dr1\\mwbt0\n",
        "working on: si1105.mfcc.csv"
       ]
      },
      {
       "output_type": "stream",
       "stream": "stdout",
       "text": [
        "\n",
        "from path : C:\\Users\\FG\\Desktop\\PhD\\Research\\Reservoirs\\datasets\\TIMIT-MFCCs\\test\\dr2\\fcmr0\n",
        "working on: si1735.mfcc.csv"
       ]
      },
      {
       "output_type": "stream",
       "stream": "stdout",
       "text": [
        "\n",
        "from path : C:\\Users\\FG\\Desktop\\PhD\\Research\\Reservoirs\\datasets\\TIMIT-MFCCs\\test\\dr2\\fcmr0\n",
        "working on: si475.mfcc.csv\n",
        "from path : C:\\Users\\FG\\Desktop\\PhD\\Research\\Reservoirs\\datasets\\TIMIT-MFCCs\\test\\dr2\\fcmr0\n",
        "working on: sx115.mfcc.csv"
       ]
      },
      {
       "output_type": "stream",
       "stream": "stdout",
       "text": [
        "\n",
        "from path : C:\\Users\\FG\\Desktop\\PhD\\Research\\Reservoirs\\datasets\\TIMIT-MFCCs\\test\\dr2\\fcmr0\n",
        "working on: sx205.mfcc.csv\n",
        "from path : C:\\Users\\FG\\Desktop\\PhD\\Research\\Reservoirs\\datasets\\TIMIT-MFCCs\\test\\dr2\\fcmr0\n",
        "working on: sx25.mfcc.csv"
       ]
      },
      {
       "output_type": "stream",
       "stream": "stdout",
       "text": [
        "\n",
        "from path : C:\\Users\\FG\\Desktop\\PhD\\Research\\Reservoirs\\datasets\\TIMIT-MFCCs\\test\\dr2\\fcmr0\n",
        "working on: sx295.mfcc.csv\n",
        "from path : C:\\Users\\FG\\Desktop\\PhD\\Research\\Reservoirs\\datasets\\TIMIT-MFCCs\\test\\dr2\\fcmr0\n",
        "working on: sx385.mfcc.csv"
       ]
      },
      {
       "output_type": "stream",
       "stream": "stdout",
       "text": [
        "\n",
        "from path : C:\\Users\\FG\\Desktop\\PhD\\Research\\Reservoirs\\datasets\\TIMIT-MFCCs\\test\\dr2\\fcmr0\n",
        "working on: si1544.mfcc.csv\n",
        "from path : C:\\Users\\FG\\Desktop\\PhD\\Research\\Reservoirs\\datasets\\TIMIT-MFCCs\\test\\dr2\\fdrd1\n",
        "working on: si1566.mfcc.csv"
       ]
      },
      {
       "output_type": "stream",
       "stream": "stdout",
       "text": [
        "\n",
        "from path : C:\\Users\\FG\\Desktop\\PhD\\Research\\Reservoirs\\datasets\\TIMIT-MFCCs\\test\\dr2\\fdrd1\n",
        "working on: si2149.mfcc.csv"
       ]
      },
      {
       "output_type": "stream",
       "stream": "stdout",
       "text": [
        "\n",
        "from path : C:\\Users\\FG\\Desktop\\PhD\\Research\\Reservoirs\\datasets\\TIMIT-MFCCs\\test\\dr2\\fdrd1\n",
        "working on: sx104.mfcc.csv"
       ]
      },
      {
       "output_type": "stream",
       "stream": "stdout",
       "text": [
        "\n",
        "from path : C:\\Users\\FG\\Desktop\\PhD\\Research\\Reservoirs\\datasets\\TIMIT-MFCCs\\test\\dr2\\fdrd1\n",
        "working on: sx14.mfcc.csv\n",
        "from path : C:\\Users\\FG\\Desktop\\PhD\\Research\\Reservoirs\\datasets\\TIMIT-MFCCs\\test\\dr2\\fdrd1\n",
        "working on: sx194.mfcc.csv"
       ]
      },
      {
       "output_type": "stream",
       "stream": "stdout",
       "text": [
        "\n",
        "from path : C:\\Users\\FG\\Desktop\\PhD\\Research\\Reservoirs\\datasets\\TIMIT-MFCCs\\test\\dr2\\fdrd1\n",
        "working on: sx284.mfcc.csv\n",
        "from path : C:\\Users\\FG\\Desktop\\PhD\\Research\\Reservoirs\\datasets\\TIMIT-MFCCs\\test\\dr2\\fdrd1\n",
        "working on: sx374.mfcc.csv"
       ]
      },
      {
       "output_type": "stream",
       "stream": "stdout",
       "text": [
        "\n",
        "from path : C:\\Users\\FG\\Desktop\\PhD\\Research\\Reservoirs\\datasets\\TIMIT-MFCCs\\test\\dr2\\fdrd1\n",
        "working on: si1400.mfcc.csv\n",
        "from path : C:\\Users\\FG\\Desktop\\PhD\\Research\\Reservoirs\\datasets\\TIMIT-MFCCs\\test\\dr2\\fjas0\n",
        "working on: si2030.mfcc.csv"
       ]
      },
      {
       "output_type": "stream",
       "stream": "stdout",
       "text": [
        "\n",
        "from path : C:\\Users\\FG\\Desktop\\PhD\\Research\\Reservoirs\\datasets\\TIMIT-MFCCs\\test\\dr2\\fjas0\n",
        "working on: si770.mfcc.csv"
       ]
      },
      {
       "output_type": "stream",
       "stream": "stdout",
       "text": [
        "\n",
        "from path : C:\\Users\\FG\\Desktop\\PhD\\Research\\Reservoirs\\datasets\\TIMIT-MFCCs\\test\\dr2\\fjas0\n",
        "working on: sx140.mfcc.csv"
       ]
      },
      {
       "output_type": "stream",
       "stream": "stdout",
       "text": [
        "\n",
        "from path : C:\\Users\\FG\\Desktop\\PhD\\Research\\Reservoirs\\datasets\\TIMIT-MFCCs\\test\\dr2\\fjas0\n",
        "working on: sx230.mfcc.csv"
       ]
      },
      {
       "output_type": "stream",
       "stream": "stdout",
       "text": [
        "\n",
        "from path : C:\\Users\\FG\\Desktop\\PhD\\Research\\Reservoirs\\datasets\\TIMIT-MFCCs\\test\\dr2\\fjas0\n",
        "working on: sx320.mfcc.csv\n",
        "from path : C:\\Users\\FG\\Desktop\\PhD\\Research\\Reservoirs\\datasets\\TIMIT-MFCCs\\test\\dr2\\fjas0\n",
        "working on: sx410.mfcc.csv"
       ]
      },
      {
       "output_type": "stream",
       "stream": "stdout",
       "text": [
        "\n",
        "from path : C:\\Users\\FG\\Desktop\\PhD\\Research\\Reservoirs\\datasets\\TIMIT-MFCCs\\test\\dr2\\fjas0\n",
        "working on: sx50.mfcc.csv"
       ]
      },
      {
       "output_type": "stream",
       "stream": "stdout",
       "text": [
        "\n",
        "from path : C:\\Users\\FG\\Desktop\\PhD\\Research\\Reservoirs\\datasets\\TIMIT-MFCCs\\test\\dr2\\fjas0\n",
        "working on: si1116.mfcc.csv"
       ]
      },
      {
       "output_type": "stream",
       "stream": "stdout",
       "text": [
        "\n",
        "from path : C:\\Users\\FG\\Desktop\\PhD\\Research\\Reservoirs\\datasets\\TIMIT-MFCCs\\test\\dr2\\fjre0\n",
        "working on: si1587.mfcc.csv\n",
        "from path : C:\\Users\\FG\\Desktop\\PhD\\Research\\Reservoirs\\datasets\\TIMIT-MFCCs\\test\\dr2\\fjre0\n",
        "working on: si1746.mfcc.csv"
       ]
      },
      {
       "output_type": "stream",
       "stream": "stdout",
       "text": [
        "\n",
        "from path : C:\\Users\\FG\\Desktop\\PhD\\Research\\Reservoirs\\datasets\\TIMIT-MFCCs\\test\\dr2\\fjre0\n",
        "working on: sx126.mfcc.csv\n",
        "from path : C:\\Users\\FG\\Desktop\\PhD\\Research\\Reservoirs\\datasets\\TIMIT-MFCCs\\test\\dr2\\fjre0\n",
        "working on: sx216.mfcc.csv"
       ]
      },
      {
       "output_type": "stream",
       "stream": "stdout",
       "text": [
        "\n",
        "from path : C:\\Users\\FG\\Desktop\\PhD\\Research\\Reservoirs\\datasets\\TIMIT-MFCCs\\test\\dr2\\fjre0\n",
        "working on: sx306.mfcc.csv\n",
        "from path : C:\\Users\\FG\\Desktop\\PhD\\Research\\Reservoirs\\datasets\\TIMIT-MFCCs\\test\\dr2\\fjre0\n",
        "working on: sx36.mfcc.csv"
       ]
      },
      {
       "output_type": "stream",
       "stream": "stdout",
       "text": [
        "\n",
        "from path : C:\\Users\\FG\\Desktop\\PhD\\Research\\Reservoirs\\datasets\\TIMIT-MFCCs\\test\\dr2\\fjre0\n",
        "working on: sx396.mfcc.csv"
       ]
      },
      {
       "output_type": "stream",
       "stream": "stdout",
       "text": [
        "\n",
        "from path : C:\\Users\\FG\\Desktop\\PhD\\Research\\Reservoirs\\datasets\\TIMIT-MFCCs\\test\\dr2\\fjre0\n",
        "working on: si1265.mfcc.csv"
       ]
      },
      {
       "output_type": "stream",
       "stream": "stdout",
       "text": [
        "\n",
        "from path : C:\\Users\\FG\\Desktop\\PhD\\Research\\Reservoirs\\datasets\\TIMIT-MFCCs\\test\\dr2\\fjwb0\n",
        "working on: si635.mfcc.csv\n",
        "from path : C:\\Users\\FG\\Desktop\\PhD\\Research\\Reservoirs\\datasets\\TIMIT-MFCCs\\test\\dr2\\fjwb0\n",
        "working on: si992.mfcc.csv"
       ]
      },
      {
       "output_type": "stream",
       "stream": "stdout",
       "text": [
        "\n",
        "from path : C:\\Users\\FG\\Desktop\\PhD\\Research\\Reservoirs\\datasets\\TIMIT-MFCCs\\test\\dr2\\fjwb0\n",
        "working on: sx185.mfcc.csv"
       ]
      },
      {
       "output_type": "stream",
       "stream": "stdout",
       "text": [
        "\n",
        "from path : C:\\Users\\FG\\Desktop\\PhD\\Research\\Reservoirs\\datasets\\TIMIT-MFCCs\\test\\dr2\\fjwb0\n",
        "working on: sx275.mfcc.csv\n",
        "from path : C:\\Users\\FG\\Desktop\\PhD\\Research\\Reservoirs\\datasets\\TIMIT-MFCCs\\test\\dr2\\fjwb0\n",
        "working on: sx365.mfcc.csv"
       ]
      },
      {
       "output_type": "stream",
       "stream": "stdout",
       "text": [
        "\n",
        "from path : C:\\Users\\FG\\Desktop\\PhD\\Research\\Reservoirs\\datasets\\TIMIT-MFCCs\\test\\dr2\\fjwb0\n",
        "working on: sx5.mfcc.csv"
       ]
      },
      {
       "output_type": "stream",
       "stream": "stdout",
       "text": [
        "\n",
        "from path : C:\\Users\\FG\\Desktop\\PhD\\Research\\Reservoirs\\datasets\\TIMIT-MFCCs\\test\\dr2\\fjwb0\n",
        "working on: sx95.mfcc.csv\n",
        "from path : C:\\Users\\FG\\Desktop\\PhD\\Research\\Reservoirs\\datasets\\TIMIT-MFCCs\\test\\dr2\\fjwb0\n",
        "working on: si1272.mfcc.csv"
       ]
      },
      {
       "output_type": "stream",
       "stream": "stdout",
       "text": [
        "\n",
        "from path : C:\\Users\\FG\\Desktop\\PhD\\Research\\Reservoirs\\datasets\\TIMIT-MFCCs\\test\\dr2\\fpas0\n",
        "working on: si2204.mfcc.csv\n",
        "from path : C:\\Users\\FG\\Desktop\\PhD\\Research\\Reservoirs\\datasets\\TIMIT-MFCCs\\test\\dr2\\fpas0\n",
        "working on: si944.mfcc.csv"
       ]
      },
      {
       "output_type": "stream",
       "stream": "stdout",
       "text": [
        "\n",
        "from path : C:\\Users\\FG\\Desktop\\PhD\\Research\\Reservoirs\\datasets\\TIMIT-MFCCs\\test\\dr2\\fpas0\n",
        "working on: sx134.mfcc.csv"
       ]
      },
      {
       "output_type": "stream",
       "stream": "stdout",
       "text": [
        "\n",
        "from path : C:\\Users\\FG\\Desktop\\PhD\\Research\\Reservoirs\\datasets\\TIMIT-MFCCs\\test\\dr2\\fpas0\n",
        "working on: sx224.mfcc.csv\n",
        "from path : C:\\Users\\FG\\Desktop\\PhD\\Research\\Reservoirs\\datasets\\TIMIT-MFCCs\\test\\dr2\\fpas0\n",
        "working on: sx314.mfcc.csv"
       ]
      },
      {
       "output_type": "stream",
       "stream": "stdout",
       "text": [
        "\n",
        "from path : C:\\Users\\FG\\Desktop\\PhD\\Research\\Reservoirs\\datasets\\TIMIT-MFCCs\\test\\dr2\\fpas0\n",
        "working on: sx404.mfcc.csv"
       ]
      },
      {
       "output_type": "stream",
       "stream": "stdout",
       "text": [
        "\n",
        "from path : C:\\Users\\FG\\Desktop\\PhD\\Research\\Reservoirs\\datasets\\TIMIT-MFCCs\\test\\dr2\\fpas0\n",
        "working on: sx44.mfcc.csv\n",
        "from path : C:\\Users\\FG\\Desktop\\PhD\\Research\\Reservoirs\\datasets\\TIMIT-MFCCs\\test\\dr2\\fpas0\n",
        "working on: si1360.mfcc.csv"
       ]
      },
      {
       "output_type": "stream",
       "stream": "stdout",
       "text": [
        "\n",
        "from path : C:\\Users\\FG\\Desktop\\PhD\\Research\\Reservoirs\\datasets\\TIMIT-MFCCs\\test\\dr2\\fram1\n",
        "working on: si522.mfcc.csv"
       ]
      },
      {
       "output_type": "stream",
       "stream": "stdout",
       "text": [
        "\n",
        "from path : C:\\Users\\FG\\Desktop\\PhD\\Research\\Reservoirs\\datasets\\TIMIT-MFCCs\\test\\dr2\\fram1\n",
        "working on: si730.mfcc.csv"
       ]
      },
      {
       "output_type": "stream",
       "stream": "stdout",
       "text": [
        "\n",
        "from path : C:\\Users\\FG\\Desktop\\PhD\\Research\\Reservoirs\\datasets\\TIMIT-MFCCs\\test\\dr2\\fram1\n",
        "working on: sx10.mfcc.csv"
       ]
      },
      {
       "output_type": "stream",
       "stream": "stdout",
       "text": [
        "\n",
        "from path : C:\\Users\\FG\\Desktop\\PhD\\Research\\Reservoirs\\datasets\\TIMIT-MFCCs\\test\\dr2\\fram1\n",
        "working on: sx100.mfcc.csv"
       ]
      },
      {
       "output_type": "stream",
       "stream": "stdout",
       "text": [
        "\n",
        "from path : C:\\Users\\FG\\Desktop\\PhD\\Research\\Reservoirs\\datasets\\TIMIT-MFCCs\\test\\dr2\\fram1\n",
        "working on: sx190.mfcc.csv"
       ]
      },
      {
       "output_type": "stream",
       "stream": "stdout",
       "text": [
        "\n",
        "from path : C:\\Users\\FG\\Desktop\\PhD\\Research\\Reservoirs\\datasets\\TIMIT-MFCCs\\test\\dr2\\fram1\n",
        "working on: sx280.mfcc.csv"
       ]
      },
      {
       "output_type": "stream",
       "stream": "stdout",
       "text": [
        "\n",
        "from path : C:\\Users\\FG\\Desktop\\PhD\\Research\\Reservoirs\\datasets\\TIMIT-MFCCs\\test\\dr2\\fram1\n",
        "working on: sx370.mfcc.csv\n",
        "from path : C:\\Users\\FG\\Desktop\\PhD\\Research\\Reservoirs\\datasets\\TIMIT-MFCCs\\test\\dr2\\fram1\n",
        "working on: si1904.mfcc.csv"
       ]
      },
      {
       "output_type": "stream",
       "stream": "stdout",
       "text": [
        "\n",
        "from path : C:\\Users\\FG\\Desktop\\PhD\\Research\\Reservoirs\\datasets\\TIMIT-MFCCs\\test\\dr2\\fslb1\n",
        "working on: si644.mfcc.csv"
       ]
      },
      {
       "output_type": "stream",
       "stream": "stdout",
       "text": [
        "\n",
        "from path : C:\\Users\\FG\\Desktop\\PhD\\Research\\Reservoirs\\datasets\\TIMIT-MFCCs\\test\\dr2\\fslb1\n",
        "working on: si891.mfcc.csv\n",
        "from path : C:\\Users\\FG\\Desktop\\PhD\\Research\\Reservoirs\\datasets\\TIMIT-MFCCs\\test\\dr2\\fslb1\n",
        "working on: sx104.mfcc.csv"
       ]
      },
      {
       "output_type": "stream",
       "stream": "stdout",
       "text": [
        "\n",
        "from path : C:\\Users\\FG\\Desktop\\PhD\\Research\\Reservoirs\\datasets\\TIMIT-MFCCs\\test\\dr2\\fslb1\n",
        "working on: sx14.mfcc.csv\n",
        "from path : C:\\Users\\FG\\Desktop\\PhD\\Research\\Reservoirs\\datasets\\TIMIT-MFCCs\\test\\dr2\\fslb1\n",
        "working on: sx194.mfcc.csv"
       ]
      },
      {
       "output_type": "stream",
       "stream": "stdout",
       "text": [
        "\n",
        "from path : C:\\Users\\FG\\Desktop\\PhD\\Research\\Reservoirs\\datasets\\TIMIT-MFCCs\\test\\dr2\\fslb1\n",
        "working on: sx284.mfcc.csv\n",
        "from path : C:\\Users\\FG\\Desktop\\PhD\\Research\\Reservoirs\\datasets\\TIMIT-MFCCs\\test\\dr2\\fslb1\n",
        "working on: sx374.mfcc.csv"
       ]
      },
      {
       "output_type": "stream",
       "stream": "stdout",
       "text": [
        "\n",
        "from path : C:\\Users\\FG\\Desktop\\PhD\\Research\\Reservoirs\\datasets\\TIMIT-MFCCs\\test\\dr2\\fslb1\n",
        "working on: si1230.mfcc.csv\n",
        "from path : C:\\Users\\FG\\Desktop\\PhD\\Research\\Reservoirs\\datasets\\TIMIT-MFCCs\\test\\dr2\\mabw0\n",
        "working on: si1664.mfcc.csv"
       ]
      },
      {
       "output_type": "stream",
       "stream": "stdout",
       "text": [
        "\n",
        "from path : C:\\Users\\FG\\Desktop\\PhD\\Research\\Reservoirs\\datasets\\TIMIT-MFCCs\\test\\dr2\\mabw0\n",
        "working on: si2294.mfcc.csv"
       ]
      },
      {
       "output_type": "stream",
       "stream": "stdout",
       "text": [
        "\n",
        "from path : C:\\Users\\FG\\Desktop\\PhD\\Research\\Reservoirs\\datasets\\TIMIT-MFCCs\\test\\dr2\\mabw0\n",
        "working on: sx134.mfcc.csv\n",
        "from path : C:\\Users\\FG\\Desktop\\PhD\\Research\\Reservoirs\\datasets\\TIMIT-MFCCs\\test\\dr2\\mabw0\n",
        "working on: sx224.mfcc.csv"
       ]
      },
      {
       "output_type": "stream",
       "stream": "stdout",
       "text": [
        "\n",
        "from path : C:\\Users\\FG\\Desktop\\PhD\\Research\\Reservoirs\\datasets\\TIMIT-MFCCs\\test\\dr2\\mabw0\n",
        "working on: sx314.mfcc.csv\n",
        "from path : C:\\Users\\FG\\Desktop\\PhD\\Research\\Reservoirs\\datasets\\TIMIT-MFCCs\\test\\dr2\\mabw0\n",
        "working on: sx404.mfcc.csv"
       ]
      },
      {
       "output_type": "stream",
       "stream": "stdout",
       "text": [
        "\n",
        "from path : C:\\Users\\FG\\Desktop\\PhD\\Research\\Reservoirs\\datasets\\TIMIT-MFCCs\\test\\dr2\\mabw0\n",
        "working on: sx44.mfcc.csv\n",
        "from path : C:\\Users\\FG\\Desktop\\PhD\\Research\\Reservoirs\\datasets\\TIMIT-MFCCs\\test\\dr2\\mabw0\n",
        "working on: si1175.mfcc.csv"
       ]
      },
      {
       "output_type": "stream",
       "stream": "stdout",
       "text": [
        "\n",
        "from path : C:\\Users\\FG\\Desktop\\PhD\\Research\\Reservoirs\\datasets\\TIMIT-MFCCs\\test\\dr2\\mbjk0\n",
        "working on: si2128.mfcc.csv"
       ]
      },
      {
       "output_type": "stream",
       "stream": "stdout",
       "text": [
        "\n",
        "from path : C:\\Users\\FG\\Desktop\\PhD\\Research\\Reservoirs\\datasets\\TIMIT-MFCCs\\test\\dr2\\mbjk0\n",
        "working on: si545.mfcc.csv"
       ]
      },
      {
       "output_type": "stream",
       "stream": "stdout",
       "text": [
        "\n",
        "from path : C:\\Users\\FG\\Desktop\\PhD\\Research\\Reservoirs\\datasets\\TIMIT-MFCCs\\test\\dr2\\mbjk0\n",
        "working on: sx185.mfcc.csv\n",
        "from path : C:\\Users\\FG\\Desktop\\PhD\\Research\\Reservoirs\\datasets\\TIMIT-MFCCs\\test\\dr2\\mbjk0\n",
        "working on: sx275.mfcc.csv"
       ]
      },
      {
       "output_type": "stream",
       "stream": "stdout",
       "text": [
        "\n",
        "from path : C:\\Users\\FG\\Desktop\\PhD\\Research\\Reservoirs\\datasets\\TIMIT-MFCCs\\test\\dr2\\mbjk0\n",
        "working on: sx365.mfcc.csv"
       ]
      },
      {
       "output_type": "stream",
       "stream": "stdout",
       "text": [
        "\n",
        "from path : C:\\Users\\FG\\Desktop\\PhD\\Research\\Reservoirs\\datasets\\TIMIT-MFCCs\\test\\dr2\\mbjk0\n",
        "working on: sx5.mfcc.csv"
       ]
      },
      {
       "output_type": "stream",
       "stream": "stdout",
       "text": [
        "\n",
        "from path : C:\\Users\\FG\\Desktop\\PhD\\Research\\Reservoirs\\datasets\\TIMIT-MFCCs\\test\\dr2\\mbjk0\n",
        "working on: sx95.mfcc.csv\n",
        "from path : C:\\Users\\FG\\Desktop\\PhD\\Research\\Reservoirs\\datasets\\TIMIT-MFCCs\\test\\dr2\\mbjk0\n",
        "working on: si1469.mfcc.csv"
       ]
      },
      {
       "output_type": "stream",
       "stream": "stdout",
       "text": [
        "\n",
        "from path : C:\\Users\\FG\\Desktop\\PhD\\Research\\Reservoirs\\datasets\\TIMIT-MFCCs\\test\\dr2\\mccs0\n",
        "working on: si2099.mfcc.csv"
       ]
      },
      {
       "output_type": "stream",
       "stream": "stdout",
       "text": [
        "\n",
        "from path : C:\\Users\\FG\\Desktop\\PhD\\Research\\Reservoirs\\datasets\\TIMIT-MFCCs\\test\\dr2\\mccs0\n",
        "working on: si839.mfcc.csv\n",
        "from path : C:\\Users\\FG\\Desktop\\PhD\\Research\\Reservoirs\\datasets\\TIMIT-MFCCs\\test\\dr2\\mccs0\n",
        "working on: sx119.mfcc.csv"
       ]
      },
      {
       "output_type": "stream",
       "stream": "stdout",
       "text": [
        "\n",
        "from path : C:\\Users\\FG\\Desktop\\PhD\\Research\\Reservoirs\\datasets\\TIMIT-MFCCs\\test\\dr2\\mccs0\n",
        "working on: sx209.mfcc.csv\n",
        "from path : C:\\Users\\FG\\Desktop\\PhD\\Research\\Reservoirs\\datasets\\TIMIT-MFCCs\\test\\dr2\\mccs0\n",
        "working on: sx29.mfcc.csv"
       ]
      },
      {
       "output_type": "stream",
       "stream": "stdout",
       "text": [
        "\n",
        "from path : C:\\Users\\FG\\Desktop\\PhD\\Research\\Reservoirs\\datasets\\TIMIT-MFCCs\\test\\dr2\\mccs0\n",
        "working on: sx299.mfcc.csv"
       ]
      },
      {
       "output_type": "stream",
       "stream": "stdout",
       "text": [
        "\n",
        "from path : C:\\Users\\FG\\Desktop\\PhD\\Research\\Reservoirs\\datasets\\TIMIT-MFCCs\\test\\dr2\\mccs0\n",
        "working on: sx389.mfcc.csv\n",
        "from path : C:\\Users\\FG\\Desktop\\PhD\\Research\\Reservoirs\\datasets\\TIMIT-MFCCs\\test\\dr2\\mccs0\n",
        "working on: si1398.mfcc.csv"
       ]
      },
      {
       "output_type": "stream",
       "stream": "stdout",
       "text": [
        "\n",
        "from path : C:\\Users\\FG\\Desktop\\PhD\\Research\\Reservoirs\\datasets\\TIMIT-MFCCs\\test\\dr2\\mcem0\n",
        "working on: si2028.mfcc.csv"
       ]
      },
      {
       "output_type": "stream",
       "stream": "stdout",
       "text": [
        "\n",
        "from path : C:\\Users\\FG\\Desktop\\PhD\\Research\\Reservoirs\\datasets\\TIMIT-MFCCs\\test\\dr2\\mcem0\n",
        "working on: si768.mfcc.csv"
       ]
      },
      {
       "output_type": "stream",
       "stream": "stdout",
       "text": [
        "\n",
        "from path : C:\\Users\\FG\\Desktop\\PhD\\Research\\Reservoirs\\datasets\\TIMIT-MFCCs\\test\\dr2\\mcem0\n",
        "working on: sx138.mfcc.csv"
       ]
      },
      {
       "output_type": "stream",
       "stream": "stdout",
       "text": [
        "\n",
        "from path : C:\\Users\\FG\\Desktop\\PhD\\Research\\Reservoirs\\datasets\\TIMIT-MFCCs\\test\\dr2\\mcem0\n",
        "working on: sx228.mfcc.csv"
       ]
      },
      {
       "output_type": "stream",
       "stream": "stdout",
       "text": [
        "\n",
        "from path : C:\\Users\\FG\\Desktop\\PhD\\Research\\Reservoirs\\datasets\\TIMIT-MFCCs\\test\\dr2\\mcem0\n",
        "working on: sx318.mfcc.csv"
       ]
      },
      {
       "output_type": "stream",
       "stream": "stdout",
       "text": [
        "\n",
        "from path : C:\\Users\\FG\\Desktop\\PhD\\Research\\Reservoirs\\datasets\\TIMIT-MFCCs\\test\\dr2\\mcem0\n",
        "working on: sx408.mfcc.csv"
       ]
      },
      {
       "output_type": "stream",
       "stream": "stdout",
       "text": [
        "\n",
        "from path : C:\\Users\\FG\\Desktop\\PhD\\Research\\Reservoirs\\datasets\\TIMIT-MFCCs\\test\\dr2\\mcem0\n",
        "working on: sx48.mfcc.csv"
       ]
      },
      {
       "output_type": "stream",
       "stream": "stdout",
       "text": [
        "\n",
        "from path : C:\\Users\\FG\\Desktop\\PhD\\Research\\Reservoirs\\datasets\\TIMIT-MFCCs\\test\\dr2\\mcem0\n",
        "working on: si1195.mfcc.csv"
       ]
      },
      {
       "output_type": "stream",
       "stream": "stdout",
       "text": [
        "\n",
        "from path : C:\\Users\\FG\\Desktop\\PhD\\Research\\Reservoirs\\datasets\\TIMIT-MFCCs\\test\\dr2\\mdbb0\n",
        "working on: si1825.mfcc.csv\n",
        "from path : C:\\Users\\FG\\Desktop\\PhD\\Research\\Reservoirs\\datasets\\TIMIT-MFCCs\\test\\dr2\\mdbb0\n",
        "working on: si565.mfcc.csv"
       ]
      },
      {
       "output_type": "stream",
       "stream": "stdout",
       "text": [
        "\n",
        "from path : C:\\Users\\FG\\Desktop\\PhD\\Research\\Reservoirs\\datasets\\TIMIT-MFCCs\\test\\dr2\\mdbb0\n",
        "working on: sx115.mfcc.csv"
       ]
      },
      {
       "output_type": "stream",
       "stream": "stdout",
       "text": [
        "\n",
        "from path : C:\\Users\\FG\\Desktop\\PhD\\Research\\Reservoirs\\datasets\\TIMIT-MFCCs\\test\\dr2\\mdbb0\n",
        "working on: sx205.mfcc.csv"
       ]
      },
      {
       "output_type": "stream",
       "stream": "stdout",
       "text": [
        "\n",
        "from path : C:\\Users\\FG\\Desktop\\PhD\\Research\\Reservoirs\\datasets\\TIMIT-MFCCs\\test\\dr2\\mdbb0\n",
        "working on: sx25.mfcc.csv"
       ]
      },
      {
       "output_type": "stream",
       "stream": "stdout",
       "text": [
        "\n",
        "from path : C:\\Users\\FG\\Desktop\\PhD\\Research\\Reservoirs\\datasets\\TIMIT-MFCCs\\test\\dr2\\mdbb0\n",
        "working on: sx295.mfcc.csv\n",
        "from path : C:\\Users\\FG\\Desktop\\PhD\\Research\\Reservoirs\\datasets\\TIMIT-MFCCs\\test\\dr2\\mdbb0\n",
        "working on: sx385.mfcc.csv"
       ]
      },
      {
       "output_type": "stream",
       "stream": "stdout",
       "text": [
        "\n",
        "from path : C:\\Users\\FG\\Desktop\\PhD\\Research\\Reservoirs\\datasets\\TIMIT-MFCCs\\test\\dr2\\mdbb0\n",
        "working on: si1543.mfcc.csv\n",
        "from path : C:\\Users\\FG\\Desktop\\PhD\\Research\\Reservoirs\\datasets\\TIMIT-MFCCs\\test\\dr2\\mdld0\n",
        "working on: si2173.mfcc.csv"
       ]
      },
      {
       "output_type": "stream",
       "stream": "stdout",
       "text": [
        "\n",
        "from path : C:\\Users\\FG\\Desktop\\PhD\\Research\\Reservoirs\\datasets\\TIMIT-MFCCs\\test\\dr2\\mdld0\n",
        "working on: si913.mfcc.csv"
       ]
      },
      {
       "output_type": "stream",
       "stream": "stdout",
       "text": [
        "\n",
        "from path : C:\\Users\\FG\\Desktop\\PhD\\Research\\Reservoirs\\datasets\\TIMIT-MFCCs\\test\\dr2\\mdld0\n",
        "working on: sx103.mfcc.csv"
       ]
      },
      {
       "output_type": "stream",
       "stream": "stdout",
       "text": [
        "\n",
        "from path : C:\\Users\\FG\\Desktop\\PhD\\Research\\Reservoirs\\datasets\\TIMIT-MFCCs\\test\\dr2\\mdld0\n",
        "working on: sx13.mfcc.csv"
       ]
      },
      {
       "output_type": "stream",
       "stream": "stdout",
       "text": [
        "\n",
        "from path : C:\\Users\\FG\\Desktop\\PhD\\Research\\Reservoirs\\datasets\\TIMIT-MFCCs\\test\\dr2\\mdld0\n",
        "working on: sx193.mfcc.csv\n",
        "from path : C:\\Users\\FG\\Desktop\\PhD\\Research\\Reservoirs\\datasets\\TIMIT-MFCCs\\test\\dr2\\mdld0\n",
        "working on: sx283.mfcc.csv"
       ]
      },
      {
       "output_type": "stream",
       "stream": "stdout",
       "text": [
        "\n",
        "from path : C:\\Users\\FG\\Desktop\\PhD\\Research\\Reservoirs\\datasets\\TIMIT-MFCCs\\test\\dr2\\mdld0\n",
        "working on: sx373.mfcc.csv\n",
        "from path : C:\\Users\\FG\\Desktop\\PhD\\Research\\Reservoirs\\datasets\\TIMIT-MFCCs\\test\\dr2\\mdld0\n",
        "working on: si1539.mfcc.csv"
       ]
      },
      {
       "output_type": "stream",
       "stream": "stdout",
       "text": [
        "\n",
        "from path : C:\\Users\\FG\\Desktop\\PhD\\Research\\Reservoirs\\datasets\\TIMIT-MFCCs\\test\\dr2\\mgwt0\n",
        "working on: si2169.mfcc.csv"
       ]
      },
      {
       "output_type": "stream",
       "stream": "stdout",
       "text": [
        "\n",
        "from path : C:\\Users\\FG\\Desktop\\PhD\\Research\\Reservoirs\\datasets\\TIMIT-MFCCs\\test\\dr2\\mgwt0\n",
        "working on: si909.mfcc.csv"
       ]
      },
      {
       "output_type": "stream",
       "stream": "stdout",
       "text": [
        "\n",
        "from path : C:\\Users\\FG\\Desktop\\PhD\\Research\\Reservoirs\\datasets\\TIMIT-MFCCs\\test\\dr2\\mgwt0\n",
        "working on: sx189.mfcc.csv"
       ]
      },
      {
       "output_type": "stream",
       "stream": "stdout",
       "text": [
        "\n",
        "from path : C:\\Users\\FG\\Desktop\\PhD\\Research\\Reservoirs\\datasets\\TIMIT-MFCCs\\test\\dr2\\mgwt0\n",
        "working on: sx279.mfcc.csv"
       ]
      },
      {
       "output_type": "stream",
       "stream": "stdout",
       "text": [
        "\n",
        "from path : C:\\Users\\FG\\Desktop\\PhD\\Research\\Reservoirs\\datasets\\TIMIT-MFCCs\\test\\dr2\\mgwt0\n",
        "working on: sx369.mfcc.csv"
       ]
      },
      {
       "output_type": "stream",
       "stream": "stdout",
       "text": [
        "\n",
        "from path : C:\\Users\\FG\\Desktop\\PhD\\Research\\Reservoirs\\datasets\\TIMIT-MFCCs\\test\\dr2\\mgwt0\n",
        "working on: sx9.mfcc.csv"
       ]
      },
      {
       "output_type": "stream",
       "stream": "stdout",
       "text": [
        "\n",
        "from path : C:\\Users\\FG\\Desktop\\PhD\\Research\\Reservoirs\\datasets\\TIMIT-MFCCs\\test\\dr2\\mgwt0\n",
        "working on: sx99.mfcc.csv"
       ]
      },
      {
       "output_type": "stream",
       "stream": "stdout",
       "text": [
        "\n",
        "from path : C:\\Users\\FG\\Desktop\\PhD\\Research\\Reservoirs\\datasets\\TIMIT-MFCCs\\test\\dr2\\mgwt0\n",
        "working on: si1988.mfcc.csv"
       ]
      },
      {
       "output_type": "stream",
       "stream": "stdout",
       "text": [
        "\n",
        "from path : C:\\Users\\FG\\Desktop\\PhD\\Research\\Reservoirs\\datasets\\TIMIT-MFCCs\\test\\dr2\\mjar0\n",
        "working on: si2247.mfcc.csv\n",
        "from path : C:\\Users\\FG\\Desktop\\PhD\\Research\\Reservoirs\\datasets\\TIMIT-MFCCs\\test\\dr2\\mjar0\n",
        "working on: si728.mfcc.csv"
       ]
      },
      {
       "output_type": "stream",
       "stream": "stdout",
       "text": [
        "\n",
        "from path : C:\\Users\\FG\\Desktop\\PhD\\Research\\Reservoirs\\datasets\\TIMIT-MFCCs\\test\\dr2\\mjar0\n",
        "working on: sx188.mfcc.csv"
       ]
      },
      {
       "output_type": "stream",
       "stream": "stdout",
       "text": [
        "\n",
        "from path : C:\\Users\\FG\\Desktop\\PhD\\Research\\Reservoirs\\datasets\\TIMIT-MFCCs\\test\\dr2\\mjar0\n",
        "working on: sx278.mfcc.csv\n",
        "from path : C:\\Users\\FG\\Desktop\\PhD\\Research\\Reservoirs\\datasets\\TIMIT-MFCCs\\test\\dr2\\mjar0\n",
        "working on: sx368.mfcc.csv"
       ]
      },
      {
       "output_type": "stream",
       "stream": "stdout",
       "text": [
        "\n",
        "from path : C:\\Users\\FG\\Desktop\\PhD\\Research\\Reservoirs\\datasets\\TIMIT-MFCCs\\test\\dr2\\mjar0\n",
        "working on: sx8.mfcc.csv"
       ]
      },
      {
       "output_type": "stream",
       "stream": "stdout",
       "text": [
        "\n",
        "from path : C:\\Users\\FG\\Desktop\\PhD\\Research\\Reservoirs\\datasets\\TIMIT-MFCCs\\test\\dr2\\mjar0\n",
        "working on: sx98.mfcc.csv\n",
        "from path : C:\\Users\\FG\\Desktop\\PhD\\Research\\Reservoirs\\datasets\\TIMIT-MFCCs\\test\\dr2\\mjar0\n",
        "working on: si1625.mfcc.csv"
       ]
      },
      {
       "output_type": "stream",
       "stream": "stdout",
       "text": [
        "\n",
        "from path : C:\\Users\\FG\\Desktop\\PhD\\Research\\Reservoirs\\datasets\\TIMIT-MFCCs\\test\\dr2\\mmdb1\n",
        "working on: si2255.mfcc.csv\n",
        "from path : C:\\Users\\FG\\Desktop\\PhD\\Research\\Reservoirs\\datasets\\TIMIT-MFCCs\\test\\dr2\\mmdb1\n",
        "working on: si995.mfcc.csv"
       ]
      },
      {
       "output_type": "stream",
       "stream": "stdout",
       "text": [
        "\n",
        "from path : C:\\Users\\FG\\Desktop\\PhD\\Research\\Reservoirs\\datasets\\TIMIT-MFCCs\\test\\dr2\\mmdb1\n",
        "working on: sx185.mfcc.csv"
       ]
      },
      {
       "output_type": "stream",
       "stream": "stdout",
       "text": [
        "\n",
        "from path : C:\\Users\\FG\\Desktop\\PhD\\Research\\Reservoirs\\datasets\\TIMIT-MFCCs\\test\\dr2\\mmdb1\n",
        "working on: sx275.mfcc.csv\n",
        "from path : C:\\Users\\FG\\Desktop\\PhD\\Research\\Reservoirs\\datasets\\TIMIT-MFCCs\\test\\dr2\\mmdb1\n",
        "working on: sx365.mfcc.csv"
       ]
      },
      {
       "output_type": "stream",
       "stream": "stdout",
       "text": [
        "\n",
        "from path : C:\\Users\\FG\\Desktop\\PhD\\Research\\Reservoirs\\datasets\\TIMIT-MFCCs\\test\\dr2\\mmdb1\n",
        "working on: sx5.mfcc.csv"
       ]
      },
      {
       "output_type": "stream",
       "stream": "stdout",
       "text": [
        "\n",
        "from path : C:\\Users\\FG\\Desktop\\PhD\\Research\\Reservoirs\\datasets\\TIMIT-MFCCs\\test\\dr2\\mmdb1\n",
        "working on: sx95.mfcc.csv\n",
        "from path : C:\\Users\\FG\\Desktop\\PhD\\Research\\Reservoirs\\datasets\\TIMIT-MFCCs\\test\\dr2\\mmdb1\n",
        "working on: si1452.mfcc.csv"
       ]
      },
      {
       "output_type": "stream",
       "stream": "stdout",
       "text": [
        "\n",
        "from path : C:\\Users\\FG\\Desktop\\PhD\\Research\\Reservoirs\\datasets\\TIMIT-MFCCs\\test\\dr2\\mmdm2\n",
        "working on: si1555.mfcc.csv"
       ]
      },
      {
       "output_type": "stream",
       "stream": "stdout",
       "text": [
        "\n",
        "from path : C:\\Users\\FG\\Desktop\\PhD\\Research\\Reservoirs\\datasets\\TIMIT-MFCCs\\test\\dr2\\mmdm2\n",
        "working on: si2082.mfcc.csv\n",
        "from path : C:\\Users\\FG\\Desktop\\PhD\\Research\\Reservoirs\\datasets\\TIMIT-MFCCs\\test\\dr2\\mmdm2\n",
        "working on: sx102.mfcc.csv"
       ]
      },
      {
       "output_type": "stream",
       "stream": "stdout",
       "text": [
        "\n",
        "from path : C:\\Users\\FG\\Desktop\\PhD\\Research\\Reservoirs\\datasets\\TIMIT-MFCCs\\test\\dr2\\mmdm2\n",
        "working on: sx12.mfcc.csv\n",
        "from path : C:\\Users\\FG\\Desktop\\PhD\\Research\\Reservoirs\\datasets\\TIMIT-MFCCs\\test\\dr2\\mmdm2\n",
        "working on: sx192.mfcc.csv"
       ]
      },
      {
       "output_type": "stream",
       "stream": "stdout",
       "text": [
        "\n",
        "from path : C:\\Users\\FG\\Desktop\\PhD\\Research\\Reservoirs\\datasets\\TIMIT-MFCCs\\test\\dr2\\mmdm2\n",
        "working on: sx282.mfcc.csv"
       ]
      },
      {
       "output_type": "stream",
       "stream": "stdout",
       "text": [
        "\n",
        "from path : C:\\Users\\FG\\Desktop\\PhD\\Research\\Reservoirs\\datasets\\TIMIT-MFCCs\\test\\dr2\\mmdm2\n",
        "working on: sx372.mfcc.csv\n",
        "from path : C:\\Users\\FG\\Desktop\\PhD\\Research\\Reservoirs\\datasets\\TIMIT-MFCCs\\test\\dr2\\mmdm2\n",
        "working on: si1542.mfcc.csv"
       ]
      },
      {
       "output_type": "stream",
       "stream": "stdout",
       "text": [
        "\n",
        "from path : C:\\Users\\FG\\Desktop\\PhD\\Research\\Reservoirs\\datasets\\TIMIT-MFCCs\\test\\dr2\\mpdf0\n",
        "working on: si2172.mfcc.csv"
       ]
      },
      {
       "output_type": "stream",
       "stream": "stdout",
       "text": [
        "\n",
        "from path : C:\\Users\\FG\\Desktop\\PhD\\Research\\Reservoirs\\datasets\\TIMIT-MFCCs\\test\\dr2\\mpdf0\n",
        "working on: si912.mfcc.csv"
       ]
      },
      {
       "output_type": "stream",
       "stream": "stdout",
       "text": [
        "\n",
        "from path : C:\\Users\\FG\\Desktop\\PhD\\Research\\Reservoirs\\datasets\\TIMIT-MFCCs\\test\\dr2\\mpdf0\n",
        "working on: sx102.mfcc.csv"
       ]
      },
      {
       "output_type": "stream",
       "stream": "stdout",
       "text": [
        "\n",
        "from path : C:\\Users\\FG\\Desktop\\PhD\\Research\\Reservoirs\\datasets\\TIMIT-MFCCs\\test\\dr2\\mpdf0\n",
        "working on: sx12.mfcc.csv"
       ]
      },
      {
       "output_type": "stream",
       "stream": "stdout",
       "text": [
        "\n",
        "from path : C:\\Users\\FG\\Desktop\\PhD\\Research\\Reservoirs\\datasets\\TIMIT-MFCCs\\test\\dr2\\mpdf0\n",
        "working on: sx192.mfcc.csv"
       ]
      },
      {
       "output_type": "stream",
       "stream": "stdout",
       "text": [
        "\n",
        "from path : C:\\Users\\FG\\Desktop\\PhD\\Research\\Reservoirs\\datasets\\TIMIT-MFCCs\\test\\dr2\\mpdf0\n",
        "working on: sx282.mfcc.csv"
       ]
      },
      {
       "output_type": "stream",
       "stream": "stdout",
       "text": [
        "\n",
        "from path : C:\\Users\\FG\\Desktop\\PhD\\Research\\Reservoirs\\datasets\\TIMIT-MFCCs\\test\\dr2\\mpdf0\n",
        "working on: sx372.mfcc.csv"
       ]
      },
      {
       "output_type": "stream",
       "stream": "stdout",
       "text": [
        "\n",
        "from path : C:\\Users\\FG\\Desktop\\PhD\\Research\\Reservoirs\\datasets\\TIMIT-MFCCs\\test\\dr2\\mpdf0\n",
        "working on: si1099.mfcc.csv\n",
        "from path : C:\\Users\\FG\\Desktop\\PhD\\Research\\Reservoirs\\datasets\\TIMIT-MFCCs\\test\\dr2\\mpgl0\n",
        "working on: si1729.mfcc.csv"
       ]
      },
      {
       "output_type": "stream",
       "stream": "stdout",
       "text": [
        "\n",
        "from path : C:\\Users\\FG\\Desktop\\PhD\\Research\\Reservoirs\\datasets\\TIMIT-MFCCs\\test\\dr2\\mpgl0\n",
        "working on: si469.mfcc.csv"
       ]
      },
      {
       "output_type": "stream",
       "stream": "stdout",
       "text": [
        "\n",
        "from path : C:\\Users\\FG\\Desktop\\PhD\\Research\\Reservoirs\\datasets\\TIMIT-MFCCs\\test\\dr2\\mpgl0\n",
        "working on: sx109.mfcc.csv"
       ]
      },
      {
       "output_type": "stream",
       "stream": "stdout",
       "text": [
        "\n",
        "from path : C:\\Users\\FG\\Desktop\\PhD\\Research\\Reservoirs\\datasets\\TIMIT-MFCCs\\test\\dr2\\mpgl0\n",
        "working on: sx19.mfcc.csv"
       ]
      },
      {
       "output_type": "stream",
       "stream": "stdout",
       "text": [
        "\n",
        "from path : C:\\Users\\FG\\Desktop\\PhD\\Research\\Reservoirs\\datasets\\TIMIT-MFCCs\\test\\dr2\\mpgl0\n",
        "working on: sx199.mfcc.csv"
       ]
      },
      {
       "output_type": "stream",
       "stream": "stdout",
       "text": [
        "\n",
        "from path : C:\\Users\\FG\\Desktop\\PhD\\Research\\Reservoirs\\datasets\\TIMIT-MFCCs\\test\\dr2\\mpgl0\n",
        "working on: sx289.mfcc.csv"
       ]
      },
      {
       "output_type": "stream",
       "stream": "stdout",
       "text": [
        "\n",
        "from path : C:\\Users\\FG\\Desktop\\PhD\\Research\\Reservoirs\\datasets\\TIMIT-MFCCs\\test\\dr2\\mpgl0\n",
        "working on: sx379.mfcc.csv\n",
        "from path : C:\\Users\\FG\\Desktop\\PhD\\Research\\Reservoirs\\datasets\\TIMIT-MFCCs\\test\\dr2\\mpgl0\n",
        "working on: si1541.mfcc.csv"
       ]
      },
      {
       "output_type": "stream",
       "stream": "stdout",
       "text": [
        "\n",
        "from path : C:\\Users\\FG\\Desktop\\PhD\\Research\\Reservoirs\\datasets\\TIMIT-MFCCs\\test\\dr2\\mrcz0\n",
        "working on: si2171.mfcc.csv"
       ]
      },
      {
       "output_type": "stream",
       "stream": "stdout",
       "text": [
        "\n",
        "from path : C:\\Users\\FG\\Desktop\\PhD\\Research\\Reservoirs\\datasets\\TIMIT-MFCCs\\test\\dr2\\mrcz0\n",
        "working on: si911.mfcc.csv\n",
        "from path : C:\\Users\\FG\\Desktop\\PhD\\Research\\Reservoirs\\datasets\\TIMIT-MFCCs\\test\\dr2\\mrcz0\n",
        "working on: sx101.mfcc.csv"
       ]
      },
      {
       "output_type": "stream",
       "stream": "stdout",
       "text": [
        "\n",
        "from path : C:\\Users\\FG\\Desktop\\PhD\\Research\\Reservoirs\\datasets\\TIMIT-MFCCs\\test\\dr2\\mrcz0\n",
        "working on: sx11.mfcc.csv"
       ]
      },
      {
       "output_type": "stream",
       "stream": "stdout",
       "text": [
        "\n",
        "from path : C:\\Users\\FG\\Desktop\\PhD\\Research\\Reservoirs\\datasets\\TIMIT-MFCCs\\test\\dr2\\mrcz0\n",
        "working on: sx191.mfcc.csv\n",
        "from path : C:\\Users\\FG\\Desktop\\PhD\\Research\\Reservoirs\\datasets\\TIMIT-MFCCs\\test\\dr2\\mrcz0\n",
        "working on: sx281.mfcc.csv"
       ]
      },
      {
       "output_type": "stream",
       "stream": "stdout",
       "text": [
        "\n",
        "from path : C:\\Users\\FG\\Desktop\\PhD\\Research\\Reservoirs\\datasets\\TIMIT-MFCCs\\test\\dr2\\mrcz0\n",
        "working on: sx371.mfcc.csv"
       ]
      },
      {
       "output_type": "stream",
       "stream": "stdout",
       "text": [
        "\n",
        "from path : C:\\Users\\FG\\Desktop\\PhD\\Research\\Reservoirs\\datasets\\TIMIT-MFCCs\\test\\dr2\\mrcz0\n",
        "working on: si1199.mfcc.csv\n",
        "from path : C:\\Users\\FG\\Desktop\\PhD\\Research\\Reservoirs\\datasets\\TIMIT-MFCCs\\test\\dr2\\mrgg0\n",
        "working on: si1829.mfcc.csv"
       ]
      },
      {
       "output_type": "stream",
       "stream": "stdout",
       "text": [
        "\n",
        "from path : C:\\Users\\FG\\Desktop\\PhD\\Research\\Reservoirs\\datasets\\TIMIT-MFCCs\\test\\dr2\\mrgg0\n",
        "working on: si569.mfcc.csv"
       ]
      },
      {
       "output_type": "stream",
       "stream": "stdout",
       "text": [
        "\n",
        "from path : C:\\Users\\FG\\Desktop\\PhD\\Research\\Reservoirs\\datasets\\TIMIT-MFCCs\\test\\dr2\\mrgg0\n",
        "working on: sx119.mfcc.csv\n",
        "from path : C:\\Users\\FG\\Desktop\\PhD\\Research\\Reservoirs\\datasets\\TIMIT-MFCCs\\test\\dr2\\mrgg0\n",
        "working on: sx209.mfcc.csv"
       ]
      },
      {
       "output_type": "stream",
       "stream": "stdout",
       "text": [
        "\n",
        "from path : C:\\Users\\FG\\Desktop\\PhD\\Research\\Reservoirs\\datasets\\TIMIT-MFCCs\\test\\dr2\\mrgg0\n",
        "working on: sx29.mfcc.csv"
       ]
      },
      {
       "output_type": "stream",
       "stream": "stdout",
       "text": [
        "\n",
        "from path : C:\\Users\\FG\\Desktop\\PhD\\Research\\Reservoirs\\datasets\\TIMIT-MFCCs\\test\\dr2\\mrgg0\n",
        "working on: sx299.mfcc.csv"
       ]
      },
      {
       "output_type": "stream",
       "stream": "stdout",
       "text": [
        "\n",
        "from path : C:\\Users\\FG\\Desktop\\PhD\\Research\\Reservoirs\\datasets\\TIMIT-MFCCs\\test\\dr2\\mrgg0\n",
        "working on: sx389.mfcc.csv"
       ]
      },
      {
       "output_type": "stream",
       "stream": "stdout",
       "text": [
        "\n",
        "from path : C:\\Users\\FG\\Desktop\\PhD\\Research\\Reservoirs\\datasets\\TIMIT-MFCCs\\test\\dr2\\mrgg0\n",
        "working on: si1473.mfcc.csv"
       ]
      },
      {
       "output_type": "stream",
       "stream": "stdout",
       "text": [
        "\n",
        "from path : C:\\Users\\FG\\Desktop\\PhD\\Research\\Reservoirs\\datasets\\TIMIT-MFCCs\\test\\dr2\\mtas1\n",
        "working on: si2098.mfcc.csv\n",
        "from path : C:\\Users\\FG\\Desktop\\PhD\\Research\\Reservoirs\\datasets\\TIMIT-MFCCs\\test\\dr2\\mtas1\n",
        "working on: si838.mfcc.csv"
       ]
      },
      {
       "output_type": "stream",
       "stream": "stdout",
       "text": [
        "\n",
        "from path : C:\\Users\\FG\\Desktop\\PhD\\Research\\Reservoirs\\datasets\\TIMIT-MFCCs\\test\\dr2\\mtas1\n",
        "working on: sx118.mfcc.csv"
       ]
      },
      {
       "output_type": "stream",
       "stream": "stdout",
       "text": [
        "\n",
        "from path : C:\\Users\\FG\\Desktop\\PhD\\Research\\Reservoirs\\datasets\\TIMIT-MFCCs\\test\\dr2\\mtas1\n",
        "working on: sx208.mfcc.csv"
       ]
      },
      {
       "output_type": "stream",
       "stream": "stdout",
       "text": [
        "\n",
        "from path : C:\\Users\\FG\\Desktop\\PhD\\Research\\Reservoirs\\datasets\\TIMIT-MFCCs\\test\\dr2\\mtas1\n",
        "working on: sx28.mfcc.csv"
       ]
      },
      {
       "output_type": "stream",
       "stream": "stdout",
       "text": [
        "\n",
        "from path : C:\\Users\\FG\\Desktop\\PhD\\Research\\Reservoirs\\datasets\\TIMIT-MFCCs\\test\\dr2\\mtas1\n",
        "working on: sx298.mfcc.csv"
       ]
      },
      {
       "output_type": "stream",
       "stream": "stdout",
       "text": [
        "\n",
        "from path : C:\\Users\\FG\\Desktop\\PhD\\Research\\Reservoirs\\datasets\\TIMIT-MFCCs\\test\\dr2\\mtas1\n",
        "working on: sx388.mfcc.csv"
       ]
      },
      {
       "output_type": "stream",
       "stream": "stdout",
       "text": [
        "\n",
        "from path : C:\\Users\\FG\\Desktop\\PhD\\Research\\Reservoirs\\datasets\\TIMIT-MFCCs\\test\\dr2\\mtas1\n",
        "working on: si1303.mfcc.csv"
       ]
      },
      {
       "output_type": "stream",
       "stream": "stdout",
       "text": [
        "\n",
        "from path : C:\\Users\\FG\\Desktop\\PhD\\Research\\Reservoirs\\datasets\\TIMIT-MFCCs\\test\\dr2\\mtmr0\n",
        "working on: si1933.mfcc.csv"
       ]
      },
      {
       "output_type": "stream",
       "stream": "stdout",
       "text": [
        "\n",
        "from path : C:\\Users\\FG\\Desktop\\PhD\\Research\\Reservoirs\\datasets\\TIMIT-MFCCs\\test\\dr2\\mtmr0\n",
        "working on: si673.mfcc.csv\n",
        "from path : C:\\Users\\FG\\Desktop\\PhD\\Research\\Reservoirs\\datasets\\TIMIT-MFCCs\\test\\dr2\\mtmr0\n",
        "working on: sx133.mfcc.csv"
       ]
      },
      {
       "output_type": "stream",
       "stream": "stdout",
       "text": [
        "\n",
        "from path : C:\\Users\\FG\\Desktop\\PhD\\Research\\Reservoirs\\datasets\\TIMIT-MFCCs\\test\\dr2\\mtmr0\n",
        "working on: sx223.mfcc.csv"
       ]
      },
      {
       "output_type": "stream",
       "stream": "stdout",
       "text": [
        "\n",
        "from path : C:\\Users\\FG\\Desktop\\PhD\\Research\\Reservoirs\\datasets\\TIMIT-MFCCs\\test\\dr2\\mtmr0\n",
        "working on: sx313.mfcc.csv\n",
        "from path : C:\\Users\\FG\\Desktop\\PhD\\Research\\Reservoirs\\datasets\\TIMIT-MFCCs\\test\\dr2\\mtmr0\n",
        "working on: sx403.mfcc.csv"
       ]
      },
      {
       "output_type": "stream",
       "stream": "stdout",
       "text": [
        "\n",
        "from path : C:\\Users\\FG\\Desktop\\PhD\\Research\\Reservoirs\\datasets\\TIMIT-MFCCs\\test\\dr2\\mtmr0\n",
        "working on: sx43.mfcc.csv"
       ]
      },
      {
       "output_type": "stream",
       "stream": "stdout",
       "text": [
        "\n",
        "from path : C:\\Users\\FG\\Desktop\\PhD\\Research\\Reservoirs\\datasets\\TIMIT-MFCCs\\test\\dr2\\mtmr0\n",
        "working on: si1361.mfcc.csv"
       ]
      },
      {
       "output_type": "stream",
       "stream": "stdout",
       "text": [
        "\n",
        "from path : C:\\Users\\FG\\Desktop\\PhD\\Research\\Reservoirs\\datasets\\TIMIT-MFCCs\\test\\dr2\\mwew0\n",
        "working on: si1991.mfcc.csv\n",
        "from path : C:\\Users\\FG\\Desktop\\PhD\\Research\\Reservoirs\\datasets\\TIMIT-MFCCs\\test\\dr2\\mwew0\n",
        "working on: si731.mfcc.csv"
       ]
      },
      {
       "output_type": "stream",
       "stream": "stdout",
       "text": [
        "\n",
        "from path : C:\\Users\\FG\\Desktop\\PhD\\Research\\Reservoirs\\datasets\\TIMIT-MFCCs\\test\\dr2\\mwew0\n",
        "working on: sx101.mfcc.csv\n",
        "from path : C:\\Users\\FG\\Desktop\\PhD\\Research\\Reservoirs\\datasets\\TIMIT-MFCCs\\test\\dr2\\mwew0\n",
        "working on: sx11.mfcc.csv"
       ]
      },
      {
       "output_type": "stream",
       "stream": "stdout",
       "text": [
        "\n",
        "from path : C:\\Users\\FG\\Desktop\\PhD\\Research\\Reservoirs\\datasets\\TIMIT-MFCCs\\test\\dr2\\mwew0\n",
        "working on: sx191.mfcc.csv"
       ]
      },
      {
       "output_type": "stream",
       "stream": "stdout",
       "text": [
        "\n",
        "from path : C:\\Users\\FG\\Desktop\\PhD\\Research\\Reservoirs\\datasets\\TIMIT-MFCCs\\test\\dr2\\mwew0\n",
        "working on: sx281.mfcc.csv"
       ]
      },
      {
       "output_type": "stream",
       "stream": "stdout",
       "text": [
        "\n",
        "from path : C:\\Users\\FG\\Desktop\\PhD\\Research\\Reservoirs\\datasets\\TIMIT-MFCCs\\test\\dr2\\mwew0\n",
        "working on: sx371.mfcc.csv"
       ]
      },
      {
       "output_type": "stream",
       "stream": "stdout",
       "text": [
        "\n",
        "from path : C:\\Users\\FG\\Desktop\\PhD\\Research\\Reservoirs\\datasets\\TIMIT-MFCCs\\test\\dr2\\mwew0\n",
        "working on: si1476.mfcc.csv\n",
        "from path : C:\\Users\\FG\\Desktop\\PhD\\Research\\Reservoirs\\datasets\\TIMIT-MFCCs\\test\\dr2\\mwvw0\n",
        "working on: si2106.mfcc.csv"
       ]
      },
      {
       "output_type": "stream",
       "stream": "stdout",
       "text": [
        "\n",
        "from path : C:\\Users\\FG\\Desktop\\PhD\\Research\\Reservoirs\\datasets\\TIMIT-MFCCs\\test\\dr2\\mwvw0\n",
        "working on: si846.mfcc.csv"
       ]
      },
      {
       "output_type": "stream",
       "stream": "stdout",
       "text": [
        "\n",
        "from path : C:\\Users\\FG\\Desktop\\PhD\\Research\\Reservoirs\\datasets\\TIMIT-MFCCs\\test\\dr2\\mwvw0\n",
        "working on: sx126.mfcc.csv"
       ]
      },
      {
       "output_type": "stream",
       "stream": "stdout",
       "text": [
        "\n",
        "from path : C:\\Users\\FG\\Desktop\\PhD\\Research\\Reservoirs\\datasets\\TIMIT-MFCCs\\test\\dr2\\mwvw0\n",
        "working on: sx216.mfcc.csv"
       ]
      },
      {
       "output_type": "stream",
       "stream": "stdout",
       "text": [
        "\n",
        "from path : C:\\Users\\FG\\Desktop\\PhD\\Research\\Reservoirs\\datasets\\TIMIT-MFCCs\\test\\dr2\\mwvw0\n",
        "working on: sx306.mfcc.csv\n",
        "from path : C:\\Users\\FG\\Desktop\\PhD\\Research\\Reservoirs\\datasets\\TIMIT-MFCCs\\test\\dr2\\mwvw0\n",
        "working on: sx36.mfcc.csv"
       ]
      },
      {
       "output_type": "stream",
       "stream": "stdout",
       "text": [
        "\n",
        "from path : C:\\Users\\FG\\Desktop\\PhD\\Research\\Reservoirs\\datasets\\TIMIT-MFCCs\\test\\dr2\\mwvw0\n",
        "working on: sx396.mfcc.csv"
       ]
      },
      {
       "output_type": "stream",
       "stream": "stdout",
       "text": [
        "\n",
        "from path : C:\\Users\\FG\\Desktop\\PhD\\Research\\Reservoirs\\datasets\\TIMIT-MFCCs\\test\\dr2\\mwvw0\n",
        "working on: si1454.mfcc.csv"
       ]
      },
      {
       "output_type": "stream",
       "stream": "stdout",
       "text": [
        "\n",
        "from path : C:\\Users\\FG\\Desktop\\PhD\\Research\\Reservoirs\\datasets\\TIMIT-MFCCs\\test\\dr3\\fcmh0\n",
        "working on: si2084.mfcc.csv"
       ]
      },
      {
       "output_type": "stream",
       "stream": "stdout",
       "text": [
        "\n",
        "from path : C:\\Users\\FG\\Desktop\\PhD\\Research\\Reservoirs\\datasets\\TIMIT-MFCCs\\test\\dr3\\fcmh0\n",
        "working on: si824.mfcc.csv"
       ]
      },
      {
       "output_type": "stream",
       "stream": "stdout",
       "text": [
        "\n",
        "from path : C:\\Users\\FG\\Desktop\\PhD\\Research\\Reservoirs\\datasets\\TIMIT-MFCCs\\test\\dr3\\fcmh0\n",
        "working on: sx104.mfcc.csv"
       ]
      },
      {
       "output_type": "stream",
       "stream": "stdout",
       "text": [
        "\n",
        "from path : C:\\Users\\FG\\Desktop\\PhD\\Research\\Reservoirs\\datasets\\TIMIT-MFCCs\\test\\dr3\\fcmh0\n",
        "working on: sx14.mfcc.csv\n",
        "from path : C:\\Users\\FG\\Desktop\\PhD\\Research\\Reservoirs\\datasets\\TIMIT-MFCCs\\test\\dr3\\fcmh0\n",
        "working on: sx194.mfcc.csv"
       ]
      },
      {
       "output_type": "stream",
       "stream": "stdout",
       "text": [
        "\n",
        "from path : C:\\Users\\FG\\Desktop\\PhD\\Research\\Reservoirs\\datasets\\TIMIT-MFCCs\\test\\dr3\\fcmh0\n",
        "working on: sx284.mfcc.csv\n",
        "from path : C:\\Users\\FG\\Desktop\\PhD\\Research\\Reservoirs\\datasets\\TIMIT-MFCCs\\test\\dr3\\fcmh0\n",
        "working on: sx374.mfcc.csv"
       ]
      },
      {
       "output_type": "stream",
       "stream": "stdout",
       "text": [
        "\n",
        "from path : C:\\Users\\FG\\Desktop\\PhD\\Research\\Reservoirs\\datasets\\TIMIT-MFCCs\\test\\dr3\\fcmh0\n",
        "working on: si1490.mfcc.csv\n",
        "from path : C:\\Users\\FG\\Desktop\\PhD\\Research\\Reservoirs\\datasets\\TIMIT-MFCCs\\test\\dr3\\fkms0\n",
        "working on: si2120.mfcc.csv"
       ]
      },
      {
       "output_type": "stream",
       "stream": "stdout",
       "text": [
        "\n",
        "from path : C:\\Users\\FG\\Desktop\\PhD\\Research\\Reservoirs\\datasets\\TIMIT-MFCCs\\test\\dr3\\fkms0\n",
        "working on: si860.mfcc.csv"
       ]
      },
      {
       "output_type": "stream",
       "stream": "stdout",
       "text": [
        "\n",
        "from path : C:\\Users\\FG\\Desktop\\PhD\\Research\\Reservoirs\\datasets\\TIMIT-MFCCs\\test\\dr3\\fkms0\n",
        "working on: sx140.mfcc.csv\n",
        "from path : C:\\Users\\FG\\Desktop\\PhD\\Research\\Reservoirs\\datasets\\TIMIT-MFCCs\\test\\dr3\\fkms0\n",
        "working on: sx230.mfcc.csv"
       ]
      },
      {
       "output_type": "stream",
       "stream": "stdout",
       "text": [
        "\n",
        "from path : C:\\Users\\FG\\Desktop\\PhD\\Research\\Reservoirs\\datasets\\TIMIT-MFCCs\\test\\dr3\\fkms0\n",
        "working on: sx320.mfcc.csv\n",
        "from path : C:\\Users\\FG\\Desktop\\PhD\\Research\\Reservoirs\\datasets\\TIMIT-MFCCs\\test\\dr3\\fkms0\n",
        "working on: sx410.mfcc.csv"
       ]
      },
      {
       "output_type": "stream",
       "stream": "stdout",
       "text": [
        "\n",
        "from path : C:\\Users\\FG\\Desktop\\PhD\\Research\\Reservoirs\\datasets\\TIMIT-MFCCs\\test\\dr3\\fkms0\n",
        "working on: sx50.mfcc.csv\n",
        "from path : C:\\Users\\FG\\Desktop\\PhD\\Research\\Reservoirs\\datasets\\TIMIT-MFCCs\\test\\dr3\\fkms0\n",
        "working on: si1538.mfcc.csv"
       ]
      },
      {
       "output_type": "stream",
       "stream": "stdout",
       "text": [
        "\n",
        "from path : C:\\Users\\FG\\Desktop\\PhD\\Research\\Reservoirs\\datasets\\TIMIT-MFCCs\\test\\dr3\\fpkt0\n",
        "working on: si2168.mfcc.csv\n",
        "from path : C:\\Users\\FG\\Desktop\\PhD\\Research\\Reservoirs\\datasets\\TIMIT-MFCCs\\test\\dr3\\fpkt0\n",
        "working on: si908.mfcc.csv"
       ]
      },
      {
       "output_type": "stream",
       "stream": "stdout",
       "text": [
        "\n",
        "from path : C:\\Users\\FG\\Desktop\\PhD\\Research\\Reservoirs\\datasets\\TIMIT-MFCCs\\test\\dr3\\fpkt0\n",
        "working on: sx188.mfcc.csv\n",
        "from path : C:\\Users\\FG\\Desktop\\PhD\\Research\\Reservoirs\\datasets\\TIMIT-MFCCs\\test\\dr3\\fpkt0\n",
        "working on: sx278.mfcc.csv"
       ]
      },
      {
       "output_type": "stream",
       "stream": "stdout",
       "text": [
        "\n",
        "from path : C:\\Users\\FG\\Desktop\\PhD\\Research\\Reservoirs\\datasets\\TIMIT-MFCCs\\test\\dr3\\fpkt0\n",
        "working on: sx368.mfcc.csv\n",
        "from path : C:\\Users\\FG\\Desktop\\PhD\\Research\\Reservoirs\\datasets\\TIMIT-MFCCs\\test\\dr3\\fpkt0\n",
        "working on: sx8.mfcc.csv"
       ]
      },
      {
       "output_type": "stream",
       "stream": "stdout",
       "text": [
        "\n",
        "from path : C:\\Users\\FG\\Desktop\\PhD\\Research\\Reservoirs\\datasets\\TIMIT-MFCCs\\test\\dr3\\fpkt0\n",
        "working on: sx98.mfcc.csv\n",
        "from path : C:\\Users\\FG\\Desktop\\PhD\\Research\\Reservoirs\\datasets\\TIMIT-MFCCs\\test\\dr3\\fpkt0\n",
        "working on: si1463.mfcc.csv\n",
        "from path : C:\\Users\\FG\\Desktop\\PhD\\Research\\Reservoirs\\datasets\\TIMIT-MFCCs\\test\\dr3\\mbdg0\n",
        "working on: si2093.mfcc.csv"
       ]
      },
      {
       "output_type": "stream",
       "stream": "stdout",
       "text": [
        "\n",
        "from path : C:\\Users\\FG\\Desktop\\PhD\\Research\\Reservoirs\\datasets\\TIMIT-MFCCs\\test\\dr3\\mbdg0\n",
        "working on: si833.mfcc.csv"
       ]
      },
      {
       "output_type": "stream",
       "stream": "stdout",
       "text": [
        "\n",
        "from path : C:\\Users\\FG\\Desktop\\PhD\\Research\\Reservoirs\\datasets\\TIMIT-MFCCs\\test\\dr3\\mbdg0\n",
        "working on: sx113.mfcc.csv\n",
        "from path : C:\\Users\\FG\\Desktop\\PhD\\Research\\Reservoirs\\datasets\\TIMIT-MFCCs\\test\\dr3\\mbdg0\n",
        "working on: sx203.mfcc.csv"
       ]
      },
      {
       "output_type": "stream",
       "stream": "stdout",
       "text": [
        "\n",
        "from path : C:\\Users\\FG\\Desktop\\PhD\\Research\\Reservoirs\\datasets\\TIMIT-MFCCs\\test\\dr3\\mbdg0\n",
        "working on: sx23.mfcc.csv\n",
        "from path : C:\\Users\\FG\\Desktop\\PhD\\Research\\Reservoirs\\datasets\\TIMIT-MFCCs\\test\\dr3\\mbdg0\n",
        "working on: sx293.mfcc.csv"
       ]
      },
      {
       "output_type": "stream",
       "stream": "stdout",
       "text": [
        "\n",
        "from path : C:\\Users\\FG\\Desktop\\PhD\\Research\\Reservoirs\\datasets\\TIMIT-MFCCs\\test\\dr3\\mbdg0\n",
        "working on: sx383.mfcc.csv\n",
        "from path : C:\\Users\\FG\\Desktop\\PhD\\Research\\Reservoirs\\datasets\\TIMIT-MFCCs\\test\\dr3\\mbdg0\n",
        "working on: si1304.mfcc.csv"
       ]
      },
      {
       "output_type": "stream",
       "stream": "stdout",
       "text": [
        "\n",
        "from path : C:\\Users\\FG\\Desktop\\PhD\\Research\\Reservoirs\\datasets\\TIMIT-MFCCs\\test\\dr3\\mbwm0\n",
        "working on: si1934.mfcc.csv\n",
        "from path : C:\\Users\\FG\\Desktop\\PhD\\Research\\Reservoirs\\datasets\\TIMIT-MFCCs\\test\\dr3\\mbwm0\n",
        "working on: si674.mfcc.csv"
       ]
      },
      {
       "output_type": "stream",
       "stream": "stdout",
       "text": [
        "\n",
        "from path : C:\\Users\\FG\\Desktop\\PhD\\Research\\Reservoirs\\datasets\\TIMIT-MFCCs\\test\\dr3\\mbwm0\n",
        "working on: sx134.mfcc.csv"
       ]
      },
      {
       "output_type": "stream",
       "stream": "stdout",
       "text": [
        "\n",
        "from path : C:\\Users\\FG\\Desktop\\PhD\\Research\\Reservoirs\\datasets\\TIMIT-MFCCs\\test\\dr3\\mbwm0\n",
        "working on: sx224.mfcc.csv\n",
        "from path : C:\\Users\\FG\\Desktop\\PhD\\Research\\Reservoirs\\datasets\\TIMIT-MFCCs\\test\\dr3\\mbwm0\n",
        "working on: sx314.mfcc.csv"
       ]
      },
      {
       "output_type": "stream",
       "stream": "stdout",
       "text": [
        "\n",
        "from path : C:\\Users\\FG\\Desktop\\PhD\\Research\\Reservoirs\\datasets\\TIMIT-MFCCs\\test\\dr3\\mbwm0\n",
        "working on: sx404.mfcc.csv\n",
        "from path : C:\\Users\\FG\\Desktop\\PhD\\Research\\Reservoirs\\datasets\\TIMIT-MFCCs\\test\\dr3\\mbwm0\n",
        "working on: sx44.mfcc.csv"
       ]
      },
      {
       "output_type": "stream",
       "stream": "stdout",
       "text": [
        "\n",
        "from path : C:\\Users\\FG\\Desktop\\PhD\\Research\\Reservoirs\\datasets\\TIMIT-MFCCs\\test\\dr3\\mbwm0\n",
        "working on: si1549.mfcc.csv\n",
        "from path : C:\\Users\\FG\\Desktop\\PhD\\Research\\Reservoirs\\datasets\\TIMIT-MFCCs\\test\\dr3\\mcsh0\n",
        "working on: si2179.mfcc.csv"
       ]
      },
      {
       "output_type": "stream",
       "stream": "stdout",
       "text": [
        "\n",
        "from path : C:\\Users\\FG\\Desktop\\PhD\\Research\\Reservoirs\\datasets\\TIMIT-MFCCs\\test\\dr3\\mcsh0\n",
        "working on: si919.mfcc.csv\n",
        "from path : C:\\Users\\FG\\Desktop\\PhD\\Research\\Reservoirs\\datasets\\TIMIT-MFCCs\\test\\dr3\\mcsh0\n",
        "working on: sx109.mfcc.csv"
       ]
      },
      {
       "output_type": "stream",
       "stream": "stdout",
       "text": [
        "\n",
        "from path : C:\\Users\\FG\\Desktop\\PhD\\Research\\Reservoirs\\datasets\\TIMIT-MFCCs\\test\\dr3\\mcsh0\n",
        "working on: sx19.mfcc.csv\n",
        "from path : C:\\Users\\FG\\Desktop\\PhD\\Research\\Reservoirs\\datasets\\TIMIT-MFCCs\\test\\dr3\\mcsh0\n",
        "working on: sx199.mfcc.csv"
       ]
      },
      {
       "output_type": "stream",
       "stream": "stdout",
       "text": [
        "\n",
        "from path : C:\\Users\\FG\\Desktop\\PhD\\Research\\Reservoirs\\datasets\\TIMIT-MFCCs\\test\\dr3\\mcsh0\n",
        "working on: sx289.mfcc.csv"
       ]
      },
      {
       "output_type": "stream",
       "stream": "stdout",
       "text": [
        "\n",
        "from path : C:\\Users\\FG\\Desktop\\PhD\\Research\\Reservoirs\\datasets\\TIMIT-MFCCs\\test\\dr3\\mcsh0\n",
        "working on: sx379.mfcc.csv"
       ]
      },
      {
       "output_type": "stream",
       "stream": "stdout",
       "text": [
        "\n",
        "from path : C:\\Users\\FG\\Desktop\\PhD\\Research\\Reservoirs\\datasets\\TIMIT-MFCCs\\test\\dr3\\mcsh0\n",
        "working on: si1373.mfcc.csv"
       ]
      },
      {
       "output_type": "stream",
       "stream": "stdout",
       "text": [
        "\n",
        "from path : C:\\Users\\FG\\Desktop\\PhD\\Research\\Reservoirs\\datasets\\TIMIT-MFCCs\\test\\dr3\\mctw0\n",
        "working on: si2003.mfcc.csv"
       ]
      },
      {
       "output_type": "stream",
       "stream": "stdout",
       "text": [
        "\n",
        "from path : C:\\Users\\FG\\Desktop\\PhD\\Research\\Reservoirs\\datasets\\TIMIT-MFCCs\\test\\dr3\\mctw0\n",
        "working on: si743.mfcc.csv\n",
        "from path : C:\\Users\\FG\\Desktop\\PhD\\Research\\Reservoirs\\datasets\\TIMIT-MFCCs\\test\\dr3\\mctw0\n",
        "working on: sx113.mfcc.csv"
       ]
      },
      {
       "output_type": "stream",
       "stream": "stdout",
       "text": [
        "\n",
        "from path : C:\\Users\\FG\\Desktop\\PhD\\Research\\Reservoirs\\datasets\\TIMIT-MFCCs\\test\\dr3\\mctw0\n",
        "working on: sx203.mfcc.csv"
       ]
      },
      {
       "output_type": "stream",
       "stream": "stdout",
       "text": [
        "\n",
        "from path : C:\\Users\\FG\\Desktop\\PhD\\Research\\Reservoirs\\datasets\\TIMIT-MFCCs\\test\\dr3\\mctw0\n",
        "working on: sx23.mfcc.csv"
       ]
      },
      {
       "output_type": "stream",
       "stream": "stdout",
       "text": [
        "\n",
        "from path : C:\\Users\\FG\\Desktop\\PhD\\Research\\Reservoirs\\datasets\\TIMIT-MFCCs\\test\\dr3\\mctw0\n",
        "working on: sx293.mfcc.csv\n",
        "from path : C:\\Users\\FG\\Desktop\\PhD\\Research\\Reservoirs\\datasets\\TIMIT-MFCCs\\test\\dr3\\mctw0\n",
        "working on: sx383.mfcc.csv"
       ]
      },
      {
       "output_type": "stream",
       "stream": "stdout",
       "text": [
        "\n",
        "from path : C:\\Users\\FG\\Desktop\\PhD\\Research\\Reservoirs\\datasets\\TIMIT-MFCCs\\test\\dr3\\mctw0\n",
        "working on: si1901.mfcc.csv"
       ]
      },
      {
       "output_type": "stream",
       "stream": "stdout",
       "text": [
        "\n",
        "from path : C:\\Users\\FG\\Desktop\\PhD\\Research\\Reservoirs\\datasets\\TIMIT-MFCCs\\test\\dr3\\mgjf0\n",
        "working on: si641.mfcc.csv"
       ]
      },
      {
       "output_type": "stream",
       "stream": "stdout",
       "text": [
        "\n",
        "from path : C:\\Users\\FG\\Desktop\\PhD\\Research\\Reservoirs\\datasets\\TIMIT-MFCCs\\test\\dr3\\mgjf0\n",
        "working on: si776.mfcc.csv"
       ]
      },
      {
       "output_type": "stream",
       "stream": "stdout",
       "text": [
        "\n",
        "from path : C:\\Users\\FG\\Desktop\\PhD\\Research\\Reservoirs\\datasets\\TIMIT-MFCCs\\test\\dr3\\mgjf0\n",
        "working on: sx101.mfcc.csv\n",
        "from path : C:\\Users\\FG\\Desktop\\PhD\\Research\\Reservoirs\\datasets\\TIMIT-MFCCs\\test\\dr3\\mgjf0\n",
        "working on: sx11.mfcc.csv"
       ]
      },
      {
       "output_type": "stream",
       "stream": "stdout",
       "text": [
        "\n",
        "from path : C:\\Users\\FG\\Desktop\\PhD\\Research\\Reservoirs\\datasets\\TIMIT-MFCCs\\test\\dr3\\mgjf0\n",
        "working on: sx191.mfcc.csv\n",
        "from path : C:\\Users\\FG\\Desktop\\PhD\\Research\\Reservoirs\\datasets\\TIMIT-MFCCs\\test\\dr3\\mgjf0\n",
        "working on: sx281.mfcc.csv"
       ]
      },
      {
       "output_type": "stream",
       "stream": "stdout",
       "text": [
        "\n",
        "from path : C:\\Users\\FG\\Desktop\\PhD\\Research\\Reservoirs\\datasets\\TIMIT-MFCCs\\test\\dr3\\mgjf0\n",
        "working on: sx371.mfcc.csv\n",
        "from path : C:\\Users\\FG\\Desktop\\PhD\\Research\\Reservoirs\\datasets\\TIMIT-MFCCs\\test\\dr3\\mgjf0\n",
        "working on: si1534.mfcc.csv"
       ]
      },
      {
       "output_type": "stream",
       "stream": "stdout",
       "text": [
        "\n",
        "from path : C:\\Users\\FG\\Desktop\\PhD\\Research\\Reservoirs\\datasets\\TIMIT-MFCCs\\test\\dr3\\mglb0\n",
        "working on: si2164.mfcc.csv"
       ]
      },
      {
       "output_type": "stream",
       "stream": "stdout",
       "text": [
        "\n",
        "from path : C:\\Users\\FG\\Desktop\\PhD\\Research\\Reservoirs\\datasets\\TIMIT-MFCCs\\test\\dr3\\mglb0\n",
        "working on: si904.mfcc.csv\n",
        "from path : C:\\Users\\FG\\Desktop\\PhD\\Research\\Reservoirs\\datasets\\TIMIT-MFCCs\\test\\dr3\\mglb0\n",
        "working on: sx184.mfcc.csv"
       ]
      },
      {
       "output_type": "stream",
       "stream": "stdout",
       "text": [
        "\n",
        "from path : C:\\Users\\FG\\Desktop\\PhD\\Research\\Reservoirs\\datasets\\TIMIT-MFCCs\\test\\dr3\\mglb0\n",
        "working on: sx274.mfcc.csv\n",
        "from path : C:\\Users\\FG\\Desktop\\PhD\\Research\\Reservoirs\\datasets\\TIMIT-MFCCs\\test\\dr3\\mglb0\n",
        "working on: sx364.mfcc.csv"
       ]
      },
      {
       "output_type": "stream",
       "stream": "stdout",
       "text": [
        "\n",
        "from path : C:\\Users\\FG\\Desktop\\PhD\\Research\\Reservoirs\\datasets\\TIMIT-MFCCs\\test\\dr3\\mglb0\n",
        "working on: sx4.mfcc.csv"
       ]
      },
      {
       "output_type": "stream",
       "stream": "stdout",
       "text": [
        "\n",
        "from path : C:\\Users\\FG\\Desktop\\PhD\\Research\\Reservoirs\\datasets\\TIMIT-MFCCs\\test\\dr3\\mglb0\n",
        "working on: sx94.mfcc.csv\n",
        "from path : C:\\Users\\FG\\Desktop\\PhD\\Research\\Reservoirs\\datasets\\TIMIT-MFCCs\\test\\dr3\\mglb0\n",
        "working on: si1090.mfcc.csv"
       ]
      },
      {
       "output_type": "stream",
       "stream": "stdout",
       "text": [
        "\n",
        "from path : C:\\Users\\FG\\Desktop\\PhD\\Research\\Reservoirs\\datasets\\TIMIT-MFCCs\\test\\dr3\\mhpg0\n",
        "working on: si1720.mfcc.csv"
       ]
      },
      {
       "output_type": "stream",
       "stream": "stdout",
       "text": [
        "\n",
        "from path : C:\\Users\\FG\\Desktop\\PhD\\Research\\Reservoirs\\datasets\\TIMIT-MFCCs\\test\\dr3\\mhpg0\n",
        "working on: si460.mfcc.csv\n",
        "from path : C:\\Users\\FG\\Desktop\\PhD\\Research\\Reservoirs\\datasets\\TIMIT-MFCCs\\test\\dr3\\mhpg0\n",
        "working on: sx10.mfcc.csv"
       ]
      },
      {
       "output_type": "stream",
       "stream": "stdout",
       "text": [
        "\n",
        "from path : C:\\Users\\FG\\Desktop\\PhD\\Research\\Reservoirs\\datasets\\TIMIT-MFCCs\\test\\dr3\\mhpg0\n",
        "working on: sx100.mfcc.csv\n",
        "from path : C:\\Users\\FG\\Desktop\\PhD\\Research\\Reservoirs\\datasets\\TIMIT-MFCCs\\test\\dr3\\mhpg0\n",
        "working on: sx190.mfcc.csv"
       ]
      },
      {
       "output_type": "stream",
       "stream": "stdout",
       "text": [
        "\n",
        "from path : C:\\Users\\FG\\Desktop\\PhD\\Research\\Reservoirs\\datasets\\TIMIT-MFCCs\\test\\dr3\\mhpg0\n",
        "working on: sx280.mfcc.csv"
       ]
      },
      {
       "output_type": "stream",
       "stream": "stdout",
       "text": [
        "\n",
        "from path : C:\\Users\\FG\\Desktop\\PhD\\Research\\Reservoirs\\datasets\\TIMIT-MFCCs\\test\\dr3\\mhpg0\n",
        "working on: sx370.mfcc.csv\n",
        "from path : C:\\Users\\FG\\Desktop\\PhD\\Research\\Reservoirs\\datasets\\TIMIT-MFCCs\\test\\dr3\\mhpg0\n",
        "working on: si1001.mfcc.csv"
       ]
      },
      {
       "output_type": "stream",
       "stream": "stdout",
       "text": [
        "\n",
        "from path : C:\\Users\\FG\\Desktop\\PhD\\Research\\Reservoirs\\datasets\\TIMIT-MFCCs\\test\\dr3\\mjbr0\n",
        "working on: si1631.mfcc.csv\n",
        "from path : C:\\Users\\FG\\Desktop\\PhD\\Research\\Reservoirs\\datasets\\TIMIT-MFCCs\\test\\dr3\\mjbr0\n",
        "working on: si2261.mfcc.csv"
       ]
      },
      {
       "output_type": "stream",
       "stream": "stdout",
       "text": [
        "\n",
        "from path : C:\\Users\\FG\\Desktop\\PhD\\Research\\Reservoirs\\datasets\\TIMIT-MFCCs\\test\\dr3\\mjbr0\n",
        "working on: sx101.mfcc.csv"
       ]
      },
      {
       "output_type": "stream",
       "stream": "stdout",
       "text": [
        "\n",
        "from path : C:\\Users\\FG\\Desktop\\PhD\\Research\\Reservoirs\\datasets\\TIMIT-MFCCs\\test\\dr3\\mjbr0\n",
        "working on: sx11.mfcc.csv"
       ]
      },
      {
       "output_type": "stream",
       "stream": "stdout",
       "text": [
        "\n",
        "from path : C:\\Users\\FG\\Desktop\\PhD\\Research\\Reservoirs\\datasets\\TIMIT-MFCCs\\test\\dr3\\mjbr0\n",
        "working on: sx191.mfcc.csv\n",
        "from path : C:\\Users\\FG\\Desktop\\PhD\\Research\\Reservoirs\\datasets\\TIMIT-MFCCs\\test\\dr3\\mjbr0\n",
        "working on: sx281.mfcc.csv"
       ]
      },
      {
       "output_type": "stream",
       "stream": "stdout",
       "text": [
        "\n",
        "from path : C:\\Users\\FG\\Desktop\\PhD\\Research\\Reservoirs\\datasets\\TIMIT-MFCCs\\test\\dr3\\mjbr0\n",
        "working on: sx371.mfcc.csv"
       ]
      },
      {
       "output_type": "stream",
       "stream": "stdout",
       "text": [
        "\n",
        "from path : C:\\Users\\FG\\Desktop\\PhD\\Research\\Reservoirs\\datasets\\TIMIT-MFCCs\\test\\dr3\\mjbr0\n",
        "working on: si1384.mfcc.csv\n",
        "from path : C:\\Users\\FG\\Desktop\\PhD\\Research\\Reservoirs\\datasets\\TIMIT-MFCCs\\test\\dr3\\mjes0\n",
        "working on: si2014.mfcc.csv"
       ]
      },
      {
       "output_type": "stream",
       "stream": "stdout",
       "text": [
        "\n",
        "from path : C:\\Users\\FG\\Desktop\\PhD\\Research\\Reservoirs\\datasets\\TIMIT-MFCCs\\test\\dr3\\mjes0\n",
        "working on: si754.mfcc.csv"
       ]
      },
      {
       "output_type": "stream",
       "stream": "stdout",
       "text": [
        "\n",
        "from path : C:\\Users\\FG\\Desktop\\PhD\\Research\\Reservoirs\\datasets\\TIMIT-MFCCs\\test\\dr3\\mjes0\n",
        "working on: sx124.mfcc.csv"
       ]
      },
      {
       "output_type": "stream",
       "stream": "stdout",
       "text": [
        "\n",
        "from path : C:\\Users\\FG\\Desktop\\PhD\\Research\\Reservoirs\\datasets\\TIMIT-MFCCs\\test\\dr3\\mjes0\n",
        "working on: sx214.mfcc.csv\n",
        "from path : C:\\Users\\FG\\Desktop\\PhD\\Research\\Reservoirs\\datasets\\TIMIT-MFCCs\\test\\dr3\\mjes0\n",
        "working on: sx304.mfcc.csv"
       ]
      },
      {
       "output_type": "stream",
       "stream": "stdout",
       "text": [
        "\n",
        "from path : C:\\Users\\FG\\Desktop\\PhD\\Research\\Reservoirs\\datasets\\TIMIT-MFCCs\\test\\dr3\\mjes0\n",
        "working on: sx34.mfcc.csv"
       ]
      },
      {
       "output_type": "stream",
       "stream": "stdout",
       "text": [
        "\n",
        "from path : C:\\Users\\FG\\Desktop\\PhD\\Research\\Reservoirs\\datasets\\TIMIT-MFCCs\\test\\dr3\\mjes0\n",
        "working on: sx394.mfcc.csv\n",
        "from path : C:\\Users\\FG\\Desktop\\PhD\\Research\\Reservoirs\\datasets\\TIMIT-MFCCs\\test\\dr3\\mjes0\n",
        "working on: si1003.mfcc.csv"
       ]
      },
      {
       "output_type": "stream",
       "stream": "stdout",
       "text": [
        "\n",
        "from path : C:\\Users\\FG\\Desktop\\PhD\\Research\\Reservoirs\\datasets\\TIMIT-MFCCs\\test\\dr3\\mjjg0\n",
        "working on: si1633.mfcc.csv"
       ]
      },
      {
       "output_type": "stream",
       "stream": "stdout",
       "text": [
        "\n",
        "from path : C:\\Users\\FG\\Desktop\\PhD\\Research\\Reservoirs\\datasets\\TIMIT-MFCCs\\test\\dr3\\mjjg0\n",
        "working on: si2263.mfcc.csv\n",
        "from path : C:\\Users\\FG\\Desktop\\PhD\\Research\\Reservoirs\\datasets\\TIMIT-MFCCs\\test\\dr3\\mjjg0\n",
        "working on: sx103.mfcc.csv"
       ]
      },
      {
       "output_type": "stream",
       "stream": "stdout",
       "text": [
        "\n",
        "from path : C:\\Users\\FG\\Desktop\\PhD\\Research\\Reservoirs\\datasets\\TIMIT-MFCCs\\test\\dr3\\mjjg0\n",
        "working on: sx13.mfcc.csv"
       ]
      },
      {
       "output_type": "stream",
       "stream": "stdout",
       "text": [
        "\n",
        "from path : C:\\Users\\FG\\Desktop\\PhD\\Research\\Reservoirs\\datasets\\TIMIT-MFCCs\\test\\dr3\\mjjg0\n",
        "working on: sx193.mfcc.csv\n",
        "from path : C:\\Users\\FG\\Desktop\\PhD\\Research\\Reservoirs\\datasets\\TIMIT-MFCCs\\test\\dr3\\mjjg0\n",
        "working on: sx283.mfcc.csv"
       ]
      },
      {
       "output_type": "stream",
       "stream": "stdout",
       "text": [
        "\n",
        "from path : C:\\Users\\FG\\Desktop\\PhD\\Research\\Reservoirs\\datasets\\TIMIT-MFCCs\\test\\dr3\\mjjg0\n",
        "working on: sx373.mfcc.csv"
       ]
      },
      {
       "output_type": "stream",
       "stream": "stdout",
       "text": [
        "\n",
        "from path : C:\\Users\\FG\\Desktop\\PhD\\Research\\Reservoirs\\datasets\\TIMIT-MFCCs\\test\\dr3\\mjjg0\n",
        "working on: si1535.mfcc.csv"
       ]
      },
      {
       "output_type": "stream",
       "stream": "stdout",
       "text": [
        "\n",
        "from path : C:\\Users\\FG\\Desktop\\PhD\\Research\\Reservoirs\\datasets\\TIMIT-MFCCs\\test\\dr3\\mjmp0\n",
        "working on: si1791.mfcc.csv"
       ]
      },
      {
       "output_type": "stream",
       "stream": "stdout",
       "text": [
        "\n",
        "from path : C:\\Users\\FG\\Desktop\\PhD\\Research\\Reservoirs\\datasets\\TIMIT-MFCCs\\test\\dr3\\mjmp0\n",
        "working on: si905.mfcc.csv"
       ]
      },
      {
       "output_type": "stream",
       "stream": "stdout",
       "text": [
        "\n",
        "from path : C:\\Users\\FG\\Desktop\\PhD\\Research\\Reservoirs\\datasets\\TIMIT-MFCCs\\test\\dr3\\mjmp0\n",
        "working on: sx185.mfcc.csv"
       ]
      },
      {
       "output_type": "stream",
       "stream": "stdout",
       "text": [
        "\n",
        "from path : C:\\Users\\FG\\Desktop\\PhD\\Research\\Reservoirs\\datasets\\TIMIT-MFCCs\\test\\dr3\\mjmp0\n",
        "working on: sx275.mfcc.csv"
       ]
      },
      {
       "output_type": "stream",
       "stream": "stdout",
       "text": [
        "\n",
        "from path : C:\\Users\\FG\\Desktop\\PhD\\Research\\Reservoirs\\datasets\\TIMIT-MFCCs\\test\\dr3\\mjmp0\n",
        "working on: sx365.mfcc.csv\n",
        "from path : C:\\Users\\FG\\Desktop\\PhD\\Research\\Reservoirs\\datasets\\TIMIT-MFCCs\\test\\dr3\\mjmp0\n",
        "working on: sx5.mfcc.csv"
       ]
      },
      {
       "output_type": "stream",
       "stream": "stdout",
       "text": [
        "\n",
        "from path : C:\\Users\\FG\\Desktop\\PhD\\Research\\Reservoirs\\datasets\\TIMIT-MFCCs\\test\\dr3\\mjmp0\n",
        "working on: sx95.mfcc.csv"
       ]
      },
      {
       "output_type": "stream",
       "stream": "stdout",
       "text": [
        "\n",
        "from path : C:\\Users\\FG\\Desktop\\PhD\\Research\\Reservoirs\\datasets\\TIMIT-MFCCs\\test\\dr3\\mjmp0\n",
        "working on: si1733.mfcc.csv"
       ]
      },
      {
       "output_type": "stream",
       "stream": "stdout",
       "text": [
        "\n",
        "from path : C:\\Users\\FG\\Desktop\\PhD\\Research\\Reservoirs\\datasets\\TIMIT-MFCCs\\test\\dr3\\mjvw0\n",
        "working on: si1758.mfcc.csv"
       ]
      },
      {
       "output_type": "stream",
       "stream": "stdout",
       "text": [
        "\n",
        "from path : C:\\Users\\FG\\Desktop\\PhD\\Research\\Reservoirs\\datasets\\TIMIT-MFCCs\\test\\dr3\\mjvw0\n",
        "working on: si473.mfcc.csv"
       ]
      },
      {
       "output_type": "stream",
       "stream": "stdout",
       "text": [
        "\n",
        "from path : C:\\Users\\FG\\Desktop\\PhD\\Research\\Reservoirs\\datasets\\TIMIT-MFCCs\\test\\dr3\\mjvw0\n",
        "working on: sx113.mfcc.csv"
       ]
      },
      {
       "output_type": "stream",
       "stream": "stdout",
       "text": [
        "\n",
        "from path : C:\\Users\\FG\\Desktop\\PhD\\Research\\Reservoirs\\datasets\\TIMIT-MFCCs\\test\\dr3\\mjvw0\n",
        "working on: sx203.mfcc.csv\n",
        "from path : C:\\Users\\FG\\Desktop\\PhD\\Research\\Reservoirs\\datasets\\TIMIT-MFCCs\\test\\dr3\\mjvw0\n",
        "working on: sx23.mfcc.csv"
       ]
      },
      {
       "output_type": "stream",
       "stream": "stdout",
       "text": [
        "\n",
        "from path : C:\\Users\\FG\\Desktop\\PhD\\Research\\Reservoirs\\datasets\\TIMIT-MFCCs\\test\\dr3\\mjvw0\n",
        "working on: sx293.mfcc.csv"
       ]
      },
      {
       "output_type": "stream",
       "stream": "stdout",
       "text": [
        "\n",
        "from path : C:\\Users\\FG\\Desktop\\PhD\\Research\\Reservoirs\\datasets\\TIMIT-MFCCs\\test\\dr3\\mjvw0\n",
        "working on: sx383.mfcc.csv"
       ]
      },
      {
       "output_type": "stream",
       "stream": "stdout",
       "text": [
        "\n",
        "from path : C:\\Users\\FG\\Desktop\\PhD\\Research\\Reservoirs\\datasets\\TIMIT-MFCCs\\test\\dr3\\mjvw0\n",
        "working on: si1378.mfcc.csv"
       ]
      },
      {
       "output_type": "stream",
       "stream": "stdout",
       "text": [
        "\n",
        "from path : C:\\Users\\FG\\Desktop\\PhD\\Research\\Reservoirs\\datasets\\TIMIT-MFCCs\\test\\dr3\\mkch0\n",
        "working on: si1425.mfcc.csv\n",
        "from path : C:\\Users\\FG\\Desktop\\PhD\\Research\\Reservoirs\\datasets\\TIMIT-MFCCs\\test\\dr3\\mkch0\n",
        "working on: si2008.mfcc.csv"
       ]
      },
      {
       "output_type": "stream",
       "stream": "stdout",
       "text": [
        "\n",
        "from path : C:\\Users\\FG\\Desktop\\PhD\\Research\\Reservoirs\\datasets\\TIMIT-MFCCs\\test\\dr3\\mkch0\n",
        "working on: sx118.mfcc.csv\n",
        "from path : C:\\Users\\FG\\Desktop\\PhD\\Research\\Reservoirs\\datasets\\TIMIT-MFCCs\\test\\dr3\\mkch0\n",
        "working on: sx208.mfcc.csv"
       ]
      },
      {
       "output_type": "stream",
       "stream": "stdout",
       "text": [
        "\n",
        "from path : C:\\Users\\FG\\Desktop\\PhD\\Research\\Reservoirs\\datasets\\TIMIT-MFCCs\\test\\dr3\\mkch0\n",
        "working on: sx28.mfcc.csv"
       ]
      },
      {
       "output_type": "stream",
       "stream": "stdout",
       "text": [
        "\n",
        "from path : C:\\Users\\FG\\Desktop\\PhD\\Research\\Reservoirs\\datasets\\TIMIT-MFCCs\\test\\dr3\\mkch0\n",
        "working on: sx298.mfcc.csv\n",
        "from path : C:\\Users\\FG\\Desktop\\PhD\\Research\\Reservoirs\\datasets\\TIMIT-MFCCs\\test\\dr3\\mkch0\n",
        "working on: sx388.mfcc.csv"
       ]
      },
      {
       "output_type": "stream",
       "stream": "stdout",
       "text": [
        "\n",
        "from path : C:\\Users\\FG\\Desktop\\PhD\\Research\\Reservoirs\\datasets\\TIMIT-MFCCs\\test\\dr3\\mkch0\n",
        "working on: si1574.mfcc.csv"
       ]
      },
      {
       "output_type": "stream",
       "stream": "stdout",
       "text": [
        "\n",
        "from path : C:\\Users\\FG\\Desktop\\PhD\\Research\\Reservoirs\\datasets\\TIMIT-MFCCs\\test\\dr3\\mlnt0\n",
        "working on: si1902.mfcc.csv"
       ]
      },
      {
       "output_type": "stream",
       "stream": "stdout",
       "text": [
        "\n",
        "from path : C:\\Users\\FG\\Desktop\\PhD\\Research\\Reservoirs\\datasets\\TIMIT-MFCCs\\test\\dr3\\mlnt0\n",
        "working on: si642.mfcc.csv\n",
        "from path : C:\\Users\\FG\\Desktop\\PhD\\Research\\Reservoirs\\datasets\\TIMIT-MFCCs\\test\\dr3\\mlnt0\n",
        "working on: sx102.mfcc.csv"
       ]
      },
      {
       "output_type": "stream",
       "stream": "stdout",
       "text": [
        "\n",
        "from path : C:\\Users\\FG\\Desktop\\PhD\\Research\\Reservoirs\\datasets\\TIMIT-MFCCs\\test\\dr3\\mlnt0\n",
        "working on: sx12.mfcc.csv"
       ]
      },
      {
       "output_type": "stream",
       "stream": "stdout",
       "text": [
        "\n",
        "from path : C:\\Users\\FG\\Desktop\\PhD\\Research\\Reservoirs\\datasets\\TIMIT-MFCCs\\test\\dr3\\mlnt0\n",
        "working on: sx192.mfcc.csv"
       ]
      },
      {
       "output_type": "stream",
       "stream": "stdout",
       "text": [
        "\n",
        "from path : C:\\Users\\FG\\Desktop\\PhD\\Research\\Reservoirs\\datasets\\TIMIT-MFCCs\\test\\dr3\\mlnt0\n",
        "working on: sx282.mfcc.csv\n",
        "from path : C:\\Users\\FG\\Desktop\\PhD\\Research\\Reservoirs\\datasets\\TIMIT-MFCCs\\test\\dr3\\mlnt0\n",
        "working on: sx372.mfcc.csv"
       ]
      },
      {
       "output_type": "stream",
       "stream": "stdout",
       "text": [
        "\n",
        "from path : C:\\Users\\FG\\Desktop\\PhD\\Research\\Reservoirs\\datasets\\TIMIT-MFCCs\\test\\dr3\\mlnt0\n",
        "working on: si1362.mfcc.csv"
       ]
      },
      {
       "output_type": "stream",
       "stream": "stdout",
       "text": [
        "\n",
        "from path : C:\\Users\\FG\\Desktop\\PhD\\Research\\Reservoirs\\datasets\\TIMIT-MFCCs\\test\\dr3\\mmab0\n",
        "working on: si1992.mfcc.csv"
       ]
      },
      {
       "output_type": "stream",
       "stream": "stdout",
       "text": [
        "\n",
        "from path : C:\\Users\\FG\\Desktop\\PhD\\Research\\Reservoirs\\datasets\\TIMIT-MFCCs\\test\\dr3\\mmab0\n",
        "working on: si732.mfcc.csv"
       ]
      },
      {
       "output_type": "stream",
       "stream": "stdout",
       "text": [
        "\n",
        "from path : C:\\Users\\FG\\Desktop\\PhD\\Research\\Reservoirs\\datasets\\TIMIT-MFCCs\\test\\dr3\\mmab0\n",
        "working on: sx102.mfcc.csv"
       ]
      },
      {
       "output_type": "stream",
       "stream": "stdout",
       "text": [
        "\n",
        "from path : C:\\Users\\FG\\Desktop\\PhD\\Research\\Reservoirs\\datasets\\TIMIT-MFCCs\\test\\dr3\\mmab0\n",
        "working on: sx12.mfcc.csv"
       ]
      },
      {
       "output_type": "stream",
       "stream": "stdout",
       "text": [
        "\n",
        "from path : C:\\Users\\FG\\Desktop\\PhD\\Research\\Reservoirs\\datasets\\TIMIT-MFCCs\\test\\dr3\\mmab0\n",
        "working on: sx192.mfcc.csv\n",
        "from path : C:\\Users\\FG\\Desktop\\PhD\\Research\\Reservoirs\\datasets\\TIMIT-MFCCs\\test\\dr3\\mmab0\n",
        "working on: sx282.mfcc.csv"
       ]
      },
      {
       "output_type": "stream",
       "stream": "stdout",
       "text": [
        "\n",
        "from path : C:\\Users\\FG\\Desktop\\PhD\\Research\\Reservoirs\\datasets\\TIMIT-MFCCs\\test\\dr3\\mmab0\n",
        "working on: sx372.mfcc.csv\n",
        "from path : C:\\Users\\FG\\Desktop\\PhD\\Research\\Reservoirs\\datasets\\TIMIT-MFCCs\\test\\dr3\\mmab0\n",
        "working on: si1656.mfcc.csv"
       ]
      },
      {
       "output_type": "stream",
       "stream": "stdout",
       "text": [
        "\n",
        "from path : C:\\Users\\FG\\Desktop\\PhD\\Research\\Reservoirs\\datasets\\TIMIT-MFCCs\\test\\dr3\\mmdh0\n",
        "working on: si2118.mfcc.csv"
       ]
      },
      {
       "output_type": "stream",
       "stream": "stdout",
       "text": [
        "\n",
        "from path : C:\\Users\\FG\\Desktop\\PhD\\Research\\Reservoirs\\datasets\\TIMIT-MFCCs\\test\\dr3\\mmdh0\n",
        "working on: si2286.mfcc.csv"
       ]
      },
      {
       "output_type": "stream",
       "stream": "stdout",
       "text": [
        "\n",
        "from path : C:\\Users\\FG\\Desktop\\PhD\\Research\\Reservoirs\\datasets\\TIMIT-MFCCs\\test\\dr3\\mmdh0\n",
        "working on: sx126.mfcc.csv"
       ]
      },
      {
       "output_type": "stream",
       "stream": "stdout",
       "text": [
        "\n",
        "from path : C:\\Users\\FG\\Desktop\\PhD\\Research\\Reservoirs\\datasets\\TIMIT-MFCCs\\test\\dr3\\mmdh0\n",
        "working on: sx216.mfcc.csv\n",
        "from path : C:\\Users\\FG\\Desktop\\PhD\\Research\\Reservoirs\\datasets\\TIMIT-MFCCs\\test\\dr3\\mmdh0\n",
        "working on: sx306.mfcc.csv"
       ]
      },
      {
       "output_type": "stream",
       "stream": "stdout",
       "text": [
        "\n",
        "from path : C:\\Users\\FG\\Desktop\\PhD\\Research\\Reservoirs\\datasets\\TIMIT-MFCCs\\test\\dr3\\mmdh0\n",
        "working on: sx36.mfcc.csv\n",
        "from path : C:\\Users\\FG\\Desktop\\PhD\\Research\\Reservoirs\\datasets\\TIMIT-MFCCs\\test\\dr3\\mmdh0\n",
        "working on: sx396.mfcc.csv"
       ]
      },
      {
       "output_type": "stream",
       "stream": "stdout",
       "text": [
        "\n",
        "from path : C:\\Users\\FG\\Desktop\\PhD\\Research\\Reservoirs\\datasets\\TIMIT-MFCCs\\test\\dr3\\mmdh0\n",
        "working on: si1648.mfcc.csv"
       ]
      },
      {
       "output_type": "stream",
       "stream": "stdout",
       "text": [
        "\n",
        "from path : C:\\Users\\FG\\Desktop\\PhD\\Research\\Reservoirs\\datasets\\TIMIT-MFCCs\\test\\dr3\\mmjr0\n",
        "working on: si2166.mfcc.csv"
       ]
      },
      {
       "output_type": "stream",
       "stream": "stdout",
       "text": [
        "\n",
        "from path : C:\\Users\\FG\\Desktop\\PhD\\Research\\Reservoirs\\datasets\\TIMIT-MFCCs\\test\\dr3\\mmjr0\n",
        "working on: si2278.mfcc.csv\n",
        "from path : C:\\Users\\FG\\Desktop\\PhD\\Research\\Reservoirs\\datasets\\TIMIT-MFCCs\\test\\dr3\\mmjr0\n",
        "working on: sx118.mfcc.csv"
       ]
      },
      {
       "output_type": "stream",
       "stream": "stdout",
       "text": [
        "\n",
        "from path : C:\\Users\\FG\\Desktop\\PhD\\Research\\Reservoirs\\datasets\\TIMIT-MFCCs\\test\\dr3\\mmjr0\n",
        "working on: sx208.mfcc.csv\n",
        "from path : C:\\Users\\FG\\Desktop\\PhD\\Research\\Reservoirs\\datasets\\TIMIT-MFCCs\\test\\dr3\\mmjr0\n",
        "working on: sx28.mfcc.csv"
       ]
      },
      {
       "output_type": "stream",
       "stream": "stdout",
       "text": [
        "\n",
        "from path : C:\\Users\\FG\\Desktop\\PhD\\Research\\Reservoirs\\datasets\\TIMIT-MFCCs\\test\\dr3\\mmjr0\n",
        "working on: sx298.mfcc.csv\n",
        "from path : C:\\Users\\FG\\Desktop\\PhD\\Research\\Reservoirs\\datasets\\TIMIT-MFCCs\\test\\dr3\\mmjr0\n",
        "working on: sx388.mfcc.csv"
       ]
      },
      {
       "output_type": "stream",
       "stream": "stdout",
       "text": [
        "\n",
        "from path : C:\\Users\\FG\\Desktop\\PhD\\Research\\Reservoirs\\datasets\\TIMIT-MFCCs\\test\\dr3\\mmjr0\n",
        "working on: si1089.mfcc.csv"
       ]
      },
      {
       "output_type": "stream",
       "stream": "stdout",
       "text": [
        "\n",
        "from path : C:\\Users\\FG\\Desktop\\PhD\\Research\\Reservoirs\\datasets\\TIMIT-MFCCs\\test\\dr3\\mmwh0\n",
        "working on: si1301.mfcc.csv\n",
        "from path : C:\\Users\\FG\\Desktop\\PhD\\Research\\Reservoirs\\datasets\\TIMIT-MFCCs\\test\\dr3\\mmwh0\n",
        "working on: si459.mfcc.csv"
       ]
      },
      {
       "output_type": "stream",
       "stream": "stdout",
       "text": [
        "\n",
        "from path : C:\\Users\\FG\\Desktop\\PhD\\Research\\Reservoirs\\datasets\\TIMIT-MFCCs\\test\\dr3\\mmwh0\n",
        "working on: sx189.mfcc.csv"
       ]
      },
      {
       "output_type": "stream",
       "stream": "stdout",
       "text": [
        "\n",
        "from path : C:\\Users\\FG\\Desktop\\PhD\\Research\\Reservoirs\\datasets\\TIMIT-MFCCs\\test\\dr3\\mmwh0\n",
        "working on: sx279.mfcc.csv"
       ]
      },
      {
       "output_type": "stream",
       "stream": "stdout",
       "text": [
        "\n",
        "from path : C:\\Users\\FG\\Desktop\\PhD\\Research\\Reservoirs\\datasets\\TIMIT-MFCCs\\test\\dr3\\mmwh0\n",
        "working on: sx369.mfcc.csv"
       ]
      },
      {
       "output_type": "stream",
       "stream": "stdout",
       "text": [
        "\n",
        "from path : C:\\Users\\FG\\Desktop\\PhD\\Research\\Reservoirs\\datasets\\TIMIT-MFCCs\\test\\dr3\\mmwh0\n",
        "working on: sx9.mfcc.csv"
       ]
      },
      {
       "output_type": "stream",
       "stream": "stdout",
       "text": [
        "\n",
        "from path : C:\\Users\\FG\\Desktop\\PhD\\Research\\Reservoirs\\datasets\\TIMIT-MFCCs\\test\\dr3\\mmwh0\n",
        "working on: sx99.mfcc.csv\n",
        "from path : C:\\Users\\FG\\Desktop\\PhD\\Research\\Reservoirs\\datasets\\TIMIT-MFCCs\\test\\dr3\\mmwh0\n",
        "working on: si1093.mfcc.csv"
       ]
      },
      {
       "output_type": "stream",
       "stream": "stdout",
       "text": [
        "\n",
        "from path : C:\\Users\\FG\\Desktop\\PhD\\Research\\Reservoirs\\datasets\\TIMIT-MFCCs\\test\\dr3\\mrtk0\n",
        "working on: si1723.mfcc.csv\n",
        "from path : C:\\Users\\FG\\Desktop\\PhD\\Research\\Reservoirs\\datasets\\TIMIT-MFCCs\\test\\dr3\\mrtk0\n",
        "working on: si1750.mfcc.csv"
       ]
      },
      {
       "output_type": "stream",
       "stream": "stdout",
       "text": [
        "\n",
        "from path : C:\\Users\\FG\\Desktop\\PhD\\Research\\Reservoirs\\datasets\\TIMIT-MFCCs\\test\\dr3\\mrtk0\n",
        "working on: sx103.mfcc.csv"
       ]
      },
      {
       "output_type": "stream",
       "stream": "stdout",
       "text": [
        "\n",
        "from path : C:\\Users\\FG\\Desktop\\PhD\\Research\\Reservoirs\\datasets\\TIMIT-MFCCs\\test\\dr3\\mrtk0\n",
        "working on: sx13.mfcc.csv"
       ]
      },
      {
       "output_type": "stream",
       "stream": "stdout",
       "text": [
        "\n",
        "from path : C:\\Users\\FG\\Desktop\\PhD\\Research\\Reservoirs\\datasets\\TIMIT-MFCCs\\test\\dr3\\mrtk0\n",
        "working on: sx193.mfcc.csv"
       ]
      },
      {
       "output_type": "stream",
       "stream": "stdout",
       "text": [
        "\n",
        "from path : C:\\Users\\FG\\Desktop\\PhD\\Research\\Reservoirs\\datasets\\TIMIT-MFCCs\\test\\dr3\\mrtk0\n",
        "working on: sx283.mfcc.csv"
       ]
      },
      {
       "output_type": "stream",
       "stream": "stdout",
       "text": [
        "\n",
        "from path : C:\\Users\\FG\\Desktop\\PhD\\Research\\Reservoirs\\datasets\\TIMIT-MFCCs\\test\\dr3\\mrtk0\n",
        "working on: sx373.mfcc.csv\n",
        "from path : C:\\Users\\FG\\Desktop\\PhD\\Research\\Reservoirs\\datasets\\TIMIT-MFCCs\\test\\dr3\\mrtk0\n",
        "working on: si1285.mfcc.csv"
       ]
      },
      {
       "output_type": "stream",
       "stream": "stdout",
       "text": [
        "\n",
        "from path : C:\\Users\\FG\\Desktop\\PhD\\Research\\Reservoirs\\datasets\\TIMIT-MFCCs\\test\\dr3\\mtaa0\n",
        "working on: si1915.mfcc.csv\n",
        "from path : C:\\Users\\FG\\Desktop\\PhD\\Research\\Reservoirs\\datasets\\TIMIT-MFCCs\\test\\dr3\\mtaa0\n",
        "working on: si596.mfcc.csv"
       ]
      },
      {
       "output_type": "stream",
       "stream": "stdout",
       "text": [
        "\n",
        "from path : C:\\Users\\FG\\Desktop\\PhD\\Research\\Reservoirs\\datasets\\TIMIT-MFCCs\\test\\dr3\\mtaa0\n",
        "working on: sx115.mfcc.csv\n",
        "from path : C:\\Users\\FG\\Desktop\\PhD\\Research\\Reservoirs\\datasets\\TIMIT-MFCCs\\test\\dr3\\mtaa0\n",
        "working on: sx205.mfcc.csv"
       ]
      },
      {
       "output_type": "stream",
       "stream": "stdout",
       "text": [
        "\n",
        "from path : C:\\Users\\FG\\Desktop\\PhD\\Research\\Reservoirs\\datasets\\TIMIT-MFCCs\\test\\dr3\\mtaa0\n",
        "working on: sx25.mfcc.csv"
       ]
      },
      {
       "output_type": "stream",
       "stream": "stdout",
       "text": [
        "\n",
        "from path : C:\\Users\\FG\\Desktop\\PhD\\Research\\Reservoirs\\datasets\\TIMIT-MFCCs\\test\\dr3\\mtaa0\n",
        "working on: sx295.mfcc.csv\n",
        "from path : C:\\Users\\FG\\Desktop\\PhD\\Research\\Reservoirs\\datasets\\TIMIT-MFCCs\\test\\dr3\\mtaa0\n",
        "working on: sx385.mfcc.csv"
       ]
      },
      {
       "output_type": "stream",
       "stream": "stdout",
       "text": [
        "\n",
        "from path : C:\\Users\\FG\\Desktop\\PhD\\Research\\Reservoirs\\datasets\\TIMIT-MFCCs\\test\\dr3\\mtaa0\n",
        "working on: si1994.mfcc.csv\n",
        "from path : C:\\Users\\FG\\Desktop\\PhD\\Research\\Reservoirs\\datasets\\TIMIT-MFCCs\\test\\dr3\\mtdt0\n",
        "working on: si2254.mfcc.csv"
       ]
      },
      {
       "output_type": "stream",
       "stream": "stdout",
       "text": [
        "\n",
        "from path : C:\\Users\\FG\\Desktop\\PhD\\Research\\Reservoirs\\datasets\\TIMIT-MFCCs\\test\\dr3\\mtdt0\n",
        "working on: si994.mfcc.csv\n",
        "from path : C:\\Users\\FG\\Desktop\\PhD\\Research\\Reservoirs\\datasets\\TIMIT-MFCCs\\test\\dr3\\mtdt0\n",
        "working on: sx184.mfcc.csv"
       ]
      },
      {
       "output_type": "stream",
       "stream": "stdout",
       "text": [
        "\n",
        "from path : C:\\Users\\FG\\Desktop\\PhD\\Research\\Reservoirs\\datasets\\TIMIT-MFCCs\\test\\dr3\\mtdt0\n",
        "working on: sx274.mfcc.csv"
       ]
      },
      {
       "output_type": "stream",
       "stream": "stdout",
       "text": [
        "\n",
        "from path : C:\\Users\\FG\\Desktop\\PhD\\Research\\Reservoirs\\datasets\\TIMIT-MFCCs\\test\\dr3\\mtdt0\n",
        "working on: sx364.mfcc.csv\n",
        "from path : C:\\Users\\FG\\Desktop\\PhD\\Research\\Reservoirs\\datasets\\TIMIT-MFCCs\\test\\dr3\\mtdt0\n",
        "working on: sx4.mfcc.csv"
       ]
      },
      {
       "output_type": "stream",
       "stream": "stdout",
       "text": [
        "\n",
        "from path : C:\\Users\\FG\\Desktop\\PhD\\Research\\Reservoirs\\datasets\\TIMIT-MFCCs\\test\\dr3\\mtdt0\n",
        "working on: sx94.mfcc.csv\n",
        "from path : C:\\Users\\FG\\Desktop\\PhD\\Research\\Reservoirs\\datasets\\TIMIT-MFCCs\\test\\dr3\\mtdt0\n",
        "working on: si1015.mfcc.csv"
       ]
      },
      {
       "output_type": "stream",
       "stream": "stdout",
       "text": [
        "\n",
        "from path : C:\\Users\\FG\\Desktop\\PhD\\Research\\Reservoirs\\datasets\\TIMIT-MFCCs\\test\\dr3\\mthc0\n",
        "working on: si1645.mfcc.csv"
       ]
      },
      {
       "output_type": "stream",
       "stream": "stdout",
       "text": [
        "\n",
        "from path : C:\\Users\\FG\\Desktop\\PhD\\Research\\Reservoirs\\datasets\\TIMIT-MFCCs\\test\\dr3\\mthc0\n",
        "working on: si2275.mfcc.csv\n",
        "from path : C:\\Users\\FG\\Desktop\\PhD\\Research\\Reservoirs\\datasets\\TIMIT-MFCCs\\test\\dr3\\mthc0\n",
        "working on: sx115.mfcc.csv"
       ]
      },
      {
       "output_type": "stream",
       "stream": "stdout",
       "text": [
        "\n",
        "from path : C:\\Users\\FG\\Desktop\\PhD\\Research\\Reservoirs\\datasets\\TIMIT-MFCCs\\test\\dr3\\mthc0\n",
        "working on: sx205.mfcc.csv\n",
        "from path : C:\\Users\\FG\\Desktop\\PhD\\Research\\Reservoirs\\datasets\\TIMIT-MFCCs\\test\\dr3\\mthc0\n",
        "working on: sx25.mfcc.csv"
       ]
      },
      {
       "output_type": "stream",
       "stream": "stdout",
       "text": [
        "\n",
        "from path : C:\\Users\\FG\\Desktop\\PhD\\Research\\Reservoirs\\datasets\\TIMIT-MFCCs\\test\\dr3\\mthc0\n",
        "working on: sx295.mfcc.csv"
       ]
      },
      {
       "output_type": "stream",
       "stream": "stdout",
       "text": [
        "\n",
        "from path : C:\\Users\\FG\\Desktop\\PhD\\Research\\Reservoirs\\datasets\\TIMIT-MFCCs\\test\\dr3\\mthc0\n",
        "working on: sx385.mfcc.csv"
       ]
      },
      {
       "output_type": "stream",
       "stream": "stdout",
       "text": [
        "\n",
        "from path : C:\\Users\\FG\\Desktop\\PhD\\Research\\Reservoirs\\datasets\\TIMIT-MFCCs\\test\\dr3\\mthc0\n",
        "working on: si1124.mfcc.csv"
       ]
      },
      {
       "output_type": "stream",
       "stream": "stdout",
       "text": [
        "\n",
        "from path : C:\\Users\\FG\\Desktop\\PhD\\Research\\Reservoirs\\datasets\\TIMIT-MFCCs\\test\\dr3\\mwjg0\n",
        "working on: si1754.mfcc.csv"
       ]
      },
      {
       "output_type": "stream",
       "stream": "stdout",
       "text": [
        "\n",
        "from path : C:\\Users\\FG\\Desktop\\PhD\\Research\\Reservoirs\\datasets\\TIMIT-MFCCs\\test\\dr3\\mwjg0\n",
        "working on: si494.mfcc.csv"
       ]
      },
      {
       "output_type": "stream",
       "stream": "stdout",
       "text": [
        "\n",
        "from path : C:\\Users\\FG\\Desktop\\PhD\\Research\\Reservoirs\\datasets\\TIMIT-MFCCs\\test\\dr3\\mwjg0\n",
        "working on: sx134.mfcc.csv\n",
        "from path : C:\\Users\\FG\\Desktop\\PhD\\Research\\Reservoirs\\datasets\\TIMIT-MFCCs\\test\\dr3\\mwjg0\n",
        "working on: sx224.mfcc.csv"
       ]
      },
      {
       "output_type": "stream",
       "stream": "stdout",
       "text": [
        "\n",
        "from path : C:\\Users\\FG\\Desktop\\PhD\\Research\\Reservoirs\\datasets\\TIMIT-MFCCs\\test\\dr3\\mwjg0\n",
        "working on: sx314.mfcc.csv\n",
        "from path : C:\\Users\\FG\\Desktop\\PhD\\Research\\Reservoirs\\datasets\\TIMIT-MFCCs\\test\\dr3\\mwjg0\n",
        "working on: sx404.mfcc.csv"
       ]
      },
      {
       "output_type": "stream",
       "stream": "stdout",
       "text": [
        "\n",
        "from path : C:\\Users\\FG\\Desktop\\PhD\\Research\\Reservoirs\\datasets\\TIMIT-MFCCs\\test\\dr3\\mwjg0\n",
        "working on: sx44.mfcc.csv"
       ]
      },
      {
       "output_type": "stream",
       "stream": "stdout",
       "text": [
        "\n",
        "from path : C:\\Users\\FG\\Desktop\\PhD\\Research\\Reservoirs\\datasets\\TIMIT-MFCCs\\test\\dr3\\mwjg0\n",
        "working on: si1279.mfcc.csv"
       ]
      },
      {
       "output_type": "stream",
       "stream": "stdout",
       "text": [
        "\n",
        "from path : C:\\Users\\FG\\Desktop\\PhD\\Research\\Reservoirs\\datasets\\TIMIT-MFCCs\\test\\dr4\\fadg0\n",
        "working on: si1909.mfcc.csv\n",
        "from path : C:\\Users\\FG\\Desktop\\PhD\\Research\\Reservoirs\\datasets\\TIMIT-MFCCs\\test\\dr4\\fadg0\n",
        "working on: si649.mfcc.csv"
       ]
      },
      {
       "output_type": "stream",
       "stream": "stdout",
       "text": [
        "\n",
        "from path : C:\\Users\\FG\\Desktop\\PhD\\Research\\Reservoirs\\datasets\\TIMIT-MFCCs\\test\\dr4\\fadg0\n",
        "working on: sx109.mfcc.csv"
       ]
      },
      {
       "output_type": "stream",
       "stream": "stdout",
       "text": [
        "\n",
        "from path : C:\\Users\\FG\\Desktop\\PhD\\Research\\Reservoirs\\datasets\\TIMIT-MFCCs\\test\\dr4\\fadg0\n",
        "working on: sx19.mfcc.csv\n",
        "from path : C:\\Users\\FG\\Desktop\\PhD\\Research\\Reservoirs\\datasets\\TIMIT-MFCCs\\test\\dr4\\fadg0\n",
        "working on: sx199.mfcc.csv"
       ]
      },
      {
       "output_type": "stream",
       "stream": "stdout",
       "text": [
        "\n",
        "from path : C:\\Users\\FG\\Desktop\\PhD\\Research\\Reservoirs\\datasets\\TIMIT-MFCCs\\test\\dr4\\fadg0\n",
        "working on: sx289.mfcc.csv"
       ]
      },
      {
       "output_type": "stream",
       "stream": "stdout",
       "text": [
        "\n",
        "from path : C:\\Users\\FG\\Desktop\\PhD\\Research\\Reservoirs\\datasets\\TIMIT-MFCCs\\test\\dr4\\fadg0\n",
        "working on: sx379.mfcc.csv"
       ]
      },
      {
       "output_type": "stream",
       "stream": "stdout",
       "text": [
        "\n",
        "from path : C:\\Users\\FG\\Desktop\\PhD\\Research\\Reservoirs\\datasets\\TIMIT-MFCCs\\test\\dr4\\fadg0\n",
        "working on: si1178.mfcc.csv\n",
        "from path : C:\\Users\\FG\\Desktop\\PhD\\Research\\Reservoirs\\datasets\\TIMIT-MFCCs\\test\\dr4\\fcft0\n",
        "working on: si1808.mfcc.csv"
       ]
      },
      {
       "output_type": "stream",
       "stream": "stdout",
       "text": [
        "\n",
        "from path : C:\\Users\\FG\\Desktop\\PhD\\Research\\Reservoirs\\datasets\\TIMIT-MFCCs\\test\\dr4\\fcft0\n",
        "working on: si548.mfcc.csv"
       ]
      },
      {
       "output_type": "stream",
       "stream": "stdout",
       "text": [
        "\n",
        "from path : C:\\Users\\FG\\Desktop\\PhD\\Research\\Reservoirs\\datasets\\TIMIT-MFCCs\\test\\dr4\\fcft0\n",
        "working on: sx188.mfcc.csv\n",
        "from path : C:\\Users\\FG\\Desktop\\PhD\\Research\\Reservoirs\\datasets\\TIMIT-MFCCs\\test\\dr4\\fcft0\n",
        "working on: sx278.mfcc.csv"
       ]
      },
      {
       "output_type": "stream",
       "stream": "stdout",
       "text": [
        "\n",
        "from path : C:\\Users\\FG\\Desktop\\PhD\\Research\\Reservoirs\\datasets\\TIMIT-MFCCs\\test\\dr4\\fcft0\n",
        "working on: sx368.mfcc.csv"
       ]
      },
      {
       "output_type": "stream",
       "stream": "stdout",
       "text": [
        "\n",
        "from path : C:\\Users\\FG\\Desktop\\PhD\\Research\\Reservoirs\\datasets\\TIMIT-MFCCs\\test\\dr4\\fcft0\n",
        "working on: sx8.mfcc.csv"
       ]
      },
      {
       "output_type": "stream",
       "stream": "stdout",
       "text": [
        "\n",
        "from path : C:\\Users\\FG\\Desktop\\PhD\\Research\\Reservoirs\\datasets\\TIMIT-MFCCs\\test\\dr4\\fcft0\n",
        "working on: sx98.mfcc.csv"
       ]
      },
      {
       "output_type": "stream",
       "stream": "stdout",
       "text": [
        "\n",
        "from path : C:\\Users\\FG\\Desktop\\PhD\\Research\\Reservoirs\\datasets\\TIMIT-MFCCs\\test\\dr4\\fcft0\n",
        "working on: si1088.mfcc.csv\n",
        "from path : C:\\Users\\FG\\Desktop\\PhD\\Research\\Reservoirs\\datasets\\TIMIT-MFCCs\\test\\dr4\\fcrh0\n",
        "working on: si1718.mfcc.csv"
       ]
      },
      {
       "output_type": "stream",
       "stream": "stdout",
       "text": [
        "\n",
        "from path : C:\\Users\\FG\\Desktop\\PhD\\Research\\Reservoirs\\datasets\\TIMIT-MFCCs\\test\\dr4\\fcrh0\n",
        "working on: si458.mfcc.csv\n",
        "from path : C:\\Users\\FG\\Desktop\\PhD\\Research\\Reservoirs\\datasets\\TIMIT-MFCCs\\test\\dr4\\fcrh0\n",
        "working on: sx188.mfcc.csv"
       ]
      },
      {
       "output_type": "stream",
       "stream": "stdout",
       "text": [
        "\n",
        "from path : C:\\Users\\FG\\Desktop\\PhD\\Research\\Reservoirs\\datasets\\TIMIT-MFCCs\\test\\dr4\\fcrh0\n",
        "working on: sx278.mfcc.csv"
       ]
      },
      {
       "output_type": "stream",
       "stream": "stdout",
       "text": [
        "\n",
        "from path : C:\\Users\\FG\\Desktop\\PhD\\Research\\Reservoirs\\datasets\\TIMIT-MFCCs\\test\\dr4\\fcrh0\n",
        "working on: sx368.mfcc.csv"
       ]
      },
      {
       "output_type": "stream",
       "stream": "stdout",
       "text": [
        "\n",
        "from path : C:\\Users\\FG\\Desktop\\PhD\\Research\\Reservoirs\\datasets\\TIMIT-MFCCs\\test\\dr4\\fcrh0\n",
        "working on: sx8.mfcc.csv"
       ]
      },
      {
       "output_type": "stream",
       "stream": "stdout",
       "text": [
        "\n",
        "from path : C:\\Users\\FG\\Desktop\\PhD\\Research\\Reservoirs\\datasets\\TIMIT-MFCCs\\test\\dr4\\fcrh0\n",
        "working on: sx98.mfcc.csv"
       ]
      },
      {
       "output_type": "stream",
       "stream": "stdout",
       "text": [
        "\n",
        "from path : C:\\Users\\FG\\Desktop\\PhD\\Research\\Reservoirs\\datasets\\TIMIT-MFCCs\\test\\dr4\\fcrh0\n",
        "working on: si1218.mfcc.csv\n",
        "from path : C:\\Users\\FG\\Desktop\\PhD\\Research\\Reservoirs\\datasets\\TIMIT-MFCCs\\test\\dr4\\fdms0\n",
        "working on: si1502.mfcc.csv"
       ]
      },
      {
       "output_type": "stream",
       "stream": "stdout",
       "text": [
        "\n",
        "from path : C:\\Users\\FG\\Desktop\\PhD\\Research\\Reservoirs\\datasets\\TIMIT-MFCCs\\test\\dr4\\fdms0\n",
        "working on: si1848.mfcc.csv"
       ]
      },
      {
       "output_type": "stream",
       "stream": "stdout",
       "text": [
        "\n",
        "from path : C:\\Users\\FG\\Desktop\\PhD\\Research\\Reservoirs\\datasets\\TIMIT-MFCCs\\test\\dr4\\fdms0\n",
        "working on: sx138.mfcc.csv\n",
        "from path : C:\\Users\\FG\\Desktop\\PhD\\Research\\Reservoirs\\datasets\\TIMIT-MFCCs\\test\\dr4\\fdms0\n",
        "working on: sx228.mfcc.csv"
       ]
      },
      {
       "output_type": "stream",
       "stream": "stdout",
       "text": [
        "\n",
        "from path : C:\\Users\\FG\\Desktop\\PhD\\Research\\Reservoirs\\datasets\\TIMIT-MFCCs\\test\\dr4\\fdms0\n",
        "working on: sx318.mfcc.csv\n",
        "from path : C:\\Users\\FG\\Desktop\\PhD\\Research\\Reservoirs\\datasets\\TIMIT-MFCCs\\test\\dr4\\fdms0\n",
        "working on: sx408.mfcc.csv"
       ]
      },
      {
       "output_type": "stream",
       "stream": "stdout",
       "text": [
        "\n",
        "from path : C:\\Users\\FG\\Desktop\\PhD\\Research\\Reservoirs\\datasets\\TIMIT-MFCCs\\test\\dr4\\fdms0\n",
        "working on: sx48.mfcc.csv\n",
        "from path : C:\\Users\\FG\\Desktop\\PhD\\Research\\Reservoirs\\datasets\\TIMIT-MFCCs\\test\\dr4\\fdms0\n",
        "working on: si1084.mfcc.csv"
       ]
      },
      {
       "output_type": "stream",
       "stream": "stdout",
       "text": [
        "\n",
        "from path : C:\\Users\\FG\\Desktop\\PhD\\Research\\Reservoirs\\datasets\\TIMIT-MFCCs\\test\\dr4\\fedw0\n",
        "working on: si1653.mfcc.csv"
       ]
      },
      {
       "output_type": "stream",
       "stream": "stdout",
       "text": [
        "\n",
        "from path : C:\\Users\\FG\\Desktop\\PhD\\Research\\Reservoirs\\datasets\\TIMIT-MFCCs\\test\\dr4\\fedw0\n",
        "working on: si1714.mfcc.csv\n",
        "from path : C:\\Users\\FG\\Desktop\\PhD\\Research\\Reservoirs\\datasets\\TIMIT-MFCCs\\test\\dr4\\fedw0\n",
        "working on: sx184.mfcc.csv"
       ]
      },
      {
       "output_type": "stream",
       "stream": "stdout",
       "text": [
        "\n",
        "from path : C:\\Users\\FG\\Desktop\\PhD\\Research\\Reservoirs\\datasets\\TIMIT-MFCCs\\test\\dr4\\fedw0\n",
        "working on: sx274.mfcc.csv"
       ]
      },
      {
       "output_type": "stream",
       "stream": "stdout",
       "text": [
        "\n",
        "from path : C:\\Users\\FG\\Desktop\\PhD\\Research\\Reservoirs\\datasets\\TIMIT-MFCCs\\test\\dr4\\fedw0\n",
        "working on: sx364.mfcc.csv\n",
        "from path : C:\\Users\\FG\\Desktop\\PhD\\Research\\Reservoirs\\datasets\\TIMIT-MFCCs\\test\\dr4\\fedw0\n",
        "working on: sx4.mfcc.csv"
       ]
      },
      {
       "output_type": "stream",
       "stream": "stdout",
       "text": [
        "\n",
        "from path : C:\\Users\\FG\\Desktop\\PhD\\Research\\Reservoirs\\datasets\\TIMIT-MFCCs\\test\\dr4\\fedw0\n",
        "working on: sx94.mfcc.csv"
       ]
      },
      {
       "output_type": "stream",
       "stream": "stdout",
       "text": [
        "\n",
        "from path : C:\\Users\\FG\\Desktop\\PhD\\Research\\Reservoirs\\datasets\\TIMIT-MFCCs\\test\\dr4\\fedw0\n",
        "working on: si1179.mfcc.csv"
       ]
      },
      {
       "output_type": "stream",
       "stream": "stdout",
       "text": [
        "\n",
        "from path : C:\\Users\\FG\\Desktop\\PhD\\Research\\Reservoirs\\datasets\\TIMIT-MFCCs\\test\\dr4\\fgjd0\n",
        "working on: si549.mfcc.csv\n",
        "from path : C:\\Users\\FG\\Desktop\\PhD\\Research\\Reservoirs\\datasets\\TIMIT-MFCCs\\test\\dr4\\fgjd0\n",
        "working on: si818.mfcc.csv"
       ]
      },
      {
       "output_type": "stream",
       "stream": "stdout",
       "text": [
        "\n",
        "from path : C:\\Users\\FG\\Desktop\\PhD\\Research\\Reservoirs\\datasets\\TIMIT-MFCCs\\test\\dr4\\fgjd0\n",
        "working on: sx189.mfcc.csv"
       ]
      },
      {
       "output_type": "stream",
       "stream": "stdout",
       "text": [
        "\n",
        "from path : C:\\Users\\FG\\Desktop\\PhD\\Research\\Reservoirs\\datasets\\TIMIT-MFCCs\\test\\dr4\\fgjd0\n",
        "working on: sx279.mfcc.csv"
       ]
      },
      {
       "output_type": "stream",
       "stream": "stdout",
       "text": [
        "\n",
        "from path : C:\\Users\\FG\\Desktop\\PhD\\Research\\Reservoirs\\datasets\\TIMIT-MFCCs\\test\\dr4\\fgjd0\n",
        "working on: sx369.mfcc.csv"
       ]
      },
      {
       "output_type": "stream",
       "stream": "stdout",
       "text": [
        "\n",
        "from path : C:\\Users\\FG\\Desktop\\PhD\\Research\\Reservoirs\\datasets\\TIMIT-MFCCs\\test\\dr4\\fgjd0\n",
        "working on: sx9.mfcc.csv"
       ]
      },
      {
       "output_type": "stream",
       "stream": "stdout",
       "text": [
        "\n",
        "from path : C:\\Users\\FG\\Desktop\\PhD\\Research\\Reservoirs\\datasets\\TIMIT-MFCCs\\test\\dr4\\fgjd0\n",
        "working on: sx99.mfcc.csv\n",
        "from path : C:\\Users\\FG\\Desktop\\PhD\\Research\\Reservoirs\\datasets\\TIMIT-MFCCs\\test\\dr4\\fgjd0\n",
        "working on: si1043.mfcc.csv"
       ]
      },
      {
       "output_type": "stream",
       "stream": "stdout",
       "text": [
        "\n",
        "from path : C:\\Users\\FG\\Desktop\\PhD\\Research\\Reservoirs\\datasets\\TIMIT-MFCCs\\test\\dr4\\fjlm0\n",
        "working on: si1673.mfcc.csv"
       ]
      },
      {
       "output_type": "stream",
       "stream": "stdout",
       "text": [
        "\n",
        "from path : C:\\Users\\FG\\Desktop\\PhD\\Research\\Reservoirs\\datasets\\TIMIT-MFCCs\\test\\dr4\\fjlm0\n",
        "working on: si2303.mfcc.csv\n",
        "from path : C:\\Users\\FG\\Desktop\\PhD\\Research\\Reservoirs\\datasets\\TIMIT-MFCCs\\test\\dr4\\fjlm0\n",
        "working on: sx143.mfcc.csv"
       ]
      },
      {
       "output_type": "stream",
       "stream": "stdout",
       "text": [
        "\n",
        "from path : C:\\Users\\FG\\Desktop\\PhD\\Research\\Reservoirs\\datasets\\TIMIT-MFCCs\\test\\dr4\\fjlm0\n",
        "working on: sx233.mfcc.csv"
       ]
      },
      {
       "output_type": "stream",
       "stream": "stdout",
       "text": [
        "\n",
        "from path : C:\\Users\\FG\\Desktop\\PhD\\Research\\Reservoirs\\datasets\\TIMIT-MFCCs\\test\\dr4\\fjlm0\n",
        "working on: sx323.mfcc.csv\n",
        "from path : C:\\Users\\FG\\Desktop\\PhD\\Research\\Reservoirs\\datasets\\TIMIT-MFCCs\\test\\dr4\\fjlm0\n",
        "working on: sx413.mfcc.csv"
       ]
      },
      {
       "output_type": "stream",
       "stream": "stdout",
       "text": [
        "\n",
        "from path : C:\\Users\\FG\\Desktop\\PhD\\Research\\Reservoirs\\datasets\\TIMIT-MFCCs\\test\\dr4\\fjlm0\n",
        "working on: sx53.mfcc.csv\n",
        "from path : C:\\Users\\FG\\Desktop\\PhD\\Research\\Reservoirs\\datasets\\TIMIT-MFCCs\\test\\dr4\\fjlm0\n",
        "working on: si1181.mfcc.csv"
       ]
      },
      {
       "output_type": "stream",
       "stream": "stdout",
       "text": [
        "\n",
        "from path : C:\\Users\\FG\\Desktop\\PhD\\Research\\Reservoirs\\datasets\\TIMIT-MFCCs\\test\\dr4\\fjmg0\n",
        "working on: si1811.mfcc.csv"
       ]
      },
      {
       "output_type": "stream",
       "stream": "stdout",
       "text": [
        "\n",
        "from path : C:\\Users\\FG\\Desktop\\PhD\\Research\\Reservoirs\\datasets\\TIMIT-MFCCs\\test\\dr4\\fjmg0\n",
        "working on: si551.mfcc.csv\n",
        "from path : C:\\Users\\FG\\Desktop\\PhD\\Research\\Reservoirs\\datasets\\TIMIT-MFCCs\\test\\dr4\\fjmg0\n",
        "working on: sx101.mfcc.csv"
       ]
      },
      {
       "output_type": "stream",
       "stream": "stdout",
       "text": [
        "\n",
        "from path : C:\\Users\\FG\\Desktop\\PhD\\Research\\Reservoirs\\datasets\\TIMIT-MFCCs\\test\\dr4\\fjmg0\n",
        "working on: sx11.mfcc.csv"
       ]
      },
      {
       "output_type": "stream",
       "stream": "stdout",
       "text": [
        "\n",
        "from path : C:\\Users\\FG\\Desktop\\PhD\\Research\\Reservoirs\\datasets\\TIMIT-MFCCs\\test\\dr4\\fjmg0\n",
        "working on: sx191.mfcc.csv\n",
        "from path : C:\\Users\\FG\\Desktop\\PhD\\Research\\Reservoirs\\datasets\\TIMIT-MFCCs\\test\\dr4\\fjmg0\n",
        "working on: sx281.mfcc.csv"
       ]
      },
      {
       "output_type": "stream",
       "stream": "stdout",
       "text": [
        "\n",
        "from path : C:\\Users\\FG\\Desktop\\PhD\\Research\\Reservoirs\\datasets\\TIMIT-MFCCs\\test\\dr4\\fjmg0\n",
        "working on: sx371.mfcc.csv\n",
        "from path : C:\\Users\\FG\\Desktop\\PhD\\Research\\Reservoirs\\datasets\\TIMIT-MFCCs\\test\\dr4\\fjmg0\n",
        "working on: si1219.mfcc.csv"
       ]
      },
      {
       "output_type": "stream",
       "stream": "stdout",
       "text": [
        "\n",
        "from path : C:\\Users\\FG\\Desktop\\PhD\\Research\\Reservoirs\\datasets\\TIMIT-MFCCs\\test\\dr4\\flbw0\n",
        "working on: si1849.mfcc.csv"
       ]
      },
      {
       "output_type": "stream",
       "stream": "stdout",
       "text": [
        "\n",
        "from path : C:\\Users\\FG\\Desktop\\PhD\\Research\\Reservoirs\\datasets\\TIMIT-MFCCs\\test\\dr4\\flbw0\n",
        "working on: si2253.mfcc.csv\n",
        "from path : C:\\Users\\FG\\Desktop\\PhD\\Research\\Reservoirs\\datasets\\TIMIT-MFCCs\\test\\dr4\\flbw0\n",
        "working on: sx139.mfcc.csv"
       ]
      },
      {
       "output_type": "stream",
       "stream": "stdout",
       "text": [
        "\n",
        "from path : C:\\Users\\FG\\Desktop\\PhD\\Research\\Reservoirs\\datasets\\TIMIT-MFCCs\\test\\dr4\\flbw0\n",
        "working on: sx229.mfcc.csv\n",
        "from path : C:\\Users\\FG\\Desktop\\PhD\\Research\\Reservoirs\\datasets\\TIMIT-MFCCs\\test\\dr4\\flbw0\n",
        "working on: sx319.mfcc.csv"
       ]
      },
      {
       "output_type": "stream",
       "stream": "stdout",
       "text": [
        "\n",
        "from path : C:\\Users\\FG\\Desktop\\PhD\\Research\\Reservoirs\\datasets\\TIMIT-MFCCs\\test\\dr4\\flbw0\n",
        "working on: sx409.mfcc.csv"
       ]
      },
      {
       "output_type": "stream",
       "stream": "stdout",
       "text": [
        "\n",
        "from path : C:\\Users\\FG\\Desktop\\PhD\\Research\\Reservoirs\\datasets\\TIMIT-MFCCs\\test\\dr4\\flbw0\n",
        "working on: sx49.mfcc.csv"
       ]
      },
      {
       "output_type": "stream",
       "stream": "stdout",
       "text": [
        "\n",
        "from path : C:\\Users\\FG\\Desktop\\PhD\\Research\\Reservoirs\\datasets\\TIMIT-MFCCs\\test\\dr4\\flbw0\n",
        "working on: si1369.mfcc.csv\n",
        "from path : C:\\Users\\FG\\Desktop\\PhD\\Research\\Reservoirs\\datasets\\TIMIT-MFCCs\\test\\dr4\\flkd0\n",
        "working on: si739.mfcc.csv"
       ]
      },
      {
       "output_type": "stream",
       "stream": "stdout",
       "text": [
        "\n",
        "from path : C:\\Users\\FG\\Desktop\\PhD\\Research\\Reservoirs\\datasets\\TIMIT-MFCCs\\test\\dr4\\flkd0\n",
        "working on: si894.mfcc.csv\n",
        "from path : C:\\Users\\FG\\Desktop\\PhD\\Research\\Reservoirs\\datasets\\TIMIT-MFCCs\\test\\dr4\\flkd0\n",
        "working on: sx109.mfcc.csv"
       ]
      },
      {
       "output_type": "stream",
       "stream": "stdout",
       "text": [
        "\n",
        "from path : C:\\Users\\FG\\Desktop\\PhD\\Research\\Reservoirs\\datasets\\TIMIT-MFCCs\\test\\dr4\\flkd0\n",
        "working on: sx19.mfcc.csv\n",
        "from path : C:\\Users\\FG\\Desktop\\PhD\\Research\\Reservoirs\\datasets\\TIMIT-MFCCs\\test\\dr4\\flkd0\n",
        "working on: sx199.mfcc.csv"
       ]
      },
      {
       "output_type": "stream",
       "stream": "stdout",
       "text": [
        "\n",
        "from path : C:\\Users\\FG\\Desktop\\PhD\\Research\\Reservoirs\\datasets\\TIMIT-MFCCs\\test\\dr4\\flkd0\n",
        "working on: sx289.mfcc.csv"
       ]
      },
      {
       "output_type": "stream",
       "stream": "stdout",
       "text": [
        "\n",
        "from path : C:\\Users\\FG\\Desktop\\PhD\\Research\\Reservoirs\\datasets\\TIMIT-MFCCs\\test\\dr4\\flkd0\n",
        "working on: sx379.mfcc.csv"
       ]
      },
      {
       "output_type": "stream",
       "stream": "stdout",
       "text": [
        "\n",
        "from path : C:\\Users\\FG\\Desktop\\PhD\\Research\\Reservoirs\\datasets\\TIMIT-MFCCs\\test\\dr4\\flkd0\n",
        "working on: si1459.mfcc.csv\n",
        "from path : C:\\Users\\FG\\Desktop\\PhD\\Research\\Reservoirs\\datasets\\TIMIT-MFCCs\\test\\dr4\\fmaf0\n",
        "working on: si2089.mfcc.csv"
       ]
      },
      {
       "output_type": "stream",
       "stream": "stdout",
       "text": [
        "\n",
        "from path : C:\\Users\\FG\\Desktop\\PhD\\Research\\Reservoirs\\datasets\\TIMIT-MFCCs\\test\\dr4\\fmaf0\n",
        "working on: si829.mfcc.csv\n",
        "from path : C:\\Users\\FG\\Desktop\\PhD\\Research\\Reservoirs\\datasets\\TIMIT-MFCCs\\test\\dr4\\fmaf0\n",
        "working on: sx109.mfcc.csv"
       ]
      },
      {
       "output_type": "stream",
       "stream": "stdout",
       "text": [
        "\n",
        "from path : C:\\Users\\FG\\Desktop\\PhD\\Research\\Reservoirs\\datasets\\TIMIT-MFCCs\\test\\dr4\\fmaf0\n",
        "working on: sx19.mfcc.csv"
       ]
      },
      {
       "output_type": "stream",
       "stream": "stdout",
       "text": [
        "\n",
        "from path : C:\\Users\\FG\\Desktop\\PhD\\Research\\Reservoirs\\datasets\\TIMIT-MFCCs\\test\\dr4\\fmaf0\n",
        "working on: sx199.mfcc.csv"
       ]
      },
      {
       "output_type": "stream",
       "stream": "stdout",
       "text": [
        "\n",
        "from path : C:\\Users\\FG\\Desktop\\PhD\\Research\\Reservoirs\\datasets\\TIMIT-MFCCs\\test\\dr4\\fmaf0\n",
        "working on: sx289.mfcc.csv"
       ]
      },
      {
       "output_type": "stream",
       "stream": "stdout",
       "text": [
        "\n",
        "from path : C:\\Users\\FG\\Desktop\\PhD\\Research\\Reservoirs\\datasets\\TIMIT-MFCCs\\test\\dr4\\fmaf0\n",
        "working on: sx379.mfcc.csv\n",
        "from path : C:\\Users\\FG\\Desktop\\PhD\\Research\\Reservoirs\\datasets\\TIMIT-MFCCs\\test\\dr4\\fmaf0\n",
        "working on: si1180.mfcc.csv"
       ]
      },
      {
       "output_type": "stream",
       "stream": "stdout",
       "text": [
        "\n",
        "from path : C:\\Users\\FG\\Desktop\\PhD\\Research\\Reservoirs\\datasets\\TIMIT-MFCCs\\test\\dr4\\fmcm0\n",
        "working on: si1810.mfcc.csv"
       ]
      },
      {
       "output_type": "stream",
       "stream": "stdout",
       "text": [
        "\n",
        "from path : C:\\Users\\FG\\Desktop\\PhD\\Research\\Reservoirs\\datasets\\TIMIT-MFCCs\\test\\dr4\\fmcm0\n",
        "working on: si550.mfcc.csv"
       ]
      },
      {
       "output_type": "stream",
       "stream": "stdout",
       "text": [
        "\n",
        "from path : C:\\Users\\FG\\Desktop\\PhD\\Research\\Reservoirs\\datasets\\TIMIT-MFCCs\\test\\dr4\\fmcm0\n",
        "working on: sx10.mfcc.csv"
       ]
      },
      {
       "output_type": "stream",
       "stream": "stdout",
       "text": [
        "\n",
        "from path : C:\\Users\\FG\\Desktop\\PhD\\Research\\Reservoirs\\datasets\\TIMIT-MFCCs\\test\\dr4\\fmcm0\n",
        "working on: sx100.mfcc.csv\n",
        "from path : C:\\Users\\FG\\Desktop\\PhD\\Research\\Reservoirs\\datasets\\TIMIT-MFCCs\\test\\dr4\\fmcm0\n",
        "working on: sx190.mfcc.csv"
       ]
      },
      {
       "output_type": "stream",
       "stream": "stdout",
       "text": [
        "\n",
        "from path : C:\\Users\\FG\\Desktop\\PhD\\Research\\Reservoirs\\datasets\\TIMIT-MFCCs\\test\\dr4\\fmcm0\n",
        "working on: sx280.mfcc.csv\n",
        "from path : C:\\Users\\FG\\Desktop\\PhD\\Research\\Reservoirs\\datasets\\TIMIT-MFCCs\\test\\dr4\\fmcm0\n",
        "working on: sx370.mfcc.csv\n",
        "from path : C:\\Users\\FG\\Desktop\\PhD\\Research\\Reservoirs\\datasets\\TIMIT-MFCCs\\test\\dr4\\fmcm0\n",
        "working on: si1399.mfcc.csv"
       ]
      },
      {
       "output_type": "stream",
       "stream": "stdout",
       "text": [
        "\n",
        "from path : C:\\Users\\FG\\Desktop\\PhD\\Research\\Reservoirs\\datasets\\TIMIT-MFCCs\\test\\dr4\\fnmr0\n",
        "working on: si2029.mfcc.csv"
       ]
      },
      {
       "output_type": "stream",
       "stream": "stdout",
       "text": [
        "\n",
        "from path : C:\\Users\\FG\\Desktop\\PhD\\Research\\Reservoirs\\datasets\\TIMIT-MFCCs\\test\\dr4\\fnmr0\n",
        "working on: si769.mfcc.csv\n",
        "from path : C:\\Users\\FG\\Desktop\\PhD\\Research\\Reservoirs\\datasets\\TIMIT-MFCCs\\test\\dr4\\fnmr0\n",
        "working on: sx139.mfcc.csv"
       ]
      },
      {
       "output_type": "stream",
       "stream": "stdout",
       "text": [
        "\n",
        "from path : C:\\Users\\FG\\Desktop\\PhD\\Research\\Reservoirs\\datasets\\TIMIT-MFCCs\\test\\dr4\\fnmr0\n",
        "working on: sx229.mfcc.csv\n",
        "from path : C:\\Users\\FG\\Desktop\\PhD\\Research\\Reservoirs\\datasets\\TIMIT-MFCCs\\test\\dr4\\fnmr0\n",
        "working on: sx319.mfcc.csv"
       ]
      },
      {
       "output_type": "stream",
       "stream": "stdout",
       "text": [
        "\n",
        "from path : C:\\Users\\FG\\Desktop\\PhD\\Research\\Reservoirs\\datasets\\TIMIT-MFCCs\\test\\dr4\\fnmr0\n",
        "working on: sx409.mfcc.csv\n",
        "from path : C:\\Users\\FG\\Desktop\\PhD\\Research\\Reservoirs\\datasets\\TIMIT-MFCCs\\test\\dr4\\fnmr0\n",
        "working on: sx49.mfcc.csv"
       ]
      },
      {
       "output_type": "stream",
       "stream": "stdout",
       "text": [
        "\n",
        "from path : C:\\Users\\FG\\Desktop\\PhD\\Research\\Reservoirs\\datasets\\TIMIT-MFCCs\\test\\dr4\\fnmr0\n",
        "working on: si1030.mfcc.csv\n",
        "from path : C:\\Users\\FG\\Desktop\\PhD\\Research\\Reservoirs\\datasets\\TIMIT-MFCCs\\test\\dr4\\frew0\n",
        "working on: si1280.mfcc.csv"
       ]
      },
      {
       "output_type": "stream",
       "stream": "stdout",
       "text": [
        "\n",
        "from path : C:\\Users\\FG\\Desktop\\PhD\\Research\\Reservoirs\\datasets\\TIMIT-MFCCs\\test\\dr4\\frew0\n",
        "working on: si1910.mfcc.csv\n",
        "from path : C:\\Users\\FG\\Desktop\\PhD\\Research\\Reservoirs\\datasets\\TIMIT-MFCCs\\test\\dr4\\frew0\n",
        "working on: sx110.mfcc.csv"
       ]
      },
      {
       "output_type": "stream",
       "stream": "stdout",
       "text": [
        "\n",
        "from path : C:\\Users\\FG\\Desktop\\PhD\\Research\\Reservoirs\\datasets\\TIMIT-MFCCs\\test\\dr4\\frew0\n",
        "working on: sx20.mfcc.csv\n",
        "from path : C:\\Users\\FG\\Desktop\\PhD\\Research\\Reservoirs\\datasets\\TIMIT-MFCCs\\test\\dr4\\frew0\n",
        "working on: sx200.mfcc.csv"
       ]
      },
      {
       "output_type": "stream",
       "stream": "stdout",
       "text": [
        "\n",
        "from path : C:\\Users\\FG\\Desktop\\PhD\\Research\\Reservoirs\\datasets\\TIMIT-MFCCs\\test\\dr4\\frew0\n",
        "working on: sx290.mfcc.csv"
       ]
      },
      {
       "output_type": "stream",
       "stream": "stdout",
       "text": [
        "\n",
        "from path : C:\\Users\\FG\\Desktop\\PhD\\Research\\Reservoirs\\datasets\\TIMIT-MFCCs\\test\\dr4\\frew0\n",
        "working on: sx380.mfcc.csv"
       ]
      },
      {
       "output_type": "stream",
       "stream": "stdout",
       "text": [
        "\n",
        "from path : C:\\Users\\FG\\Desktop\\PhD\\Research\\Reservoirs\\datasets\\TIMIT-MFCCs\\test\\dr4\\frew0\n",
        "working on: si1355.mfcc.csv\n",
        "from path : C:\\Users\\FG\\Desktop\\PhD\\Research\\Reservoirs\\datasets\\TIMIT-MFCCs\\test\\dr4\\frng0\n",
        "working on: si1985.mfcc.csv"
       ]
      },
      {
       "output_type": "stream",
       "stream": "stdout",
       "text": [
        "\n",
        "from path : C:\\Users\\FG\\Desktop\\PhD\\Research\\Reservoirs\\datasets\\TIMIT-MFCCs\\test\\dr4\\frng0\n",
        "working on: si725.mfcc.csv"
       ]
      },
      {
       "output_type": "stream",
       "stream": "stdout",
       "text": [
        "\n",
        "from path : C:\\Users\\FG\\Desktop\\PhD\\Research\\Reservoirs\\datasets\\TIMIT-MFCCs\\test\\dr4\\frng0\n",
        "working on: sx185.mfcc.csv"
       ]
      },
      {
       "output_type": "stream",
       "stream": "stdout",
       "text": [
        "\n",
        "from path : C:\\Users\\FG\\Desktop\\PhD\\Research\\Reservoirs\\datasets\\TIMIT-MFCCs\\test\\dr4\\frng0\n",
        "working on: sx275.mfcc.csv"
       ]
      },
      {
       "output_type": "stream",
       "stream": "stdout",
       "text": [
        "\n",
        "from path : C:\\Users\\FG\\Desktop\\PhD\\Research\\Reservoirs\\datasets\\TIMIT-MFCCs\\test\\dr4\\frng0\n",
        "working on: sx365.mfcc.csv\n",
        "from path : C:\\Users\\FG\\Desktop\\PhD\\Research\\Reservoirs\\datasets\\TIMIT-MFCCs\\test\\dr4\\frng0\n",
        "working on: sx5.mfcc.csv"
       ]
      },
      {
       "output_type": "stream",
       "stream": "stdout",
       "text": [
        "\n",
        "from path : C:\\Users\\FG\\Desktop\\PhD\\Research\\Reservoirs\\datasets\\TIMIT-MFCCs\\test\\dr4\\frng0\n",
        "working on: sx95.mfcc.csv\n",
        "from path : C:\\Users\\FG\\Desktop\\PhD\\Research\\Reservoirs\\datasets\\TIMIT-MFCCs\\test\\dr4\\frng0\n",
        "working on: si1198.mfcc.csv"
       ]
      },
      {
       "output_type": "stream",
       "stream": "stdout",
       "text": [
        "\n",
        "from path : C:\\Users\\FG\\Desktop\\PhD\\Research\\Reservoirs\\datasets\\TIMIT-MFCCs\\test\\dr4\\fsem0\n",
        "working on: si1828.mfcc.csv\n",
        "from path : C:\\Users\\FG\\Desktop\\PhD\\Research\\Reservoirs\\datasets\\TIMIT-MFCCs\\test\\dr4\\fsem0\n",
        "working on: si568.mfcc.csv"
       ]
      },
      {
       "output_type": "stream",
       "stream": "stdout",
       "text": [
        "\n",
        "from path : C:\\Users\\FG\\Desktop\\PhD\\Research\\Reservoirs\\datasets\\TIMIT-MFCCs\\test\\dr4\\fsem0\n",
        "working on: sx118.mfcc.csv"
       ]
      },
      {
       "output_type": "stream",
       "stream": "stdout",
       "text": [
        "\n",
        "from path : C:\\Users\\FG\\Desktop\\PhD\\Research\\Reservoirs\\datasets\\TIMIT-MFCCs\\test\\dr4\\fsem0\n",
        "working on: sx208.mfcc.csv\n",
        "from path : C:\\Users\\FG\\Desktop\\PhD\\Research\\Reservoirs\\datasets\\TIMIT-MFCCs\\test\\dr4\\fsem0\n",
        "working on: sx28.mfcc.csv"
       ]
      },
      {
       "output_type": "stream",
       "stream": "stdout",
       "text": [
        "\n",
        "from path : C:\\Users\\FG\\Desktop\\PhD\\Research\\Reservoirs\\datasets\\TIMIT-MFCCs\\test\\dr4\\fsem0\n",
        "working on: sx298.mfcc.csv\n",
        "from path : C:\\Users\\FG\\Desktop\\PhD\\Research\\Reservoirs\\datasets\\TIMIT-MFCCs\\test\\dr4\\fsem0\n",
        "working on: sx388.mfcc.csv"
       ]
      },
      {
       "output_type": "stream",
       "stream": "stdout",
       "text": [
        "\n",
        "from path : C:\\Users\\FG\\Desktop\\PhD\\Research\\Reservoirs\\datasets\\TIMIT-MFCCs\\test\\dr4\\fsem0\n",
        "working on: si1220.mfcc.csv"
       ]
      },
      {
       "output_type": "stream",
       "stream": "stdout",
       "text": [
        "\n",
        "from path : C:\\Users\\FG\\Desktop\\PhD\\Research\\Reservoirs\\datasets\\TIMIT-MFCCs\\test\\dr4\\mbns0\n",
        "working on: si1850.mfcc.csv\n",
        "from path : C:\\Users\\FG\\Desktop\\PhD\\Research\\Reservoirs\\datasets\\TIMIT-MFCCs\\test\\dr4\\mbns0\n",
        "working on: si590.mfcc.csv"
       ]
      },
      {
       "output_type": "stream",
       "stream": "stdout",
       "text": [
        "\n",
        "from path : C:\\Users\\FG\\Desktop\\PhD\\Research\\Reservoirs\\datasets\\TIMIT-MFCCs\\test\\dr4\\mbns0\n",
        "working on: sx140.mfcc.csv"
       ]
      },
      {
       "output_type": "stream",
       "stream": "stdout",
       "text": [
        "\n",
        "from path : C:\\Users\\FG\\Desktop\\PhD\\Research\\Reservoirs\\datasets\\TIMIT-MFCCs\\test\\dr4\\mbns0\n",
        "working on: sx230.mfcc.csv"
       ]
      },
      {
       "output_type": "stream",
       "stream": "stdout",
       "text": [
        "\n",
        "from path : C:\\Users\\FG\\Desktop\\PhD\\Research\\Reservoirs\\datasets\\TIMIT-MFCCs\\test\\dr4\\mbns0\n",
        "working on: sx320.mfcc.csv"
       ]
      },
      {
       "output_type": "stream",
       "stream": "stdout",
       "text": [
        "\n",
        "from path : C:\\Users\\FG\\Desktop\\PhD\\Research\\Reservoirs\\datasets\\TIMIT-MFCCs\\test\\dr4\\mbns0\n",
        "working on: sx410.mfcc.csv\n",
        "from path : C:\\Users\\FG\\Desktop\\PhD\\Research\\Reservoirs\\datasets\\TIMIT-MFCCs\\test\\dr4\\mbns0\n",
        "working on: sx50.mfcc.csv"
       ]
      },
      {
       "output_type": "stream",
       "stream": "stdout",
       "text": [
        "\n",
        "from path : C:\\Users\\FG\\Desktop\\PhD\\Research\\Reservoirs\\datasets\\TIMIT-MFCCs\\test\\dr4\\mbns0\n",
        "working on: si1628.mfcc.csv"
       ]
      },
      {
       "output_type": "stream",
       "stream": "stdout",
       "text": [
        "\n",
        "from path : C:\\Users\\FG\\Desktop\\PhD\\Research\\Reservoirs\\datasets\\TIMIT-MFCCs\\test\\dr4\\mdls0\n",
        "working on: si2258.mfcc.csv\n",
        "from path : C:\\Users\\FG\\Desktop\\PhD\\Research\\Reservoirs\\datasets\\TIMIT-MFCCs\\test\\dr4\\mdls0\n",
        "working on: si998.mfcc.csv"
       ]
      },
      {
       "output_type": "stream",
       "stream": "stdout",
       "text": [
        "\n",
        "from path : C:\\Users\\FG\\Desktop\\PhD\\Research\\Reservoirs\\datasets\\TIMIT-MFCCs\\test\\dr4\\mdls0\n",
        "working on: sx188.mfcc.csv"
       ]
      },
      {
       "output_type": "stream",
       "stream": "stdout",
       "text": [
        "\n",
        "from path : C:\\Users\\FG\\Desktop\\PhD\\Research\\Reservoirs\\datasets\\TIMIT-MFCCs\\test\\dr4\\mdls0\n",
        "working on: sx278.mfcc.csv\n",
        "from path : C:\\Users\\FG\\Desktop\\PhD\\Research\\Reservoirs\\datasets\\TIMIT-MFCCs\\test\\dr4\\mdls0\n",
        "working on: sx368.mfcc.csv"
       ]
      },
      {
       "output_type": "stream",
       "stream": "stdout",
       "text": [
        "\n",
        "from path : C:\\Users\\FG\\Desktop\\PhD\\Research\\Reservoirs\\datasets\\TIMIT-MFCCs\\test\\dr4\\mdls0\n",
        "working on: sx8.mfcc.csv"
       ]
      },
      {
       "output_type": "stream",
       "stream": "stdout",
       "text": [
        "\n",
        "from path : C:\\Users\\FG\\Desktop\\PhD\\Research\\Reservoirs\\datasets\\TIMIT-MFCCs\\test\\dr4\\mdls0\n",
        "working on: sx98.mfcc.csv\n",
        "from path : C:\\Users\\FG\\Desktop\\PhD\\Research\\Reservoirs\\datasets\\TIMIT-MFCCs\\test\\dr4\\mdls0\n",
        "working on: si1013.mfcc.csv"
       ]
      },
      {
       "output_type": "stream",
       "stream": "stdout",
       "text": [
        "\n",
        "from path : C:\\Users\\FG\\Desktop\\PhD\\Research\\Reservoirs\\datasets\\TIMIT-MFCCs\\test\\dr4\\mdrm0\n",
        "working on: si1643.mfcc.csv"
       ]
      },
      {
       "output_type": "stream",
       "stream": "stdout",
       "text": [
        "\n",
        "from path : C:\\Users\\FG\\Desktop\\PhD\\Research\\Reservoirs\\datasets\\TIMIT-MFCCs\\test\\dr4\\mdrm0\n",
        "working on: si2273.mfcc.csv"
       ]
      },
      {
       "output_type": "stream",
       "stream": "stdout",
       "text": [
        "\n",
        "from path : C:\\Users\\FG\\Desktop\\PhD\\Research\\Reservoirs\\datasets\\TIMIT-MFCCs\\test\\dr4\\mdrm0\n",
        "working on: sx113.mfcc.csv\n",
        "from path : C:\\Users\\FG\\Desktop\\PhD\\Research\\Reservoirs\\datasets\\TIMIT-MFCCs\\test\\dr4\\mdrm0\n",
        "working on: sx203.mfcc.csv"
       ]
      },
      {
       "output_type": "stream",
       "stream": "stdout",
       "text": [
        "\n",
        "from path : C:\\Users\\FG\\Desktop\\PhD\\Research\\Reservoirs\\datasets\\TIMIT-MFCCs\\test\\dr4\\mdrm0\n",
        "working on: sx23.mfcc.csv"
       ]
      },
      {
       "output_type": "stream",
       "stream": "stdout",
       "text": [
        "\n",
        "from path : C:\\Users\\FG\\Desktop\\PhD\\Research\\Reservoirs\\datasets\\TIMIT-MFCCs\\test\\dr4\\mdrm0\n",
        "working on: sx293.mfcc.csv\n",
        "from path : C:\\Users\\FG\\Desktop\\PhD\\Research\\Reservoirs\\datasets\\TIMIT-MFCCs\\test\\dr4\\mdrm0\n",
        "working on: sx383.mfcc.csv"
       ]
      },
      {
       "output_type": "stream",
       "stream": "stdout",
       "text": [
        "\n",
        "from path : C:\\Users\\FG\\Desktop\\PhD\\Research\\Reservoirs\\datasets\\TIMIT-MFCCs\\test\\dr4\\mdrm0\n",
        "working on: si1129.mfcc.csv\n",
        "from path : C:\\Users\\FG\\Desktop\\PhD\\Research\\Reservoirs\\datasets\\TIMIT-MFCCs\\test\\dr4\\mgmm0\n",
        "working on: si1759.mfcc.csv"
       ]
      },
      {
       "output_type": "stream",
       "stream": "stdout",
       "text": [
        "\n",
        "from path : C:\\Users\\FG\\Desktop\\PhD\\Research\\Reservoirs\\datasets\\TIMIT-MFCCs\\test\\dr4\\mgmm0\n",
        "working on: si499.mfcc.csv\n",
        "from path : C:\\Users\\FG\\Desktop\\PhD\\Research\\Reservoirs\\datasets\\TIMIT-MFCCs\\test\\dr4\\mgmm0\n",
        "working on: sx139.mfcc.csv"
       ]
      },
      {
       "output_type": "stream",
       "stream": "stdout",
       "text": [
        "\n",
        "from path : C:\\Users\\FG\\Desktop\\PhD\\Research\\Reservoirs\\datasets\\TIMIT-MFCCs\\test\\dr4\\mgmm0\n",
        "working on: sx229.mfcc.csv"
       ]
      },
      {
       "output_type": "stream",
       "stream": "stdout",
       "text": [
        "\n",
        "from path : C:\\Users\\FG\\Desktop\\PhD\\Research\\Reservoirs\\datasets\\TIMIT-MFCCs\\test\\dr4\\mgmm0\n",
        "working on: sx319.mfcc.csv\n",
        "from path : C:\\Users\\FG\\Desktop\\PhD\\Research\\Reservoirs\\datasets\\TIMIT-MFCCs\\test\\dr4\\mgmm0\n",
        "working on: sx409.mfcc.csv"
       ]
      },
      {
       "output_type": "stream",
       "stream": "stdout",
       "text": [
        "\n",
        "from path : C:\\Users\\FG\\Desktop\\PhD\\Research\\Reservoirs\\datasets\\TIMIT-MFCCs\\test\\dr4\\mgmm0\n",
        "working on: sx49.mfcc.csv\n",
        "from path : C:\\Users\\FG\\Desktop\\PhD\\Research\\Reservoirs\\datasets\\TIMIT-MFCCs\\test\\dr4\\mgmm0\n",
        "working on: si1085.mfcc.csv"
       ]
      },
      {
       "output_type": "stream",
       "stream": "stdout",
       "text": [
        "\n",
        "from path : C:\\Users\\FG\\Desktop\\PhD\\Research\\Reservoirs\\datasets\\TIMIT-MFCCs\\test\\dr4\\mjdm1\n",
        "working on: si1715.mfcc.csv"
       ]
      },
      {
       "output_type": "stream",
       "stream": "stdout",
       "text": [
        "\n",
        "from path : C:\\Users\\FG\\Desktop\\PhD\\Research\\Reservoirs\\datasets\\TIMIT-MFCCs\\test\\dr4\\mjdm1\n",
        "working on: si455.mfcc.csv"
       ]
      },
      {
       "output_type": "stream",
       "stream": "stdout",
       "text": [
        "\n",
        "from path : C:\\Users\\FG\\Desktop\\PhD\\Research\\Reservoirs\\datasets\\TIMIT-MFCCs\\test\\dr4\\mjdm1\n",
        "working on: sx185.mfcc.csv\n",
        "from path : C:\\Users\\FG\\Desktop\\PhD\\Research\\Reservoirs\\datasets\\TIMIT-MFCCs\\test\\dr4\\mjdm1\n",
        "working on: sx275.mfcc.csv"
       ]
      },
      {
       "output_type": "stream",
       "stream": "stdout",
       "text": [
        "\n",
        "from path : C:\\Users\\FG\\Desktop\\PhD\\Research\\Reservoirs\\datasets\\TIMIT-MFCCs\\test\\dr4\\mjdm1\n",
        "working on: sx365.mfcc.csv\n",
        "from path : C:\\Users\\FG\\Desktop\\PhD\\Research\\Reservoirs\\datasets\\TIMIT-MFCCs\\test\\dr4\\mjdm1\n",
        "working on: sx5.mfcc.csv"
       ]
      },
      {
       "output_type": "stream",
       "stream": "stdout",
       "text": [
        "\n",
        "from path : C:\\Users\\FG\\Desktop\\PhD\\Research\\Reservoirs\\datasets\\TIMIT-MFCCs\\test\\dr4\\mjdm1\n",
        "working on: sx95.mfcc.csv\n",
        "from path : C:\\Users\\FG\\Desktop\\PhD\\Research\\Reservoirs\\datasets\\TIMIT-MFCCs\\test\\dr4\\mjdm1\n",
        "working on: si1114.mfcc.csv"
       ]
      },
      {
       "output_type": "stream",
       "stream": "stdout",
       "text": [
        "\n",
        "from path : C:\\Users\\FG\\Desktop\\PhD\\Research\\Reservoirs\\datasets\\TIMIT-MFCCs\\test\\dr4\\mjrf0\n",
        "working on: si2081.mfcc.csv\n",
        "from path : C:\\Users\\FG\\Desktop\\PhD\\Research\\Reservoirs\\datasets\\TIMIT-MFCCs\\test\\dr4\\mjrf0\n",
        "working on: si821.mfcc.csv"
       ]
      },
      {
       "output_type": "stream",
       "stream": "stdout",
       "text": [
        "\n",
        "from path : C:\\Users\\FG\\Desktop\\PhD\\Research\\Reservoirs\\datasets\\TIMIT-MFCCs\\test\\dr4\\mjrf0\n",
        "working on: sx101.mfcc.csv"
       ]
      },
      {
       "output_type": "stream",
       "stream": "stdout",
       "text": [
        "\n",
        "from path : C:\\Users\\FG\\Desktop\\PhD\\Research\\Reservoirs\\datasets\\TIMIT-MFCCs\\test\\dr4\\mjrf0\n",
        "working on: sx11.mfcc.csv"
       ]
      },
      {
       "output_type": "stream",
       "stream": "stdout",
       "text": [
        "\n",
        "from path : C:\\Users\\FG\\Desktop\\PhD\\Research\\Reservoirs\\datasets\\TIMIT-MFCCs\\test\\dr4\\mjrf0\n",
        "working on: sx191.mfcc.csv\n",
        "from path : C:\\Users\\FG\\Desktop\\PhD\\Research\\Reservoirs\\datasets\\TIMIT-MFCCs\\test\\dr4\\mjrf0\n",
        "working on: sx281.mfcc.csv"
       ]
      },
      {
       "output_type": "stream",
       "stream": "stdout",
       "text": [
        "\n",
        "from path : C:\\Users\\FG\\Desktop\\PhD\\Research\\Reservoirs\\datasets\\TIMIT-MFCCs\\test\\dr4\\mjrf0\n",
        "working on: sx371.mfcc.csv"
       ]
      },
      {
       "output_type": "stream",
       "stream": "stdout",
       "text": [
        "\n",
        "from path : C:\\Users\\FG\\Desktop\\PhD\\Research\\Reservoirs\\datasets\\TIMIT-MFCCs\\test\\dr4\\mjrf0\n",
        "working on: si1091.mfcc.csv"
       ]
      },
      {
       "output_type": "stream",
       "stream": "stdout",
       "text": [
        "\n",
        "from path : C:\\Users\\FG\\Desktop\\PhD\\Research\\Reservoirs\\datasets\\TIMIT-MFCCs\\test\\dr4\\mkcl0\n",
        "working on: si1721.mfcc.csv"
       ]
      },
      {
       "output_type": "stream",
       "stream": "stdout",
       "text": [
        "\n",
        "from path : C:\\Users\\FG\\Desktop\\PhD\\Research\\Reservoirs\\datasets\\TIMIT-MFCCs\\test\\dr4\\mkcl0\n",
        "working on: si461.mfcc.csv\n",
        "from path : C:\\Users\\FG\\Desktop\\PhD\\Research\\Reservoirs\\datasets\\TIMIT-MFCCs\\test\\dr4\\mkcl0\n",
        "working on: sx101.mfcc.csv"
       ]
      },
      {
       "output_type": "stream",
       "stream": "stdout",
       "text": [
        "\n",
        "from path : C:\\Users\\FG\\Desktop\\PhD\\Research\\Reservoirs\\datasets\\TIMIT-MFCCs\\test\\dr4\\mkcl0\n",
        "working on: sx11.mfcc.csv"
       ]
      },
      {
       "output_type": "stream",
       "stream": "stdout",
       "text": [
        "\n",
        "from path : C:\\Users\\FG\\Desktop\\PhD\\Research\\Reservoirs\\datasets\\TIMIT-MFCCs\\test\\dr4\\mkcl0\n",
        "working on: sx191.mfcc.csv\n",
        "from path : C:\\Users\\FG\\Desktop\\PhD\\Research\\Reservoirs\\datasets\\TIMIT-MFCCs\\test\\dr4\\mkcl0\n",
        "working on: sx281.mfcc.csv"
       ]
      },
      {
       "output_type": "stream",
       "stream": "stdout",
       "text": [
        "\n",
        "from path : C:\\Users\\FG\\Desktop\\PhD\\Research\\Reservoirs\\datasets\\TIMIT-MFCCs\\test\\dr4\\mkcl0\n",
        "working on: sx371.mfcc.csv\n",
        "from path : C:\\Users\\FG\\Desktop\\PhD\\Research\\Reservoirs\\datasets\\TIMIT-MFCCs\\test\\dr4\\mkcl0\n",
        "working on: si1310.mfcc.csv"
       ]
      },
      {
       "output_type": "stream",
       "stream": "stdout",
       "text": [
        "\n",
        "from path : C:\\Users\\FG\\Desktop\\PhD\\Research\\Reservoirs\\datasets\\TIMIT-MFCCs\\test\\dr4\\mljb0\n",
        "working on: si1940.mfcc.csv\n",
        "from path : C:\\Users\\FG\\Desktop\\PhD\\Research\\Reservoirs\\datasets\\TIMIT-MFCCs\\test\\dr4\\mljb0\n",
        "working on: si680.mfcc.csv"
       ]
      },
      {
       "output_type": "stream",
       "stream": "stdout",
       "text": [
        "\n",
        "from path : C:\\Users\\FG\\Desktop\\PhD\\Research\\Reservoirs\\datasets\\TIMIT-MFCCs\\test\\dr4\\mljb0\n",
        "working on: sx140.mfcc.csv"
       ]
      },
      {
       "output_type": "stream",
       "stream": "stdout",
       "text": [
        "\n",
        "from path : C:\\Users\\FG\\Desktop\\PhD\\Research\\Reservoirs\\datasets\\TIMIT-MFCCs\\test\\dr4\\mljb0\n",
        "working on: sx230.mfcc.csv"
       ]
      },
      {
       "output_type": "stream",
       "stream": "stdout",
       "text": [
        "\n",
        "from path : C:\\Users\\FG\\Desktop\\PhD\\Research\\Reservoirs\\datasets\\TIMIT-MFCCs\\test\\dr4\\mljb0\n",
        "working on: sx320.mfcc.csv\n",
        "from path : C:\\Users\\FG\\Desktop\\PhD\\Research\\Reservoirs\\datasets\\TIMIT-MFCCs\\test\\dr4\\mljb0\n",
        "working on: sx410.mfcc.csv"
       ]
      },
      {
       "output_type": "stream",
       "stream": "stdout",
       "text": [
        "\n",
        "from path : C:\\Users\\FG\\Desktop\\PhD\\Research\\Reservoirs\\datasets\\TIMIT-MFCCs\\test\\dr4\\mljb0\n",
        "working on: sx50.mfcc.csv"
       ]
      },
      {
       "output_type": "stream",
       "stream": "stdout",
       "text": [
        "\n",
        "from path : C:\\Users\\FG\\Desktop\\PhD\\Research\\Reservoirs\\datasets\\TIMIT-MFCCs\\test\\dr4\\mljb0\n",
        "working on: si1363.mfcc.csv"
       ]
      },
      {
       "output_type": "stream",
       "stream": "stdout",
       "text": [
        "\n",
        "from path : C:\\Users\\FG\\Desktop\\PhD\\Research\\Reservoirs\\datasets\\TIMIT-MFCCs\\test\\dr4\\mlll0\n",
        "working on: si1993.mfcc.csv"
       ]
      },
      {
       "output_type": "stream",
       "stream": "stdout",
       "text": [
        "\n",
        "from path : C:\\Users\\FG\\Desktop\\PhD\\Research\\Reservoirs\\datasets\\TIMIT-MFCCs\\test\\dr4\\mlll0\n",
        "working on: si733.mfcc.csv"
       ]
      },
      {
       "output_type": "stream",
       "stream": "stdout",
       "text": [
        "\n",
        "from path : C:\\Users\\FG\\Desktop\\PhD\\Research\\Reservoirs\\datasets\\TIMIT-MFCCs\\test\\dr4\\mlll0\n",
        "working on: sx103.mfcc.csv"
       ]
      },
      {
       "output_type": "stream",
       "stream": "stdout",
       "text": [
        "\n",
        "from path : C:\\Users\\FG\\Desktop\\PhD\\Research\\Reservoirs\\datasets\\TIMIT-MFCCs\\test\\dr4\\mlll0\n",
        "working on: sx13.mfcc.csv\n",
        "from path : C:\\Users\\FG\\Desktop\\PhD\\Research\\Reservoirs\\datasets\\TIMIT-MFCCs\\test\\dr4\\mlll0\n",
        "working on: sx193.mfcc.csv"
       ]
      },
      {
       "output_type": "stream",
       "stream": "stdout",
       "text": [
        "\n",
        "from path : C:\\Users\\FG\\Desktop\\PhD\\Research\\Reservoirs\\datasets\\TIMIT-MFCCs\\test\\dr4\\mlll0\n",
        "working on: sx283.mfcc.csv"
       ]
      },
      {
       "output_type": "stream",
       "stream": "stdout",
       "text": [
        "\n",
        "from path : C:\\Users\\FG\\Desktop\\PhD\\Research\\Reservoirs\\datasets\\TIMIT-MFCCs\\test\\dr4\\mlll0\n",
        "working on: sx373.mfcc.csv"
       ]
      },
      {
       "output_type": "stream",
       "stream": "stdout",
       "text": [
        "\n",
        "from path : C:\\Users\\FG\\Desktop\\PhD\\Research\\Reservoirs\\datasets\\TIMIT-MFCCs\\test\\dr4\\mlll0\n",
        "working on: si1359.mfcc.csv"
       ]
      },
      {
       "output_type": "stream",
       "stream": "stdout",
       "text": [
        "\n",
        "from path : C:\\Users\\FG\\Desktop\\PhD\\Research\\Reservoirs\\datasets\\TIMIT-MFCCs\\test\\dr4\\mpcs0\n",
        "working on: si1989.mfcc.csv"
       ]
      },
      {
       "output_type": "stream",
       "stream": "stdout",
       "text": [
        "\n",
        "from path : C:\\Users\\FG\\Desktop\\PhD\\Research\\Reservoirs\\datasets\\TIMIT-MFCCs\\test\\dr4\\mpcs0\n",
        "working on: si729.mfcc.csv"
       ]
      },
      {
       "output_type": "stream",
       "stream": "stdout",
       "text": [
        "\n",
        "from path : C:\\Users\\FG\\Desktop\\PhD\\Research\\Reservoirs\\datasets\\TIMIT-MFCCs\\test\\dr4\\mpcs0\n",
        "working on: sx189.mfcc.csv"
       ]
      },
      {
       "output_type": "stream",
       "stream": "stdout",
       "text": [
        "\n",
        "from path : C:\\Users\\FG\\Desktop\\PhD\\Research\\Reservoirs\\datasets\\TIMIT-MFCCs\\test\\dr4\\mpcs0\n",
        "working on: sx279.mfcc.csv"
       ]
      },
      {
       "output_type": "stream",
       "stream": "stdout",
       "text": [
        "\n",
        "from path : C:\\Users\\FG\\Desktop\\PhD\\Research\\Reservoirs\\datasets\\TIMIT-MFCCs\\test\\dr4\\mpcs0\n",
        "working on: sx369.mfcc.csv"
       ]
      },
      {
       "output_type": "stream",
       "stream": "stdout",
       "text": [
        "\n",
        "from path : C:\\Users\\FG\\Desktop\\PhD\\Research\\Reservoirs\\datasets\\TIMIT-MFCCs\\test\\dr4\\mpcs0\n",
        "working on: sx9.mfcc.csv"
       ]
      },
      {
       "output_type": "stream",
       "stream": "stdout",
       "text": [
        "\n",
        "from path : C:\\Users\\FG\\Desktop\\PhD\\Research\\Reservoirs\\datasets\\TIMIT-MFCCs\\test\\dr4\\mpcs0\n",
        "working on: sx99.mfcc.csv\n",
        "from path : C:\\Users\\FG\\Desktop\\PhD\\Research\\Reservoirs\\datasets\\TIMIT-MFCCs\\test\\dr4\\mpcs0\n",
        "working on: si1394.mfcc.csv"
       ]
      },
      {
       "output_type": "stream",
       "stream": "stdout",
       "text": [
        "\n",
        "from path : C:\\Users\\FG\\Desktop\\PhD\\Research\\Reservoirs\\datasets\\TIMIT-MFCCs\\test\\dr4\\mplb0\n",
        "working on: si2024.mfcc.csv\n",
        "from path : C:\\Users\\FG\\Desktop\\PhD\\Research\\Reservoirs\\datasets\\TIMIT-MFCCs\\test\\dr4\\mplb0\n",
        "working on: si764.mfcc.csv"
       ]
      },
      {
       "output_type": "stream",
       "stream": "stdout",
       "text": [
        "\n",
        "from path : C:\\Users\\FG\\Desktop\\PhD\\Research\\Reservoirs\\datasets\\TIMIT-MFCCs\\test\\dr4\\mplb0\n",
        "working on: sx134.mfcc.csv"
       ]
      },
      {
       "output_type": "stream",
       "stream": "stdout",
       "text": [
        "\n",
        "from path : C:\\Users\\FG\\Desktop\\PhD\\Research\\Reservoirs\\datasets\\TIMIT-MFCCs\\test\\dr4\\mplb0\n",
        "working on: sx224.mfcc.csv"
       ]
      },
      {
       "output_type": "stream",
       "stream": "stdout",
       "text": [
        "\n",
        "from path : C:\\Users\\FG\\Desktop\\PhD\\Research\\Reservoirs\\datasets\\TIMIT-MFCCs\\test\\dr4\\mplb0\n",
        "working on: sx314.mfcc.csv\n",
        "from path : C:\\Users\\FG\\Desktop\\PhD\\Research\\Reservoirs\\datasets\\TIMIT-MFCCs\\test\\dr4\\mplb0\n",
        "working on: sx404.mfcc.csv"
       ]
      },
      {
       "output_type": "stream",
       "stream": "stdout",
       "text": [
        "\n",
        "from path : C:\\Users\\FG\\Desktop\\PhD\\Research\\Reservoirs\\datasets\\TIMIT-MFCCs\\test\\dr4\\mplb0\n",
        "working on: sx44.mfcc.csv\n",
        "from path : C:\\Users\\FG\\Desktop\\PhD\\Research\\Reservoirs\\datasets\\TIMIT-MFCCs\\test\\dr4\\mplb0\n",
        "working on: si1127.mfcc.csv"
       ]
      },
      {
       "output_type": "stream",
       "stream": "stdout",
       "text": [
        "\n",
        "from path : C:\\Users\\FG\\Desktop\\PhD\\Research\\Reservoirs\\datasets\\TIMIT-MFCCs\\test\\dr4\\mpwm0\n",
        "working on: si1757.mfcc.csv"
       ]
      },
      {
       "output_type": "stream",
       "stream": "stdout",
       "text": [
        "\n",
        "from path : C:\\Users\\FG\\Desktop\\PhD\\Research\\Reservoirs\\datasets\\TIMIT-MFCCs\\test\\dr4\\mpwm0\n",
        "working on: si2279.mfcc.csv"
       ]
      },
      {
       "output_type": "stream",
       "stream": "stdout",
       "text": [
        "\n",
        "from path : C:\\Users\\FG\\Desktop\\PhD\\Research\\Reservoirs\\datasets\\TIMIT-MFCCs\\test\\dr4\\mpwm0\n",
        "working on: sx137.mfcc.csv\n",
        "from path : C:\\Users\\FG\\Desktop\\PhD\\Research\\Reservoirs\\datasets\\TIMIT-MFCCs\\test\\dr4\\mpwm0\n",
        "working on: sx227.mfcc.csv"
       ]
      },
      {
       "output_type": "stream",
       "stream": "stdout",
       "text": [
        "\n",
        "from path : C:\\Users\\FG\\Desktop\\PhD\\Research\\Reservoirs\\datasets\\TIMIT-MFCCs\\test\\dr4\\mpwm0\n",
        "working on: sx317.mfcc.csv"
       ]
      },
      {
       "output_type": "stream",
       "stream": "stdout",
       "text": [
        "\n",
        "from path : C:\\Users\\FG\\Desktop\\PhD\\Research\\Reservoirs\\datasets\\TIMIT-MFCCs\\test\\dr4\\mpwm0\n",
        "working on: sx407.mfcc.csv"
       ]
      },
      {
       "output_type": "stream",
       "stream": "stdout",
       "text": [
        "\n",
        "from path : C:\\Users\\FG\\Desktop\\PhD\\Research\\Reservoirs\\datasets\\TIMIT-MFCCs\\test\\dr4\\mpwm0\n",
        "working on: sx47.mfcc.csv"
       ]
      },
      {
       "output_type": "stream",
       "stream": "stdout",
       "text": [
        "\n",
        "from path : C:\\Users\\FG\\Desktop\\PhD\\Research\\Reservoirs\\datasets\\TIMIT-MFCCs\\test\\dr4\\mpwm0\n",
        "working on: si1397.mfcc.csv\n",
        "from path : C:\\Users\\FG\\Desktop\\PhD\\Research\\Reservoirs\\datasets\\TIMIT-MFCCs\\test\\dr4\\mrko0\n",
        "working on: si2027.mfcc.csv"
       ]
      },
      {
       "output_type": "stream",
       "stream": "stdout",
       "text": [
        "\n",
        "from path : C:\\Users\\FG\\Desktop\\PhD\\Research\\Reservoirs\\datasets\\TIMIT-MFCCs\\test\\dr4\\mrko0\n",
        "working on: si767.mfcc.csv\n",
        "from path : C:\\Users\\FG\\Desktop\\PhD\\Research\\Reservoirs\\datasets\\TIMIT-MFCCs\\test\\dr4\\mrko0\n",
        "working on: sx137.mfcc.csv"
       ]
      },
      {
       "output_type": "stream",
       "stream": "stdout",
       "text": [
        "\n",
        "from path : C:\\Users\\FG\\Desktop\\PhD\\Research\\Reservoirs\\datasets\\TIMIT-MFCCs\\test\\dr4\\mrko0\n",
        "working on: sx227.mfcc.csv"
       ]
      },
      {
       "output_type": "stream",
       "stream": "stdout",
       "text": [
        "\n",
        "from path : C:\\Users\\FG\\Desktop\\PhD\\Research\\Reservoirs\\datasets\\TIMIT-MFCCs\\test\\dr4\\mrko0\n",
        "working on: sx317.mfcc.csv\n",
        "from path : C:\\Users\\FG\\Desktop\\PhD\\Research\\Reservoirs\\datasets\\TIMIT-MFCCs\\test\\dr4\\mrko0\n",
        "working on: sx407.mfcc.csv"
       ]
      },
      {
       "output_type": "stream",
       "stream": "stdout",
       "text": [
        "\n",
        "from path : C:\\Users\\FG\\Desktop\\PhD\\Research\\Reservoirs\\datasets\\TIMIT-MFCCs\\test\\dr4\\mrko0\n",
        "working on: sx47.mfcc.csv\n",
        "from path : C:\\Users\\FG\\Desktop\\PhD\\Research\\Reservoirs\\datasets\\TIMIT-MFCCs\\test\\dr4\\mrko0\n",
        "working on: si1307.mfcc.csv"
       ]
      },
      {
       "output_type": "stream",
       "stream": "stdout",
       "text": [
        "\n",
        "from path : C:\\Users\\FG\\Desktop\\PhD\\Research\\Reservoirs\\datasets\\TIMIT-MFCCs\\test\\dr4\\mroa0\n",
        "working on: si1970.mfcc.csv"
       ]
      },
      {
       "output_type": "stream",
       "stream": "stdout",
       "text": [
        "\n",
        "from path : C:\\Users\\FG\\Desktop\\PhD\\Research\\Reservoirs\\datasets\\TIMIT-MFCCs\\test\\dr4\\mroa0\n",
        "working on: si677.mfcc.csv"
       ]
      },
      {
       "output_type": "stream",
       "stream": "stdout",
       "text": [
        "\n",
        "from path : C:\\Users\\FG\\Desktop\\PhD\\Research\\Reservoirs\\datasets\\TIMIT-MFCCs\\test\\dr4\\mroa0\n",
        "working on: sx137.mfcc.csv\n",
        "from path : C:\\Users\\FG\\Desktop\\PhD\\Research\\Reservoirs\\datasets\\TIMIT-MFCCs\\test\\dr4\\mroa0\n",
        "working on: sx227.mfcc.csv"
       ]
      },
      {
       "output_type": "stream",
       "stream": "stdout",
       "text": [
        "\n",
        "from path : C:\\Users\\FG\\Desktop\\PhD\\Research\\Reservoirs\\datasets\\TIMIT-MFCCs\\test\\dr4\\mroa0\n",
        "working on: sx317.mfcc.csv\n",
        "from path : C:\\Users\\FG\\Desktop\\PhD\\Research\\Reservoirs\\datasets\\TIMIT-MFCCs\\test\\dr4\\mroa0\n",
        "working on: sx407.mfcc.csv"
       ]
      },
      {
       "output_type": "stream",
       "stream": "stdout",
       "text": [
        "\n",
        "from path : C:\\Users\\FG\\Desktop\\PhD\\Research\\Reservoirs\\datasets\\TIMIT-MFCCs\\test\\dr4\\mroa0\n",
        "working on: sx47.mfcc.csv\n",
        "from path : C:\\Users\\FG\\Desktop\\PhD\\Research\\Reservoirs\\datasets\\TIMIT-MFCCs\\test\\dr4\\mroa0\n",
        "working on: si1133.mfcc.csv"
       ]
      },
      {
       "output_type": "stream",
       "stream": "stdout",
       "text": [
        "\n",
        "from path : C:\\Users\\FG\\Desktop\\PhD\\Research\\Reservoirs\\datasets\\TIMIT-MFCCs\\test\\dr4\\mteb0\n",
        "working on: si2064.mfcc.csv"
       ]
      },
      {
       "output_type": "stream",
       "stream": "stdout",
       "text": [
        "\n",
        "from path : C:\\Users\\FG\\Desktop\\PhD\\Research\\Reservoirs\\datasets\\TIMIT-MFCCs\\test\\dr4\\mteb0\n",
        "working on: si503.mfcc.csv"
       ]
      },
      {
       "output_type": "stream",
       "stream": "stdout",
       "text": [
        "\n",
        "from path : C:\\Users\\FG\\Desktop\\PhD\\Research\\Reservoirs\\datasets\\TIMIT-MFCCs\\test\\dr4\\mteb0\n",
        "working on: sx143.mfcc.csv\n",
        "from path : C:\\Users\\FG\\Desktop\\PhD\\Research\\Reservoirs\\datasets\\TIMIT-MFCCs\\test\\dr4\\mteb0\n",
        "working on: sx233.mfcc.csv"
       ]
      },
      {
       "output_type": "stream",
       "stream": "stdout",
       "text": [
        "\n",
        "from path : C:\\Users\\FG\\Desktop\\PhD\\Research\\Reservoirs\\datasets\\TIMIT-MFCCs\\test\\dr4\\mteb0\n",
        "working on: sx323.mfcc.csv"
       ]
      },
      {
       "output_type": "stream",
       "stream": "stdout",
       "text": [
        "\n",
        "from path : C:\\Users\\FG\\Desktop\\PhD\\Research\\Reservoirs\\datasets\\TIMIT-MFCCs\\test\\dr4\\mteb0\n",
        "working on: sx413.mfcc.csv\n",
        "from path : C:\\Users\\FG\\Desktop\\PhD\\Research\\Reservoirs\\datasets\\TIMIT-MFCCs\\test\\dr4\\mteb0\n",
        "working on: sx53.mfcc.csv"
       ]
      },
      {
       "output_type": "stream",
       "stream": "stdout",
       "text": [
        "\n",
        "from path : C:\\Users\\FG\\Desktop\\PhD\\Research\\Reservoirs\\datasets\\TIMIT-MFCCs\\test\\dr4\\mteb0\n",
        "working on: si1370.mfcc.csv\n",
        "from path : C:\\Users\\FG\\Desktop\\PhD\\Research\\Reservoirs\\datasets\\TIMIT-MFCCs\\test\\dr4\\mtls0\n",
        "working on: si2000.mfcc.csv"
       ]
      },
      {
       "output_type": "stream",
       "stream": "stdout",
       "text": [
        "\n",
        "from path : C:\\Users\\FG\\Desktop\\PhD\\Research\\Reservoirs\\datasets\\TIMIT-MFCCs\\test\\dr4\\mtls0\n",
        "working on: si740.mfcc.csv\n",
        "from path : C:\\Users\\FG\\Desktop\\PhD\\Research\\Reservoirs\\datasets\\TIMIT-MFCCs\\test\\dr4\\mtls0\n",
        "working on: sx110.mfcc.csv"
       ]
      },
      {
       "output_type": "stream",
       "stream": "stdout",
       "text": [
        "\n",
        "from path : C:\\Users\\FG\\Desktop\\PhD\\Research\\Reservoirs\\datasets\\TIMIT-MFCCs\\test\\dr4\\mtls0\n",
        "working on: sx20.mfcc.csv"
       ]
      },
      {
       "output_type": "stream",
       "stream": "stdout",
       "text": [
        "\n",
        "from path : C:\\Users\\FG\\Desktop\\PhD\\Research\\Reservoirs\\datasets\\TIMIT-MFCCs\\test\\dr4\\mtls0\n",
        "working on: sx200.mfcc.csv\n",
        "from path : C:\\Users\\FG\\Desktop\\PhD\\Research\\Reservoirs\\datasets\\TIMIT-MFCCs\\test\\dr4\\mtls0\n",
        "working on: sx290.mfcc.csv"
       ]
      },
      {
       "output_type": "stream",
       "stream": "stdout",
       "text": [
        "\n",
        "from path : C:\\Users\\FG\\Desktop\\PhD\\Research\\Reservoirs\\datasets\\TIMIT-MFCCs\\test\\dr4\\mtls0\n",
        "working on: sx380.mfcc.csv\n",
        "from path : C:\\Users\\FG\\Desktop\\PhD\\Research\\Reservoirs\\datasets\\TIMIT-MFCCs\\test\\dr4\\mtls0\n",
        "working on: si1550.mfcc.csv"
       ]
      },
      {
       "output_type": "stream",
       "stream": "stdout",
       "text": [
        "\n",
        "from path : C:\\Users\\FG\\Desktop\\PhD\\Research\\Reservoirs\\datasets\\TIMIT-MFCCs\\test\\dr5\\fasw0\n",
        "working on: si2180.mfcc.csv"
       ]
      },
      {
       "output_type": "stream",
       "stream": "stdout",
       "text": [
        "\n",
        "from path : C:\\Users\\FG\\Desktop\\PhD\\Research\\Reservoirs\\datasets\\TIMIT-MFCCs\\test\\dr5\\fasw0\n",
        "working on: si920.mfcc.csv\n",
        "from path : C:\\Users\\FG\\Desktop\\PhD\\Research\\Reservoirs\\datasets\\TIMIT-MFCCs\\test\\dr5\\fasw0\n",
        "working on: sx110.mfcc.csv"
       ]
      },
      {
       "output_type": "stream",
       "stream": "stdout",
       "text": [
        "\n",
        "from path : C:\\Users\\FG\\Desktop\\PhD\\Research\\Reservoirs\\datasets\\TIMIT-MFCCs\\test\\dr5\\fasw0\n",
        "working on: sx20.mfcc.csv"
       ]
      },
      {
       "output_type": "stream",
       "stream": "stdout",
       "text": [
        "\n",
        "from path : C:\\Users\\FG\\Desktop\\PhD\\Research\\Reservoirs\\datasets\\TIMIT-MFCCs\\test\\dr5\\fasw0\n",
        "working on: sx200.mfcc.csv"
       ]
      },
      {
       "output_type": "stream",
       "stream": "stdout",
       "text": [
        "\n",
        "from path : C:\\Users\\FG\\Desktop\\PhD\\Research\\Reservoirs\\datasets\\TIMIT-MFCCs\\test\\dr5\\fasw0\n",
        "working on: sx290.mfcc.csv"
       ]
      },
      {
       "output_type": "stream",
       "stream": "stdout",
       "text": [
        "\n",
        "from path : C:\\Users\\FG\\Desktop\\PhD\\Research\\Reservoirs\\datasets\\TIMIT-MFCCs\\test\\dr5\\fasw0\n",
        "working on: sx380.mfcc.csv"
       ]
      },
      {
       "output_type": "stream",
       "stream": "stdout",
       "text": [
        "\n",
        "from path : C:\\Users\\FG\\Desktop\\PhD\\Research\\Reservoirs\\datasets\\TIMIT-MFCCs\\test\\dr5\\fasw0\n",
        "working on: si1000.mfcc.csv\n",
        "from path : C:\\Users\\FG\\Desktop\\PhD\\Research\\Reservoirs\\datasets\\TIMIT-MFCCs\\test\\dr5\\fawf0\n",
        "working on: si1630.mfcc.csv"
       ]
      },
      {
       "output_type": "stream",
       "stream": "stdout",
       "text": [
        "\n",
        "from path : C:\\Users\\FG\\Desktop\\PhD\\Research\\Reservoirs\\datasets\\TIMIT-MFCCs\\test\\dr5\\fawf0\n",
        "working on: si2260.mfcc.csv\n",
        "from path : C:\\Users\\FG\\Desktop\\PhD\\Research\\Reservoirs\\datasets\\TIMIT-MFCCs\\test\\dr5\\fawf0\n",
        "working on: sx10.mfcc.csv"
       ]
      },
      {
       "output_type": "stream",
       "stream": "stdout",
       "text": [
        "\n",
        "from path : C:\\Users\\FG\\Desktop\\PhD\\Research\\Reservoirs\\datasets\\TIMIT-MFCCs\\test\\dr5\\fawf0\n",
        "working on: sx100.mfcc.csv"
       ]
      },
      {
       "output_type": "stream",
       "stream": "stdout",
       "text": [
        "\n",
        "from path : C:\\Users\\FG\\Desktop\\PhD\\Research\\Reservoirs\\datasets\\TIMIT-MFCCs\\test\\dr5\\fawf0\n",
        "working on: sx190.mfcc.csv\n",
        "from path : C:\\Users\\FG\\Desktop\\PhD\\Research\\Reservoirs\\datasets\\TIMIT-MFCCs\\test\\dr5\\fawf0\n",
        "working on: sx280.mfcc.csv"
       ]
      },
      {
       "output_type": "stream",
       "stream": "stdout",
       "text": [
        "\n",
        "from path : C:\\Users\\FG\\Desktop\\PhD\\Research\\Reservoirs\\datasets\\TIMIT-MFCCs\\test\\dr5\\fawf0\n",
        "working on: sx370.mfcc.csv\n",
        "from path : C:\\Users\\FG\\Desktop\\PhD\\Research\\Reservoirs\\datasets\\TIMIT-MFCCs\\test\\dr5\\fawf0\n",
        "working on: si1403.mfcc.csv"
       ]
      },
      {
       "output_type": "stream",
       "stream": "stdout",
       "text": [
        "\n",
        "from path : C:\\Users\\FG\\Desktop\\PhD\\Research\\Reservoirs\\datasets\\TIMIT-MFCCs\\test\\dr5\\fcal1\n",
        "working on: si2033.mfcc.csv"
       ]
      },
      {
       "output_type": "stream",
       "stream": "stdout",
       "text": [
        "\n",
        "from path : C:\\Users\\FG\\Desktop\\PhD\\Research\\Reservoirs\\datasets\\TIMIT-MFCCs\\test\\dr5\\fcal1\n",
        "working on: si773.mfcc.csv\n",
        "from path : C:\\Users\\FG\\Desktop\\PhD\\Research\\Reservoirs\\datasets\\TIMIT-MFCCs\\test\\dr5\\fcal1\n",
        "working on: sx143.mfcc.csv"
       ]
      },
      {
       "output_type": "stream",
       "stream": "stdout",
       "text": [
        "\n",
        "from path : C:\\Users\\FG\\Desktop\\PhD\\Research\\Reservoirs\\datasets\\TIMIT-MFCCs\\test\\dr5\\fcal1\n",
        "working on: sx233.mfcc.csv"
       ]
      },
      {
       "output_type": "stream",
       "stream": "stdout",
       "text": [
        "\n",
        "from path : C:\\Users\\FG\\Desktop\\PhD\\Research\\Reservoirs\\datasets\\TIMIT-MFCCs\\test\\dr5\\fcal1\n",
        "working on: sx323.mfcc.csv\n",
        "from path : C:\\Users\\FG\\Desktop\\PhD\\Research\\Reservoirs\\datasets\\TIMIT-MFCCs\\test\\dr5\\fcal1\n",
        "working on: sx413.mfcc.csv"
       ]
      },
      {
       "output_type": "stream",
       "stream": "stdout",
       "text": [
        "\n",
        "from path : C:\\Users\\FG\\Desktop\\PhD\\Research\\Reservoirs\\datasets\\TIMIT-MFCCs\\test\\dr5\\fcal1\n",
        "working on: sx53.mfcc.csv"
       ]
      },
      {
       "output_type": "stream",
       "stream": "stdout",
       "text": [
        "\n",
        "from path : C:\\Users\\FG\\Desktop\\PhD\\Research\\Reservoirs\\datasets\\TIMIT-MFCCs\\test\\dr5\\fcal1\n",
        "working on: si1943.mfcc.csv"
       ]
      },
      {
       "output_type": "stream",
       "stream": "stdout",
       "text": [
        "\n",
        "from path : C:\\Users\\FG\\Desktop\\PhD\\Research\\Reservoirs\\datasets\\TIMIT-MFCCs\\test\\dr5\\fgmd0\n",
        "working on: si2107.mfcc.csv"
       ]
      },
      {
       "output_type": "stream",
       "stream": "stdout",
       "text": [
        "\n",
        "from path : C:\\Users\\FG\\Desktop\\PhD\\Research\\Reservoirs\\datasets\\TIMIT-MFCCs\\test\\dr5\\fgmd0\n",
        "working on: si683.mfcc.csv"
       ]
      },
      {
       "output_type": "stream",
       "stream": "stdout",
       "text": [
        "\n",
        "from path : C:\\Users\\FG\\Desktop\\PhD\\Research\\Reservoirs\\datasets\\TIMIT-MFCCs\\test\\dr5\\fgmd0\n",
        "working on: sx143.mfcc.csv"
       ]
      },
      {
       "output_type": "stream",
       "stream": "stdout",
       "text": [
        "\n",
        "from path : C:\\Users\\FG\\Desktop\\PhD\\Research\\Reservoirs\\datasets\\TIMIT-MFCCs\\test\\dr5\\fgmd0\n",
        "working on: sx233.mfcc.csv"
       ]
      },
      {
       "output_type": "stream",
       "stream": "stdout",
       "text": [
        "\n",
        "from path : C:\\Users\\FG\\Desktop\\PhD\\Research\\Reservoirs\\datasets\\TIMIT-MFCCs\\test\\dr5\\fgmd0\n",
        "working on: sx323.mfcc.csv"
       ]
      },
      {
       "output_type": "stream",
       "stream": "stdout",
       "text": [
        "\n",
        "from path : C:\\Users\\FG\\Desktop\\PhD\\Research\\Reservoirs\\datasets\\TIMIT-MFCCs\\test\\dr5\\fgmd0\n",
        "working on: sx413.mfcc.csv"
       ]
      },
      {
       "output_type": "stream",
       "stream": "stdout",
       "text": [
        "\n",
        "from path : C:\\Users\\FG\\Desktop\\PhD\\Research\\Reservoirs\\datasets\\TIMIT-MFCCs\\test\\dr5\\fgmd0\n",
        "working on: sx53.mfcc.csv"
       ]
      },
      {
       "output_type": "stream",
       "stream": "stdout",
       "text": [
        "\n",
        "from path : C:\\Users\\FG\\Desktop\\PhD\\Research\\Reservoirs\\datasets\\TIMIT-MFCCs\\test\\dr5\\fgmd0\n",
        "working on: si1109.mfcc.csv"
       ]
      },
      {
       "output_type": "stream",
       "stream": "stdout",
       "text": [
        "\n",
        "from path : C:\\Users\\FG\\Desktop\\PhD\\Research\\Reservoirs\\datasets\\TIMIT-MFCCs\\test\\dr5\\fhes0\n",
        "working on: si1739.mfcc.csv"
       ]
      },
      {
       "output_type": "stream",
       "stream": "stdout",
       "text": [
        "\n",
        "from path : C:\\Users\\FG\\Desktop\\PhD\\Research\\Reservoirs\\datasets\\TIMIT-MFCCs\\test\\dr5\\fhes0\n",
        "working on: si479.mfcc.csv"
       ]
      },
      {
       "output_type": "stream",
       "stream": "stdout",
       "text": [
        "\n",
        "from path : C:\\Users\\FG\\Desktop\\PhD\\Research\\Reservoirs\\datasets\\TIMIT-MFCCs\\test\\dr5\\fhes0\n",
        "working on: sx119.mfcc.csv"
       ]
      },
      {
       "output_type": "stream",
       "stream": "stdout",
       "text": [
        "\n",
        "from path : C:\\Users\\FG\\Desktop\\PhD\\Research\\Reservoirs\\datasets\\TIMIT-MFCCs\\test\\dr5\\fhes0\n",
        "working on: sx209.mfcc.csv"
       ]
      },
      {
       "output_type": "stream",
       "stream": "stdout",
       "text": [
        "\n",
        "from path : C:\\Users\\FG\\Desktop\\PhD\\Research\\Reservoirs\\datasets\\TIMIT-MFCCs\\test\\dr5\\fhes0\n",
        "working on: sx29.mfcc.csv"
       ]
      },
      {
       "output_type": "stream",
       "stream": "stdout",
       "text": [
        "\n",
        "from path : C:\\Users\\FG\\Desktop\\PhD\\Research\\Reservoirs\\datasets\\TIMIT-MFCCs\\test\\dr5\\fhes0\n",
        "working on: sx299.mfcc.csv"
       ]
      },
      {
       "output_type": "stream",
       "stream": "stdout",
       "text": [
        "\n",
        "from path : C:\\Users\\FG\\Desktop\\PhD\\Research\\Reservoirs\\datasets\\TIMIT-MFCCs\\test\\dr5\\fhes0\n",
        "working on: sx389.mfcc.csv\n",
        "from path : C:\\Users\\FG\\Desktop\\PhD\\Research\\Reservoirs\\datasets\\TIMIT-MFCCs\\test\\dr5\\fhes0\n",
        "working on: si2023.mfcc.csv"
       ]
      },
      {
       "output_type": "stream",
       "stream": "stdout",
       "text": [
        "\n",
        "from path : C:\\Users\\FG\\Desktop\\PhD\\Research\\Reservoirs\\datasets\\TIMIT-MFCCs\\test\\dr5\\fhew0\n",
        "working on: si690.mfcc.csv"
       ]
      },
      {
       "output_type": "stream",
       "stream": "stdout",
       "text": [
        "\n",
        "from path : C:\\Users\\FG\\Desktop\\PhD\\Research\\Reservoirs\\datasets\\TIMIT-MFCCs\\test\\dr5\\fhew0\n",
        "working on: si763.mfcc.csv"
       ]
      },
      {
       "output_type": "stream",
       "stream": "stdout",
       "text": [
        "\n",
        "from path : C:\\Users\\FG\\Desktop\\PhD\\Research\\Reservoirs\\datasets\\TIMIT-MFCCs\\test\\dr5\\fhew0\n",
        "working on: sx133.mfcc.csv"
       ]
      },
      {
       "output_type": "stream",
       "stream": "stdout",
       "text": [
        "\n",
        "from path : C:\\Users\\FG\\Desktop\\PhD\\Research\\Reservoirs\\datasets\\TIMIT-MFCCs\\test\\dr5\\fhew0\n",
        "working on: sx223.mfcc.csv\n",
        "from path : C:\\Users\\FG\\Desktop\\PhD\\Research\\Reservoirs\\datasets\\TIMIT-MFCCs\\test\\dr5\\fhew0\n",
        "working on: sx313.mfcc.csv"
       ]
      },
      {
       "output_type": "stream",
       "stream": "stdout",
       "text": [
        "\n",
        "from path : C:\\Users\\FG\\Desktop\\PhD\\Research\\Reservoirs\\datasets\\TIMIT-MFCCs\\test\\dr5\\fhew0\n",
        "working on: sx403.mfcc.csv\n",
        "from path : C:\\Users\\FG\\Desktop\\PhD\\Research\\Reservoirs\\datasets\\TIMIT-MFCCs\\test\\dr5\\fhew0\n",
        "working on: sx43.mfcc.csv"
       ]
      },
      {
       "output_type": "stream",
       "stream": "stdout",
       "text": [
        "\n",
        "from path : C:\\Users\\FG\\Desktop\\PhD\\Research\\Reservoirs\\datasets\\TIMIT-MFCCs\\test\\dr5\\fhew0\n",
        "working on: si1309.mfcc.csv"
       ]
      },
      {
       "output_type": "stream",
       "stream": "stdout",
       "text": [
        "\n",
        "from path : C:\\Users\\FG\\Desktop\\PhD\\Research\\Reservoirs\\datasets\\TIMIT-MFCCs\\test\\dr5\\fjcs0\n",
        "working on: si1833.mfcc.csv"
       ]
      },
      {
       "output_type": "stream",
       "stream": "stdout",
       "text": [
        "\n",
        "from path : C:\\Users\\FG\\Desktop\\PhD\\Research\\Reservoirs\\datasets\\TIMIT-MFCCs\\test\\dr5\\fjcs0\n",
        "working on: si1939.mfcc.csv\n",
        "from path : C:\\Users\\FG\\Desktop\\PhD\\Research\\Reservoirs\\datasets\\TIMIT-MFCCs\\test\\dr5\\fjcs0\n",
        "working on: sx139.mfcc.csv"
       ]
      },
      {
       "output_type": "stream",
       "stream": "stdout",
       "text": [
        "\n",
        "from path : C:\\Users\\FG\\Desktop\\PhD\\Research\\Reservoirs\\datasets\\TIMIT-MFCCs\\test\\dr5\\fjcs0\n",
        "working on: sx229.mfcc.csv"
       ]
      },
      {
       "output_type": "stream",
       "stream": "stdout",
       "text": [
        "\n",
        "from path : C:\\Users\\FG\\Desktop\\PhD\\Research\\Reservoirs\\datasets\\TIMIT-MFCCs\\test\\dr5\\fjcs0\n",
        "working on: sx319.mfcc.csv\n",
        "from path : C:\\Users\\FG\\Desktop\\PhD\\Research\\Reservoirs\\datasets\\TIMIT-MFCCs\\test\\dr5\\fjcs0\n",
        "working on: sx409.mfcc.csv"
       ]
      },
      {
       "output_type": "stream",
       "stream": "stdout",
       "text": [
        "\n",
        "from path : C:\\Users\\FG\\Desktop\\PhD\\Research\\Reservoirs\\datasets\\TIMIT-MFCCs\\test\\dr5\\fjcs0\n",
        "working on: sx49.mfcc.csv"
       ]
      },
      {
       "output_type": "stream",
       "stream": "stdout",
       "text": [
        "\n",
        "from path : C:\\Users\\FG\\Desktop\\PhD\\Research\\Reservoirs\\datasets\\TIMIT-MFCCs\\test\\dr5\\fjcs0\n",
        "working on: si1379.mfcc.csv"
       ]
      },
      {
       "output_type": "stream",
       "stream": "stdout",
       "text": [
        "\n",
        "from path : C:\\Users\\FG\\Desktop\\PhD\\Research\\Reservoirs\\datasets\\TIMIT-MFCCs\\test\\dr5\\fjsa0\n",
        "working on: si2009.mfcc.csv\n",
        "from path : C:\\Users\\FG\\Desktop\\PhD\\Research\\Reservoirs\\datasets\\TIMIT-MFCCs\\test\\dr5\\fjsa0\n",
        "working on: si749.mfcc.csv"
       ]
      },
      {
       "output_type": "stream",
       "stream": "stdout",
       "text": [
        "\n",
        "from path : C:\\Users\\FG\\Desktop\\PhD\\Research\\Reservoirs\\datasets\\TIMIT-MFCCs\\test\\dr5\\fjsa0\n",
        "working on: sx119.mfcc.csv"
       ]
      },
      {
       "output_type": "stream",
       "stream": "stdout",
       "text": [
        "\n",
        "from path : C:\\Users\\FG\\Desktop\\PhD\\Research\\Reservoirs\\datasets\\TIMIT-MFCCs\\test\\dr5\\fjsa0\n",
        "working on: sx209.mfcc.csv\n",
        "from path : C:\\Users\\FG\\Desktop\\PhD\\Research\\Reservoirs\\datasets\\TIMIT-MFCCs\\test\\dr5\\fjsa0\n",
        "working on: sx29.mfcc.csv"
       ]
      },
      {
       "output_type": "stream",
       "stream": "stdout",
       "text": [
        "\n",
        "from path : C:\\Users\\FG\\Desktop\\PhD\\Research\\Reservoirs\\datasets\\TIMIT-MFCCs\\test\\dr5\\fjsa0\n",
        "working on: sx299.mfcc.csv\n",
        "from path : C:\\Users\\FG\\Desktop\\PhD\\Research\\Reservoirs\\datasets\\TIMIT-MFCCs\\test\\dr5\\fjsa0\n",
        "working on: sx389.mfcc.csv"
       ]
      },
      {
       "output_type": "stream",
       "stream": "stdout",
       "text": [
        "\n",
        "from path : C:\\Users\\FG\\Desktop\\PhD\\Research\\Reservoirs\\datasets\\TIMIT-MFCCs\\test\\dr5\\fjsa0\n",
        "working on: si1289.mfcc.csv"
       ]
      },
      {
       "output_type": "stream",
       "stream": "stdout",
       "text": [
        "\n",
        "from path : C:\\Users\\FG\\Desktop\\PhD\\Research\\Reservoirs\\datasets\\TIMIT-MFCCs\\test\\dr5\\fmah0\n",
        "working on: si1919.mfcc.csv"
       ]
      },
      {
       "output_type": "stream",
       "stream": "stdout",
       "text": [
        "\n",
        "from path : C:\\Users\\FG\\Desktop\\PhD\\Research\\Reservoirs\\datasets\\TIMIT-MFCCs\\test\\dr5\\fmah0\n",
        "working on: si659.mfcc.csv"
       ]
      },
      {
       "output_type": "stream",
       "stream": "stdout",
       "text": [
        "\n",
        "from path : C:\\Users\\FG\\Desktop\\PhD\\Research\\Reservoirs\\datasets\\TIMIT-MFCCs\\test\\dr5\\fmah0\n",
        "working on: sx119.mfcc.csv"
       ]
      },
      {
       "output_type": "stream",
       "stream": "stdout",
       "text": [
        "\n",
        "from path : C:\\Users\\FG\\Desktop\\PhD\\Research\\Reservoirs\\datasets\\TIMIT-MFCCs\\test\\dr5\\fmah0\n",
        "working on: sx209.mfcc.csv"
       ]
      },
      {
       "output_type": "stream",
       "stream": "stdout",
       "text": [
        "\n",
        "from path : C:\\Users\\FG\\Desktop\\PhD\\Research\\Reservoirs\\datasets\\TIMIT-MFCCs\\test\\dr5\\fmah0\n",
        "working on: sx29.mfcc.csv\n",
        "from path : C:\\Users\\FG\\Desktop\\PhD\\Research\\Reservoirs\\datasets\\TIMIT-MFCCs\\test\\dr5\\fmah0\n",
        "working on: sx299.mfcc.csv"
       ]
      },
      {
       "output_type": "stream",
       "stream": "stdout",
       "text": [
        "\n",
        "from path : C:\\Users\\FG\\Desktop\\PhD\\Research\\Reservoirs\\datasets\\TIMIT-MFCCs\\test\\dr5\\fmah0\n",
        "working on: sx389.mfcc.csv"
       ]
      },
      {
       "output_type": "stream",
       "stream": "stdout",
       "text": [
        "\n",
        "from path : C:\\Users\\FG\\Desktop\\PhD\\Research\\Reservoirs\\datasets\\TIMIT-MFCCs\\test\\dr5\\fmah0\n",
        "working on: si1308.mfcc.csv\n",
        "from path : C:\\Users\\FG\\Desktop\\PhD\\Research\\Reservoirs\\datasets\\TIMIT-MFCCs\\test\\dr5\\fnlp0\n",
        "working on: si1938.mfcc.csv"
       ]
      },
      {
       "output_type": "stream",
       "stream": "stdout",
       "text": [
        "\n",
        "from path : C:\\Users\\FG\\Desktop\\PhD\\Research\\Reservoirs\\datasets\\TIMIT-MFCCs\\test\\dr5\\fnlp0\n",
        "working on: si678.mfcc.csv"
       ]
      },
      {
       "output_type": "stream",
       "stream": "stdout",
       "text": [
        "\n",
        "from path : C:\\Users\\FG\\Desktop\\PhD\\Research\\Reservoirs\\datasets\\TIMIT-MFCCs\\test\\dr5\\fnlp0\n",
        "working on: sx138.mfcc.csv\n",
        "from path : C:\\Users\\FG\\Desktop\\PhD\\Research\\Reservoirs\\datasets\\TIMIT-MFCCs\\test\\dr5\\fnlp0\n",
        "working on: sx228.mfcc.csv"
       ]
      },
      {
       "output_type": "stream",
       "stream": "stdout",
       "text": [
        "\n",
        "from path : C:\\Users\\FG\\Desktop\\PhD\\Research\\Reservoirs\\datasets\\TIMIT-MFCCs\\test\\dr5\\fnlp0\n",
        "working on: sx318.mfcc.csv\n",
        "from path : C:\\Users\\FG\\Desktop\\PhD\\Research\\Reservoirs\\datasets\\TIMIT-MFCCs\\test\\dr5\\fnlp0\n",
        "working on: sx408.mfcc.csv"
       ]
      },
      {
       "output_type": "stream",
       "stream": "stdout",
       "text": [
        "\n",
        "from path : C:\\Users\\FG\\Desktop\\PhD\\Research\\Reservoirs\\datasets\\TIMIT-MFCCs\\test\\dr5\\fnlp0\n",
        "working on: sx48.mfcc.csv"
       ]
      },
      {
       "output_type": "stream",
       "stream": "stdout",
       "text": [
        "\n",
        "from path : C:\\Users\\FG\\Desktop\\PhD\\Research\\Reservoirs\\datasets\\TIMIT-MFCCs\\test\\dr5\\fnlp0\n",
        "working on: si1204.mfcc.csv"
       ]
      },
      {
       "output_type": "stream",
       "stream": "stdout",
       "text": [
        "\n",
        "from path : C:\\Users\\FG\\Desktop\\PhD\\Research\\Reservoirs\\datasets\\TIMIT-MFCCs\\test\\dr5\\futb0\n",
        "working on: si1330.mfcc.csv"
       ]
      },
      {
       "output_type": "stream",
       "stream": "stdout",
       "text": [
        "\n",
        "from path : C:\\Users\\FG\\Desktop\\PhD\\Research\\Reservoirs\\datasets\\TIMIT-MFCCs\\test\\dr5\\futb0\n",
        "working on: si1834.mfcc.csv"
       ]
      },
      {
       "output_type": "stream",
       "stream": "stdout",
       "text": [
        "\n",
        "from path : C:\\Users\\FG\\Desktop\\PhD\\Research\\Reservoirs\\datasets\\TIMIT-MFCCs\\test\\dr5\\futb0\n",
        "working on: sx124.mfcc.csv"
       ]
      },
      {
       "output_type": "stream",
       "stream": "stdout",
       "text": [
        "\n",
        "from path : C:\\Users\\FG\\Desktop\\PhD\\Research\\Reservoirs\\datasets\\TIMIT-MFCCs\\test\\dr5\\futb0\n",
        "working on: sx214.mfcc.csv"
       ]
      },
      {
       "output_type": "stream",
       "stream": "stdout",
       "text": [
        "\n",
        "from path : C:\\Users\\FG\\Desktop\\PhD\\Research\\Reservoirs\\datasets\\TIMIT-MFCCs\\test\\dr5\\futb0\n",
        "working on: sx304.mfcc.csv"
       ]
      },
      {
       "output_type": "stream",
       "stream": "stdout",
       "text": [
        "\n",
        "from path : C:\\Users\\FG\\Desktop\\PhD\\Research\\Reservoirs\\datasets\\TIMIT-MFCCs\\test\\dr5\\futb0\n",
        "working on: sx34.mfcc.csv"
       ]
      },
      {
       "output_type": "stream",
       "stream": "stdout",
       "text": [
        "\n",
        "from path : C:\\Users\\FG\\Desktop\\PhD\\Research\\Reservoirs\\datasets\\TIMIT-MFCCs\\test\\dr5\\futb0\n",
        "working on: sx394.mfcc.csv"
       ]
      },
      {
       "output_type": "stream",
       "stream": "stdout",
       "text": [
        "\n",
        "from path : C:\\Users\\FG\\Desktop\\PhD\\Research\\Reservoirs\\datasets\\TIMIT-MFCCs\\test\\dr5\\futb0\n",
        "working on: si1294.mfcc.csv"
       ]
      },
      {
       "output_type": "stream",
       "stream": "stdout",
       "text": [
        "\n",
        "from path : C:\\Users\\FG\\Desktop\\PhD\\Research\\Reservoirs\\datasets\\TIMIT-MFCCs\\test\\dr5\\mahh0\n",
        "working on: si1924.mfcc.csv"
       ]
      },
      {
       "output_type": "stream",
       "stream": "stdout",
       "text": [
        "\n",
        "from path : C:\\Users\\FG\\Desktop\\PhD\\Research\\Reservoirs\\datasets\\TIMIT-MFCCs\\test\\dr5\\mahh0\n",
        "working on: si664.mfcc.csv\n",
        "from path : C:\\Users\\FG\\Desktop\\PhD\\Research\\Reservoirs\\datasets\\TIMIT-MFCCs\\test\\dr5\\mahh0\n",
        "working on: sx124.mfcc.csv"
       ]
      },
      {
       "output_type": "stream",
       "stream": "stdout",
       "text": [
        "\n",
        "from path : C:\\Users\\FG\\Desktop\\PhD\\Research\\Reservoirs\\datasets\\TIMIT-MFCCs\\test\\dr5\\mahh0\n",
        "working on: sx214.mfcc.csv"
       ]
      },
      {
       "output_type": "stream",
       "stream": "stdout",
       "text": [
        "\n",
        "from path : C:\\Users\\FG\\Desktop\\PhD\\Research\\Reservoirs\\datasets\\TIMIT-MFCCs\\test\\dr5\\mahh0\n",
        "working on: sx304.mfcc.csv"
       ]
      },
      {
       "output_type": "stream",
       "stream": "stdout",
       "text": [
        "\n",
        "from path : C:\\Users\\FG\\Desktop\\PhD\\Research\\Reservoirs\\datasets\\TIMIT-MFCCs\\test\\dr5\\mahh0\n",
        "working on: sx34.mfcc.csv"
       ]
      },
      {
       "output_type": "stream",
       "stream": "stdout",
       "text": [
        "\n",
        "from path : C:\\Users\\FG\\Desktop\\PhD\\Research\\Reservoirs\\datasets\\TIMIT-MFCCs\\test\\dr5\\mahh0\n",
        "working on: sx394.mfcc.csv\n",
        "from path : C:\\Users\\FG\\Desktop\\PhD\\Research\\Reservoirs\\datasets\\TIMIT-MFCCs\\test\\dr5\\mahh0\n",
        "working on: si1577.mfcc.csv"
       ]
      },
      {
       "output_type": "stream",
       "stream": "stdout",
       "text": [
        "\n",
        "from path : C:\\Users\\FG\\Desktop\\PhD\\Research\\Reservoirs\\datasets\\TIMIT-MFCCs\\test\\dr5\\mbpm0\n",
        "working on: si1584.mfcc.csv\n",
        "from path : C:\\Users\\FG\\Desktop\\PhD\\Research\\Reservoirs\\datasets\\TIMIT-MFCCs\\test\\dr5\\mbpm0\n",
        "working on: si947.mfcc.csv"
       ]
      },
      {
       "output_type": "stream",
       "stream": "stdout",
       "text": [
        "\n",
        "from path : C:\\Users\\FG\\Desktop\\PhD\\Research\\Reservoirs\\datasets\\TIMIT-MFCCs\\test\\dr5\\mbpm0\n",
        "working on: sx137.mfcc.csv\n",
        "from path : C:\\Users\\FG\\Desktop\\PhD\\Research\\Reservoirs\\datasets\\TIMIT-MFCCs\\test\\dr5\\mbpm0\n",
        "working on: sx227.mfcc.csv"
       ]
      },
      {
       "output_type": "stream",
       "stream": "stdout",
       "text": [
        "\n",
        "from path : C:\\Users\\FG\\Desktop\\PhD\\Research\\Reservoirs\\datasets\\TIMIT-MFCCs\\test\\dr5\\mbpm0\n",
        "working on: sx317.mfcc.csv\n",
        "from path : C:\\Users\\FG\\Desktop\\PhD\\Research\\Reservoirs\\datasets\\TIMIT-MFCCs\\test\\dr5\\mbpm0\n",
        "working on: sx407.mfcc.csv"
       ]
      },
      {
       "output_type": "stream",
       "stream": "stdout",
       "text": [
        "\n",
        "from path : C:\\Users\\FG\\Desktop\\PhD\\Research\\Reservoirs\\datasets\\TIMIT-MFCCs\\test\\dr5\\mbpm0\n",
        "working on: sx47.mfcc.csv"
       ]
      },
      {
       "output_type": "stream",
       "stream": "stdout",
       "text": [
        "\n",
        "from path : C:\\Users\\FG\\Desktop\\PhD\\Research\\Reservoirs\\datasets\\TIMIT-MFCCs\\test\\dr5\\mbpm0\n",
        "working on: si1268.mfcc.csv"
       ]
      },
      {
       "output_type": "stream",
       "stream": "stdout",
       "text": [
        "\n",
        "from path : C:\\Users\\FG\\Desktop\\PhD\\Research\\Reservoirs\\datasets\\TIMIT-MFCCs\\test\\dr5\\mcmb0\n",
        "working on: si1898.mfcc.csv"
       ]
      },
      {
       "output_type": "stream",
       "stream": "stdout",
       "text": [
        "\n",
        "from path : C:\\Users\\FG\\Desktop\\PhD\\Research\\Reservoirs\\datasets\\TIMIT-MFCCs\\test\\dr5\\mcmb0\n",
        "working on: si638.mfcc.csv"
       ]
      },
      {
       "output_type": "stream",
       "stream": "stdout",
       "text": [
        "\n",
        "from path : C:\\Users\\FG\\Desktop\\PhD\\Research\\Reservoirs\\datasets\\TIMIT-MFCCs\\test\\dr5\\mcmb0\n",
        "working on: sx188.mfcc.csv"
       ]
      },
      {
       "output_type": "stream",
       "stream": "stdout",
       "text": [
        "\n",
        "from path : C:\\Users\\FG\\Desktop\\PhD\\Research\\Reservoirs\\datasets\\TIMIT-MFCCs\\test\\dr5\\mcmb0\n",
        "working on: sx278.mfcc.csv"
       ]
      },
      {
       "output_type": "stream",
       "stream": "stdout",
       "text": [
        "\n",
        "from path : C:\\Users\\FG\\Desktop\\PhD\\Research\\Reservoirs\\datasets\\TIMIT-MFCCs\\test\\dr5\\mcmb0\n",
        "working on: sx368.mfcc.csv"
       ]
      },
      {
       "output_type": "stream",
       "stream": "stdout",
       "text": [
        "\n",
        "from path : C:\\Users\\FG\\Desktop\\PhD\\Research\\Reservoirs\\datasets\\TIMIT-MFCCs\\test\\dr5\\mcmb0\n",
        "working on: sx8.mfcc.csv"
       ]
      },
      {
       "output_type": "stream",
       "stream": "stdout",
       "text": [
        "\n",
        "from path : C:\\Users\\FG\\Desktop\\PhD\\Research\\Reservoirs\\datasets\\TIMIT-MFCCs\\test\\dr5\\mcmb0\n",
        "working on: sx98.mfcc.csv"
       ]
      },
      {
       "output_type": "stream",
       "stream": "stdout",
       "text": [
        "\n",
        "from path : C:\\Users\\FG\\Desktop\\PhD\\Research\\Reservoirs\\datasets\\TIMIT-MFCCs\\test\\dr5\\mcmb0\n",
        "working on: si1092.mfcc.csv"
       ]
      },
      {
       "output_type": "stream",
       "stream": "stdout",
       "text": [
        "\n",
        "from path : C:\\Users\\FG\\Desktop\\PhD\\Research\\Reservoirs\\datasets\\TIMIT-MFCCs\\test\\dr5\\mcrc0\n",
        "working on: si1722.mfcc.csv"
       ]
      },
      {
       "output_type": "stream",
       "stream": "stdout",
       "text": [
        "\n",
        "from path : C:\\Users\\FG\\Desktop\\PhD\\Research\\Reservoirs\\datasets\\TIMIT-MFCCs\\test\\dr5\\mcrc0\n",
        "working on: si462.mfcc.csv"
       ]
      },
      {
       "output_type": "stream",
       "stream": "stdout",
       "text": [
        "\n",
        "from path : C:\\Users\\FG\\Desktop\\PhD\\Research\\Reservoirs\\datasets\\TIMIT-MFCCs\\test\\dr5\\mcrc0\n",
        "working on: sx102.mfcc.csv"
       ]
      },
      {
       "output_type": "stream",
       "stream": "stdout",
       "text": [
        "\n",
        "from path : C:\\Users\\FG\\Desktop\\PhD\\Research\\Reservoirs\\datasets\\TIMIT-MFCCs\\test\\dr5\\mcrc0\n",
        "working on: sx12.mfcc.csv"
       ]
      },
      {
       "output_type": "stream",
       "stream": "stdout",
       "text": [
        "\n",
        "from path : C:\\Users\\FG\\Desktop\\PhD\\Research\\Reservoirs\\datasets\\TIMIT-MFCCs\\test\\dr5\\mcrc0\n",
        "working on: sx192.mfcc.csv"
       ]
      },
      {
       "output_type": "stream",
       "stream": "stdout",
       "text": [
        "\n",
        "from path : C:\\Users\\FG\\Desktop\\PhD\\Research\\Reservoirs\\datasets\\TIMIT-MFCCs\\test\\dr5\\mcrc0\n",
        "working on: sx282.mfcc.csv"
       ]
      },
      {
       "output_type": "stream",
       "stream": "stdout",
       "text": [
        "\n",
        "from path : C:\\Users\\FG\\Desktop\\PhD\\Research\\Reservoirs\\datasets\\TIMIT-MFCCs\\test\\dr5\\mcrc0\n",
        "working on: sx372.mfcc.csv"
       ]
      },
      {
       "output_type": "stream",
       "stream": "stdout",
       "text": [
        "\n",
        "from path : C:\\Users\\FG\\Desktop\\PhD\\Research\\Reservoirs\\datasets\\TIMIT-MFCCs\\test\\dr5\\mcrc0\n",
        "working on: si1144.mfcc.csv"
       ]
      },
      {
       "output_type": "stream",
       "stream": "stdout",
       "text": [
        "\n",
        "from path : C:\\Users\\FG\\Desktop\\PhD\\Research\\Reservoirs\\datasets\\TIMIT-MFCCs\\test\\dr5\\mctt0\n",
        "working on: si2188.mfcc.csv"
       ]
      },
      {
       "output_type": "stream",
       "stream": "stdout",
       "text": [
        "\n",
        "from path : C:\\Users\\FG\\Desktop\\PhD\\Research\\Reservoirs\\datasets\\TIMIT-MFCCs\\test\\dr5\\mctt0\n",
        "working on: si928.mfcc.csv"
       ]
      },
      {
       "output_type": "stream",
       "stream": "stdout",
       "text": [
        "\n",
        "from path : C:\\Users\\FG\\Desktop\\PhD\\Research\\Reservoirs\\datasets\\TIMIT-MFCCs\\test\\dr5\\mctt0\n",
        "working on: sx118.mfcc.csv"
       ]
      },
      {
       "output_type": "stream",
       "stream": "stdout",
       "text": [
        "\n",
        "from path : C:\\Users\\FG\\Desktop\\PhD\\Research\\Reservoirs\\datasets\\TIMIT-MFCCs\\test\\dr5\\mctt0\n",
        "working on: sx208.mfcc.csv"
       ]
      },
      {
       "output_type": "stream",
       "stream": "stdout",
       "text": [
        "\n",
        "from path : C:\\Users\\FG\\Desktop\\PhD\\Research\\Reservoirs\\datasets\\TIMIT-MFCCs\\test\\dr5\\mctt0\n",
        "working on: sx28.mfcc.csv"
       ]
      },
      {
       "output_type": "stream",
       "stream": "stdout",
       "text": [
        "\n",
        "from path : C:\\Users\\FG\\Desktop\\PhD\\Research\\Reservoirs\\datasets\\TIMIT-MFCCs\\test\\dr5\\mctt0\n",
        "working on: sx298.mfcc.csv"
       ]
      },
      {
       "output_type": "stream",
       "stream": "stdout",
       "text": [
        "\n",
        "from path : C:\\Users\\FG\\Desktop\\PhD\\Research\\Reservoirs\\datasets\\TIMIT-MFCCs\\test\\dr5\\mctt0\n",
        "working on: sx388.mfcc.csv"
       ]
      },
      {
       "output_type": "stream",
       "stream": "stdout",
       "text": [
        "\n",
        "from path : C:\\Users\\FG\\Desktop\\PhD\\Research\\Reservoirs\\datasets\\TIMIT-MFCCs\\test\\dr5\\mctt0\n",
        "working on: si2259.mfcc.csv"
       ]
      },
      {
       "output_type": "stream",
       "stream": "stdout",
       "text": [
        "\n",
        "from path : C:\\Users\\FG\\Desktop\\PhD\\Research\\Reservoirs\\datasets\\TIMIT-MFCCs\\test\\dr5\\mdac2\n",
        "working on: si560.mfcc.csv"
       ]
      },
      {
       "output_type": "stream",
       "stream": "stdout",
       "text": [
        "\n",
        "from path : C:\\Users\\FG\\Desktop\\PhD\\Research\\Reservoirs\\datasets\\TIMIT-MFCCs\\test\\dr5\\mdac2\n",
        "working on: si999.mfcc.csv"
       ]
      },
      {
       "output_type": "stream",
       "stream": "stdout",
       "text": [
        "\n",
        "from path : C:\\Users\\FG\\Desktop\\PhD\\Research\\Reservoirs\\datasets\\TIMIT-MFCCs\\test\\dr5\\mdac2\n",
        "working on: sx189.mfcc.csv"
       ]
      },
      {
       "output_type": "stream",
       "stream": "stdout",
       "text": [
        "\n",
        "from path : C:\\Users\\FG\\Desktop\\PhD\\Research\\Reservoirs\\datasets\\TIMIT-MFCCs\\test\\dr5\\mdac2\n",
        "working on: sx279.mfcc.csv"
       ]
      },
      {
       "output_type": "stream",
       "stream": "stdout",
       "text": [
        "\n",
        "from path : C:\\Users\\FG\\Desktop\\PhD\\Research\\Reservoirs\\datasets\\TIMIT-MFCCs\\test\\dr5\\mdac2\n",
        "working on: sx369.mfcc.csv"
       ]
      },
      {
       "output_type": "stream",
       "stream": "stdout",
       "text": [
        "\n",
        "from path : C:\\Users\\FG\\Desktop\\PhD\\Research\\Reservoirs\\datasets\\TIMIT-MFCCs\\test\\dr5\\mdac2\n",
        "working on: sx9.mfcc.csv\n",
        "from path : C:\\Users\\FG\\Desktop\\PhD\\Research\\Reservoirs\\datasets\\TIMIT-MFCCs\\test\\dr5\\mdac2\n",
        "working on: sx99.mfcc.csv"
       ]
      },
      {
       "output_type": "stream",
       "stream": "stdout",
       "text": [
        "\n",
        "from path : C:\\Users\\FG\\Desktop\\PhD\\Research\\Reservoirs\\datasets\\TIMIT-MFCCs\\test\\dr5\\mdac2\n",
        "working on: si1174.mfcc.csv"
       ]
      },
      {
       "output_type": "stream",
       "stream": "stdout",
       "text": [
        "\n",
        "from path : C:\\Users\\FG\\Desktop\\PhD\\Research\\Reservoirs\\datasets\\TIMIT-MFCCs\\test\\dr5\\mdrb0\n",
        "working on: si2109.mfcc.csv"
       ]
      },
      {
       "output_type": "stream",
       "stream": "stdout",
       "text": [
        "\n",
        "from path : C:\\Users\\FG\\Desktop\\PhD\\Research\\Reservoirs\\datasets\\TIMIT-MFCCs\\test\\dr5\\mdrb0\n",
        "working on: si544.mfcc.csv"
       ]
      },
      {
       "output_type": "stream",
       "stream": "stdout",
       "text": [
        "\n",
        "from path : C:\\Users\\FG\\Desktop\\PhD\\Research\\Reservoirs\\datasets\\TIMIT-MFCCs\\test\\dr5\\mdrb0\n",
        "working on: sx184.mfcc.csv"
       ]
      },
      {
       "output_type": "stream",
       "stream": "stdout",
       "text": [
        "\n",
        "from path : C:\\Users\\FG\\Desktop\\PhD\\Research\\Reservoirs\\datasets\\TIMIT-MFCCs\\test\\dr5\\mdrb0\n",
        "working on: sx274.mfcc.csv\n",
        "from path : C:\\Users\\FG\\Desktop\\PhD\\Research\\Reservoirs\\datasets\\TIMIT-MFCCs\\test\\dr5\\mdrb0\n",
        "working on: sx364.mfcc.csv"
       ]
      },
      {
       "output_type": "stream",
       "stream": "stdout",
       "text": [
        "\n",
        "from path : C:\\Users\\FG\\Desktop\\PhD\\Research\\Reservoirs\\datasets\\TIMIT-MFCCs\\test\\dr5\\mdrb0\n",
        "working on: sx4.mfcc.csv"
       ]
      },
      {
       "output_type": "stream",
       "stream": "stdout",
       "text": [
        "\n",
        "from path : C:\\Users\\FG\\Desktop\\PhD\\Research\\Reservoirs\\datasets\\TIMIT-MFCCs\\test\\dr5\\mdrb0\n",
        "working on: sx94.mfcc.csv"
       ]
      },
      {
       "output_type": "stream",
       "stream": "stdout",
       "text": [
        "\n",
        "from path : C:\\Users\\FG\\Desktop\\PhD\\Research\\Reservoirs\\datasets\\TIMIT-MFCCs\\test\\dr5\\mdrb0\n",
        "working on: si1146.mfcc.csv"
       ]
      },
      {
       "output_type": "stream",
       "stream": "stdout",
       "text": [
        "\n",
        "from path : C:\\Users\\FG\\Desktop\\PhD\\Research\\Reservoirs\\datasets\\TIMIT-MFCCs\\test\\dr5\\mdwa0\n",
        "working on: si1445.mfcc.csv"
       ]
      },
      {
       "output_type": "stream",
       "stream": "stdout",
       "text": [
        "\n",
        "from path : C:\\Users\\FG\\Desktop\\PhD\\Research\\Reservoirs\\datasets\\TIMIT-MFCCs\\test\\dr5\\mdwa0\n",
        "working on: si519.mfcc.csv"
       ]
      },
      {
       "output_type": "stream",
       "stream": "stdout",
       "text": [
        "\n",
        "from path : C:\\Users\\FG\\Desktop\\PhD\\Research\\Reservoirs\\datasets\\TIMIT-MFCCs\\test\\dr5\\mdwa0\n",
        "working on: sx185.mfcc.csv"
       ]
      },
      {
       "output_type": "stream",
       "stream": "stdout",
       "text": [
        "\n",
        "from path : C:\\Users\\FG\\Desktop\\PhD\\Research\\Reservoirs\\datasets\\TIMIT-MFCCs\\test\\dr5\\mdwa0\n",
        "working on: sx275.mfcc.csv"
       ]
      },
      {
       "output_type": "stream",
       "stream": "stdout",
       "text": [
        "\n",
        "from path : C:\\Users\\FG\\Desktop\\PhD\\Research\\Reservoirs\\datasets\\TIMIT-MFCCs\\test\\dr5\\mdwa0\n",
        "working on: sx365.mfcc.csv"
       ]
      },
      {
       "output_type": "stream",
       "stream": "stdout",
       "text": [
        "\n",
        "from path : C:\\Users\\FG\\Desktop\\PhD\\Research\\Reservoirs\\datasets\\TIMIT-MFCCs\\test\\dr5\\mdwa0\n",
        "working on: sx5.mfcc.csv"
       ]
      },
      {
       "output_type": "stream",
       "stream": "stdout",
       "text": [
        "\n",
        "from path : C:\\Users\\FG\\Desktop\\PhD\\Research\\Reservoirs\\datasets\\TIMIT-MFCCs\\test\\dr5\\mdwa0\n",
        "working on: sx95.mfcc.csv"
       ]
      },
      {
       "output_type": "stream",
       "stream": "stdout",
       "text": [
        "\n",
        "from path : C:\\Users\\FG\\Desktop\\PhD\\Research\\Reservoirs\\datasets\\TIMIT-MFCCs\\test\\dr5\\mdwa0\n",
        "working on: si1540.mfcc.csv"
       ]
      },
      {
       "output_type": "stream",
       "stream": "stdout",
       "text": [
        "\n",
        "from path : C:\\Users\\FG\\Desktop\\PhD\\Research\\Reservoirs\\datasets\\TIMIT-MFCCs\\test\\dr5\\mdwk0\n",
        "working on: si2170.mfcc.csv"
       ]
      },
      {
       "output_type": "stream",
       "stream": "stdout",
       "text": [
        "\n",
        "from path : C:\\Users\\FG\\Desktop\\PhD\\Research\\Reservoirs\\datasets\\TIMIT-MFCCs\\test\\dr5\\mdwk0\n",
        "working on: si910.mfcc.csv"
       ]
      },
      {
       "output_type": "stream",
       "stream": "stdout",
       "text": [
        "\n",
        "from path : C:\\Users\\FG\\Desktop\\PhD\\Research\\Reservoirs\\datasets\\TIMIT-MFCCs\\test\\dr5\\mdwk0\n",
        "working on: sx10.mfcc.csv"
       ]
      },
      {
       "output_type": "stream",
       "stream": "stdout",
       "text": [
        "\n",
        "from path : C:\\Users\\FG\\Desktop\\PhD\\Research\\Reservoirs\\datasets\\TIMIT-MFCCs\\test\\dr5\\mdwk0\n",
        "working on: sx100.mfcc.csv\n",
        "from path : C:\\Users\\FG\\Desktop\\PhD\\Research\\Reservoirs\\datasets\\TIMIT-MFCCs\\test\\dr5\\mdwk0\n",
        "working on: sx190.mfcc.csv"
       ]
      },
      {
       "output_type": "stream",
       "stream": "stdout",
       "text": [
        "\n",
        "from path : C:\\Users\\FG\\Desktop\\PhD\\Research\\Reservoirs\\datasets\\TIMIT-MFCCs\\test\\dr5\\mdwk0\n",
        "working on: sx280.mfcc.csv"
       ]
      },
      {
       "output_type": "stream",
       "stream": "stdout",
       "text": [
        "\n",
        "from path : C:\\Users\\FG\\Desktop\\PhD\\Research\\Reservoirs\\datasets\\TIMIT-MFCCs\\test\\dr5\\mdwk0\n",
        "working on: sx370.mfcc.csv"
       ]
      },
      {
       "output_type": "stream",
       "stream": "stdout",
       "text": [
        "\n",
        "from path : C:\\Users\\FG\\Desktop\\PhD\\Research\\Reservoirs\\datasets\\TIMIT-MFCCs\\test\\dr5\\mdwk0\n",
        "working on: si1451.mfcc.csv"
       ]
      },
      {
       "output_type": "stream",
       "stream": "stdout",
       "text": [
        "\n",
        "from path : C:\\Users\\FG\\Desktop\\PhD\\Research\\Reservoirs\\datasets\\TIMIT-MFCCs\\test\\dr5\\mfgk0\n",
        "working on: si1744.mfcc.csv"
       ]
      },
      {
       "output_type": "stream",
       "stream": "stdout",
       "text": [
        "\n",
        "from path : C:\\Users\\FG\\Desktop\\PhD\\Research\\Reservoirs\\datasets\\TIMIT-MFCCs\\test\\dr5\\mfgk0\n",
        "working on: si484.mfcc.csv"
       ]
      },
      {
       "output_type": "stream",
       "stream": "stdout",
       "text": [
        "\n",
        "from path : C:\\Users\\FG\\Desktop\\PhD\\Research\\Reservoirs\\datasets\\TIMIT-MFCCs\\test\\dr5\\mfgk0\n",
        "working on: sx124.mfcc.csv"
       ]
      },
      {
       "output_type": "stream",
       "stream": "stdout",
       "text": [
        "\n",
        "from path : C:\\Users\\FG\\Desktop\\PhD\\Research\\Reservoirs\\datasets\\TIMIT-MFCCs\\test\\dr5\\mfgk0\n",
        "working on: sx214.mfcc.csv\n",
        "from path : C:\\Users\\FG\\Desktop\\PhD\\Research\\Reservoirs\\datasets\\TIMIT-MFCCs\\test\\dr5\\mfgk0\n",
        "working on: sx304.mfcc.csv"
       ]
      },
      {
       "output_type": "stream",
       "stream": "stdout",
       "text": [
        "\n",
        "from path : C:\\Users\\FG\\Desktop\\PhD\\Research\\Reservoirs\\datasets\\TIMIT-MFCCs\\test\\dr5\\mfgk0\n",
        "working on: sx34.mfcc.csv"
       ]
      },
      {
       "output_type": "stream",
       "stream": "stdout",
       "text": [
        "\n",
        "from path : C:\\Users\\FG\\Desktop\\PhD\\Research\\Reservoirs\\datasets\\TIMIT-MFCCs\\test\\dr5\\mfgk0\n",
        "working on: sx394.mfcc.csv"
       ]
      },
      {
       "output_type": "stream",
       "stream": "stdout",
       "text": [
        "\n",
        "from path : C:\\Users\\FG\\Desktop\\PhD\\Research\\Reservoirs\\datasets\\TIMIT-MFCCs\\test\\dr5\\mfgk0\n",
        "working on: si1213.mfcc.csv"
       ]
      },
      {
       "output_type": "stream",
       "stream": "stdout",
       "text": [
        "\n",
        "from path : C:\\Users\\FG\\Desktop\\PhD\\Research\\Reservoirs\\datasets\\TIMIT-MFCCs\\test\\dr5\\mklt0\n",
        "working on: si1843.mfcc.csv\n",
        "from path : C:\\Users\\FG\\Desktop\\PhD\\Research\\Reservoirs\\datasets\\TIMIT-MFCCs\\test\\dr5\\mklt0\n",
        "working on: si583.mfcc.csv"
       ]
      },
      {
       "output_type": "stream",
       "stream": "stdout",
       "text": [
        "\n",
        "from path : C:\\Users\\FG\\Desktop\\PhD\\Research\\Reservoirs\\datasets\\TIMIT-MFCCs\\test\\dr5\\mklt0\n",
        "working on: sx133.mfcc.csv"
       ]
      },
      {
       "output_type": "stream",
       "stream": "stdout",
       "text": [
        "\n",
        "from path : C:\\Users\\FG\\Desktop\\PhD\\Research\\Reservoirs\\datasets\\TIMIT-MFCCs\\test\\dr5\\mklt0\n",
        "working on: sx223.mfcc.csv"
       ]
      },
      {
       "output_type": "stream",
       "stream": "stdout",
       "text": [
        "\n",
        "from path : C:\\Users\\FG\\Desktop\\PhD\\Research\\Reservoirs\\datasets\\TIMIT-MFCCs\\test\\dr5\\mklt0\n",
        "working on: sx313.mfcc.csv"
       ]
      },
      {
       "output_type": "stream",
       "stream": "stdout",
       "text": [
        "\n",
        "from path : C:\\Users\\FG\\Desktop\\PhD\\Research\\Reservoirs\\datasets\\TIMIT-MFCCs\\test\\dr5\\mklt0\n",
        "working on: sx403.mfcc.csv"
       ]
      },
      {
       "output_type": "stream",
       "stream": "stdout",
       "text": [
        "\n",
        "from path : C:\\Users\\FG\\Desktop\\PhD\\Research\\Reservoirs\\datasets\\TIMIT-MFCCs\\test\\dr5\\mklt0\n",
        "working on: sx43.mfcc.csv"
       ]
      },
      {
       "output_type": "stream",
       "stream": "stdout",
       "text": [
        "\n",
        "from path : C:\\Users\\FG\\Desktop\\PhD\\Research\\Reservoirs\\datasets\\TIMIT-MFCCs\\test\\dr5\\mklt0\n",
        "working on: si1183.mfcc.csv"
       ]
      },
      {
       "output_type": "stream",
       "stream": "stdout",
       "text": [
        "\n",
        "from path : C:\\Users\\FG\\Desktop\\PhD\\Research\\Reservoirs\\datasets\\TIMIT-MFCCs\\test\\dr5\\mlih0\n",
        "working on: si1813.mfcc.csv"
       ]
      },
      {
       "output_type": "stream",
       "stream": "stdout",
       "text": [
        "\n",
        "from path : C:\\Users\\FG\\Desktop\\PhD\\Research\\Reservoirs\\datasets\\TIMIT-MFCCs\\test\\dr5\\mlih0\n",
        "working on: si553.mfcc.csv"
       ]
      },
      {
       "output_type": "stream",
       "stream": "stdout",
       "text": [
        "\n",
        "from path : C:\\Users\\FG\\Desktop\\PhD\\Research\\Reservoirs\\datasets\\TIMIT-MFCCs\\test\\dr5\\mlih0\n",
        "working on: sx103.mfcc.csv"
       ]
      },
      {
       "output_type": "stream",
       "stream": "stdout",
       "text": [
        "\n",
        "from path : C:\\Users\\FG\\Desktop\\PhD\\Research\\Reservoirs\\datasets\\TIMIT-MFCCs\\test\\dr5\\mlih0\n",
        "working on: sx13.mfcc.csv"
       ]
      },
      {
       "output_type": "stream",
       "stream": "stdout",
       "text": [
        "\n",
        "from path : C:\\Users\\FG\\Desktop\\PhD\\Research\\Reservoirs\\datasets\\TIMIT-MFCCs\\test\\dr5\\mlih0\n",
        "working on: sx193.mfcc.csv"
       ]
      },
      {
       "output_type": "stream",
       "stream": "stdout",
       "text": [
        "\n",
        "from path : C:\\Users\\FG\\Desktop\\PhD\\Research\\Reservoirs\\datasets\\TIMIT-MFCCs\\test\\dr5\\mlih0\n",
        "working on: sx283.mfcc.csv"
       ]
      },
      {
       "output_type": "stream",
       "stream": "stdout",
       "text": [
        "\n",
        "from path : C:\\Users\\FG\\Desktop\\PhD\\Research\\Reservoirs\\datasets\\TIMIT-MFCCs\\test\\dr5\\mlih0\n",
        "working on: sx373.mfcc.csv"
       ]
      },
      {
       "output_type": "stream",
       "stream": "stdout",
       "text": [
        "\n",
        "from path : C:\\Users\\FG\\Desktop\\PhD\\Research\\Reservoirs\\datasets\\TIMIT-MFCCs\\test\\dr5\\mlih0\n",
        "working on: si1448.mfcc.csv"
       ]
      },
      {
       "output_type": "stream",
       "stream": "stdout",
       "text": [
        "\n",
        "from path : C:\\Users\\FG\\Desktop\\PhD\\Research\\Reservoirs\\datasets\\TIMIT-MFCCs\\test\\dr5\\mrjm3\n",
        "working on: si1809.mfcc.csv"
       ]
      },
      {
       "output_type": "stream",
       "stream": "stdout",
       "text": [
        "\n",
        "from path : C:\\Users\\FG\\Desktop\\PhD\\Research\\Reservoirs\\datasets\\TIMIT-MFCCs\\test\\dr5\\mrjm3\n",
        "working on: si2078.mfcc.csv\n",
        "from path : C:\\Users\\FG\\Desktop\\PhD\\Research\\Reservoirs\\datasets\\TIMIT-MFCCs\\test\\dr5\\mrjm3\n",
        "working on: sx188.mfcc.csv"
       ]
      },
      {
       "output_type": "stream",
       "stream": "stdout",
       "text": [
        "\n",
        "from path : C:\\Users\\FG\\Desktop\\PhD\\Research\\Reservoirs\\datasets\\TIMIT-MFCCs\\test\\dr5\\mrjm3\n",
        "working on: sx278.mfcc.csv"
       ]
      },
      {
       "output_type": "stream",
       "stream": "stdout",
       "text": [
        "\n",
        "from path : C:\\Users\\FG\\Desktop\\PhD\\Research\\Reservoirs\\datasets\\TIMIT-MFCCs\\test\\dr5\\mrjm3\n",
        "working on: sx368.mfcc.csv"
       ]
      },
      {
       "output_type": "stream",
       "stream": "stdout",
       "text": [
        "\n",
        "from path : C:\\Users\\FG\\Desktop\\PhD\\Research\\Reservoirs\\datasets\\TIMIT-MFCCs\\test\\dr5\\mrjm3\n",
        "working on: sx8.mfcc.csv"
       ]
      },
      {
       "output_type": "stream",
       "stream": "stdout",
       "text": [
        "\n",
        "from path : C:\\Users\\FG\\Desktop\\PhD\\Research\\Reservoirs\\datasets\\TIMIT-MFCCs\\test\\dr5\\mrjm3\n",
        "working on: sx98.mfcc.csv"
       ]
      },
      {
       "output_type": "stream",
       "stream": "stdout",
       "text": [
        "\n",
        "from path : C:\\Users\\FG\\Desktop\\PhD\\Research\\Reservoirs\\datasets\\TIMIT-MFCCs\\test\\dr5\\mrjm3\n",
        "working on: si1184.mfcc.csv\n",
        "from path : C:\\Users\\FG\\Desktop\\PhD\\Research\\Reservoirs\\datasets\\TIMIT-MFCCs\\test\\dr5\\mrpp0\n",
        "working on: si1814.mfcc.csv"
       ]
      },
      {
       "output_type": "stream",
       "stream": "stdout",
       "text": [
        "\n",
        "from path : C:\\Users\\FG\\Desktop\\PhD\\Research\\Reservoirs\\datasets\\TIMIT-MFCCs\\test\\dr5\\mrpp0\n",
        "working on: si554.mfcc.csv\n",
        "from path : C:\\Users\\FG\\Desktop\\PhD\\Research\\Reservoirs\\datasets\\TIMIT-MFCCs\\test\\dr5\\mrpp0\n",
        "working on: sx104.mfcc.csv"
       ]
      },
      {
       "output_type": "stream",
       "stream": "stdout",
       "text": [
        "\n",
        "from path : C:\\Users\\FG\\Desktop\\PhD\\Research\\Reservoirs\\datasets\\TIMIT-MFCCs\\test\\dr5\\mrpp0\n",
        "working on: sx14.mfcc.csv"
       ]
      },
      {
       "output_type": "stream",
       "stream": "stdout",
       "text": [
        "\n",
        "from path : C:\\Users\\FG\\Desktop\\PhD\\Research\\Reservoirs\\datasets\\TIMIT-MFCCs\\test\\dr5\\mrpp0\n",
        "working on: sx194.mfcc.csv"
       ]
      },
      {
       "output_type": "stream",
       "stream": "stdout",
       "text": [
        "\n",
        "from path : C:\\Users\\FG\\Desktop\\PhD\\Research\\Reservoirs\\datasets\\TIMIT-MFCCs\\test\\dr5\\mrpp0\n",
        "working on: sx284.mfcc.csv"
       ]
      },
      {
       "output_type": "stream",
       "stream": "stdout",
       "text": [
        "\n",
        "from path : C:\\Users\\FG\\Desktop\\PhD\\Research\\Reservoirs\\datasets\\TIMIT-MFCCs\\test\\dr5\\mrpp0\n",
        "working on: sx374.mfcc.csv"
       ]
      },
      {
       "output_type": "stream",
       "stream": "stdout",
       "text": [
        "\n",
        "from path : C:\\Users\\FG\\Desktop\\PhD\\Research\\Reservoirs\\datasets\\TIMIT-MFCCs\\test\\dr5\\mrpp0\n",
        "working on: si1288.mfcc.csv"
       ]
      },
      {
       "output_type": "stream",
       "stream": "stdout",
       "text": [
        "\n",
        "from path : C:\\Users\\FG\\Desktop\\PhD\\Research\\Reservoirs\\datasets\\TIMIT-MFCCs\\test\\dr5\\mrrk0\n",
        "working on: si1716.mfcc.csv"
       ]
      },
      {
       "output_type": "stream",
       "stream": "stdout",
       "text": [
        "\n",
        "from path : C:\\Users\\FG\\Desktop\\PhD\\Research\\Reservoirs\\datasets\\TIMIT-MFCCs\\test\\dr5\\mrrk0\n",
        "working on: si1918.mfcc.csv"
       ]
      },
      {
       "output_type": "stream",
       "stream": "stdout",
       "text": [
        "\n",
        "from path : C:\\Users\\FG\\Desktop\\PhD\\Research\\Reservoirs\\datasets\\TIMIT-MFCCs\\test\\dr5\\mrrk0\n",
        "working on: sx118.mfcc.csv"
       ]
      },
      {
       "output_type": "stream",
       "stream": "stdout",
       "text": [
        "\n",
        "from path : C:\\Users\\FG\\Desktop\\PhD\\Research\\Reservoirs\\datasets\\TIMIT-MFCCs\\test\\dr5\\mrrk0\n",
        "working on: sx208.mfcc.csv"
       ]
      },
      {
       "output_type": "stream",
       "stream": "stdout",
       "text": [
        "\n",
        "from path : C:\\Users\\FG\\Desktop\\PhD\\Research\\Reservoirs\\datasets\\TIMIT-MFCCs\\test\\dr5\\mrrk0\n",
        "working on: sx28.mfcc.csv"
       ]
      },
      {
       "output_type": "stream",
       "stream": "stdout",
       "text": [
        "\n",
        "from path : C:\\Users\\FG\\Desktop\\PhD\\Research\\Reservoirs\\datasets\\TIMIT-MFCCs\\test\\dr5\\mrrk0\n",
        "working on: sx298.mfcc.csv"
       ]
      },
      {
       "output_type": "stream",
       "stream": "stdout",
       "text": [
        "\n",
        "from path : C:\\Users\\FG\\Desktop\\PhD\\Research\\Reservoirs\\datasets\\TIMIT-MFCCs\\test\\dr5\\mrrk0\n",
        "working on: sx388.mfcc.csv"
       ]
      },
      {
       "output_type": "stream",
       "stream": "stdout",
       "text": [
        "\n",
        "from path : C:\\Users\\FG\\Desktop\\PhD\\Research\\Reservoirs\\datasets\\TIMIT-MFCCs\\test\\dr5\\mrrk0\n",
        "working on: si1130.mfcc.csv"
       ]
      },
      {
       "output_type": "stream",
       "stream": "stdout",
       "text": [
        "\n",
        "from path : C:\\Users\\FG\\Desktop\\PhD\\Research\\Reservoirs\\datasets\\TIMIT-MFCCs\\test\\dr5\\mrws1\n",
        "working on: si1496.mfcc.csv"
       ]
      },
      {
       "output_type": "stream",
       "stream": "stdout",
       "text": [
        "\n",
        "from path : C:\\Users\\FG\\Desktop\\PhD\\Research\\Reservoirs\\datasets\\TIMIT-MFCCs\\test\\dr5\\mrws1\n",
        "working on: si500.mfcc.csv"
       ]
      },
      {
       "output_type": "stream",
       "stream": "stdout",
       "text": [
        "\n",
        "from path : C:\\Users\\FG\\Desktop\\PhD\\Research\\Reservoirs\\datasets\\TIMIT-MFCCs\\test\\dr5\\mrws1\n",
        "working on: sx140.mfcc.csv"
       ]
      },
      {
       "output_type": "stream",
       "stream": "stdout",
       "text": [
        "\n",
        "from path : C:\\Users\\FG\\Desktop\\PhD\\Research\\Reservoirs\\datasets\\TIMIT-MFCCs\\test\\dr5\\mrws1\n",
        "working on: sx230.mfcc.csv"
       ]
      },
      {
       "output_type": "stream",
       "stream": "stdout",
       "text": [
        "\n",
        "from path : C:\\Users\\FG\\Desktop\\PhD\\Research\\Reservoirs\\datasets\\TIMIT-MFCCs\\test\\dr5\\mrws1\n",
        "working on: sx320.mfcc.csv"
       ]
      },
      {
       "output_type": "stream",
       "stream": "stdout",
       "text": [
        "\n",
        "from path : C:\\Users\\FG\\Desktop\\PhD\\Research\\Reservoirs\\datasets\\TIMIT-MFCCs\\test\\dr5\\mrws1\n",
        "working on: sx410.mfcc.csv"
       ]
      },
      {
       "output_type": "stream",
       "stream": "stdout",
       "text": [
        "\n",
        "from path : C:\\Users\\FG\\Desktop\\PhD\\Research\\Reservoirs\\datasets\\TIMIT-MFCCs\\test\\dr5\\mrws1\n",
        "working on: sx50.mfcc.csv"
       ]
      },
      {
       "output_type": "stream",
       "stream": "stdout",
       "text": [
        "\n",
        "from path : C:\\Users\\FG\\Desktop\\PhD\\Research\\Reservoirs\\datasets\\TIMIT-MFCCs\\test\\dr5\\mrws1\n",
        "working on: si1270.mfcc.csv"
       ]
      },
      {
       "output_type": "stream",
       "stream": "stdout",
       "text": [
        "\n",
        "from path : C:\\Users\\FG\\Desktop\\PhD\\Research\\Reservoirs\\datasets\\TIMIT-MFCCs\\test\\dr5\\msfh1\n",
        "working on: si1900.mfcc.csv"
       ]
      },
      {
       "output_type": "stream",
       "stream": "stdout",
       "text": [
        "\n",
        "from path : C:\\Users\\FG\\Desktop\\PhD\\Research\\Reservoirs\\datasets\\TIMIT-MFCCs\\test\\dr5\\msfh1\n",
        "working on: si640.mfcc.csv"
       ]
      },
      {
       "output_type": "stream",
       "stream": "stdout",
       "text": [
        "\n",
        "from path : C:\\Users\\FG\\Desktop\\PhD\\Research\\Reservoirs\\datasets\\TIMIT-MFCCs\\test\\dr5\\msfh1\n",
        "working on: sx10.mfcc.csv"
       ]
      },
      {
       "output_type": "stream",
       "stream": "stdout",
       "text": [
        "\n",
        "from path : C:\\Users\\FG\\Desktop\\PhD\\Research\\Reservoirs\\datasets\\TIMIT-MFCCs\\test\\dr5\\msfh1\n",
        "working on: sx100.mfcc.csv"
       ]
      },
      {
       "output_type": "stream",
       "stream": "stdout",
       "text": [
        "\n",
        "from path : C:\\Users\\FG\\Desktop\\PhD\\Research\\Reservoirs\\datasets\\TIMIT-MFCCs\\test\\dr5\\msfh1\n",
        "working on: sx190.mfcc.csv"
       ]
      },
      {
       "output_type": "stream",
       "stream": "stdout",
       "text": [
        "\n",
        "from path : C:\\Users\\FG\\Desktop\\PhD\\Research\\Reservoirs\\datasets\\TIMIT-MFCCs\\test\\dr5\\msfh1\n",
        "working on: sx280.mfcc.csv"
       ]
      },
      {
       "output_type": "stream",
       "stream": "stdout",
       "text": [
        "\n",
        "from path : C:\\Users\\FG\\Desktop\\PhD\\Research\\Reservoirs\\datasets\\TIMIT-MFCCs\\test\\dr5\\msfh1\n",
        "working on: sx370.mfcc.csv"
       ]
      },
      {
       "output_type": "stream",
       "stream": "stdout",
       "text": [
        "\n",
        "from path : C:\\Users\\FG\\Desktop\\PhD\\Research\\Reservoirs\\datasets\\TIMIT-MFCCs\\test\\dr5\\msfh1\n",
        "working on: si1283.mfcc.csv"
       ]
      },
      {
       "output_type": "stream",
       "stream": "stdout",
       "text": [
        "\n",
        "from path : C:\\Users\\FG\\Desktop\\PhD\\Research\\Reservoirs\\datasets\\TIMIT-MFCCs\\test\\dr6\\fdrw0\n",
        "working on: si1423.mfcc.csv"
       ]
      },
      {
       "output_type": "stream",
       "stream": "stdout",
       "text": [
        "\n",
        "from path : C:\\Users\\FG\\Desktop\\PhD\\Research\\Reservoirs\\datasets\\TIMIT-MFCCs\\test\\dr6\\fdrw0\n",
        "working on: si653.mfcc.csv\n",
        "from path : C:\\Users\\FG\\Desktop\\PhD\\Research\\Reservoirs\\datasets\\TIMIT-MFCCs\\test\\dr6\\fdrw0\n",
        "working on: sx113.mfcc.csv"
       ]
      },
      {
       "output_type": "stream",
       "stream": "stdout",
       "text": [
        "\n",
        "from path : C:\\Users\\FG\\Desktop\\PhD\\Research\\Reservoirs\\datasets\\TIMIT-MFCCs\\test\\dr6\\fdrw0\n",
        "working on: sx203.mfcc.csv"
       ]
      },
      {
       "output_type": "stream",
       "stream": "stdout",
       "text": [
        "\n",
        "from path : C:\\Users\\FG\\Desktop\\PhD\\Research\\Reservoirs\\datasets\\TIMIT-MFCCs\\test\\dr6\\fdrw0\n",
        "working on: sx23.mfcc.csv"
       ]
      },
      {
       "output_type": "stream",
       "stream": "stdout",
       "text": [
        "\n",
        "from path : C:\\Users\\FG\\Desktop\\PhD\\Research\\Reservoirs\\datasets\\TIMIT-MFCCs\\test\\dr6\\fdrw0\n",
        "working on: sx293.mfcc.csv"
       ]
      },
      {
       "output_type": "stream",
       "stream": "stdout",
       "text": [
        "\n",
        "from path : C:\\Users\\FG\\Desktop\\PhD\\Research\\Reservoirs\\datasets\\TIMIT-MFCCs\\test\\dr6\\fdrw0\n",
        "working on: sx383.mfcc.csv"
       ]
      },
      {
       "output_type": "stream",
       "stream": "stdout",
       "text": [
        "\n",
        "from path : C:\\Users\\FG\\Desktop\\PhD\\Research\\Reservoirs\\datasets\\TIMIT-MFCCs\\test\\dr6\\fdrw0\n",
        "working on: si1214.mfcc.csv"
       ]
      },
      {
       "output_type": "stream",
       "stream": "stdout",
       "text": [
        "\n",
        "from path : C:\\Users\\FG\\Desktop\\PhD\\Research\\Reservoirs\\datasets\\TIMIT-MFCCs\\test\\dr6\\flnh0\n",
        "working on: si584.mfcc.csv"
       ]
      },
      {
       "output_type": "stream",
       "stream": "stdout",
       "text": [
        "\n",
        "from path : C:\\Users\\FG\\Desktop\\PhD\\Research\\Reservoirs\\datasets\\TIMIT-MFCCs\\test\\dr6\\flnh0\n",
        "working on: si941.mfcc.csv"
       ]
      },
      {
       "output_type": "stream",
       "stream": "stdout",
       "text": [
        "\n",
        "from path : C:\\Users\\FG\\Desktop\\PhD\\Research\\Reservoirs\\datasets\\TIMIT-MFCCs\\test\\dr6\\flnh0\n",
        "working on: sx134.mfcc.csv"
       ]
      },
      {
       "output_type": "stream",
       "stream": "stdout",
       "text": [
        "\n",
        "from path : C:\\Users\\FG\\Desktop\\PhD\\Research\\Reservoirs\\datasets\\TIMIT-MFCCs\\test\\dr6\\flnh0\n",
        "working on: sx224.mfcc.csv"
       ]
      },
      {
       "output_type": "stream",
       "stream": "stdout",
       "text": [
        "\n",
        "from path : C:\\Users\\FG\\Desktop\\PhD\\Research\\Reservoirs\\datasets\\TIMIT-MFCCs\\test\\dr6\\flnh0\n",
        "working on: sx314.mfcc.csv"
       ]
      },
      {
       "output_type": "stream",
       "stream": "stdout",
       "text": [
        "\n",
        "from path : C:\\Users\\FG\\Desktop\\PhD\\Research\\Reservoirs\\datasets\\TIMIT-MFCCs\\test\\dr6\\flnh0\n",
        "working on: sx404.mfcc.csv"
       ]
      },
      {
       "output_type": "stream",
       "stream": "stdout",
       "text": [
        "\n",
        "from path : C:\\Users\\FG\\Desktop\\PhD\\Research\\Reservoirs\\datasets\\TIMIT-MFCCs\\test\\dr6\\flnh0\n",
        "working on: sx44.mfcc.csv"
       ]
      },
      {
       "output_type": "stream",
       "stream": "stdout",
       "text": [
        "\n",
        "from path : C:\\Users\\FG\\Desktop\\PhD\\Research\\Reservoirs\\datasets\\TIMIT-MFCCs\\test\\dr6\\flnh0\n",
        "working on: si1564.mfcc.csv"
       ]
      },
      {
       "output_type": "stream",
       "stream": "stdout",
       "text": [
        "\n",
        "from path : C:\\Users\\FG\\Desktop\\PhD\\Research\\Reservoirs\\datasets\\TIMIT-MFCCs\\test\\dr6\\fmgd0\n",
        "working on: si2194.mfcc.csv"
       ]
      },
      {
       "output_type": "stream",
       "stream": "stdout",
       "text": [
        "\n",
        "from path : C:\\Users\\FG\\Desktop\\PhD\\Research\\Reservoirs\\datasets\\TIMIT-MFCCs\\test\\dr6\\fmgd0\n",
        "working on: si934.mfcc.csv"
       ]
      },
      {
       "output_type": "stream",
       "stream": "stdout",
       "text": [
        "\n",
        "from path : C:\\Users\\FG\\Desktop\\PhD\\Research\\Reservoirs\\datasets\\TIMIT-MFCCs\\test\\dr6\\fmgd0\n",
        "working on: sx124.mfcc.csv"
       ]
      },
      {
       "output_type": "stream",
       "stream": "stdout",
       "text": [
        "\n",
        "from path : C:\\Users\\FG\\Desktop\\PhD\\Research\\Reservoirs\\datasets\\TIMIT-MFCCs\\test\\dr6\\fmgd0\n",
        "working on: sx214.mfcc.csv"
       ]
      },
      {
       "output_type": "stream",
       "stream": "stdout",
       "text": [
        "\n",
        "from path : C:\\Users\\FG\\Desktop\\PhD\\Research\\Reservoirs\\datasets\\TIMIT-MFCCs\\test\\dr6\\fmgd0\n",
        "working on: sx304.mfcc.csv\n",
        "from path : C:\\Users\\FG\\Desktop\\PhD\\Research\\Reservoirs\\datasets\\TIMIT-MFCCs\\test\\dr6\\fmgd0\n",
        "working on: sx34.mfcc.csv"
       ]
      },
      {
       "output_type": "stream",
       "stream": "stdout",
       "text": [
        "\n",
        "from path : C:\\Users\\FG\\Desktop\\PhD\\Research\\Reservoirs\\datasets\\TIMIT-MFCCs\\test\\dr6\\fmgd0\n",
        "working on: sx394.mfcc.csv\n",
        "from path : C:\\Users\\FG\\Desktop\\PhD\\Research\\Reservoirs\\datasets\\TIMIT-MFCCs\\test\\dr6\\fmgd0\n",
        "working on: si1094.mfcc.csv"
       ]
      },
      {
       "output_type": "stream",
       "stream": "stdout",
       "text": [
        "\n",
        "from path : C:\\Users\\FG\\Desktop\\PhD\\Research\\Reservoirs\\datasets\\TIMIT-MFCCs\\test\\dr6\\mcmj0\n",
        "working on: si464.mfcc.csv"
       ]
      },
      {
       "output_type": "stream",
       "stream": "stdout",
       "text": [
        "\n",
        "from path : C:\\Users\\FG\\Desktop\\PhD\\Research\\Reservoirs\\datasets\\TIMIT-MFCCs\\test\\dr6\\mcmj0\n",
        "working on: si602.mfcc.csv"
       ]
      },
      {
       "output_type": "stream",
       "stream": "stdout",
       "text": [
        "\n",
        "from path : C:\\Users\\FG\\Desktop\\PhD\\Research\\Reservoirs\\datasets\\TIMIT-MFCCs\\test\\dr6\\mcmj0\n",
        "working on: sx104.mfcc.csv"
       ]
      },
      {
       "output_type": "stream",
       "stream": "stdout",
       "text": [
        "\n",
        "from path : C:\\Users\\FG\\Desktop\\PhD\\Research\\Reservoirs\\datasets\\TIMIT-MFCCs\\test\\dr6\\mcmj0\n",
        "working on: sx14.mfcc.csv\n",
        "from path : C:\\Users\\FG\\Desktop\\PhD\\Research\\Reservoirs\\datasets\\TIMIT-MFCCs\\test\\dr6\\mcmj0\n",
        "working on: sx194.mfcc.csv"
       ]
      },
      {
       "output_type": "stream",
       "stream": "stdout",
       "text": [
        "\n",
        "from path : C:\\Users\\FG\\Desktop\\PhD\\Research\\Reservoirs\\datasets\\TIMIT-MFCCs\\test\\dr6\\mcmj0\n",
        "working on: sx284.mfcc.csv\n",
        "from path : C:\\Users\\FG\\Desktop\\PhD\\Research\\Reservoirs\\datasets\\TIMIT-MFCCs\\test\\dr6\\mcmj0\n",
        "working on: sx374.mfcc.csv"
       ]
      },
      {
       "output_type": "stream",
       "stream": "stdout",
       "text": [
        "\n",
        "from path : C:\\Users\\FG\\Desktop\\PhD\\Research\\Reservoirs\\datasets\\TIMIT-MFCCs\\test\\dr6\\mcmj0\n",
        "working on: si1038.mfcc.csv"
       ]
      },
      {
       "output_type": "stream",
       "stream": "stdout",
       "text": [
        "\n",
        "from path : C:\\Users\\FG\\Desktop\\PhD\\Research\\Reservoirs\\datasets\\TIMIT-MFCCs\\test\\dr6\\mdsc0\n",
        "working on: si2298.mfcc.csv\n",
        "from path : C:\\Users\\FG\\Desktop\\PhD\\Research\\Reservoirs\\datasets\\TIMIT-MFCCs\\test\\dr6\\mdsc0\n",
        "working on: si967.mfcc.csv"
       ]
      },
      {
       "output_type": "stream",
       "stream": "stdout",
       "text": [
        "\n",
        "from path : C:\\Users\\FG\\Desktop\\PhD\\Research\\Reservoirs\\datasets\\TIMIT-MFCCs\\test\\dr6\\mdsc0\n",
        "working on: sx138.mfcc.csv"
       ]
      },
      {
       "output_type": "stream",
       "stream": "stdout",
       "text": [
        "\n",
        "from path : C:\\Users\\FG\\Desktop\\PhD\\Research\\Reservoirs\\datasets\\TIMIT-MFCCs\\test\\dr6\\mdsc0\n",
        "working on: sx228.mfcc.csv\n",
        "from path : C:\\Users\\FG\\Desktop\\PhD\\Research\\Reservoirs\\datasets\\TIMIT-MFCCs\\test\\dr6\\mdsc0\n",
        "working on: sx318.mfcc.csv"
       ]
      },
      {
       "output_type": "stream",
       "stream": "stdout",
       "text": [
        "\n",
        "from path : C:\\Users\\FG\\Desktop\\PhD\\Research\\Reservoirs\\datasets\\TIMIT-MFCCs\\test\\dr6\\mdsc0\n",
        "working on: sx408.mfcc.csv"
       ]
      },
      {
       "output_type": "stream",
       "stream": "stdout",
       "text": [
        "\n",
        "from path : C:\\Users\\FG\\Desktop\\PhD\\Research\\Reservoirs\\datasets\\TIMIT-MFCCs\\test\\dr6\\mdsc0\n",
        "working on: sx48.mfcc.csv"
       ]
      },
      {
       "output_type": "stream",
       "stream": "stdout",
       "text": [
        "\n",
        "from path : C:\\Users\\FG\\Desktop\\PhD\\Research\\Reservoirs\\datasets\\TIMIT-MFCCs\\test\\dr6\\mdsc0\n",
        "working on: si1002.mfcc.csv"
       ]
      },
      {
       "output_type": "stream",
       "stream": "stdout",
       "text": [
        "\n",
        "from path : C:\\Users\\FG\\Desktop\\PhD\\Research\\Reservoirs\\datasets\\TIMIT-MFCCs\\test\\dr6\\mesd0\n",
        "working on: si1632.mfcc.csv"
       ]
      },
      {
       "output_type": "stream",
       "stream": "stdout",
       "text": [
        "\n",
        "from path : C:\\Users\\FG\\Desktop\\PhD\\Research\\Reservoirs\\datasets\\TIMIT-MFCCs\\test\\dr6\\mesd0\n",
        "working on: si2262.mfcc.csv\n",
        "from path : C:\\Users\\FG\\Desktop\\PhD\\Research\\Reservoirs\\datasets\\TIMIT-MFCCs\\test\\dr6\\mesd0\n",
        "working on: sx102.mfcc.csv"
       ]
      },
      {
       "output_type": "stream",
       "stream": "stdout",
       "text": [
        "\n",
        "from path : C:\\Users\\FG\\Desktop\\PhD\\Research\\Reservoirs\\datasets\\TIMIT-MFCCs\\test\\dr6\\mesd0\n",
        "working on: sx12.mfcc.csv"
       ]
      },
      {
       "output_type": "stream",
       "stream": "stdout",
       "text": [
        "\n",
        "from path : C:\\Users\\FG\\Desktop\\PhD\\Research\\Reservoirs\\datasets\\TIMIT-MFCCs\\test\\dr6\\mesd0\n",
        "working on: sx192.mfcc.csv\n",
        "from path : C:\\Users\\FG\\Desktop\\PhD\\Research\\Reservoirs\\datasets\\TIMIT-MFCCs\\test\\dr6\\mesd0\n",
        "working on: sx282.mfcc.csv"
       ]
      },
      {
       "output_type": "stream",
       "stream": "stdout",
       "text": [
        "\n",
        "from path : C:\\Users\\FG\\Desktop\\PhD\\Research\\Reservoirs\\datasets\\TIMIT-MFCCs\\test\\dr6\\mesd0\n",
        "working on: sx372.mfcc.csv"
       ]
      },
      {
       "output_type": "stream",
       "stream": "stdout",
       "text": [
        "\n",
        "from path : C:\\Users\\FG\\Desktop\\PhD\\Research\\Reservoirs\\datasets\\TIMIT-MFCCs\\test\\dr6\\mesd0\n",
        "working on: si1354.mfcc.csv\n",
        "from path : C:\\Users\\FG\\Desktop\\PhD\\Research\\Reservoirs\\datasets\\TIMIT-MFCCs\\test\\dr6\\mjdh0\n",
        "working on: si1984.mfcc.csv"
       ]
      },
      {
       "output_type": "stream",
       "stream": "stdout",
       "text": [
        "\n",
        "from path : C:\\Users\\FG\\Desktop\\PhD\\Research\\Reservoirs\\datasets\\TIMIT-MFCCs\\test\\dr6\\mjdh0\n",
        "working on: si724.mfcc.csv\n",
        "from path : C:\\Users\\FG\\Desktop\\PhD\\Research\\Reservoirs\\datasets\\TIMIT-MFCCs\\test\\dr6\\mjdh0\n",
        "working on: sx184.mfcc.csv"
       ]
      },
      {
       "output_type": "stream",
       "stream": "stdout",
       "text": [
        "\n",
        "from path : C:\\Users\\FG\\Desktop\\PhD\\Research\\Reservoirs\\datasets\\TIMIT-MFCCs\\test\\dr6\\mjdh0\n",
        "working on: sx274.mfcc.csv\n",
        "from path : C:\\Users\\FG\\Desktop\\PhD\\Research\\Reservoirs\\datasets\\TIMIT-MFCCs\\test\\dr6\\mjdh0\n",
        "working on: sx364.mfcc.csv"
       ]
      },
      {
       "output_type": "stream",
       "stream": "stdout",
       "text": [
        "\n",
        "from path : C:\\Users\\FG\\Desktop\\PhD\\Research\\Reservoirs\\datasets\\TIMIT-MFCCs\\test\\dr6\\mjdh0\n",
        "working on: sx4.mfcc.csv"
       ]
      },
      {
       "output_type": "stream",
       "stream": "stdout",
       "text": [
        "\n",
        "from path : C:\\Users\\FG\\Desktop\\PhD\\Research\\Reservoirs\\datasets\\TIMIT-MFCCs\\test\\dr6\\mjdh0\n",
        "working on: sx94.mfcc.csv\n",
        "from path : C:\\Users\\FG\\Desktop\\PhD\\Research\\Reservoirs\\datasets\\TIMIT-MFCCs\\test\\dr6\\mjdh0\n",
        "working on: si1033.mfcc.csv"
       ]
      },
      {
       "output_type": "stream",
       "stream": "stdout",
       "text": [
        "\n",
        "from path : C:\\Users\\FG\\Desktop\\PhD\\Research\\Reservoirs\\datasets\\TIMIT-MFCCs\\test\\dr6\\mjfc0\n",
        "working on: si1663.mfcc.csv\n",
        "from path : C:\\Users\\FG\\Desktop\\PhD\\Research\\Reservoirs\\datasets\\TIMIT-MFCCs\\test\\dr6\\mjfc0\n",
        "working on: si2293.mfcc.csv"
       ]
      },
      {
       "output_type": "stream",
       "stream": "stdout",
       "text": [
        "\n",
        "from path : C:\\Users\\FG\\Desktop\\PhD\\Research\\Reservoirs\\datasets\\TIMIT-MFCCs\\test\\dr6\\mjfc0\n",
        "working on: sx133.mfcc.csv"
       ]
      },
      {
       "output_type": "stream",
       "stream": "stdout",
       "text": [
        "\n",
        "from path : C:\\Users\\FG\\Desktop\\PhD\\Research\\Reservoirs\\datasets\\TIMIT-MFCCs\\test\\dr6\\mjfc0\n",
        "working on: sx223.mfcc.csv"
       ]
      },
      {
       "output_type": "stream",
       "stream": "stdout",
       "text": [
        "\n",
        "from path : C:\\Users\\FG\\Desktop\\PhD\\Research\\Reservoirs\\datasets\\TIMIT-MFCCs\\test\\dr6\\mjfc0\n",
        "working on: sx313.mfcc.csv\n",
        "from path : C:\\Users\\FG\\Desktop\\PhD\\Research\\Reservoirs\\datasets\\TIMIT-MFCCs\\test\\dr6\\mjfc0\n",
        "working on: sx403.mfcc.csv"
       ]
      },
      {
       "output_type": "stream",
       "stream": "stdout",
       "text": [
        "\n",
        "from path : C:\\Users\\FG\\Desktop\\PhD\\Research\\Reservoirs\\datasets\\TIMIT-MFCCs\\test\\dr6\\mjfc0\n",
        "working on: sx43.mfcc.csv\n",
        "from path : C:\\Users\\FG\\Desktop\\PhD\\Research\\Reservoirs\\datasets\\TIMIT-MFCCs\\test\\dr6\\mjfc0\n",
        "working on: si1029.mfcc.csv"
       ]
      },
      {
       "output_type": "stream",
       "stream": "stdout",
       "text": [
        "\n",
        "from path : C:\\Users\\FG\\Desktop\\PhD\\Research\\Reservoirs\\datasets\\TIMIT-MFCCs\\test\\dr6\\mpam1\n",
        "working on: si1836.mfcc.csv\n",
        "from path : C:\\Users\\FG\\Desktop\\PhD\\Research\\Reservoirs\\datasets\\TIMIT-MFCCs\\test\\dr6\\mpam1\n",
        "working on: si576.mfcc.csv"
       ]
      },
      {
       "output_type": "stream",
       "stream": "stdout",
       "text": [
        "\n",
        "from path : C:\\Users\\FG\\Desktop\\PhD\\Research\\Reservoirs\\datasets\\TIMIT-MFCCs\\test\\dr6\\mpam1\n",
        "working on: sx126.mfcc.csv"
       ]
      },
      {
       "output_type": "stream",
       "stream": "stdout",
       "text": [
        "\n",
        "from path : C:\\Users\\FG\\Desktop\\PhD\\Research\\Reservoirs\\datasets\\TIMIT-MFCCs\\test\\dr6\\mpam1\n",
        "working on: sx216.mfcc.csv\n",
        "from path : C:\\Users\\FG\\Desktop\\PhD\\Research\\Reservoirs\\datasets\\TIMIT-MFCCs\\test\\dr6\\mpam1\n",
        "working on: sx306.mfcc.csv"
       ]
      },
      {
       "output_type": "stream",
       "stream": "stdout",
       "text": [
        "\n",
        "from path : C:\\Users\\FG\\Desktop\\PhD\\Research\\Reservoirs\\datasets\\TIMIT-MFCCs\\test\\dr6\\mpam1\n",
        "working on: sx36.mfcc.csv\n",
        "from path : C:\\Users\\FG\\Desktop\\PhD\\Research\\Reservoirs\\datasets\\TIMIT-MFCCs\\test\\dr6\\mpam1\n",
        "working on: sx396.mfcc.csv"
       ]
      },
      {
       "output_type": "stream",
       "stream": "stdout",
       "text": [
        "\n",
        "from path : C:\\Users\\FG\\Desktop\\PhD\\Research\\Reservoirs\\datasets\\TIMIT-MFCCs\\test\\dr6\\mpam1\n",
        "working on: si1182.mfcc.csv"
       ]
      },
      {
       "output_type": "stream",
       "stream": "stdout",
       "text": [
        "\n",
        "from path : C:\\Users\\FG\\Desktop\\PhD\\Research\\Reservoirs\\datasets\\TIMIT-MFCCs\\test\\dr6\\mrjr0\n",
        "working on: si1812.mfcc.csv\n",
        "from path : C:\\Users\\FG\\Desktop\\PhD\\Research\\Reservoirs\\datasets\\TIMIT-MFCCs\\test\\dr6\\mrjr0\n",
        "working on: si2313.mfcc.csv"
       ]
      },
      {
       "output_type": "stream",
       "stream": "stdout",
       "text": [
        "\n",
        "from path : C:\\Users\\FG\\Desktop\\PhD\\Research\\Reservoirs\\datasets\\TIMIT-MFCCs\\test\\dr6\\mrjr0\n",
        "working on: sx102.mfcc.csv"
       ]
      },
      {
       "output_type": "stream",
       "stream": "stdout",
       "text": [
        "\n",
        "from path : C:\\Users\\FG\\Desktop\\PhD\\Research\\Reservoirs\\datasets\\TIMIT-MFCCs\\test\\dr6\\mrjr0\n",
        "working on: sx12.mfcc.csv"
       ]
      },
      {
       "output_type": "stream",
       "stream": "stdout",
       "text": [
        "\n",
        "from path : C:\\Users\\FG\\Desktop\\PhD\\Research\\Reservoirs\\datasets\\TIMIT-MFCCs\\test\\dr6\\mrjr0\n",
        "working on: sx192.mfcc.csv\n",
        "from path : C:\\Users\\FG\\Desktop\\PhD\\Research\\Reservoirs\\datasets\\TIMIT-MFCCs\\test\\dr6\\mrjr0\n",
        "working on: sx282.mfcc.csv"
       ]
      },
      {
       "output_type": "stream",
       "stream": "stdout",
       "text": [
        "\n",
        "from path : C:\\Users\\FG\\Desktop\\PhD\\Research\\Reservoirs\\datasets\\TIMIT-MFCCs\\test\\dr6\\mrjr0\n",
        "working on: sx372.mfcc.csv\n",
        "from path : C:\\Users\\FG\\Desktop\\PhD\\Research\\Reservoirs\\datasets\\TIMIT-MFCCs\\test\\dr6\\mrjr0\n",
        "working on: si1444.mfcc.csv"
       ]
      },
      {
       "output_type": "stream",
       "stream": "stdout",
       "text": [
        "\n",
        "from path : C:\\Users\\FG\\Desktop\\PhD\\Research\\Reservoirs\\datasets\\TIMIT-MFCCs\\test\\dr6\\mrjs0\n",
        "working on: si1523.mfcc.csv"
       ]
      },
      {
       "output_type": "stream",
       "stream": "stdout",
       "text": [
        "\n",
        "from path : C:\\Users\\FG\\Desktop\\PhD\\Research\\Reservoirs\\datasets\\TIMIT-MFCCs\\test\\dr6\\mrjs0\n",
        "working on: si2074.mfcc.csv"
       ]
      },
      {
       "output_type": "stream",
       "stream": "stdout",
       "text": [
        "\n",
        "from path : C:\\Users\\FG\\Desktop\\PhD\\Research\\Reservoirs\\datasets\\TIMIT-MFCCs\\test\\dr6\\mrjs0\n",
        "working on: sx184.mfcc.csv\n",
        "from path : C:\\Users\\FG\\Desktop\\PhD\\Research\\Reservoirs\\datasets\\TIMIT-MFCCs\\test\\dr6\\mrjs0\n",
        "working on: sx274.mfcc.csv"
       ]
      },
      {
       "output_type": "stream",
       "stream": "stdout",
       "text": [
        "\n",
        "from path : C:\\Users\\FG\\Desktop\\PhD\\Research\\Reservoirs\\datasets\\TIMIT-MFCCs\\test\\dr6\\mrjs0\n",
        "working on: sx364.mfcc.csv\n",
        "from path : C:\\Users\\FG\\Desktop\\PhD\\Research\\Reservoirs\\datasets\\TIMIT-MFCCs\\test\\dr6\\mrjs0\n",
        "working on: sx4.mfcc.csv"
       ]
      },
      {
       "output_type": "stream",
       "stream": "stdout",
       "text": [
        "\n",
        "from path : C:\\Users\\FG\\Desktop\\PhD\\Research\\Reservoirs\\datasets\\TIMIT-MFCCs\\test\\dr6\\mrjs0\n",
        "working on: sx94.mfcc.csv\n",
        "from path : C:\\Users\\FG\\Desktop\\PhD\\Research\\Reservoirs\\datasets\\TIMIT-MFCCs\\test\\dr6\\mrjs0\n",
        "working on: si1037.mfcc.csv"
       ]
      },
      {
       "output_type": "stream",
       "stream": "stdout",
       "text": [
        "\n",
        "from path : C:\\Users\\FG\\Desktop\\PhD\\Research\\Reservoirs\\datasets\\TIMIT-MFCCs\\test\\dr7\\fcau0\n",
        "working on: si1667.mfcc.csv"
       ]
      },
      {
       "output_type": "stream",
       "stream": "stdout",
       "text": [
        "\n",
        "from path : C:\\Users\\FG\\Desktop\\PhD\\Research\\Reservoirs\\datasets\\TIMIT-MFCCs\\test\\dr7\\fcau0\n",
        "working on: si2297.mfcc.csv"
       ]
      },
      {
       "output_type": "stream",
       "stream": "stdout",
       "text": [
        "\n",
        "from path : C:\\Users\\FG\\Desktop\\PhD\\Research\\Reservoirs\\datasets\\TIMIT-MFCCs\\test\\dr7\\fcau0\n",
        "working on: sx137.mfcc.csv\n",
        "from path : C:\\Users\\FG\\Desktop\\PhD\\Research\\Reservoirs\\datasets\\TIMIT-MFCCs\\test\\dr7\\fcau0\n",
        "working on: sx227.mfcc.csv"
       ]
      },
      {
       "output_type": "stream",
       "stream": "stdout",
       "text": [
        "\n",
        "from path : C:\\Users\\FG\\Desktop\\PhD\\Research\\Reservoirs\\datasets\\TIMIT-MFCCs\\test\\dr7\\fcau0\n",
        "working on: sx317.mfcc.csv"
       ]
      },
      {
       "output_type": "stream",
       "stream": "stdout",
       "text": [
        "\n",
        "from path : C:\\Users\\FG\\Desktop\\PhD\\Research\\Reservoirs\\datasets\\TIMIT-MFCCs\\test\\dr7\\fcau0\n",
        "working on: sx407.mfcc.csv\n",
        "from path : C:\\Users\\FG\\Desktop\\PhD\\Research\\Reservoirs\\datasets\\TIMIT-MFCCs\\test\\dr7\\fcau0\n",
        "working on: sx47.mfcc.csv"
       ]
      },
      {
       "output_type": "stream",
       "stream": "stdout",
       "text": [
        "\n",
        "from path : C:\\Users\\FG\\Desktop\\PhD\\Research\\Reservoirs\\datasets\\TIMIT-MFCCs\\test\\dr7\\fcau0\n",
        "working on: si1559.mfcc.csv\n",
        "from path : C:\\Users\\FG\\Desktop\\PhD\\Research\\Reservoirs\\datasets\\TIMIT-MFCCs\\test\\dr7\\fdhc0\n",
        "working on: si2189.mfcc.csv"
       ]
      },
      {
       "output_type": "stream",
       "stream": "stdout",
       "text": [
        "\n",
        "from path : C:\\Users\\FG\\Desktop\\PhD\\Research\\Reservoirs\\datasets\\TIMIT-MFCCs\\test\\dr7\\fdhc0\n",
        "working on: si929.mfcc.csv\n",
        "from path : C:\\Users\\FG\\Desktop\\PhD\\Research\\Reservoirs\\datasets\\TIMIT-MFCCs\\test\\dr7\\fdhc0\n",
        "working on: sx119.mfcc.csv"
       ]
      },
      {
       "output_type": "stream",
       "stream": "stdout",
       "text": [
        "\n",
        "from path : C:\\Users\\FG\\Desktop\\PhD\\Research\\Reservoirs\\datasets\\TIMIT-MFCCs\\test\\dr7\\fdhc0\n",
        "working on: sx209.mfcc.csv"
       ]
      },
      {
       "output_type": "stream",
       "stream": "stdout",
       "text": [
        "\n",
        "from path : C:\\Users\\FG\\Desktop\\PhD\\Research\\Reservoirs\\datasets\\TIMIT-MFCCs\\test\\dr7\\fdhc0\n",
        "working on: sx29.mfcc.csv"
       ]
      },
      {
       "output_type": "stream",
       "stream": "stdout",
       "text": [
        "\n",
        "from path : C:\\Users\\FG\\Desktop\\PhD\\Research\\Reservoirs\\datasets\\TIMIT-MFCCs\\test\\dr7\\fdhc0\n",
        "working on: sx299.mfcc.csv"
       ]
      },
      {
       "output_type": "stream",
       "stream": "stdout",
       "text": [
        "\n",
        "from path : C:\\Users\\FG\\Desktop\\PhD\\Research\\Reservoirs\\datasets\\TIMIT-MFCCs\\test\\dr7\\fdhc0\n",
        "working on: sx389.mfcc.csv"
       ]
      },
      {
       "output_type": "stream",
       "stream": "stdout",
       "text": [
        "\n",
        "from path : C:\\Users\\FG\\Desktop\\PhD\\Research\\Reservoirs\\datasets\\TIMIT-MFCCs\\test\\dr7\\fdhc0\n",
        "working on: si1578.mfcc.csv"
       ]
      },
      {
       "output_type": "stream",
       "stream": "stdout",
       "text": [
        "\n",
        "from path : C:\\Users\\FG\\Desktop\\PhD\\Research\\Reservoirs\\datasets\\TIMIT-MFCCs\\test\\dr7\\fgwr0\n",
        "working on: si2208.mfcc.csv"
       ]
      },
      {
       "output_type": "stream",
       "stream": "stdout",
       "text": [
        "\n",
        "from path : C:\\Users\\FG\\Desktop\\PhD\\Research\\Reservoirs\\datasets\\TIMIT-MFCCs\\test\\dr7\\fgwr0\n",
        "working on: si948.mfcc.csv\n",
        "from path : C:\\Users\\FG\\Desktop\\PhD\\Research\\Reservoirs\\datasets\\TIMIT-MFCCs\\test\\dr7\\fgwr0\n",
        "working on: sx138.mfcc.csv"
       ]
      },
      {
       "output_type": "stream",
       "stream": "stdout",
       "text": [
        "\n",
        "from path : C:\\Users\\FG\\Desktop\\PhD\\Research\\Reservoirs\\datasets\\TIMIT-MFCCs\\test\\dr7\\fgwr0\n",
        "working on: sx228.mfcc.csv\n",
        "from path : C:\\Users\\FG\\Desktop\\PhD\\Research\\Reservoirs\\datasets\\TIMIT-MFCCs\\test\\dr7\\fgwr0\n",
        "working on: sx318.mfcc.csv"
       ]
      },
      {
       "output_type": "stream",
       "stream": "stdout",
       "text": [
        "\n",
        "from path : C:\\Users\\FG\\Desktop\\PhD\\Research\\Reservoirs\\datasets\\TIMIT-MFCCs\\test\\dr7\\fgwr0\n",
        "working on: sx408.mfcc.csv\n",
        "from path : C:\\Users\\FG\\Desktop\\PhD\\Research\\Reservoirs\\datasets\\TIMIT-MFCCs\\test\\dr7\\fgwr0\n",
        "working on: sx48.mfcc.csv"
       ]
      },
      {
       "output_type": "stream",
       "stream": "stdout",
       "text": [
        "\n",
        "from path : C:\\Users\\FG\\Desktop\\PhD\\Research\\Reservoirs\\datasets\\TIMIT-MFCCs\\test\\dr7\\fgwr0\n",
        "working on: si1579.mfcc.csv"
       ]
      },
      {
       "output_type": "stream",
       "stream": "stdout",
       "text": [
        "\n",
        "from path : C:\\Users\\FG\\Desktop\\PhD\\Research\\Reservoirs\\datasets\\TIMIT-MFCCs\\test\\dr7\\fisb0\n",
        "working on: si2209.mfcc.csv"
       ]
      },
      {
       "output_type": "stream",
       "stream": "stdout",
       "text": [
        "\n",
        "from path : C:\\Users\\FG\\Desktop\\PhD\\Research\\Reservoirs\\datasets\\TIMIT-MFCCs\\test\\dr7\\fisb0\n",
        "working on: si949.mfcc.csv\n",
        "from path : C:\\Users\\FG\\Desktop\\PhD\\Research\\Reservoirs\\datasets\\TIMIT-MFCCs\\test\\dr7\\fisb0\n",
        "working on: sx139.mfcc.csv"
       ]
      },
      {
       "output_type": "stream",
       "stream": "stdout",
       "text": [
        "\n",
        "from path : C:\\Users\\FG\\Desktop\\PhD\\Research\\Reservoirs\\datasets\\TIMIT-MFCCs\\test\\dr7\\fisb0\n",
        "working on: sx229.mfcc.csv\n",
        "from path : C:\\Users\\FG\\Desktop\\PhD\\Research\\Reservoirs\\datasets\\TIMIT-MFCCs\\test\\dr7\\fisb0\n",
        "working on: sx319.mfcc.csv"
       ]
      },
      {
       "output_type": "stream",
       "stream": "stdout",
       "text": [
        "\n",
        "from path : C:\\Users\\FG\\Desktop\\PhD\\Research\\Reservoirs\\datasets\\TIMIT-MFCCs\\test\\dr7\\fisb0\n",
        "working on: sx409.mfcc.csv"
       ]
      },
      {
       "output_type": "stream",
       "stream": "stdout",
       "text": [
        "\n",
        "from path : C:\\Users\\FG\\Desktop\\PhD\\Research\\Reservoirs\\datasets\\TIMIT-MFCCs\\test\\dr7\\fisb0\n",
        "working on: sx49.mfcc.csv"
       ]
      },
      {
       "output_type": "stream",
       "stream": "stdout",
       "text": [
        "\n",
        "from path : C:\\Users\\FG\\Desktop\\PhD\\Research\\Reservoirs\\datasets\\TIMIT-MFCCs\\test\\dr7\\fisb0\n",
        "working on: si1026.mfcc.csv"
       ]
      },
      {
       "output_type": "stream",
       "stream": "stdout",
       "text": [
        "\n",
        "from path : C:\\Users\\FG\\Desktop\\PhD\\Research\\Reservoirs\\datasets\\TIMIT-MFCCs\\test\\dr7\\flas0\n",
        "working on: si1488.mfcc.csv\n",
        "from path : C:\\Users\\FG\\Desktop\\PhD\\Research\\Reservoirs\\datasets\\TIMIT-MFCCs\\test\\dr7\\flas0\n",
        "working on: si858.mfcc.csv"
       ]
      },
      {
       "output_type": "stream",
       "stream": "stdout",
       "text": [
        "\n",
        "from path : C:\\Users\\FG\\Desktop\\PhD\\Research\\Reservoirs\\datasets\\TIMIT-MFCCs\\test\\dr7\\flas0\n",
        "working on: sx138.mfcc.csv"
       ]
      },
      {
       "output_type": "stream",
       "stream": "stdout",
       "text": [
        "\n",
        "from path : C:\\Users\\FG\\Desktop\\PhD\\Research\\Reservoirs\\datasets\\TIMIT-MFCCs\\test\\dr7\\flas0\n",
        "working on: sx228.mfcc.csv\n",
        "from path : C:\\Users\\FG\\Desktop\\PhD\\Research\\Reservoirs\\datasets\\TIMIT-MFCCs\\test\\dr7\\flas0\n",
        "working on: sx318.mfcc.csv"
       ]
      },
      {
       "output_type": "stream",
       "stream": "stdout",
       "text": [
        "\n",
        "from path : C:\\Users\\FG\\Desktop\\PhD\\Research\\Reservoirs\\datasets\\TIMIT-MFCCs\\test\\dr7\\flas0\n",
        "working on: sx408.mfcc.csv\n",
        "from path : C:\\Users\\FG\\Desktop\\PhD\\Research\\Reservoirs\\datasets\\TIMIT-MFCCs\\test\\dr7\\flas0\n",
        "working on: sx48.mfcc.csv"
       ]
      },
      {
       "output_type": "stream",
       "stream": "stdout",
       "text": [
        "\n",
        "from path : C:\\Users\\FG\\Desktop\\PhD\\Research\\Reservoirs\\datasets\\TIMIT-MFCCs\\test\\dr7\\flas0\n",
        "working on: si1040.mfcc.csv\n",
        "from path : C:\\Users\\FG\\Desktop\\PhD\\Research\\Reservoirs\\datasets\\TIMIT-MFCCs\\test\\dr7\\fmml0\n",
        "working on: si1670.mfcc.csv"
       ]
      },
      {
       "output_type": "stream",
       "stream": "stdout",
       "text": [
        "\n",
        "from path : C:\\Users\\FG\\Desktop\\PhD\\Research\\Reservoirs\\datasets\\TIMIT-MFCCs\\test\\dr7\\fmml0\n",
        "working on: si2300.mfcc.csv\n",
        "from path : C:\\Users\\FG\\Desktop\\PhD\\Research\\Reservoirs\\datasets\\TIMIT-MFCCs\\test\\dr7\\fmml0\n",
        "working on: sx140.mfcc.csv"
       ]
      },
      {
       "output_type": "stream",
       "stream": "stdout",
       "text": [
        "\n",
        "from path : C:\\Users\\FG\\Desktop\\PhD\\Research\\Reservoirs\\datasets\\TIMIT-MFCCs\\test\\dr7\\fmml0\n",
        "working on: sx230.mfcc.csv"
       ]
      },
      {
       "output_type": "stream",
       "stream": "stdout",
       "text": [
        "\n",
        "from path : C:\\Users\\FG\\Desktop\\PhD\\Research\\Reservoirs\\datasets\\TIMIT-MFCCs\\test\\dr7\\fmml0\n",
        "working on: sx320.mfcc.csv"
       ]
      },
      {
       "output_type": "stream",
       "stream": "stdout",
       "text": [
        "\n",
        "from path : C:\\Users\\FG\\Desktop\\PhD\\Research\\Reservoirs\\datasets\\TIMIT-MFCCs\\test\\dr7\\fmml0\n",
        "working on: sx410.mfcc.csv\n",
        "from path : C:\\Users\\FG\\Desktop\\PhD\\Research\\Reservoirs\\datasets\\TIMIT-MFCCs\\test\\dr7\\fmml0\n",
        "working on: sx50.mfcc.csv"
       ]
      },
      {
       "output_type": "stream",
       "stream": "stdout",
       "text": [
        "\n",
        "from path : C:\\Users\\FG\\Desktop\\PhD\\Research\\Reservoirs\\datasets\\TIMIT-MFCCs\\test\\dr7\\fmml0\n",
        "working on: si1108.mfcc.csv"
       ]
      },
      {
       "output_type": "stream",
       "stream": "stdout",
       "text": [
        "\n",
        "from path : C:\\Users\\FG\\Desktop\\PhD\\Research\\Reservoirs\\datasets\\TIMIT-MFCCs\\test\\dr7\\fsxa0\n",
        "working on: si1846.mfcc.csv"
       ]
      },
      {
       "output_type": "stream",
       "stream": "stdout",
       "text": [
        "\n",
        "from path : C:\\Users\\FG\\Desktop\\PhD\\Research\\Reservoirs\\datasets\\TIMIT-MFCCs\\test\\dr7\\fsxa0\n",
        "working on: si478.mfcc.csv\n",
        "from path : C:\\Users\\FG\\Desktop\\PhD\\Research\\Reservoirs\\datasets\\TIMIT-MFCCs\\test\\dr7\\fsxa0\n",
        "working on: sx118.mfcc.csv"
       ]
      },
      {
       "output_type": "stream",
       "stream": "stdout",
       "text": [
        "\n",
        "from path : C:\\Users\\FG\\Desktop\\PhD\\Research\\Reservoirs\\datasets\\TIMIT-MFCCs\\test\\dr7\\fsxa0\n",
        "working on: sx208.mfcc.csv\n",
        "from path : C:\\Users\\FG\\Desktop\\PhD\\Research\\Reservoirs\\datasets\\TIMIT-MFCCs\\test\\dr7\\fsxa0\n",
        "working on: sx28.mfcc.csv"
       ]
      },
      {
       "output_type": "stream",
       "stream": "stdout",
       "text": [
        "\n",
        "from path : C:\\Users\\FG\\Desktop\\PhD\\Research\\Reservoirs\\datasets\\TIMIT-MFCCs\\test\\dr7\\fsxa0\n",
        "working on: sx298.mfcc.csv\n",
        "from path : C:\\Users\\FG\\Desktop\\PhD\\Research\\Reservoirs\\datasets\\TIMIT-MFCCs\\test\\dr7\\fsxa0\n",
        "working on: sx388.mfcc.csv"
       ]
      },
      {
       "output_type": "stream",
       "stream": "stdout",
       "text": [
        "\n",
        "from path : C:\\Users\\FG\\Desktop\\PhD\\Research\\Reservoirs\\datasets\\TIMIT-MFCCs\\test\\dr7\\fsxa0\n",
        "working on: si1009.mfcc.csv"
       ]
      },
      {
       "output_type": "stream",
       "stream": "stdout",
       "text": [
        "\n",
        "from path : C:\\Users\\FG\\Desktop\\PhD\\Research\\Reservoirs\\datasets\\TIMIT-MFCCs\\test\\dr7\\ftlh0\n",
        "working on: si1390.mfcc.csv\n",
        "from path : C:\\Users\\FG\\Desktop\\PhD\\Research\\Reservoirs\\datasets\\TIMIT-MFCCs\\test\\dr7\\ftlh0\n",
        "working on: si1639.mfcc.csv"
       ]
      },
      {
       "output_type": "stream",
       "stream": "stdout",
       "text": [
        "\n",
        "from path : C:\\Users\\FG\\Desktop\\PhD\\Research\\Reservoirs\\datasets\\TIMIT-MFCCs\\test\\dr7\\ftlh0\n",
        "working on: sx109.mfcc.csv\n",
        "from path : C:\\Users\\FG\\Desktop\\PhD\\Research\\Reservoirs\\datasets\\TIMIT-MFCCs\\test\\dr7\\ftlh0\n",
        "working on: sx19.mfcc.csv"
       ]
      },
      {
       "output_type": "stream",
       "stream": "stdout",
       "text": [
        "\n",
        "from path : C:\\Users\\FG\\Desktop\\PhD\\Research\\Reservoirs\\datasets\\TIMIT-MFCCs\\test\\dr7\\ftlh0\n",
        "working on: sx199.mfcc.csv"
       ]
      },
      {
       "output_type": "stream",
       "stream": "stdout",
       "text": [
        "\n",
        "from path : C:\\Users\\FG\\Desktop\\PhD\\Research\\Reservoirs\\datasets\\TIMIT-MFCCs\\test\\dr7\\ftlh0\n",
        "working on: sx289.mfcc.csv"
       ]
      },
      {
       "output_type": "stream",
       "stream": "stdout",
       "text": [
        "\n",
        "from path : C:\\Users\\FG\\Desktop\\PhD\\Research\\Reservoirs\\datasets\\TIMIT-MFCCs\\test\\dr7\\ftlh0\n",
        "working on: sx379.mfcc.csv\n",
        "from path : C:\\Users\\FG\\Desktop\\PhD\\Research\\Reservoirs\\datasets\\TIMIT-MFCCs\\test\\dr7\\ftlh0\n",
        "working on: si1004.mfcc.csv"
       ]
      },
      {
       "output_type": "stream",
       "stream": "stdout",
       "text": [
        "\n",
        "from path : C:\\Users\\FG\\Desktop\\PhD\\Research\\Reservoirs\\datasets\\TIMIT-MFCCs\\test\\dr7\\mchh0\n",
        "working on: si1634.mfcc.csv"
       ]
      },
      {
       "output_type": "stream",
       "stream": "stdout",
       "text": [
        "\n",
        "from path : C:\\Users\\FG\\Desktop\\PhD\\Research\\Reservoirs\\datasets\\TIMIT-MFCCs\\test\\dr7\\mchh0\n",
        "working on: si530.mfcc.csv\n",
        "from path : C:\\Users\\FG\\Desktop\\PhD\\Research\\Reservoirs\\datasets\\TIMIT-MFCCs\\test\\dr7\\mchh0\n",
        "working on: sx104.mfcc.csv"
       ]
      },
      {
       "output_type": "stream",
       "stream": "stdout",
       "text": [
        "\n",
        "from path : C:\\Users\\FG\\Desktop\\PhD\\Research\\Reservoirs\\datasets\\TIMIT-MFCCs\\test\\dr7\\mchh0\n",
        "working on: sx14.mfcc.csv\n",
        "from path : C:\\Users\\FG\\Desktop\\PhD\\Research\\Reservoirs\\datasets\\TIMIT-MFCCs\\test\\dr7\\mchh0\n",
        "working on: sx194.mfcc.csv"
       ]
      },
      {
       "output_type": "stream",
       "stream": "stdout",
       "text": [
        "\n",
        "from path : C:\\Users\\FG\\Desktop\\PhD\\Research\\Reservoirs\\datasets\\TIMIT-MFCCs\\test\\dr7\\mchh0\n",
        "working on: sx284.mfcc.csv"
       ]
      },
      {
       "output_type": "stream",
       "stream": "stdout",
       "text": [
        "\n",
        "from path : C:\\Users\\FG\\Desktop\\PhD\\Research\\Reservoirs\\datasets\\TIMIT-MFCCs\\test\\dr7\\mchh0\n",
        "working on: sx374.mfcc.csv"
       ]
      },
      {
       "output_type": "stream",
       "stream": "stdout",
       "text": [
        "\n",
        "from path : C:\\Users\\FG\\Desktop\\PhD\\Research\\Reservoirs\\datasets\\TIMIT-MFCCs\\test\\dr7\\mchh0\n",
        "working on: si1583.mfcc.csv\n",
        "from path : C:\\Users\\FG\\Desktop\\PhD\\Research\\Reservoirs\\datasets\\TIMIT-MFCCs\\test\\dr7\\mdlf0\n",
        "working on: si2213.mfcc.csv"
       ]
      },
      {
       "output_type": "stream",
       "stream": "stdout",
       "text": [
        "\n",
        "from path : C:\\Users\\FG\\Desktop\\PhD\\Research\\Reservoirs\\datasets\\TIMIT-MFCCs\\test\\dr7\\mdlf0\n",
        "working on: si953.mfcc.csv\n",
        "from path : C:\\Users\\FG\\Desktop\\PhD\\Research\\Reservoirs\\datasets\\TIMIT-MFCCs\\test\\dr7\\mdlf0\n",
        "working on: sx143.mfcc.csv"
       ]
      },
      {
       "output_type": "stream",
       "stream": "stdout",
       "text": [
        "\n",
        "from path : C:\\Users\\FG\\Desktop\\PhD\\Research\\Reservoirs\\datasets\\TIMIT-MFCCs\\test\\dr7\\mdlf0\n",
        "working on: sx233.mfcc.csv\n",
        "from path : C:\\Users\\FG\\Desktop\\PhD\\Research\\Reservoirs\\datasets\\TIMIT-MFCCs\\test\\dr7\\mdlf0\n",
        "working on: sx323.mfcc.csv"
       ]
      },
      {
       "output_type": "stream",
       "stream": "stdout",
       "text": [
        "\n",
        "from path : C:\\Users\\FG\\Desktop\\PhD\\Research\\Reservoirs\\datasets\\TIMIT-MFCCs\\test\\dr7\\mdlf0\n",
        "working on: sx413.mfcc.csv"
       ]
      },
      {
       "output_type": "stream",
       "stream": "stdout",
       "text": [
        "\n",
        "from path : C:\\Users\\FG\\Desktop\\PhD\\Research\\Reservoirs\\datasets\\TIMIT-MFCCs\\test\\dr7\\mdlf0\n",
        "working on: sx53.mfcc.csv\n",
        "from path : C:\\Users\\FG\\Desktop\\PhD\\Research\\Reservoirs\\datasets\\TIMIT-MFCCs\\test\\dr7\\mdlf0\n",
        "working on: si2174.mfcc.csv"
       ]
      },
      {
       "output_type": "stream",
       "stream": "stdout",
       "text": [
        "\n",
        "from path : C:\\Users\\FG\\Desktop\\PhD\\Research\\Reservoirs\\datasets\\TIMIT-MFCCs\\test\\dr7\\mdvc0\n",
        "working on: si2196.mfcc.csv\n",
        "from path : C:\\Users\\FG\\Desktop\\PhD\\Research\\Reservoirs\\datasets\\TIMIT-MFCCs\\test\\dr7\\mdvc0\n",
        "working on: si936.mfcc.csv"
       ]
      },
      {
       "output_type": "stream",
       "stream": "stdout",
       "text": [
        "\n",
        "from path : C:\\Users\\FG\\Desktop\\PhD\\Research\\Reservoirs\\datasets\\TIMIT-MFCCs\\test\\dr7\\mdvc0\n",
        "working on: sx126.mfcc.csv\n",
        "from path : C:\\Users\\FG\\Desktop\\PhD\\Research\\Reservoirs\\datasets\\TIMIT-MFCCs\\test\\dr7\\mdvc0\n",
        "working on: sx216.mfcc.csv"
       ]
      },
      {
       "output_type": "stream",
       "stream": "stdout",
       "text": [
        "\n",
        "from path : C:\\Users\\FG\\Desktop\\PhD\\Research\\Reservoirs\\datasets\\TIMIT-MFCCs\\test\\dr7\\mdvc0\n",
        "working on: sx306.mfcc.csv\n",
        "from path : C:\\Users\\FG\\Desktop\\PhD\\Research\\Reservoirs\\datasets\\TIMIT-MFCCs\\test\\dr7\\mdvc0\n",
        "working on: sx36.mfcc.csv"
       ]
      },
      {
       "output_type": "stream",
       "stream": "stdout",
       "text": [
        "\n",
        "from path : C:\\Users\\FG\\Desktop\\PhD\\Research\\Reservoirs\\datasets\\TIMIT-MFCCs\\test\\dr7\\mdvc0\n",
        "working on: sx396.mfcc.csv\n",
        "from path : C:\\Users\\FG\\Desktop\\PhD\\Research\\Reservoirs\\datasets\\TIMIT-MFCCs\\test\\dr7\\mdvc0\n",
        "working on: si1019.mfcc.csv"
       ]
      },
      {
       "output_type": "stream",
       "stream": "stdout",
       "text": [
        "\n",
        "from path : C:\\Users\\FG\\Desktop\\PhD\\Research\\Reservoirs\\datasets\\TIMIT-MFCCs\\test\\dr7\\mers0\n",
        "working on: si1649.mfcc.csv"
       ]
      },
      {
       "output_type": "stream",
       "stream": "stdout",
       "text": [
        "\n",
        "from path : C:\\Users\\FG\\Desktop\\PhD\\Research\\Reservoirs\\datasets\\TIMIT-MFCCs\\test\\dr7\\mers0\n",
        "working on: si497.mfcc.csv"
       ]
      },
      {
       "output_type": "stream",
       "stream": "stdout",
       "text": [
        "\n",
        "from path : C:\\Users\\FG\\Desktop\\PhD\\Research\\Reservoirs\\datasets\\TIMIT-MFCCs\\test\\dr7\\mers0\n",
        "working on: sx119.mfcc.csv"
       ]
      },
      {
       "output_type": "stream",
       "stream": "stdout",
       "text": [
        "\n",
        "from path : C:\\Users\\FG\\Desktop\\PhD\\Research\\Reservoirs\\datasets\\TIMIT-MFCCs\\test\\dr7\\mers0\n",
        "working on: sx209.mfcc.csv"
       ]
      },
      {
       "output_type": "stream",
       "stream": "stdout",
       "text": [
        "\n",
        "from path : C:\\Users\\FG\\Desktop\\PhD\\Research\\Reservoirs\\datasets\\TIMIT-MFCCs\\test\\dr7\\mers0\n",
        "working on: sx29.mfcc.csv\n",
        "from path : C:\\Users\\FG\\Desktop\\PhD\\Research\\Reservoirs\\datasets\\TIMIT-MFCCs\\test\\dr7\\mers0\n",
        "working on: sx299.mfcc.csv"
       ]
      },
      {
       "output_type": "stream",
       "stream": "stdout",
       "text": [
        "\n",
        "from path : C:\\Users\\FG\\Desktop\\PhD\\Research\\Reservoirs\\datasets\\TIMIT-MFCCs\\test\\dr7\\mers0\n",
        "working on: sx389.mfcc.csv\n",
        "from path : C:\\Users\\FG\\Desktop\\PhD\\Research\\Reservoirs\\datasets\\TIMIT-MFCCs\\test\\dr7\\mers0\n",
        "working on: si1450.mfcc.csv"
       ]
      },
      {
       "output_type": "stream",
       "stream": "stdout",
       "text": [
        "\n",
        "from path : C:\\Users\\FG\\Desktop\\PhD\\Research\\Reservoirs\\datasets\\TIMIT-MFCCs\\test\\dr7\\mgrt0\n",
        "working on: si2080.mfcc.csv"
       ]
      },
      {
       "output_type": "stream",
       "stream": "stdout",
       "text": [
        "\n",
        "from path : C:\\Users\\FG\\Desktop\\PhD\\Research\\Reservoirs\\datasets\\TIMIT-MFCCs\\test\\dr7\\mgrt0\n",
        "working on: si820.mfcc.csv\n",
        "from path : C:\\Users\\FG\\Desktop\\PhD\\Research\\Reservoirs\\datasets\\TIMIT-MFCCs\\test\\dr7\\mgrt0\n",
        "working on: sx10.mfcc.csv"
       ]
      },
      {
       "output_type": "stream",
       "stream": "stdout",
       "text": [
        "\n",
        "from path : C:\\Users\\FG\\Desktop\\PhD\\Research\\Reservoirs\\datasets\\TIMIT-MFCCs\\test\\dr7\\mgrt0\n",
        "working on: sx100.mfcc.csv\n",
        "from path : C:\\Users\\FG\\Desktop\\PhD\\Research\\Reservoirs\\datasets\\TIMIT-MFCCs\\test\\dr7\\mgrt0\n",
        "working on: sx190.mfcc.csv"
       ]
      },
      {
       "output_type": "stream",
       "stream": "stdout",
       "text": [
        "\n",
        "from path : C:\\Users\\FG\\Desktop\\PhD\\Research\\Reservoirs\\datasets\\TIMIT-MFCCs\\test\\dr7\\mgrt0\n",
        "working on: sx280.mfcc.csv\n",
        "from path : C:\\Users\\FG\\Desktop\\PhD\\Research\\Reservoirs\\datasets\\TIMIT-MFCCs\\test\\dr7\\mgrt0\n",
        "working on: sx370.mfcc.csv"
       ]
      },
      {
       "output_type": "stream",
       "stream": "stdout",
       "text": [
        "\n",
        "from path : C:\\Users\\FG\\Desktop\\PhD\\Research\\Reservoirs\\datasets\\TIMIT-MFCCs\\test\\dr7\\mgrt0\n",
        "working on: si1273.mfcc.csv\n",
        "from path : C:\\Users\\FG\\Desktop\\PhD\\Research\\Reservoirs\\datasets\\TIMIT-MFCCs\\test\\dr7\\mkdr0\n",
        "working on: si1903.mfcc.csv"
       ]
      },
      {
       "output_type": "stream",
       "stream": "stdout",
       "text": [
        "\n",
        "from path : C:\\Users\\FG\\Desktop\\PhD\\Research\\Reservoirs\\datasets\\TIMIT-MFCCs\\test\\dr7\\mkdr0\n",
        "working on: si643.mfcc.csv\n",
        "from path : C:\\Users\\FG\\Desktop\\PhD\\Research\\Reservoirs\\datasets\\TIMIT-MFCCs\\test\\dr7\\mkdr0\n",
        "working on: sx103.mfcc.csv"
       ]
      },
      {
       "output_type": "stream",
       "stream": "stdout",
       "text": [
        "\n",
        "from path : C:\\Users\\FG\\Desktop\\PhD\\Research\\Reservoirs\\datasets\\TIMIT-MFCCs\\test\\dr7\\mkdr0\n",
        "working on: sx13.mfcc.csv\n",
        "from path : C:\\Users\\FG\\Desktop\\PhD\\Research\\Reservoirs\\datasets\\TIMIT-MFCCs\\test\\dr7\\mkdr0\n",
        "working on: sx193.mfcc.csv"
       ]
      },
      {
       "output_type": "stream",
       "stream": "stdout",
       "text": [
        "\n",
        "from path : C:\\Users\\FG\\Desktop\\PhD\\Research\\Reservoirs\\datasets\\TIMIT-MFCCs\\test\\dr7\\mkdr0\n",
        "working on: sx283.mfcc.csv\n",
        "from path : C:\\Users\\FG\\Desktop\\PhD\\Research\\Reservoirs\\datasets\\TIMIT-MFCCs\\test\\dr7\\mkdr0\n",
        "working on: sx373.mfcc.csv"
       ]
      },
      {
       "output_type": "stream",
       "stream": "stdout",
       "text": [
        "\n",
        "from path : C:\\Users\\FG\\Desktop\\PhD\\Research\\Reservoirs\\datasets\\TIMIT-MFCCs\\test\\dr7\\mkdr0\n",
        "working on: si1100.mfcc.csv\n",
        "from path : C:\\Users\\FG\\Desktop\\PhD\\Research\\Reservoirs\\datasets\\TIMIT-MFCCs\\test\\dr7\\mkjl0\n",
        "working on: si1730.mfcc.csv"
       ]
      },
      {
       "output_type": "stream",
       "stream": "stdout",
       "text": [
        "\n",
        "from path : C:\\Users\\FG\\Desktop\\PhD\\Research\\Reservoirs\\datasets\\TIMIT-MFCCs\\test\\dr7\\mkjl0\n",
        "working on: si470.mfcc.csv"
       ]
      },
      {
       "output_type": "stream",
       "stream": "stdout",
       "text": [
        "\n",
        "from path : C:\\Users\\FG\\Desktop\\PhD\\Research\\Reservoirs\\datasets\\TIMIT-MFCCs\\test\\dr7\\mkjl0\n",
        "working on: sx110.mfcc.csv"
       ]
      },
      {
       "output_type": "stream",
       "stream": "stdout",
       "text": [
        "\n",
        "from path : C:\\Users\\FG\\Desktop\\PhD\\Research\\Reservoirs\\datasets\\TIMIT-MFCCs\\test\\dr7\\mkjl0\n",
        "working on: sx20.mfcc.csv"
       ]
      },
      {
       "output_type": "stream",
       "stream": "stdout",
       "text": [
        "\n",
        "from path : C:\\Users\\FG\\Desktop\\PhD\\Research\\Reservoirs\\datasets\\TIMIT-MFCCs\\test\\dr7\\mkjl0\n",
        "working on: sx200.mfcc.csv\n",
        "from path : C:\\Users\\FG\\Desktop\\PhD\\Research\\Reservoirs\\datasets\\TIMIT-MFCCs\\test\\dr7\\mkjl0\n",
        "working on: sx290.mfcc.csv"
       ]
      },
      {
       "output_type": "stream",
       "stream": "stdout",
       "text": [
        "\n",
        "from path : C:\\Users\\FG\\Desktop\\PhD\\Research\\Reservoirs\\datasets\\TIMIT-MFCCs\\test\\dr7\\mkjl0\n",
        "working on: sx380.mfcc.csv"
       ]
      },
      {
       "output_type": "stream",
       "stream": "stdout",
       "text": [
        "\n",
        "from path : C:\\Users\\FG\\Desktop\\PhD\\Research\\Reservoirs\\datasets\\TIMIT-MFCCs\\test\\dr7\\mkjl0\n",
        "working on: si1580.mfcc.csv\n",
        "from path : C:\\Users\\FG\\Desktop\\PhD\\Research\\Reservoirs\\datasets\\TIMIT-MFCCs\\test\\dr7\\mnjm0\n",
        "working on: si2210.mfcc.csv"
       ]
      },
      {
       "output_type": "stream",
       "stream": "stdout",
       "text": [
        "\n",
        "from path : C:\\Users\\FG\\Desktop\\PhD\\Research\\Reservoirs\\datasets\\TIMIT-MFCCs\\test\\dr7\\mnjm0\n",
        "working on: si950.mfcc.csv\n",
        "from path : C:\\Users\\FG\\Desktop\\PhD\\Research\\Reservoirs\\datasets\\TIMIT-MFCCs\\test\\dr7\\mnjm0\n",
        "working on: sx140.mfcc.csv"
       ]
      },
      {
       "output_type": "stream",
       "stream": "stdout",
       "text": [
        "\n",
        "from path : C:\\Users\\FG\\Desktop\\PhD\\Research\\Reservoirs\\datasets\\TIMIT-MFCCs\\test\\dr7\\mnjm0\n",
        "working on: sx230.mfcc.csv\n",
        "from path : C:\\Users\\FG\\Desktop\\PhD\\Research\\Reservoirs\\datasets\\TIMIT-MFCCs\\test\\dr7\\mnjm0\n",
        "working on: sx320.mfcc.csv"
       ]
      },
      {
       "output_type": "stream",
       "stream": "stdout",
       "text": [
        "\n",
        "from path : C:\\Users\\FG\\Desktop\\PhD\\Research\\Reservoirs\\datasets\\TIMIT-MFCCs\\test\\dr7\\mnjm0\n",
        "working on: sx410.mfcc.csv"
       ]
      },
      {
       "output_type": "stream",
       "stream": "stdout",
       "text": [
        "\n",
        "from path : C:\\Users\\FG\\Desktop\\PhD\\Research\\Reservoirs\\datasets\\TIMIT-MFCCs\\test\\dr7\\mnjm0\n",
        "working on: sx50.mfcc.csv"
       ]
      },
      {
       "output_type": "stream",
       "stream": "stdout",
       "text": [
        "\n",
        "from path : C:\\Users\\FG\\Desktop\\PhD\\Research\\Reservoirs\\datasets\\TIMIT-MFCCs\\test\\dr7\\mnjm0\n",
        "working on: si1483.mfcc.csv"
       ]
      },
      {
       "output_type": "stream",
       "stream": "stdout",
       "text": [
        "\n",
        "from path : C:\\Users\\FG\\Desktop\\PhD\\Research\\Reservoirs\\datasets\\TIMIT-MFCCs\\test\\dr7\\mnls0\n",
        "working on: si1610.mfcc.csv\n",
        "from path : C:\\Users\\FG\\Desktop\\PhD\\Research\\Reservoirs\\datasets\\TIMIT-MFCCs\\test\\dr7\\mnls0\n",
        "working on: si853.mfcc.csv"
       ]
      },
      {
       "output_type": "stream",
       "stream": "stdout",
       "text": [
        "\n",
        "from path : C:\\Users\\FG\\Desktop\\PhD\\Research\\Reservoirs\\datasets\\TIMIT-MFCCs\\test\\dr7\\mnls0\n",
        "working on: sx133.mfcc.csv\n",
        "from path : C:\\Users\\FG\\Desktop\\PhD\\Research\\Reservoirs\\datasets\\TIMIT-MFCCs\\test\\dr7\\mnls0\n",
        "working on: sx223.mfcc.csv"
       ]
      },
      {
       "output_type": "stream",
       "stream": "stdout",
       "text": [
        "\n",
        "from path : C:\\Users\\FG\\Desktop\\PhD\\Research\\Reservoirs\\datasets\\TIMIT-MFCCs\\test\\dr7\\mnls0\n",
        "working on: sx313.mfcc.csv\n",
        "from path : C:\\Users\\FG\\Desktop\\PhD\\Research\\Reservoirs\\datasets\\TIMIT-MFCCs\\test\\dr7\\mnls0\n",
        "working on: sx403.mfcc.csv"
       ]
      },
      {
       "output_type": "stream",
       "stream": "stdout",
       "text": [
        "\n",
        "from path : C:\\Users\\FG\\Desktop\\PhD\\Research\\Reservoirs\\datasets\\TIMIT-MFCCs\\test\\dr7\\mnls0\n",
        "working on: sx43.mfcc.csv"
       ]
      },
      {
       "output_type": "stream",
       "stream": "stdout",
       "text": [
        "\n",
        "from path : C:\\Users\\FG\\Desktop\\PhD\\Research\\Reservoirs\\datasets\\TIMIT-MFCCs\\test\\dr7\\mnls0\n",
        "working on: si1103.mfcc.csv\n",
        "from path : C:\\Users\\FG\\Desktop\\PhD\\Research\\Reservoirs\\datasets\\TIMIT-MFCCs\\test\\dr7\\mpab0\n",
        "working on: si1128.mfcc.csv"
       ]
      },
      {
       "output_type": "stream",
       "stream": "stdout",
       "text": [
        "\n",
        "from path : C:\\Users\\FG\\Desktop\\PhD\\Research\\Reservoirs\\datasets\\TIMIT-MFCCs\\test\\dr7\\mpab0\n",
        "working on: si498.mfcc.csv"
       ]
      },
      {
       "output_type": "stream",
       "stream": "stdout",
       "text": [
        "\n",
        "from path : C:\\Users\\FG\\Desktop\\PhD\\Research\\Reservoirs\\datasets\\TIMIT-MFCCs\\test\\dr7\\mpab0\n",
        "working on: sx138.mfcc.csv"
       ]
      },
      {
       "output_type": "stream",
       "stream": "stdout",
       "text": [
        "\n",
        "from path : C:\\Users\\FG\\Desktop\\PhD\\Research\\Reservoirs\\datasets\\TIMIT-MFCCs\\test\\dr7\\mpab0\n",
        "working on: sx228.mfcc.csv"
       ]
      },
      {
       "output_type": "stream",
       "stream": "stdout",
       "text": [
        "\n",
        "from path : C:\\Users\\FG\\Desktop\\PhD\\Research\\Reservoirs\\datasets\\TIMIT-MFCCs\\test\\dr7\\mpab0\n",
        "working on: sx318.mfcc.csv\n",
        "from path : C:\\Users\\FG\\Desktop\\PhD\\Research\\Reservoirs\\datasets\\TIMIT-MFCCs\\test\\dr7\\mpab0\n",
        "working on: sx408.mfcc.csv"
       ]
      },
      {
       "output_type": "stream",
       "stream": "stdout",
       "text": [
        "\n",
        "from path : C:\\Users\\FG\\Desktop\\PhD\\Research\\Reservoirs\\datasets\\TIMIT-MFCCs\\test\\dr7\\mpab0\n",
        "working on: sx48.mfcc.csv\n",
        "from path : C:\\Users\\FG\\Desktop\\PhD\\Research\\Reservoirs\\datasets\\TIMIT-MFCCs\\test\\dr7\\mpab0\n",
        "working on: si1223.mfcc.csv"
       ]
      },
      {
       "output_type": "stream",
       "stream": "stdout",
       "text": [
        "\n",
        "from path : C:\\Users\\FG\\Desktop\\PhD\\Research\\Reservoirs\\datasets\\TIMIT-MFCCs\\test\\dr7\\mrcs0\n",
        "working on: si1853.mfcc.csv\n",
        "from path : C:\\Users\\FG\\Desktop\\PhD\\Research\\Reservoirs\\datasets\\TIMIT-MFCCs\\test\\dr7\\mrcs0\n",
        "working on: si593.mfcc.csv"
       ]
      },
      {
       "output_type": "stream",
       "stream": "stdout",
       "text": [
        "\n",
        "from path : C:\\Users\\FG\\Desktop\\PhD\\Research\\Reservoirs\\datasets\\TIMIT-MFCCs\\test\\dr7\\mrcs0\n",
        "working on: sx143.mfcc.csv\n",
        "from path : C:\\Users\\FG\\Desktop\\PhD\\Research\\Reservoirs\\datasets\\TIMIT-MFCCs\\test\\dr7\\mrcs0\n",
        "working on: sx233.mfcc.csv"
       ]
      },
      {
       "output_type": "stream",
       "stream": "stdout",
       "text": [
        "\n",
        "from path : C:\\Users\\FG\\Desktop\\PhD\\Research\\Reservoirs\\datasets\\TIMIT-MFCCs\\test\\dr7\\mrcs0\n",
        "working on: sx323.mfcc.csv\n",
        "from path : C:\\Users\\FG\\Desktop\\PhD\\Research\\Reservoirs\\datasets\\TIMIT-MFCCs\\test\\dr7\\mrcs0\n",
        "working on: sx413.mfcc.csv"
       ]
      },
      {
       "output_type": "stream",
       "stream": "stdout",
       "text": [
        "\n",
        "from path : C:\\Users\\FG\\Desktop\\PhD\\Research\\Reservoirs\\datasets\\TIMIT-MFCCs\\test\\dr7\\mrcs0\n",
        "working on: sx53.mfcc.csv"
       ]
      },
      {
       "output_type": "stream",
       "stream": "stdout",
       "text": [
        "\n",
        "from path : C:\\Users\\FG\\Desktop\\PhD\\Research\\Reservoirs\\datasets\\TIMIT-MFCCs\\test\\dr7\\mrcs0\n",
        "working on: si1489.mfcc.csv"
       ]
      },
      {
       "output_type": "stream",
       "stream": "stdout",
       "text": [
        "\n",
        "from path : C:\\Users\\FG\\Desktop\\PhD\\Research\\Reservoirs\\datasets\\TIMIT-MFCCs\\test\\dr7\\mrjm4\n",
        "working on: si2119.mfcc.csv\n",
        "from path : C:\\Users\\FG\\Desktop\\PhD\\Research\\Reservoirs\\datasets\\TIMIT-MFCCs\\test\\dr7\\mrjm4\n",
        "working on: si859.mfcc.csv"
       ]
      },
      {
       "output_type": "stream",
       "stream": "stdout",
       "text": [
        "\n",
        "from path : C:\\Users\\FG\\Desktop\\PhD\\Research\\Reservoirs\\datasets\\TIMIT-MFCCs\\test\\dr7\\mrjm4\n",
        "working on: sx139.mfcc.csv"
       ]
      },
      {
       "output_type": "stream",
       "stream": "stdout",
       "text": [
        "\n",
        "from path : C:\\Users\\FG\\Desktop\\PhD\\Research\\Reservoirs\\datasets\\TIMIT-MFCCs\\test\\dr7\\mrjm4\n",
        "working on: sx229.mfcc.csv"
       ]
      },
      {
       "output_type": "stream",
       "stream": "stdout",
       "text": [
        "\n",
        "from path : C:\\Users\\FG\\Desktop\\PhD\\Research\\Reservoirs\\datasets\\TIMIT-MFCCs\\test\\dr7\\mrjm4\n",
        "working on: sx319.mfcc.csv\n",
        "from path : C:\\Users\\FG\\Desktop\\PhD\\Research\\Reservoirs\\datasets\\TIMIT-MFCCs\\test\\dr7\\mrjm4\n",
        "working on: sx409.mfcc.csv"
       ]
      },
      {
       "output_type": "stream",
       "stream": "stdout",
       "text": [
        "\n",
        "from path : C:\\Users\\FG\\Desktop\\PhD\\Research\\Reservoirs\\datasets\\TIMIT-MFCCs\\test\\dr7\\mrjm4\n",
        "working on: sx49.mfcc.csv"
       ]
      },
      {
       "output_type": "stream",
       "stream": "stdout",
       "text": [
        "\n",
        "from path : C:\\Users\\FG\\Desktop\\PhD\\Research\\Reservoirs\\datasets\\TIMIT-MFCCs\\test\\dr7\\mrjm4\n",
        "working on: si1487.mfcc.csv\n",
        "from path : C:\\Users\\FG\\Desktop\\PhD\\Research\\Reservoirs\\datasets\\TIMIT-MFCCs\\test\\dr7\\mrms1\n",
        "working on: si2117.mfcc.csv"
       ]
      },
      {
       "output_type": "stream",
       "stream": "stdout",
       "text": [
        "\n",
        "from path : C:\\Users\\FG\\Desktop\\PhD\\Research\\Reservoirs\\datasets\\TIMIT-MFCCs\\test\\dr7\\mrms1\n",
        "working on: si857.mfcc.csv"
       ]
      },
      {
       "output_type": "stream",
       "stream": "stdout",
       "text": [
        "\n",
        "from path : C:\\Users\\FG\\Desktop\\PhD\\Research\\Reservoirs\\datasets\\TIMIT-MFCCs\\test\\dr7\\mrms1\n",
        "working on: sx137.mfcc.csv"
       ]
      },
      {
       "output_type": "stream",
       "stream": "stdout",
       "text": [
        "\n",
        "from path : C:\\Users\\FG\\Desktop\\PhD\\Research\\Reservoirs\\datasets\\TIMIT-MFCCs\\test\\dr7\\mrms1\n",
        "working on: sx227.mfcc.csv"
       ]
      },
      {
       "output_type": "stream",
       "stream": "stdout",
       "text": [
        "\n",
        "from path : C:\\Users\\FG\\Desktop\\PhD\\Research\\Reservoirs\\datasets\\TIMIT-MFCCs\\test\\dr7\\mrms1\n",
        "working on: sx317.mfcc.csv\n",
        "from path : C:\\Users\\FG\\Desktop\\PhD\\Research\\Reservoirs\\datasets\\TIMIT-MFCCs\\test\\dr7\\mrms1\n",
        "working on: sx407.mfcc.csv"
       ]
      },
      {
       "output_type": "stream",
       "stream": "stdout",
       "text": [
        "\n",
        "from path : C:\\Users\\FG\\Desktop\\PhD\\Research\\Reservoirs\\datasets\\TIMIT-MFCCs\\test\\dr7\\mrms1\n",
        "working on: sx47.mfcc.csv\n",
        "from path : C:\\Users\\FG\\Desktop\\PhD\\Research\\Reservoirs\\datasets\\TIMIT-MFCCs\\test\\dr7\\mrms1\n",
        "working on: si1753.mfcc.csv"
       ]
      },
      {
       "output_type": "stream",
       "stream": "stdout",
       "text": [
        "\n",
        "from path : C:\\Users\\FG\\Desktop\\PhD\\Research\\Reservoirs\\datasets\\TIMIT-MFCCs\\test\\dr7\\mrpc0\n",
        "working on: si493.mfcc.csv"
       ]
      },
      {
       "output_type": "stream",
       "stream": "stdout",
       "text": [
        "\n",
        "from path : C:\\Users\\FG\\Desktop\\PhD\\Research\\Reservoirs\\datasets\\TIMIT-MFCCs\\test\\dr7\\mrpc0\n",
        "working on: si933.mfcc.csv"
       ]
      },
      {
       "output_type": "stream",
       "stream": "stdout",
       "text": [
        "\n",
        "from path : C:\\Users\\FG\\Desktop\\PhD\\Research\\Reservoirs\\datasets\\TIMIT-MFCCs\\test\\dr7\\mrpc0\n",
        "working on: sx133.mfcc.csv"
       ]
      },
      {
       "output_type": "stream",
       "stream": "stdout",
       "text": [
        "\n",
        "from path : C:\\Users\\FG\\Desktop\\PhD\\Research\\Reservoirs\\datasets\\TIMIT-MFCCs\\test\\dr7\\mrpc0\n",
        "working on: sx223.mfcc.csv\n",
        "from path : C:\\Users\\FG\\Desktop\\PhD\\Research\\Reservoirs\\datasets\\TIMIT-MFCCs\\test\\dr7\\mrpc0\n",
        "working on: sx313.mfcc.csv"
       ]
      },
      {
       "output_type": "stream",
       "stream": "stdout",
       "text": [
        "\n",
        "from path : C:\\Users\\FG\\Desktop\\PhD\\Research\\Reservoirs\\datasets\\TIMIT-MFCCs\\test\\dr7\\mrpc0\n",
        "working on: sx403.mfcc.csv"
       ]
      },
      {
       "output_type": "stream",
       "stream": "stdout",
       "text": [
        "\n",
        "from path : C:\\Users\\FG\\Desktop\\PhD\\Research\\Reservoirs\\datasets\\TIMIT-MFCCs\\test\\dr7\\mrpc0\n",
        "working on: sx43.mfcc.csv\n",
        "from path : C:\\Users\\FG\\Desktop\\PhD\\Research\\Reservoirs\\datasets\\TIMIT-MFCCs\\test\\dr7\\mrpc0\n",
        "working on: si1190.mfcc.csv"
       ]
      },
      {
       "output_type": "stream",
       "stream": "stdout",
       "text": [
        "\n",
        "from path : C:\\Users\\FG\\Desktop\\PhD\\Research\\Reservoirs\\datasets\\TIMIT-MFCCs\\test\\dr7\\mtwh0\n",
        "working on: si1629.mfcc.csv"
       ]
      },
      {
       "output_type": "stream",
       "stream": "stdout",
       "text": [
        "\n",
        "from path : C:\\Users\\FG\\Desktop\\PhD\\Research\\Reservoirs\\datasets\\TIMIT-MFCCs\\test\\dr7\\mtwh0\n",
        "working on: si1820.mfcc.csv"
       ]
      },
      {
       "output_type": "stream",
       "stream": "stdout",
       "text": [
        "\n",
        "from path : C:\\Users\\FG\\Desktop\\PhD\\Research\\Reservoirs\\datasets\\TIMIT-MFCCs\\test\\dr7\\mtwh0\n",
        "working on: sx110.mfcc.csv\n",
        "from path : C:\\Users\\FG\\Desktop\\PhD\\Research\\Reservoirs\\datasets\\TIMIT-MFCCs\\test\\dr7\\mtwh0\n",
        "working on: sx20.mfcc.csv"
       ]
      },
      {
       "output_type": "stream",
       "stream": "stdout",
       "text": [
        "\n",
        "from path : C:\\Users\\FG\\Desktop\\PhD\\Research\\Reservoirs\\datasets\\TIMIT-MFCCs\\test\\dr7\\mtwh0\n",
        "working on: sx200.mfcc.csv"
       ]
      },
      {
       "output_type": "stream",
       "stream": "stdout",
       "text": [
        "\n",
        "from path : C:\\Users\\FG\\Desktop\\PhD\\Research\\Reservoirs\\datasets\\TIMIT-MFCCs\\test\\dr7\\mtwh0\n",
        "working on: sx290.mfcc.csv\n",
        "from path : C:\\Users\\FG\\Desktop\\PhD\\Research\\Reservoirs\\datasets\\TIMIT-MFCCs\\test\\dr7\\mtwh0\n",
        "working on: sx380.mfcc.csv"
       ]
      },
      {
       "output_type": "stream",
       "stream": "stdout",
       "text": [
        "\n",
        "from path : C:\\Users\\FG\\Desktop\\PhD\\Research\\Reservoirs\\datasets\\TIMIT-MFCCs\\test\\dr7\\mtwh0\n",
        "working on: si1493.mfcc.csv\n",
        "from path : C:\\Users\\FG\\Desktop\\PhD\\Research\\Reservoirs\\datasets\\TIMIT-MFCCs\\test\\dr8\\fcmh1\n",
        "working on: si2123.mfcc.csv"
       ]
      },
      {
       "output_type": "stream",
       "stream": "stdout",
       "text": [
        "\n",
        "from path : C:\\Users\\FG\\Desktop\\PhD\\Research\\Reservoirs\\datasets\\TIMIT-MFCCs\\test\\dr8\\fcmh1\n",
        "working on: si863.mfcc.csv"
       ]
      },
      {
       "output_type": "stream",
       "stream": "stdout",
       "text": [
        "\n",
        "from path : C:\\Users\\FG\\Desktop\\PhD\\Research\\Reservoirs\\datasets\\TIMIT-MFCCs\\test\\dr8\\fcmh1\n",
        "working on: sx143.mfcc.csv"
       ]
      },
      {
       "output_type": "stream",
       "stream": "stdout",
       "text": [
        "\n",
        "from path : C:\\Users\\FG\\Desktop\\PhD\\Research\\Reservoirs\\datasets\\TIMIT-MFCCs\\test\\dr8\\fcmh1\n",
        "working on: sx233.mfcc.csv\n",
        "from path : C:\\Users\\FG\\Desktop\\PhD\\Research\\Reservoirs\\datasets\\TIMIT-MFCCs\\test\\dr8\\fcmh1\n",
        "working on: sx323.mfcc.csv"
       ]
      },
      {
       "output_type": "stream",
       "stream": "stdout",
       "text": [
        "\n",
        "from path : C:\\Users\\FG\\Desktop\\PhD\\Research\\Reservoirs\\datasets\\TIMIT-MFCCs\\test\\dr8\\fcmh1\n",
        "working on: sx413.mfcc.csv\n",
        "from path : C:\\Users\\FG\\Desktop\\PhD\\Research\\Reservoirs\\datasets\\TIMIT-MFCCs\\test\\dr8\\fcmh1\n",
        "working on: sx53.mfcc.csv"
       ]
      },
      {
       "output_type": "stream",
       "stream": "stdout",
       "text": [
        "\n",
        "from path : C:\\Users\\FG\\Desktop\\PhD\\Research\\Reservoirs\\datasets\\TIMIT-MFCCs\\test\\dr8\\fcmh1\n",
        "working on: si1484.mfcc.csv\n",
        "from path : C:\\Users\\FG\\Desktop\\PhD\\Research\\Reservoirs\\datasets\\TIMIT-MFCCs\\test\\dr8\\fjsj0\n",
        "working on: si2114.mfcc.csv"
       ]
      },
      {
       "output_type": "stream",
       "stream": "stdout",
       "text": [
        "\n",
        "from path : C:\\Users\\FG\\Desktop\\PhD\\Research\\Reservoirs\\datasets\\TIMIT-MFCCs\\test\\dr8\\fjsj0\n",
        "working on: si854.mfcc.csv\n",
        "from path : C:\\Users\\FG\\Desktop\\PhD\\Research\\Reservoirs\\datasets\\TIMIT-MFCCs\\test\\dr8\\fjsj0\n",
        "working on: sx134.mfcc.csv"
       ]
      },
      {
       "output_type": "stream",
       "stream": "stdout",
       "text": [
        "\n",
        "from path : C:\\Users\\FG\\Desktop\\PhD\\Research\\Reservoirs\\datasets\\TIMIT-MFCCs\\test\\dr8\\fjsj0\n",
        "working on: sx224.mfcc.csv\n",
        "from path : C:\\Users\\FG\\Desktop\\PhD\\Research\\Reservoirs\\datasets\\TIMIT-MFCCs\\test\\dr8\\fjsj0\n",
        "working on: sx314.mfcc.csv"
       ]
      },
      {
       "output_type": "stream",
       "stream": "stdout",
       "text": [
        "\n",
        "from path : C:\\Users\\FG\\Desktop\\PhD\\Research\\Reservoirs\\datasets\\TIMIT-MFCCs\\test\\dr8\\fjsj0\n",
        "working on: sx404.mfcc.csv\n",
        "from path : C:\\Users\\FG\\Desktop\\PhD\\Research\\Reservoirs\\datasets\\TIMIT-MFCCs\\test\\dr8\\fjsj0\n",
        "working on: sx44.mfcc.csv"
       ]
      },
      {
       "output_type": "stream",
       "stream": "stdout",
       "text": [
        "\n",
        "from path : C:\\Users\\FG\\Desktop\\PhD\\Research\\Reservoirs\\datasets\\TIMIT-MFCCs\\test\\dr8\\fjsj0\n",
        "working on: si2185.mfcc.csv\n",
        "from path : C:\\Users\\FG\\Desktop\\PhD\\Research\\Reservoirs\\datasets\\TIMIT-MFCCs\\test\\dr8\\fmld0\n",
        "working on: si822.mfcc.csv"
       ]
      },
      {
       "output_type": "stream",
       "stream": "stdout",
       "text": [
        "\n",
        "from path : C:\\Users\\FG\\Desktop\\PhD\\Research\\Reservoirs\\datasets\\TIMIT-MFCCs\\test\\dr8\\fmld0\n",
        "working on: si925.mfcc.csv"
       ]
      },
      {
       "output_type": "stream",
       "stream": "stdout",
       "text": [
        "\n",
        "from path : C:\\Users\\FG\\Desktop\\PhD\\Research\\Reservoirs\\datasets\\TIMIT-MFCCs\\test\\dr8\\fmld0\n",
        "working on: sx115.mfcc.csv\n",
        "from path : C:\\Users\\FG\\Desktop\\PhD\\Research\\Reservoirs\\datasets\\TIMIT-MFCCs\\test\\dr8\\fmld0\n",
        "working on: sx205.mfcc.csv"
       ]
      },
      {
       "output_type": "stream",
       "stream": "stdout",
       "text": [
        "\n",
        "from path : C:\\Users\\FG\\Desktop\\PhD\\Research\\Reservoirs\\datasets\\TIMIT-MFCCs\\test\\dr8\\fmld0\n",
        "working on: sx25.mfcc.csv"
       ]
      },
      {
       "output_type": "stream",
       "stream": "stdout",
       "text": [
        "\n",
        "from path : C:\\Users\\FG\\Desktop\\PhD\\Research\\Reservoirs\\datasets\\TIMIT-MFCCs\\test\\dr8\\fmld0\n",
        "working on: sx295.mfcc.csv\n",
        "from path : C:\\Users\\FG\\Desktop\\PhD\\Research\\Reservoirs\\datasets\\TIMIT-MFCCs\\test\\dr8\\fmld0\n",
        "working on: sx385.mfcc.csv"
       ]
      },
      {
       "output_type": "stream",
       "stream": "stdout",
       "text": [
        "\n",
        "from path : C:\\Users\\FG\\Desktop\\PhD\\Research\\Reservoirs\\datasets\\TIMIT-MFCCs\\test\\dr8\\fmld0\n",
        "working on: si1946.mfcc.csv"
       ]
      },
      {
       "output_type": "stream",
       "stream": "stdout",
       "text": [
        "\n",
        "from path : C:\\Users\\FG\\Desktop\\PhD\\Research\\Reservoirs\\datasets\\TIMIT-MFCCs\\test\\dr8\\majc0\n",
        "working on: si2095.mfcc.csv\n",
        "from path : C:\\Users\\FG\\Desktop\\PhD\\Research\\Reservoirs\\datasets\\TIMIT-MFCCs\\test\\dr8\\majc0\n",
        "working on: si835.mfcc.csv"
       ]
      },
      {
       "output_type": "stream",
       "stream": "stdout",
       "text": [
        "\n",
        "from path : C:\\Users\\FG\\Desktop\\PhD\\Research\\Reservoirs\\datasets\\TIMIT-MFCCs\\test\\dr8\\majc0\n",
        "working on: sx115.mfcc.csv"
       ]
      },
      {
       "output_type": "stream",
       "stream": "stdout",
       "text": [
        "\n",
        "from path : C:\\Users\\FG\\Desktop\\PhD\\Research\\Reservoirs\\datasets\\TIMIT-MFCCs\\test\\dr8\\majc0\n",
        "working on: sx205.mfcc.csv\n",
        "from path : C:\\Users\\FG\\Desktop\\PhD\\Research\\Reservoirs\\datasets\\TIMIT-MFCCs\\test\\dr8\\majc0\n",
        "working on: sx25.mfcc.csv"
       ]
      },
      {
       "output_type": "stream",
       "stream": "stdout",
       "text": [
        "\n",
        "from path : C:\\Users\\FG\\Desktop\\PhD\\Research\\Reservoirs\\datasets\\TIMIT-MFCCs\\test\\dr8\\majc0\n",
        "working on: sx295.mfcc.csv\n",
        "from path : C:\\Users\\FG\\Desktop\\PhD\\Research\\Reservoirs\\datasets\\TIMIT-MFCCs\\test\\dr8\\majc0\n",
        "working on: sx385.mfcc.csv"
       ]
      },
      {
       "output_type": "stream",
       "stream": "stdout",
       "text": [
        "\n",
        "from path : C:\\Users\\FG\\Desktop\\PhD\\Research\\Reservoirs\\datasets\\TIMIT-MFCCs\\test\\dr8\\majc0\n",
        "working on: si1453.mfcc.csv\n",
        "from path : C:\\Users\\FG\\Desktop\\PhD\\Research\\Reservoirs\\datasets\\TIMIT-MFCCs\\test\\dr8\\mdaw1\n",
        "working on: si2083.mfcc.csv"
       ]
      },
      {
       "output_type": "stream",
       "stream": "stdout",
       "text": [
        "\n",
        "from path : C:\\Users\\FG\\Desktop\\PhD\\Research\\Reservoirs\\datasets\\TIMIT-MFCCs\\test\\dr8\\mdaw1\n",
        "working on: si823.mfcc.csv\n",
        "from path : C:\\Users\\FG\\Desktop\\PhD\\Research\\Reservoirs\\datasets\\TIMIT-MFCCs\\test\\dr8\\mdaw1\n",
        "working on: sx103.mfcc.csv"
       ]
      },
      {
       "output_type": "stream",
       "stream": "stdout",
       "text": [
        "\n",
        "from path : C:\\Users\\FG\\Desktop\\PhD\\Research\\Reservoirs\\datasets\\TIMIT-MFCCs\\test\\dr8\\mdaw1\n",
        "working on: sx13.mfcc.csv\n",
        "from path : C:\\Users\\FG\\Desktop\\PhD\\Research\\Reservoirs\\datasets\\TIMIT-MFCCs\\test\\dr8\\mdaw1\n",
        "working on: sx193.mfcc.csv"
       ]
      },
      {
       "output_type": "stream",
       "stream": "stdout",
       "text": [
        "\n",
        "from path : C:\\Users\\FG\\Desktop\\PhD\\Research\\Reservoirs\\datasets\\TIMIT-MFCCs\\test\\dr8\\mdaw1\n",
        "working on: sx283.mfcc.csv\n",
        "from path : C:\\Users\\FG\\Desktop\\PhD\\Research\\Reservoirs\\datasets\\TIMIT-MFCCs\\test\\dr8\\mdaw1\n",
        "working on: sx373.mfcc.csv"
       ]
      },
      {
       "output_type": "stream",
       "stream": "stdout",
       "text": [
        "\n",
        "from path : C:\\Users\\FG\\Desktop\\PhD\\Research\\Reservoirs\\datasets\\TIMIT-MFCCs\\test\\dr8\\mdaw1\n",
        "working on: si1449.mfcc.csv"
       ]
      },
      {
       "output_type": "stream",
       "stream": "stdout",
       "text": [
        "\n",
        "from path : C:\\Users\\FG\\Desktop\\PhD\\Research\\Reservoirs\\datasets\\TIMIT-MFCCs\\test\\dr8\\mjln0\n",
        "working on: si2079.mfcc.csv"
       ]
      },
      {
       "output_type": "stream",
       "stream": "stdout",
       "text": [
        "\n",
        "from path : C:\\Users\\FG\\Desktop\\PhD\\Research\\Reservoirs\\datasets\\TIMIT-MFCCs\\test\\dr8\\mjln0\n",
        "working on: si819.mfcc.csv\n",
        "from path : C:\\Users\\FG\\Desktop\\PhD\\Research\\Reservoirs\\datasets\\TIMIT-MFCCs\\test\\dr8\\mjln0\n",
        "working on: sx189.mfcc.csv"
       ]
      },
      {
       "output_type": "stream",
       "stream": "stdout",
       "text": [
        "\n",
        "from path : C:\\Users\\FG\\Desktop\\PhD\\Research\\Reservoirs\\datasets\\TIMIT-MFCCs\\test\\dr8\\mjln0\n",
        "working on: sx279.mfcc.csv"
       ]
      },
      {
       "output_type": "stream",
       "stream": "stdout",
       "text": [
        "\n",
        "from path : C:\\Users\\FG\\Desktop\\PhD\\Research\\Reservoirs\\datasets\\TIMIT-MFCCs\\test\\dr8\\mjln0\n",
        "working on: sx369.mfcc.csv\n",
        "from path : C:\\Users\\FG\\Desktop\\PhD\\Research\\Reservoirs\\datasets\\TIMIT-MFCCs\\test\\dr8\\mjln0\n",
        "working on: sx9.mfcc.csv"
       ]
      },
      {
       "output_type": "stream",
       "stream": "stdout",
       "text": [
        "\n",
        "from path : C:\\Users\\FG\\Desktop\\PhD\\Research\\Reservoirs\\datasets\\TIMIT-MFCCs\\test\\dr8\\mjln0\n",
        "working on: sx99.mfcc.csv\n",
        "from path : C:\\Users\\FG\\Desktop\\PhD\\Research\\Reservoirs\\datasets\\TIMIT-MFCCs\\test\\dr8\\mjln0\n",
        "working on: si1460.mfcc.csv"
       ]
      },
      {
       "output_type": "stream",
       "stream": "stdout",
       "text": [
        "\n",
        "from path : C:\\Users\\FG\\Desktop\\PhD\\Research\\Reservoirs\\datasets\\TIMIT-MFCCs\\test\\dr8\\mjtc0\n",
        "working on: si2090.mfcc.csv"
       ]
      },
      {
       "output_type": "stream",
       "stream": "stdout",
       "text": [
        "\n",
        "from path : C:\\Users\\FG\\Desktop\\PhD\\Research\\Reservoirs\\datasets\\TIMIT-MFCCs\\test\\dr8\\mjtc0\n",
        "working on: si830.mfcc.csv\n",
        "from path : C:\\Users\\FG\\Desktop\\PhD\\Research\\Reservoirs\\datasets\\TIMIT-MFCCs\\test\\dr8\\mjtc0\n",
        "working on: sx110.mfcc.csv"
       ]
      },
      {
       "output_type": "stream",
       "stream": "stdout",
       "text": [
        "\n",
        "from path : C:\\Users\\FG\\Desktop\\PhD\\Research\\Reservoirs\\datasets\\TIMIT-MFCCs\\test\\dr8\\mjtc0\n",
        "working on: sx20.mfcc.csv\n",
        "from path : C:\\Users\\FG\\Desktop\\PhD\\Research\\Reservoirs\\datasets\\TIMIT-MFCCs\\test\\dr8\\mjtc0\n",
        "working on: sx200.mfcc.csv"
       ]
      },
      {
       "output_type": "stream",
       "stream": "stdout",
       "text": [
        "\n",
        "from path : C:\\Users\\FG\\Desktop\\PhD\\Research\\Reservoirs\\datasets\\TIMIT-MFCCs\\test\\dr8\\mjtc0\n",
        "working on: sx290.mfcc.csv\n",
        "from path : C:\\Users\\FG\\Desktop\\PhD\\Research\\Reservoirs\\datasets\\TIMIT-MFCCs\\test\\dr8\\mjtc0\n",
        "working on: sx380.mfcc.csv"
       ]
      },
      {
       "output_type": "stream",
       "stream": "stdout",
       "text": [
        "\n",
        "from path : C:\\Users\\FG\\Desktop\\PhD\\Research\\Reservoirs\\datasets\\TIMIT-MFCCs\\test\\dr8\\mjtc0\n",
        "working on: si1296.mfcc.csv"
       ]
      },
      {
       "output_type": "stream",
       "stream": "stdout",
       "text": [
        "\n",
        "from path : C:\\Users\\FG\\Desktop\\PhD\\Research\\Reservoirs\\datasets\\TIMIT-MFCCs\\test\\dr8\\mjth0\n",
        "working on: si1926.mfcc.csv"
       ]
      },
      {
       "output_type": "stream",
       "stream": "stdout",
       "text": [
        "\n",
        "from path : C:\\Users\\FG\\Desktop\\PhD\\Research\\Reservoirs\\datasets\\TIMIT-MFCCs\\test\\dr8\\mjth0\n",
        "working on: si666.mfcc.csv\n",
        "from path : C:\\Users\\FG\\Desktop\\PhD\\Research\\Reservoirs\\datasets\\TIMIT-MFCCs\\test\\dr8\\mjth0\n",
        "working on: sx126.mfcc.csv"
       ]
      },
      {
       "output_type": "stream",
       "stream": "stdout",
       "text": [
        "\n",
        "from path : C:\\Users\\FG\\Desktop\\PhD\\Research\\Reservoirs\\datasets\\TIMIT-MFCCs\\test\\dr8\\mjth0\n",
        "working on: sx216.mfcc.csv"
       ]
      },
      {
       "output_type": "stream",
       "stream": "stdout",
       "text": [
        "\n",
        "from path : C:\\Users\\FG\\Desktop\\PhD\\Research\\Reservoirs\\datasets\\TIMIT-MFCCs\\test\\dr8\\mjth0\n",
        "working on: sx306.mfcc.csv\n",
        "from path : C:\\Users\\FG\\Desktop\\PhD\\Research\\Reservoirs\\datasets\\TIMIT-MFCCs\\test\\dr8\\mjth0\n",
        "working on: sx36.mfcc.csv"
       ]
      },
      {
       "output_type": "stream",
       "stream": "stdout",
       "text": [
        "\n",
        "from path : C:\\Users\\FG\\Desktop\\PhD\\Research\\Reservoirs\\datasets\\TIMIT-MFCCs\\test\\dr8\\mjth0\n",
        "working on: sx396.mfcc.csv"
       ]
      },
      {
       "output_type": "stream",
       "stream": "stdout",
       "text": [
        "\n",
        "from path : C:\\Users\\FG\\Desktop\\PhD\\Research\\Reservoirs\\datasets\\TIMIT-MFCCs\\test\\dr8\\mjth0\n",
        "working on: si1189.mfcc.csv"
       ]
      },
      {
       "output_type": "stream",
       "stream": "stdout",
       "text": [
        "\n",
        "from path : C:\\Users\\FG\\Desktop\\PhD\\Research\\Reservoirs\\datasets\\TIMIT-MFCCs\\test\\dr8\\mpam0\n",
        "working on: si1819.mfcc.csv"
       ]
      },
      {
       "output_type": "stream",
       "stream": "stdout",
       "text": [
        "\n",
        "from path : C:\\Users\\FG\\Desktop\\PhD\\Research\\Reservoirs\\datasets\\TIMIT-MFCCs\\test\\dr8\\mpam0\n",
        "working on: si1961.mfcc.csv\n",
        "from path : C:\\Users\\FG\\Desktop\\PhD\\Research\\Reservoirs\\datasets\\TIMIT-MFCCs\\test\\dr8\\mpam0\n",
        "working on: sx109.mfcc.csv"
       ]
      },
      {
       "output_type": "stream",
       "stream": "stdout",
       "text": [
        "\n",
        "from path : C:\\Users\\FG\\Desktop\\PhD\\Research\\Reservoirs\\datasets\\TIMIT-MFCCs\\test\\dr8\\mpam0\n",
        "working on: sx19.mfcc.csv"
       ]
      },
      {
       "output_type": "stream",
       "stream": "stdout",
       "text": [
        "\n",
        "from path : C:\\Users\\FG\\Desktop\\PhD\\Research\\Reservoirs\\datasets\\TIMIT-MFCCs\\test\\dr8\\mpam0\n",
        "working on: sx199.mfcc.csv\n",
        "from path : C:\\Users\\FG\\Desktop\\PhD\\Research\\Reservoirs\\datasets\\TIMIT-MFCCs\\test\\dr8\\mpam0\n",
        "working on: sx289.mfcc.csv"
       ]
      },
      {
       "output_type": "stream",
       "stream": "stdout",
       "text": [
        "\n",
        "from path : C:\\Users\\FG\\Desktop\\PhD\\Research\\Reservoirs\\datasets\\TIMIT-MFCCs\\test\\dr8\\mpam0\n",
        "working on: sx379.mfcc.csv\n",
        "from path : C:\\Users\\FG\\Desktop\\PhD\\Research\\Reservoirs\\datasets\\TIMIT-MFCCs\\test\\dr8\\mpam0\n",
        "working on: si1217.mfcc.csv"
       ]
      },
      {
       "output_type": "stream",
       "stream": "stdout",
       "text": [
        "\n",
        "from path : C:\\Users\\FG\\Desktop\\PhD\\Research\\Reservoirs\\datasets\\TIMIT-MFCCs\\test\\dr8\\mres0\n",
        "working on: si1847.mfcc.csv"
       ]
      },
      {
       "output_type": "stream",
       "stream": "stdout",
       "text": [
        "\n",
        "from path : C:\\Users\\FG\\Desktop\\PhD\\Research\\Reservoirs\\datasets\\TIMIT-MFCCs\\test\\dr8\\mres0\n",
        "working on: si587.mfcc.csv\n",
        "from path : C:\\Users\\FG\\Desktop\\PhD\\Research\\Reservoirs\\datasets\\TIMIT-MFCCs\\test\\dr8\\mres0\n",
        "working on: sx137.mfcc.csv"
       ]
      },
      {
       "output_type": "stream",
       "stream": "stdout",
       "text": [
        "\n",
        "from path : C:\\Users\\FG\\Desktop\\PhD\\Research\\Reservoirs\\datasets\\TIMIT-MFCCs\\test\\dr8\\mres0\n",
        "working on: sx227.mfcc.csv"
       ]
      },
      {
       "output_type": "stream",
       "stream": "stdout",
       "text": [
        "\n",
        "from path : C:\\Users\\FG\\Desktop\\PhD\\Research\\Reservoirs\\datasets\\TIMIT-MFCCs\\test\\dr8\\mres0\n",
        "working on: sx317.mfcc.csv\n",
        "from path : C:\\Users\\FG\\Desktop\\PhD\\Research\\Reservoirs\\datasets\\TIMIT-MFCCs\\test\\dr8\\mres0\n",
        "working on: sx407.mfcc.csv"
       ]
      },
      {
       "output_type": "stream",
       "stream": "stdout",
       "text": [
        "\n",
        "from path : C:\\Users\\FG\\Desktop\\PhD\\Research\\Reservoirs\\datasets\\TIMIT-MFCCs\\test\\dr8\\mres0\n",
        "working on: sx47.mfcc.csv\n",
        "from path : C:\\Users\\FG\\Desktop\\PhD\\Research\\Reservoirs\\datasets\\TIMIT-MFCCs\\test\\dr8\\mres0\n",
        "working on: si1193.mfcc.csv"
       ]
      },
      {
       "output_type": "stream",
       "stream": "stdout",
       "text": [
        "\n",
        "from path : C:\\Users\\FG\\Desktop\\PhD\\Research\\Reservoirs\\datasets\\TIMIT-MFCCs\\test\\dr8\\mslb0\n",
        "working on: si1823.mfcc.csv\n",
        "from path : C:\\Users\\FG\\Desktop\\PhD\\Research\\Reservoirs\\datasets\\TIMIT-MFCCs\\test\\dr8\\mslb0\n",
        "working on: si563.mfcc.csv"
       ]
      },
      {
       "output_type": "stream",
       "stream": "stdout",
       "text": [
        "\n",
        "from path : C:\\Users\\FG\\Desktop\\PhD\\Research\\Reservoirs\\datasets\\TIMIT-MFCCs\\test\\dr8\\mslb0\n",
        "working on: sx113.mfcc.csv"
       ]
      },
      {
       "output_type": "stream",
       "stream": "stdout",
       "text": [
        "\n",
        "from path : C:\\Users\\FG\\Desktop\\PhD\\Research\\Reservoirs\\datasets\\TIMIT-MFCCs\\test\\dr8\\mslb0\n",
        "working on: sx203.mfcc.csv"
       ]
      },
      {
       "output_type": "stream",
       "stream": "stdout",
       "text": [
        "\n",
        "from path : C:\\Users\\FG\\Desktop\\PhD\\Research\\Reservoirs\\datasets\\TIMIT-MFCCs\\test\\dr8\\mslb0\n",
        "working on: sx23.mfcc.csv"
       ]
      },
      {
       "output_type": "stream",
       "stream": "stdout",
       "text": [
        "\n",
        "from path : C:\\Users\\FG\\Desktop\\PhD\\Research\\Reservoirs\\datasets\\TIMIT-MFCCs\\test\\dr8\\mslb0\n",
        "working on: sx293.mfcc.csv\n",
        "from path : C:\\Users\\FG\\Desktop\\PhD\\Research\\Reservoirs\\datasets\\TIMIT-MFCCs\\test\\dr8\\mslb0\n",
        "working on: sx383.mfcc.csv"
       ]
      },
      {
       "output_type": "stream",
       "stream": "stdout",
       "text": [
        "\n",
        "from path : C:\\Users\\FG\\Desktop\\PhD\\Research\\Reservoirs\\datasets\\TIMIT-MFCCs\\test\\dr8\\mslb0\n"
       ]
      }
     ],
     "prompt_number": 6
    },
    {
     "cell_type": "code",
     "collapsed": false,
     "input": [
      "print np.shape(train_obs)\n",
      "print np.shape(train_obs_labels)"
     ],
     "language": "python",
     "metadata": {},
     "outputs": [
      {
       "output_type": "stream",
       "stream": "stdout",
       "text": [
        "(410920, 39)\n",
        "(410920,)"
       ]
      },
      {
       "output_type": "stream",
       "stream": "stdout",
       "text": [
        "\n"
       ]
      }
     ],
     "prompt_number": 7
    },
    {
     "cell_type": "code",
     "collapsed": false,
     "input": [
      "print train_obs[0]\n",
      "print train_obs_labels[0:100]"
     ],
     "language": "python",
     "metadata": {},
     "outputs": [
      {
       "output_type": "stream",
       "stream": "stdout",
       "text": [
        "[-33.56904, 0.8777561, -1.992806, 4.168566, 2.5413, 9.762255, 2.514459, 7.542417, 11.85475, 3.88046, 4.236263, -2.138215, -18.36514, 6.08912, -5.192068, -11.34412, -8.513498, -4.765741, -3.548938, 0.2155566, -2.640128, -7.072086, 1.311124, 4.497681, 5.503928, 0.6900557, -1.359112, 1.211055, 2.333826, 1.998124, 1.070537, 0.7304434, 0.4364815, 0.2490534, 0.9310447, 0.01885355, -0.4760774, -0.5913141, -0.1270432]\n",
        "['h#', 'h#', 'h#', 'h#', 'h#', 'h#', 'h#', 'h#', 'h#', 'h#', 'h#', 'h#', 'h#', 'h#', 'h#', 'h#', 'h#', 'h#', 'h#', 'h#', 'h#', 'h#', 'h#', 'h#', 'h#', 'h#', 'h#', 'h#', 'h#', 'h#', 'h#', 'h#', 'h#', 'h#', 'h#', 'h#', 'h#', 'h#', 'h#', 'h#', 'h#', 'h#', 'h#', 'h#', 'h#', 'h#', 'h#', 'h#', 'h#', 'h#', 'h#', 'h#', 'h#', 'h#', 'h#', 'h#', 'hh', 'hh', 'hh', 'hh', 'ih', 'ih', 'ih', 'ih', 'ih', 'ih', 'ih', 'z', 'z', 'z', 'z', 'z', 'z', 'z', 'z', 'z', 'z', 'kcl', 'kcl', 'kcl', 'kcl', 'k', 'k', 'k', 'k', 'k', 'ae', 'ae', 'ae', 'ae', 'ae', 'ae', 'ae', 'ae', 'ae', 'ae', 'ae', 'ae', 'ae', 'pcl']\n"
       ]
      }
     ],
     "prompt_number": 8
    },
    {
     "cell_type": "code",
     "collapsed": false,
     "input": [
      "#create gmm\n",
      "n_components = 10\n",
      "g = mixture.GMM(n_components)"
     ],
     "language": "python",
     "metadata": {},
     "outputs": [],
     "prompt_number": 18
    },
    {
     "cell_type": "code",
     "collapsed": false,
     "input": [
      "# fit the GMM to the observations\n",
      "g.fit(train_obs, train_obs_labels) "
     ],
     "language": "python",
     "metadata": {},
     "outputs": [
      {
       "metadata": {},
       "output_type": "pyout",
       "prompt_number": 19,
       "text": [
        "GMM(covariance_type='diag', init_params='wmc', min_covar=0.001,\n",
        "  n_components=10, n_init=1, n_iter=100, params='wmc', random_state=None,\n",
        "  thresh=None, tol=0.001)"
       ]
      }
     ],
     "prompt_number": 19
    },
    {
     "cell_type": "code",
     "collapsed": false,
     "input": [
      "# pred = g.predict(train_obs)\n",
      "# print train_obs_labels\n",
      "# print pred"
     ],
     "language": "python",
     "metadata": {},
     "outputs": [],
     "prompt_number": 20
    },
    {
     "cell_type": "code",
     "collapsed": false,
     "input": [
      "np.round(g.score(train_obs).mean(), 2)"
     ],
     "language": "python",
     "metadata": {},
     "outputs": [
      {
       "metadata": {},
       "output_type": "pyout",
       "prompt_number": 21,
       "text": [
        "-104.48"
       ]
      }
     ],
     "prompt_number": 21
    },
    {
     "cell_type": "code",
     "collapsed": false,
     "input": [],
     "language": "python",
     "metadata": {},
     "outputs": []
    },
    {
     "cell_type": "code",
     "collapsed": false,
     "input": [
      "def load_phone_file(phonePath):\n",
      "    phones_list = []\n",
      "    try:\n",
      "        f = open(phonePath)\n",
      "        for line in f:\n",
      "            phones_list.append(line.split())\n",
      "        # close f\n",
      "        f.close()\n",
      "\n",
      "    except IOError:\n",
      "        print \"missing phone file\"\n",
      "\n",
      "    # flatten the list using nested list comprehension\n",
      "    return [val for subl in phones_list for val in subl]"
     ],
     "language": "python",
     "metadata": {},
     "outputs": [],
     "prompt_number": 22
    },
    {
     "cell_type": "code",
     "collapsed": false,
     "input": [
      "def find_phn_index(start_time, phone_times, phone_list):\n",
      "    # given a frame start time, a list of phone times for this audio file, and a list of phones\n",
      "    # returns the list of the phone corresponding to this frame in the list\n",
      "\n",
      "    sample_rate = 16000.0 #!!!\n",
      "\n",
      "    for i in range( len(phone_times[0])):\n",
      "\n",
      "        # print phone_times[0][i], float(start_time)*sample_rate, phone_times[1][i]\n",
      "\n",
      "        if float(phone_times[0][i]) <= float(start_time)*sample_rate <= float(phone_times[1][i]):\n",
      "            return phone_list.index(phone_times[2][i])\n",
      "\n",
      "    # if nothing matches, return silence\n",
      "    # this happens when the start time is beyond the last frame\n",
      "    # see timit doc\n",
      "    return phone_list.index(\"h#\")"
     ],
     "language": "python",
     "metadata": {},
     "outputs": [],
     "prompt_number": 23
    },
    {
     "cell_type": "code",
     "collapsed": false,
     "input": [],
     "language": "python",
     "metadata": {},
     "outputs": []
    }
   ],
   "metadata": {}
  }
 ]
}