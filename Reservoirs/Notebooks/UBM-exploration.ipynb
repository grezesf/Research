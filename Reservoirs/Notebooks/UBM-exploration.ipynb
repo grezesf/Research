{
 "metadata": {
  "name": "",
  "signature": "sha256:935bda91b1e8bba4ab048d5b981a183311e8ed88eb40908dd29538c61374fce5"
 },
 "nbformat": 3,
 "nbformat_minor": 0,
 "worksheets": [
  {
   "cells": [
    {
     "cell_type": "code",
     "collapsed": false,
     "input": [
      "import numpy as np\n",
      "import math"
     ],
     "language": "python",
     "metadata": {},
     "outputs": [],
     "prompt_number": 1
    },
    {
     "cell_type": "code",
     "collapsed": false,
     "input": [
      "#### E-M Coin Toss Example as given in the EM tutorial paper by Do and Batzoglou* #### \n",
      "\n",
      "def get_mn_log_likelihood(obs,probs):\n",
      "    \"\"\" Return the (log)likelihood of obs, given the probs\"\"\"\n",
      "    # Multinomial Distribution Log PMF\n",
      "    # ln (pdf)      =             multinomial coeff            *   product of probabilities\n",
      "    # ln[f(x|n, p)] = [ln(n!) - (ln(x1!)+ln(x2!)+...+ln(xk!))] + [x1*ln(p1)+x2*ln(p2)+...+xk*ln(pk)]     \n",
      "\n",
      "    multinomial_coeff_denom= 0\n",
      "    prod_probs = 0\n",
      "    for x in range(0,len(obs)): # loop through state counts in each observation\n",
      "        multinomial_coeff_denom = multinomial_coeff_denom + math.log(math.factorial(obs[x]))\n",
      "        prod_probs = prod_probs + obs[x]*math.log(probs[x])\n",
      "\n",
      "    multinomial_coeff = math.log(math.factorial(sum(obs))) -  multinomial_coeff_denom\n",
      "    likelihood = multinomial_coeff + prod_probs\n",
      "    return likelihood"
     ],
     "language": "python",
     "metadata": {},
     "outputs": [],
     "prompt_number": 2
    },
    {
     "cell_type": "code",
     "collapsed": false,
     "input": [
      "# 1st:  Coin B, {HTTTHHTHTH}, 5H,5T\n",
      "# 2nd:  Coin A, {HHHHTHHHHH}, 9H,1T\n",
      "# 3rd:  Coin A, {HTHHHHHTHH}, 8H,2T\n",
      "# 4th:  Coin B, {HTHTTTHHTT}, 4H,6T\n",
      "# 5th:  Coin A, {THHHTHHHTH}, 7H,3T\n",
      "# so, from MLE: pA(heads) = 0.80 and pB(heads)=0.45\n",
      "\n",
      "# represent the experiments\n",
      "head_counts = np.array([5,9,8,4,7])\n",
      "tail_counts = 10-head_counts\n",
      "experiments = zip(head_counts,tail_counts)\n",
      "print experiments\n"
     ],
     "language": "python",
     "metadata": {},
     "outputs": [
      {
       "output_type": "stream",
       "stream": "stdout",
       "text": [
        "[(5, 5), (9, 1), (8, 2), (4, 6), (7, 3)]\n"
       ]
      }
     ],
     "prompt_number": 3
    },
    {
     "cell_type": "code",
     "collapsed": false,
     "input": [
      "# initialise the pA(heads) and pB(heads)\n",
      "pA_heads = np.zeros(100); pA_heads[0] = 0.60\n",
      "pB_heads = np.zeros(100); pB_heads[0] = 0.50\n",
      "\n",
      "# E-M begins!\n",
      "delta = 0.001  \n",
      "j = 0 # iteration counter\n",
      "improvement = float('inf')\n",
      "\n",
      "while (improvement>delta and j<100-1):\n",
      "    \n",
      "    expectation_A = np.zeros((5,2), dtype=float) \n",
      "    expectation_B = np.zeros((5,2), dtype=float)\n",
      "    for i in range(0,len(experiments)):\n",
      "        e = experiments[i] # i'th experiment\n",
      "        ll_A = get_mn_log_likelihood(e,np.array([pA_heads[j],1-pA_heads[j]])) # loglikelihood of e given coin A\n",
      "        ll_B = get_mn_log_likelihood(e,np.array([pB_heads[j],1-pB_heads[j]])) # loglikelihood of e given coin B\n",
      "\n",
      "        weightA = math.exp(ll_A) / ( math.exp(ll_A) + math.exp(ll_B) ) # corresponding weight of A proportional to likelihood of A \n",
      "        weightB = math.exp(ll_B) / ( math.exp(ll_A) + math.exp(ll_B) ) # corresponding weight of B proportional to likelihood of B                            \n",
      "\n",
      "        expectation_A[i] = np.dot(weightA, e) \n",
      "        expectation_B[i] = np.dot(weightB, e)\n",
      "        \n",
      "#     print np.sum(expectation_A, axis=0)\n",
      "    \n",
      "    pA_heads[j+1] = np.sum(expectation_A,0)[0] / np.sum(expectation_A); \n",
      "    pB_heads[j+1] = np.sum(expectation_B,0)[0] / np.sum(expectation_B); \n",
      "    \n",
      "    improvement = max( abs(np.array([pA_heads[j+1],pB_heads[j+1]]) - np.array([pA_heads[j],pB_heads[j]]) ))\n",
      "    j = j+1\n",
      "    \n",
      "#     print j, improvement\n",
      "    \n",
      "    \n",
      "# results\n",
      "print \"pA_heads: \" , pA_heads\n",
      "print \"pB_heads: \" , pB_heads\n"
     ],
     "language": "python",
     "metadata": {},
     "outputs": [
      {
       "output_type": "stream",
       "stream": "stdout",
       "text": [
        "pA_heads:  [ 0.6         0.71301224  0.74529204  0.76809883  0.78316458  0.79105525\n",
        "  0.79453254  0.79592867  0.79646564  0.          0.          0.          0.\n",
        "  0.          0.          0.          0.          0.          0.          0.\n",
        "  0.          0.          0.          0.          0.          0.          0.\n",
        "  0.          0.          0.          0.          0.          0.          0.\n",
        "  0.          0.          0.          0.          0.          0.          0.\n",
        "  0.          0.          0.          0.          0.          0.          0.\n",
        "  0.          0.          0.          0.          0.          0.          0.\n",
        "  0.          0.          0.          0.          0.          0.          0.\n",
        "  0.          0.          0.          0.          0.          0.          0.\n",
        "  0.          0.          0.          0.          0.          0.          0.\n",
        "  0.          0.          0.          0.          0.          0.          0.\n",
        "  0.          0.          0.          0.          0.          0.          0.\n",
        "  0.          0.          0.          0.          0.          0.          0.\n",
        "  0.          0.          0.        ]\n",
        "pB_heads:  [ 0.5         0.58133931  0.56925575  0.54953591  0.53461745  0.52628117\n",
        "  0.52239044  0.52072988  0.52004719  0.          0.          0.          0.\n",
        "  0.          0.          0.          0.          0.          0.          0.\n",
        "  0.          0.          0.          0.          0.          0.          0.\n",
        "  0.          0.          0.          0.          0.          0.          0.\n",
        "  0.          0.          0.          0.          0.          0.          0.\n",
        "  0.          0.          0.          0.          0.          0.          0.\n",
        "  0.          0.          0.          0.          0.          0.          0.\n",
        "  0.          0.          0.          0.          0.          0.          0.\n",
        "  0.          0.          0.          0.          0.          0.          0.\n",
        "  0.          0.          0.          0.          0.          0.          0.\n",
        "  0.          0.          0.          0.          0.          0.          0.\n",
        "  0.          0.          0.          0.          0.          0.          0.\n",
        "  0.          0.          0.          0.          0.          0.          0.\n",
        "  0.          0.          0.        ]\n"
       ]
      }
     ],
     "prompt_number": 20
    },
    {
     "cell_type": "code",
     "collapsed": false,
     "input": [
      "print \"test\"\n"
     ],
     "language": "python",
     "metadata": {},
     "outputs": []
    },
    {
     "cell_type": "code",
     "collapsed": false,
     "input": [],
     "language": "python",
     "metadata": {},
     "outputs": []
    }
   ],
   "metadata": {}
  }
 ]
}