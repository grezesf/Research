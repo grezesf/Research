{
 "metadata": {
  "name": "",
  "signature": "sha256:d6f5f813b8ff23518721f8ef30726dc812a2ec1c2713a711bd7e1b1f5c1fa630"
 },
 "nbformat": 3,
 "nbformat_minor": 0,
 "worksheets": [
  {
   "cells": [
    {
     "cell_type": "markdown",
     "metadata": {},
     "source": [
      "Reddit Data Exploration"
     ]
    },
    {
     "cell_type": "code",
     "collapsed": false,
     "input": [
      "# preambles\n",
      "import re\n",
      "\n",
      "#Data path\n",
      "data_dir = '/home/denys/Research/PowerRelations/Reddit'\n",
      "# print data_dir\n",
      "\n",
      "#open latest directory\n",
      "import os\n",
      "latest_subdir = max([os.path.join(data_dir,d) for d in os.listdir(data_dir)], key=os.path.getmtime)\n",
      "print latest_subdir"
     ],
     "language": "python",
     "metadata": {},
     "outputs": [
      {
       "output_type": "stream",
       "stream": "stdout",
       "text": [
        "/home/denys/Research/PowerRelations/Reddit/Data_world8\n"
       ]
      }
     ],
     "prompt_number": 113
    },
    {
     "cell_type": "code",
     "collapsed": false,
     "input": [
      "# user oriented data structure\n",
      "# user_list  = {user_name:{thread_name:msg_count}}\n",
      "user_list = dict()\n",
      "\n",
      "# thread oriented data structure\n",
      "# thread list = {thread_name:{user_name:msg_count}}\n",
      "thread_list = dict()"
     ],
     "language": "python",
     "metadata": {},
     "outputs": [],
     "prompt_number": 114
    },
    {
     "cell_type": "code",
     "collapsed": false,
     "input": [
      "# walk directory\n",
      "for dir_name, subdir_list, file_list in os.walk(latest_subdir):\n",
      "    print \"working in \" + dir_name\n",
      "    for file_name in file_list:\n",
      "        # open file\n",
      "        if (\"Thread\" in file_name) and (\".xml\" in file_name):\n",
      "            # print \"working on \" + dir_name + '/' + file_name\n",
      "            \n",
      "            #parse file\n",
      "            with open(dir_name + '/' + file_name, 'r') as open_file:\n",
      "                for line in open_file:\n",
      "                             \n",
      "                    #look at lines with user names using regexp\n",
      "                    match_obj = re.match(r'\\s*<user>(.*)</user>\\n', line)\n",
      "\n",
      "                    if match_obj:\n",
      "                        # user tag found\n",
      "                        # work on user oriented data\n",
      "                        if match_obj.group(1) not in user_list:\n",
      "                            # first time seeing this user\n",
      "                            user_list[match_obj.group(1)] = {file_name:1}\n",
      "                        else:\n",
      "                            if file_name not in user_list[match_obj.group(1)]:\n",
      "                                # first time seeing this user in this thread\n",
      "                                user_list[match_obj.group(1)][file_name] = 1\n",
      "                            else:\n",
      "                                #user has multiple posts in this thread\n",
      "                                user_list[match_obj.group(1)][file_name] += 1\n",
      "                        \n",
      "                        #work on thread oriented data\n",
      "                        if file_name not in thread_list:\n",
      "                            # first time in thread\n",
      "                            thread_list[file_name] = {match_obj.group(1):1}\n",
      "                        else:\n",
      "                            if match_obj.group(1) not in thread_list[file_name]:\n",
      "                                #first time seeing user in this thread\n",
      "                                thread_list[file_name][match_obj.group(1)] = 1\n",
      "                            else:\n",
      "                                #user has multiple posts in this thread\n",
      "                                thread_list[file_name][match_obj.group(1)] += 1"
     ],
     "language": "python",
     "metadata": {},
     "outputs": [
      {
       "output_type": "stream",
       "stream": "stdout",
       "text": [
        "working in /home/denys/Research/PowerRelations/Reddit/Data_world8\n"
       ]
      }
     ],
     "prompt_number": 124
    },
    {
     "cell_type": "code",
     "collapsed": false,
     "input": [
      "print \"number of users: \", len(user_list)\n",
      "print \"number of thread: \", len(thread_list)"
     ],
     "language": "python",
     "metadata": {},
     "outputs": [
      {
       "output_type": "stream",
       "stream": "stdout",
       "text": [
        "number of users:  26034\n",
        "number of thread:  1856\n"
       ]
      }
     ],
     "prompt_number": 125
    },
    {
     "cell_type": "code",
     "collapsed": false,
     "input": [
      "for user in user_list.keys()[:10]:\n",
      "    print user, user_list[user]\n",
      "\n",
      "print \n",
      "\n",
      "for thread in thread_list.keys()[:2]:\n",
      "    print thread, thread_list[thread]"
     ],
     "language": "python",
     "metadata": {},
     "outputs": [
      {
       "output_type": "stream",
       "stream": "stdout",
       "text": [
        "grad97 {'Thread_world858.xml': 2}\n",
        "Stemnin {'Thread_world583.xml': 2}\n",
        "PointAndClick {'Thread_world1799.xml': 10}\n",
        "xrmrct45 {'Thread_world1777.xml': 2}\n",
        "Bedebao {'Thread_world762.xml': 4, 'Thread_world767.xml': 2}\n",
        "no1skaman {'Thread_world182.xml': 2}\n",
        "pug_walker {'Thread_world768.xml': 2}\n",
        "Workwhereucan {'Thread_world393.xml': 2}\n",
        "I_sleep_on_the_couch {'Thread_world656.xml': 2}\n",
        "becausefahq {'Thread_world304.xml': 2}\n",
        "\n",
        "Thread_world966.xml {'CollumMcJingleballs': 1, 'rppkn': 1, 'Bushbone': 1}\n",
        "Thread_world1527.xml {'zakos': 1, 'Segull': 1, 'ShEsHy': 1, 'momzill': 1, 'fitzroy95': 1, 'whtml': 1, 'Trapped-In-Texas': 1}\n"
       ]
      }
     ],
     "prompt_number": 127
    },
    {
     "cell_type": "code",
     "collapsed": false,
     "input": [
      "#sanity check"
     ],
     "language": "python",
     "metadata": {},
     "outputs": [],
     "prompt_number": 128
    },
    {
     "cell_type": "code",
     "collapsed": false,
     "input": [
      "import matplotlib.pyplot as plt\n",
      "%matplotlib inline"
     ],
     "language": "python",
     "metadata": {},
     "outputs": [],
     "prompt_number": 118
    },
    {
     "cell_type": "code",
     "collapsed": false,
     "input": [
      "# plot the number of people posting in n threads\n",
      "\n",
      "#find max length\n",
      "max_len = 0\n",
      "for user in user_list.keys():\n",
      "    max_len = max(len(user_list[user]), max_len, 0)\n",
      "print \"the largest numer of threads a user has posted in is: \", max_len\n",
      "\n",
      "# set initial counts to 0\n",
      "counts_1 = [0] * (max_len+1)\n",
      "\n",
      "# aggregate counts\n",
      "for user in user_list.keys():\n",
      "    # increment count\n",
      "    counts_1[len(user_list[user])] += 1\n",
      "\n",
      "# plot relevant results\n",
      "max_x = 20\n",
      "plt.bar(range(max_len+1)[:max_x], counts_1[:max_x], align='center')\n",
      "plt.xlim(0,max_x)\n",
      "plt.show()"
     ],
     "language": "python",
     "metadata": {},
     "outputs": [
      {
       "output_type": "stream",
       "stream": "stdout",
       "text": [
        "the largest numer of threads a user has posted in is:  379\n"
       ]
      },
      {
       "metadata": {},
       "output_type": "display_data",
       "png": "[encoded data removed]",
       "text": [
        "<matplotlib.figure.Figure at 0x7f2f773ec6d0>"
       ]
      }
     ],
     "prompt_number": 119
    },
    {
     "cell_type": "code",
     "collapsed": false,
     "input": [
      "#count of how many posts per user per thread\n",
      "\n",
      "# find max posts by a single user in a thread\n",
      "max_count = 0\n",
      "for user in user_list.keys():\n",
      "    for thread in user_list[user].keys():\n",
      "        max_count = max(max_count, user_list[user][thread])\n",
      "print \"max posts by a single user in a thread: \", max_count\n",
      "\n",
      "# initialize\n",
      "counts_2 = [0]*(max_count+1)\n",
      "\n",
      "for user in user_list.keys():\n",
      "    for thread in user_list[user].keys():\n",
      "        counts_2[user_list[user][thread]] += 1\n",
      "\n",
      "# plot relevant results\n",
      "max_x = 20\n",
      "plt.bar(range(max_len+1)[:max_x], counts_2[:max_x], align='center')\n",
      "plt.xlim(0,max_x)\n",
      "plt.show()\n",
      "\n",
      "print \"first 20 values: \",counts_2[:20]"
     ],
     "language": "python",
     "metadata": {},
     "outputs": [
      {
       "output_type": "stream",
       "stream": "stdout",
       "text": [
        "max posts by a single user in a thread:  30\n"
       ]
      },
      {
       "metadata": {},
       "output_type": "display_data",
       "png": "[encoded data removed]",
       "text": [
        "<matplotlib.figure.Figure at 0x7f2f98106d90>"
       ]
      },
      {
       "output_type": "stream",
       "stream": "stdout",
       "text": [
        "first 20 values:  [0, 42482, 6831, 2262, 1010, 500, 260, 138, 84, 58, 37, 24, 21, 13, 13, 4, 4, 3, 2, 4]\n"
       ]
      }
     ],
     "prompt_number": 120
    },
    {
     "cell_type": "code",
     "collapsed": false,
     "input": [
      "# number of messages per thread\n",
      "counts_3 = dict()\n",
      "\n",
      "for user in user_list.keys():\n",
      "    for thread in user_list[user].keys():\n",
      "        if thread not in counts_3:\n",
      "            counts_3[thread] = user_list[user][thread]\n",
      "        else:\n",
      "            counts_3[thread] += user_list[user][thread]\n",
      "            \n",
      "#  plot relevant results\n",
      "counts_3_list = sorted(counts_3.values(), reverse=True)\n",
      "plt.bar(range(len(counts_3_list)), counts_3_list, align='center')\n",
      "plt.xlim(-0.5,len(counts_3_list)+1)\n",
      "plt.show()"
     ],
     "language": "python",
     "metadata": {},
     "outputs": [
      {
       "metadata": {},
       "output_type": "display_data",
       "png": "[encoded data removed]",
       "text": [
        "<matplotlib.figure.Figure at 0x7f2f7776d110>"
       ]
      }
     ],
     "prompt_number": 121
    },
    {
     "cell_type": "code",
     "collapsed": false,
     "input": [],
     "language": "python",
     "metadata": {},
     "outputs": [],
     "prompt_number": 121
    }
   ],
   "metadata": {}
  }
 ]
}