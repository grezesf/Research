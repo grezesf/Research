{
 "metadata": {
  "name": "",
  "signature": "sha256:858556ab9aceb61c153f3f0cd3724f72adfecba0098f867dc9ab0ae4a07d7dd4"
 },
 "nbformat": 3,
 "nbformat_minor": 0,
 "worksheets": [
  {
   "cells": [
    {
     "cell_type": "markdown",
     "metadata": {},
     "source": [
      "Reddit Data Exploration"
     ]
    },
    {
     "cell_type": "code",
     "collapsed": false,
     "input": [
      "# preambles\n",
      "import re\n",
      "\n",
      "#Cats machine Data path\n",
      "data_dir = '/home/denys/Research/PowerRelations/Reddit'\n",
      "\n",
      "#felix's local dev dir\n",
      "data_dir = 'C:\\\\Users\\\\FG\\\\Desktop\\\\PhD\\\\Research\\\\reddit\\\\devdata'\n",
      "print data_dir\n",
      "\n",
      "#open latest directory\n",
      "import os\n",
      "latest_subdir = max([os.path.join(data_dir,d) for d in os.listdir(data_dir)], key=os.path.getmtime)\n",
      "print latest_subdir"
     ],
     "language": "python",
     "metadata": {},
     "outputs": [
      {
       "output_type": "stream",
       "stream": "stdout",
       "text": [
        "C:\\Users\\FG\\Desktop\\PhD\\Research\\reddit\\devdata\n",
        "C:\\Users\\FG\\Desktop\\PhD\\Research\\reddit\\devdata\\Data_world8\n"
       ]
      }
     ],
     "prompt_number": 9
    },
    {
     "cell_type": "code",
     "collapsed": false,
     "input": [
      "# user oriented data structure\n",
      "# user_list  = {user_name:{thread_name:msg_count}}\n",
      "user_list = dict()\n",
      "\n",
      "# thread oriented data structure\n",
      "# thread list = {thread_name:{user_name:msg_count}}\n",
      "thread_list = dict()"
     ],
     "language": "python",
     "metadata": {},
     "outputs": [],
     "prompt_number": 10
    },
    {
     "cell_type": "code",
     "collapsed": false,
     "input": [
      "# walk directory\n",
      "for dir_name, subdir_list, file_list in os.walk(latest_subdir):\n",
      "    print \"working in \" + dir_name\n",
      "    for file_name in file_list:\n",
      "        # open file\n",
      "        if (\"Thread\" in file_name) and (\".xml\" in file_name):\n",
      "            # print \"working on \" + dir_name + '/' + file_name\n",
      "            \n",
      "            #parse file\n",
      "            with open(dir_name + '/' + file_name, 'r') as open_file:\n",
      "                for line in open_file:\n",
      "                             \n",
      "                    #look at lines with user names using regexp\n",
      "                    match_obj = re.match(r'\\s*<user>(.*)</user>\\n', line)\n",
      "\n",
      "                    if match_obj:\n",
      "                        # user tag found\n",
      "                        # work on user oriented data\n",
      "                        if match_obj.group(1) not in user_list:\n",
      "                            # first time seeing this user\n",
      "                            user_list[match_obj.group(1)] = {file_name:1}\n",
      "                        else:\n",
      "                            if file_name not in user_list[match_obj.group(1)]:\n",
      "                                # first time seeing this user in this thread\n",
      "                                user_list[match_obj.group(1)][file_name] = 1\n",
      "                            else:\n",
      "                                #user has multiple posts in this thread\n",
      "                                user_list[match_obj.group(1)][file_name] += 1\n",
      "                        \n",
      "                        #work on thread oriented data\n",
      "                        if file_name not in thread_list:\n",
      "                            # first time in thread\n",
      "                            thread_list[file_name] = {match_obj.group(1):1}\n",
      "                        else:\n",
      "                            if match_obj.group(1) not in thread_list[file_name]:\n",
      "                                #first time seeing user in this thread\n",
      "                                thread_list[file_name][match_obj.group(1)] = 1\n",
      "                            else:\n",
      "                                #user has multiple posts in this thread\n",
      "                                thread_list[file_name][match_obj.group(1)] += 1"
     ],
     "language": "python",
     "metadata": {},
     "outputs": [
      {
       "output_type": "stream",
       "stream": "stdout",
       "text": [
        "working in C:\\Users\\FG\\Desktop\\PhD\\Research\\reddit\\devdata\\Data_world8\n"
       ]
      }
     ],
     "prompt_number": 11
    },
    {
     "cell_type": "code",
     "collapsed": false,
     "input": [
      "print \"number of users: \", len(user_list)\n",
      "print \"number of thread: \", len(thread_list)"
     ],
     "language": "python",
     "metadata": {},
     "outputs": [
      {
       "output_type": "stream",
       "stream": "stdout",
       "text": [
        "number of users:  31717\n",
        "number of thread:  2434\n"
       ]
      }
     ],
     "prompt_number": 12
    },
    {
     "cell_type": "code",
     "collapsed": false,
     "input": [
      "for user in user_list.keys()[:10]:\n",
      "    print user, user_list[user]\n",
      "\n",
      "print \n",
      "\n",
      "for thread in thread_list.keys()[:2]:\n",
      "    print thread, thread_list[thread]"
     ],
     "language": "python",
     "metadata": {},
     "outputs": [
      {
       "output_type": "stream",
       "stream": "stdout",
       "text": [
        "grad97 {'Thread_world858.xml': 1}\n",
        "Computer_Name {'Thread_world2338.xml': 1, 'Thread_world1811.xml': 3, 'Thread_world1308.xml': 1, 'Thread_world2225.xml': 1, 'Thread_world1171.xml': 1, 'Thread_world2176.xml': 1, 'Thread_world872.xml': 6, 'Thread_world1110.xml': 2, 'Thread_world1662.xml': 2, 'Thread_world2401.xml': 1, 'Thread_world1500.xml': 1, 'Thread_world1356.xml': 3, 'Thread_world384.xml': 5, 'Thread_world64.xml': 5, 'Thread_world1021.xml': 1, 'Thread_world546.xml': 1, 'Thread_world1496.xml': 1, 'Thread_world423.xml': 1, 'Thread_world1438.xml': 1, 'Thread_world2267.xml': 1, 'Thread_world664.xml': 1, 'Thread_world408.xml': 1, 'Thread_world935.xml': 1, 'Thread_world986.xml': 3, 'Thread_world11.xml': 1, 'Thread_world1381.xml': 1, 'Thread_world449.xml': 1, 'Thread_world1044.xml': 1, 'Thread_world1002.xml': 2, 'Thread_world2195.xml': 4, 'Thread_world964.xml': 2, 'Thread_world2364.xml': 1, 'Thread_world458.xml': 1}\n",
        "PointAndClick {'Thread_world1799.xml': 6}\n",
        "simkessy {'Thread_world2189.xml': 1}\n",
        "xrmrct45 {'Thread_world1777.xml': 1}\n",
        "Bedebao {'Thread_world1821.xml': 1, 'Thread_world762.xml': 2, 'Thread_world767.xml': 1}\n",
        "no1skaman {'Thread_world182.xml': 1}\n",
        "RedSquirrelFtw {'Thread_world2181.xml': 1}\n",
        "Workwhereucan {'Thread_world393.xml': 1}\n",
        "Stemnin {'Thread_world583.xml': 1}\n",
        "\n",
        "Thread_world966.xml {'CollumMcJingleballs': 1, 'rppkn': 1, 'Bushbone': 1}\n",
        "Thread_world2227.xml {'HitlersFleshlight': 1, 'Brosepherr': 1, 'repeat-': 2, 'tottenhamspurs': 2, 'brahmyn': 1, 'Bejewerly': 2, 'lambright': 1, 'lordderplythethird': 1, 'KamehamehaSockpuppet': 1, 'HitlersGynecologist': 1, '50ShadesOfPatriotic': 1, 'perogies': 1, 'DracoOculus': 1, 'TheLastOfYou': 1, 'FoxReagan': 1, 'NyupDeddyXMTN': 2, 'ilicho': 1, 'Zenarchist': 1}\n"
       ]
      }
     ],
     "prompt_number": 13
    },
    {
     "cell_type": "code",
     "collapsed": false,
     "input": [
      "# sanity check\n",
      "# total number of posts\n",
      "sum = 0\n",
      "for user in user_list.keys():\n",
      "    for thread in user_list[user].keys():\n",
      "        sum += user_list[user][thread] \n",
      "print sum \n",
      "\n",
      "sum = 0\n",
      "for thread in thread_list.keys():\n",
      "    for user in thread_list[thread].keys():\n",
      "        sum += thread_list[thread][user]\n",
      "print sum    \n"
     ],
     "language": "python",
     "metadata": {},
     "outputs": [
      {
       "output_type": "stream",
       "stream": "stdout",
       "text": [
        "97015\n",
        "97015\n"
       ]
      }
     ],
     "prompt_number": 14
    },
    {
     "cell_type": "code",
     "collapsed": false,
     "input": [
      "import matplotlib.pyplot as plt\n",
      "%matplotlib inline"
     ],
     "language": "python",
     "metadata": {},
     "outputs": [],
     "prompt_number": 15
    },
    {
     "cell_type": "code",
     "collapsed": false,
     "input": [
      "# plot the number of people posting in n threads\n",
      "\n",
      "#find max length\n",
      "max_len = 0\n",
      "for user in user_list.keys():\n",
      "    max_len = max(len(user_list[user]), max_len, 0)\n",
      "print \"the largest number of threads a user has posted in is: \", max_len\n",
      "\n",
      "# set initial counts to 0\n",
      "counts_1 = [0] * (max_len+1)\n",
      "\n",
      "# aggregate counts\n",
      "for user in user_list.keys():\n",
      "    # increment count\n",
      "    counts_1[len(user_list[user])] += 1\n",
      "\n",
      "# plot relevant results\n",
      "max_x = 20\n",
      "plt.bar(range(max_len+1)[:max_x], counts_1[:max_x], align='center')\n",
      "plt.xlim(0,max_x)\n",
      "plt.show()"
     ],
     "language": "python",
     "metadata": {},
     "outputs": [
      {
       "output_type": "stream",
       "stream": "stdout",
       "text": [
        "the largest number of threads a user has posted in is:  477\n"
       ]
      },
      {
       "metadata": {},
       "output_type": "display_data",
       "png": "[encoded data removed]",
       "text": [
        "<matplotlib.figure.Figure at 0x8ead0f0>"
       ]
      }
     ],
     "prompt_number": 16
    },
    {
     "cell_type": "code",
     "collapsed": false,
     "input": [
      "#count of how many posts per user per thread\n",
      "\n",
      "# find max posts by a single user in a thread\n",
      "max_count = 0\n",
      "for user in user_list.keys():\n",
      "    for thread in user_list[user].keys():\n",
      "        max_count = max(max_count, user_list[user][thread])\n",
      "print \"max posts by a single user in a thread: \", max_count\n",
      "\n",
      "# initialize\n",
      "counts_2 = [0]*(max_count+1)\n",
      "\n",
      "for user in user_list.keys():\n",
      "    for thread in user_list[user].keys():\n",
      "        counts_2[user_list[user][thread]] += 1\n",
      "\n",
      "# plot relevant results\n",
      "max_x = 20\n",
      "plt.bar(range(max_len+1)[:max_x], counts_2[:max_x], align='center')\n",
      "plt.xlim(0,max_x)\n",
      "plt.show()\n",
      "\n",
      "print \"first 20 values: \",counts_2[:20]"
     ],
     "language": "python",
     "metadata": {},
     "outputs": [
      {
       "output_type": "stream",
       "stream": "stdout",
       "text": [
        "max posts by a single user in a thread:  30\n"
       ]
      },
      {
       "metadata": {},
       "output_type": "display_data",
       "png": "[encoded data removed]",
       "text": [
        "<matplotlib.figure.Figure at 0x9257870>"
       ]
      },
      {
       "output_type": "stream",
       "stream": "stdout",
       "text": [
        "first 20 values:  [0, 54986, 8870, 2920, 1297, 635, 338, 186, 117, 75, 55, 29, 27, 17, 15, 5, 7, 3, 2, 4]\n"
       ]
      }
     ],
     "prompt_number": 17
    },
    {
     "cell_type": "code",
     "collapsed": false,
     "input": [
      "# number of messages per thread\n",
      "counts_3 = dict()\n",
      "\n",
      "for user in user_list.keys():\n",
      "    for thread in user_list[user].keys():\n",
      "        if thread not in counts_3:\n",
      "            counts_3[thread] = user_list[user][thread]\n",
      "        else:\n",
      "            counts_3[thread] += user_list[user][thread]\n",
      "            \n",
      "#  plot relevant results\n",
      "counts_3_list = sorted(counts_3.values(), reverse=True)\n",
      "plt.bar(range(len(counts_3_list)), counts_3_list, align='center')\n",
      "plt.xlim(-0.5,len(counts_3_list)+1)\n",
      "plt.show()"
     ],
     "language": "python",
     "metadata": {},
     "outputs": [
      {
       "metadata": {},
       "output_type": "display_data",
       "png": "[encoded data removed]",
       "text": [
        "<matplotlib.figure.Figure at 0x9329d10>"
       ]
      }
     ],
     "prompt_number": 18
    },
    {
     "cell_type": "code",
     "collapsed": false,
     "input": [
      "# how many users per thread\n",
      "max_users = 0\n",
      "for thread in thread_list.keys():\n",
      "    max_users = max(max_users, len(thread_list[thread]))\n",
      "print \"Max number of users in a thread: \", max_users\n",
      "\n",
      "counts_4 = sorted([len(thread_list[x]) for x in thread_list.keys()], reverse=True)\n",
      "#  plot relevant results\n",
      "plt.bar(range(len(counts_4)), counts_4, align='center')\n",
      "plt.xlim(-0.5,len(counts_4)+1)\n",
      "plt.show()\n"
     ],
     "language": "python",
     "metadata": {},
     "outputs": [
      {
       "output_type": "stream",
       "stream": "stdout",
       "text": [
        "Max number of users in a thread:  186\n"
       ]
      },
      {
       "metadata": {},
       "output_type": "display_data",
       "png": "[encoded data removed]",
       "text": [
        "<matplotlib.figure.Figure at 0x9520590>"
       ]
      }
     ],
     "prompt_number": 19
    },
    {
     "cell_type": "code",
     "collapsed": false,
     "input": [],
     "language": "python",
     "metadata": {},
     "outputs": []
    },
    {
     "cell_type": "code",
     "collapsed": false,
     "input": [
      "#XML Version of the parsing\n",
      "import xml.etree.ElementTree as ET\n",
      "# user oriented data structure\n",
      "# user_list  = {user_name:{thread_name:msg_count}}\n",
      "user_list2 = dict()\n",
      "\n",
      "# walk directory\n",
      "for dir_name, subdir_list, file_list in os.walk(latest_subdir):\n",
      "    print \"working in \" + dir_name\n",
      "    \n",
      "    for file_name in file_list:\n",
      "        # open file\n",
      "        if (\"Thread\" in file_name) and (\".xml\" in file_name):\n",
      "#             print \"working on \" + dir_name + '/' + file_name\n",
      "            \n",
      "            # parse the file\n",
      "            tree = ET.parse(dir_name + '/' + file_name)\n",
      "            root = tree.getroot()\n",
      "            \n",
      "            # depth first traversal \n",
      "            for elem in root.iter():\n",
      "                if elem.text == user:\n",
      "                    "
     ],
     "language": "python",
     "metadata": {},
     "outputs": [],
     "prompt_number": 19
    }
   ],
   "metadata": {}
  }
 ]
}