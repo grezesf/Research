{
 "metadata": {
  "name": "",
  "signature": "sha256:84eee82d6993f3a24612eb815f0c6196c5fa17eb97581dcc78d5cde8681883e6"
 },
 "nbformat": 3,
 "nbformat_minor": 0,
 "worksheets": [
  {
   "cells": [
    {
     "cell_type": "markdown",
     "metadata": {},
     "source": [
      "Network achitecture:\n",
      "{user_name1 : {user_name2 : {relationship features} } }"
     ]
    },
    {
     "cell_type": "code",
     "collapsed": false,
     "input": [
      "# preambles\n",
      "import re\n",
      "\n",
      "#Cats machine Data path\n",
      "data_dir = '/home/denys/Research/PowerRelations/Reddit'\n",
      "\n",
      "#felix's local dev dir\n",
      "data_dir = 'C:\\\\Users\\\\FG\\\\Desktop\\\\PhD\\\\Research\\\\reddit\\\\devdata'\n",
      "print data_dir\n",
      "\n",
      "#open latest directory\n",
      "import os\n",
      "latest_subdir = max([os.path.join(data_dir,d) for d in os.listdir(data_dir)], key=os.path.getmtime)\n",
      "print latest_subdir"
     ],
     "language": "python",
     "metadata": {},
     "outputs": [
      {
       "output_type": "stream",
       "stream": "stdout",
       "text": [
        "C:\\Users\\FG\\Desktop\\PhD\\Research\\reddit\\devdata\n",
        "C:\\Users\\FG\\Desktop\\PhD\\Research\\reddit\\devdata\\Data_world8\n"
       ]
      }
     ],
     "prompt_number": 70
    },
    {
     "cell_type": "code",
     "collapsed": false,
     "input": [
      "# user oriented data structure\n",
      "# network  = {user_name:{username:[texts]}}\n",
      "network = dict()\n",
      "\n",
      "# testing variables\n",
      "post_count = 0\n",
      "user_count = 0"
     ],
     "language": "python",
     "metadata": {},
     "outputs": [],
     "prompt_number": 71
    },
    {
     "cell_type": "code",
     "collapsed": false,
     "input": [
      "# import XML parser\n",
      "import xml.etree.ElementTree as ET\n",
      "\n",
      "# walk directory\n",
      "for dir_name, subdir_list, file_list in os.walk(latest_subdir):\n",
      "    print \"working in \" + dir_name\n",
      "    \n",
      "    for file_name in file_list:\n",
      "        # open file\n",
      "        if (\"Thread\" in file_name) and (\".xml\" in file_name):\n",
      "#             print \"working on \" + dir_name + '/' + file_name\n",
      "            \n",
      "            # parse the file\n",
      "            tree = ET.parse(dir_name + '/' + file_name)\n",
      "            root = tree.getroot()\n",
      "            \n",
      "            # depth first traversal \n",
      "            for elem in root.iter():\n",
      "                # is this a node with comments?\n",
      "                comments = elem.find('Comments')\n",
      "                if comments != None:\n",
      "                    # if it is it should have a poster\n",
      "                    poster = elem.find('user').text.strip()\n",
      "                    # find the name of users that replied\n",
      "                    for comment in comments.findall('Comment'):\n",
      "                        post_count += 1\n",
      "                        commenter = comment.find('user').text.strip()\n",
      "                        comment_text = comment.find('body').text\n",
      "                        if comment_text == None:\n",
      "                            #if somehow the comment has no body, exit this loop\n",
      "                            break\n",
      "                        else:\n",
      "                            comment_text = comment_text.strip()\n",
      "                                \n",
      "                        #save these in the dictionary\n",
      "                        if poster not in network:\n",
      "                            # first time seing this user as poster. add him\n",
      "                            network[poster] = {commenter:[comment_text]}\n",
      "                        else:\n",
      "                            if commenter not in network[poster]:\n",
      "                                # first time this commenter is commenting on this user \n",
      "                                network[poster][commenter] = [comment_text]\n",
      "                            else:\n",
      "                                # add text to existing list\n",
      "                                network[poster][commenter] += [comment_text]\n",
      "        "
     ],
     "language": "python",
     "metadata": {},
     "outputs": [
      {
       "output_type": "stream",
       "stream": "stdout",
       "text": [
        "working in C:\\Users\\FG\\Desktop\\PhD\\Research\\reddit\\devdata\\Data_world8\n"
       ]
      }
     ],
     "prompt_number": 76
    },
    {
     "cell_type": "code",
     "collapsed": false,
     "input": [
      "#number of users in the network\n",
      "print len(network)"
     ],
     "language": "python",
     "metadata": {},
     "outputs": [
      {
       "output_type": "stream",
       "stream": "stdout",
       "text": [
        "18275\n"
       ]
      }
     ],
     "prompt_number": 77
    },
    {
     "cell_type": "code",
     "collapsed": false,
     "input": [
      "test = \"test \\n\"\n",
      "test.strip()\n",
      "print test"
     ],
     "language": "python",
     "metadata": {},
     "outputs": [
      {
       "output_type": "stream",
       "stream": "stdout",
       "text": [
        "test \n",
        "\n"
       ]
      }
     ],
     "prompt_number": 75
    }
   ],
   "metadata": {}
  }
 ]
}