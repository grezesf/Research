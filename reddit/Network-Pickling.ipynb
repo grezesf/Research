{
 "metadata": {
  "name": "",
  "signature": "sha256:0014165c50eccd2c79a7ea02f0a408abac8146c0b955d83e6ae3afdd7ad87590"
 },
 "nbformat": 3,
 "nbformat_minor": 0,
 "worksheets": [
  {
   "cells": [
    {
     "cell_type": "code",
     "collapsed": false,
     "input": [
      "# Network achitecture:\n",
      "# {user_name1 : {user_name2 : set(messages between) } }\n",
      "# Current relationship features: messages from 2->1\n"
     ],
     "language": "python",
     "metadata": {},
     "outputs": [],
     "prompt_number": 3
    },
    {
     "cell_type": "code",
     "collapsed": false,
     "input": [
      "# preambles\n",
      "import re\n",
      "\n",
      "# import custom functions\n",
      "import sys\n",
      "# windows path to tools\n",
      "tool_path = 'C:\\\\Users\\\\FG\\Desktop\\\\PhD\\\\Research\\\\reddit'\n",
      "if tool_path not in sys.path:\n",
      "    sys.path.append(tool_path)\n",
      "import reddit_tools as rt\n",
      "\n",
      "\n",
      "#Cats machine Data path\n",
      "# data_dir = '/home/denys/Research/PowerRelations/Reddit'\n",
      "\n",
      "#felix's local dev dir\n",
      "data_dir = 'C:\\\\Users\\\\FG\\\\Desktop\\\\PhD\\\\Research\\\\reddit\\\\Snapshot_data'\n",
      "print data_dir\n",
      "\n",
      "#open latest directory\n",
      "import os\n",
      "latest_subdir = max([os.path.join(data_dir,d) for d in os.listdir(data_dir)], key=os.path.getmtime)\n",
      "print latest_subdir\n",
      "\n"
     ],
     "language": "python",
     "metadata": {},
     "outputs": [
      {
       "output_type": "stream",
       "stream": "stdout",
       "text": [
        "C:\\Users\\FG\\Desktop\\PhD\\Research\\reddit\\Snapshot_data\n",
        "C:\\Users\\FG\\Desktop\\PhD\\Research\\reddit\\Snapshot_data\\Data_world2\n"
       ]
      }
     ],
     "prompt_number": 4
    },
    {
     "cell_type": "code",
     "collapsed": false,
     "input": [
      "network = rt.extract_network(data_dir)"
     ],
     "language": "python",
     "metadata": {},
     "outputs": [
      {
       "output_type": "stream",
       "stream": "stdout",
       "text": [
        "working in C:\\Users\\FG\\Desktop\\PhD\\Research\\reddit\\Snapshot_data\n",
        "working in C:\\Users\\FG\\Desktop\\PhD\\Research\\reddit\\Snapshot_data\\Data\n",
        "working in C:\\Users\\FG\\Desktop\\PhD\\Research\\reddit\\Snapshot_data\\Datatest"
       ]
      },
      {
       "output_type": "stream",
       "stream": "stdout",
       "text": [
        "\n",
        "working in C:\\Users\\FG\\Desktop\\PhD\\Research\\reddit\\Snapshot_data\\Data_new\n",
        "working in C:\\Users\\FG\\Desktop\\PhD\\Research\\reddit\\Snapshot_data\\Data_new2"
       ]
      },
      {
       "output_type": "stream",
       "stream": "stdout",
       "text": [
        "\n",
        "working in C:\\Users\\FG\\Desktop\\PhD\\Research\\reddit\\Snapshot_data\\Data_pol6"
       ]
      },
      {
       "output_type": "stream",
       "stream": "stdout",
       "text": [
        "\n",
        "working in C:\\Users\\FG\\Desktop\\PhD\\Research\\reddit\\Snapshot_data\\Data_pol7"
       ]
      },
      {
       "output_type": "stream",
       "stream": "stdout",
       "text": [
        "\n",
        "working in C:\\Users\\FG\\Desktop\\PhD\\Research\\reddit\\Snapshot_data\\Data_pol8"
       ]
      },
      {
       "output_type": "stream",
       "stream": "stdout",
       "text": [
        "\n",
        "working in C:\\Users\\FG\\Desktop\\PhD\\Research\\reddit\\Snapshot_data\\Data_pol_3"
       ]
      },
      {
       "output_type": "stream",
       "stream": "stdout",
       "text": [
        "\n",
        "working in C:\\Users\\FG\\Desktop\\PhD\\Research\\reddit\\Snapshot_data\\Data_pol_4"
       ]
      },
      {
       "output_type": "stream",
       "stream": "stdout",
       "text": [
        "\n",
        "working in C:\\Users\\FG\\Desktop\\PhD\\Research\\reddit\\Snapshot_data\\Data_world"
       ]
      },
      {
       "output_type": "stream",
       "stream": "stdout",
       "text": [
        "\n",
        "working in C:\\Users\\FG\\Desktop\\PhD\\Research\\reddit\\Snapshot_data\\Data_world2"
       ]
      },
      {
       "output_type": "stream",
       "stream": "stdout",
       "text": [
        "\n",
        "working in C:\\Users\\FG\\Desktop\\PhD\\Research\\reddit\\Snapshot_data\\Data_world3"
       ]
      },
      {
       "output_type": "stream",
       "stream": "stdout",
       "text": [
        "\n",
        "working in C:\\Users\\FG\\Desktop\\PhD\\Research\\reddit\\Snapshot_data\\Data_world4"
       ]
      },
      {
       "output_type": "stream",
       "stream": "stdout",
       "text": [
        "\n",
        "working in C:\\Users\\FG\\Desktop\\PhD\\Research\\reddit\\Snapshot_data\\Data_world5"
       ]
      },
      {
       "output_type": "stream",
       "stream": "stdout",
       "text": [
        "\n",
        "working in C:\\Users\\FG\\Desktop\\PhD\\Research\\reddit\\Snapshot_data\\Data_world6"
       ]
      },
      {
       "output_type": "stream",
       "stream": "stdout",
       "text": [
        "\n",
        "working in C:\\Users\\FG\\Desktop\\PhD\\Research\\reddit\\Snapshot_data\\Data_world7"
       ]
      },
      {
       "output_type": "stream",
       "stream": "stdout",
       "text": [
        "\n",
        "working in C:\\Users\\FG\\Desktop\\PhD\\Research\\reddit\\Snapshot_data\\Data_world8"
       ]
      },
      {
       "output_type": "stream",
       "stream": "stdout",
       "text": [
        "\n"
       ]
      }
     ],
     "prompt_number": 5
    },
    {
     "cell_type": "code",
     "collapsed": false,
     "input": [
      "#number of users in the network\n",
      "print len(network)"
     ],
     "language": "python",
     "metadata": {},
     "outputs": [
      {
       "output_type": "stream",
       "stream": "stdout",
       "text": [
        "85495\n"
       ]
      }
     ],
     "prompt_number": 6
    },
    {
     "cell_type": "code",
     "collapsed": false,
     "input": [
      "#look at first few\n",
      "for user in network.keys()[:3]:\n",
      "    print user, network[user]"
     ],
     "language": "python",
     "metadata": {},
     "outputs": [
      {
       "output_type": "stream",
       "stream": "stdout",
       "text": [
        "HirsutePursuit46 {'FrugalNinja': set(['If someone is breathing on their own with various other proofs they possess brain functionality they should be kept alive via feeding tube. If someone shows utter brain death i.e not able to breathe on their own, no brain wave activity - they should be removed from the machine keeping them falsely alive.\\n\\nAnd no its not okay to sit back and watch someone suffer but killing them is not the answer.'])}\n",
        "grad97 {'herticalt': set([\"They're not concerned about people's eating habits it's about pushing their religious beliefs onto others. The ruling party BJP are Hindu nationalists, have connections to Hindu extremist organizations, and have been implicated in connection to religious violence on a number of occasions. To include the destruction of [the famous Babri Mosque](http://en.wikipedia.org/wiki/Ayodhya_dispute#Demolition_of_the_Babri_Mosque).\"])}\n",
        "xa_6ja {'Skellum': set(['Time for some dominant possessive fucking. Shit...does this mean Atlas Shrugged is a better S&amp;M book than 50 shades of grey?'])}\n"
       ]
      }
     ],
     "prompt_number": 7
    },
    {
     "cell_type": "code",
     "collapsed": false,
     "input": [
      "# small test network\n",
      "test_network = {'user_A':{'user_A':set([5,6]), 'user_B':set([1]), 'user_C':set([4])}, 'user_B':{'user_A':set([2])}, 'user_C':{'user_A':set([3])} }\n",
      "print test_network\n",
      "sym_test_network = rt.symmetrize_network(test_network)\n",
      "print test_network\n",
      "print sym_test_network"
     ],
     "language": "python",
     "metadata": {},
     "outputs": [
      {
       "output_type": "stream",
       "stream": "stdout",
       "text": [
        "{'user_B': {'user_A': set([2])}, 'user_C': {'user_A': set([3])}, 'user_A': {'user_B': set([1]), 'user_C': set([4]), 'user_A': set([5, 6])}}\n",
        "{'user_B': {'user_A': set([2])}, 'user_C': {'user_A': set([3])}, 'user_A': {'user_B': set([1]), 'user_C': set([4]), 'user_A': set([5, 6])}}\n",
        "{'user_B': {'user_A': set([1, 2])}, 'user_C': {'user_A': set([3, 4])}, 'user_A': {'user_B': set([1, 2]), 'user_C': set([3, 4]), 'user_A': set([5, 6])}}\n"
       ]
      }
     ],
     "prompt_number": 8
    },
    {
     "cell_type": "code",
     "collapsed": false,
     "input": [
      "# sanity check\n",
      "sym_network = rt.symmetrize_network(network)\n",
      "print sym_network['xanadu_reloaded']['whiskeycommander']\n",
      "print sym_network['whiskeycommander']['xanadu_reloaded']"
     ],
     "language": "python",
     "metadata": {},
     "outputs": [
      {
       "output_type": "stream",
       "stream": "stdout",
       "text": [
        "set([\"Partition Syria. That's the only way to solve this crisis. One half goes to Assad, the other goes to whoever the opposition is. The fucked up part about it? The side that Assad keeps will probably be the more stable of the two.\"])\n",
        "set([\"Partition Syria. That's the only way to solve this crisis. One half goes to Assad, the other goes to whoever the opposition is. The fucked up part about it? The side that Assad keeps will probably be the more stable of the two.\"])\n"
       ]
      }
     ],
     "prompt_number": 9
    },
    {
     "cell_type": "code",
     "collapsed": false,
     "input": [
      "# number of user/node in complete network\n",
      "print \"number of users: \", len(sym_network)"
     ],
     "language": "python",
     "metadata": {},
     "outputs": [
      {
       "output_type": "stream",
       "stream": "stdout",
       "text": [
        "number of users:  136173\n"
       ]
      }
     ],
     "prompt_number": 10
    },
    {
     "cell_type": "code",
     "collapsed": false,
     "input": [
      "#save network in pickled form\n",
      "import cPickle as pickle\n",
      "\n",
      "# name and location to save in\n",
      "pickle_name = data_dir.split(os.sep)[-1]+ \"_network.pckl\"\n",
      "pickle_dir = os.sep.join(latest_subdir.split(os.sep)[:-2]) + os.sep + \"Pickled Data\"\n",
      "pickle.dump( sym_network, open( pickle_dir + os.sep + pickle_name, \"wb\") )\n",
      "print \"saved network in \", pickle_dir + '\\\\' + pickle_name"
     ],
     "language": "python",
     "metadata": {},
     "outputs": [
      {
       "output_type": "stream",
       "stream": "stdout",
       "text": [
        "saved network in  C:\\Users\\FG\\Desktop\\PhD\\Research\\reddit\\Pickled Data\\Snapshot_data_network.pckl\n"
       ]
      }
     ],
     "prompt_number": 11
    },
    {
     "cell_type": "code",
     "collapsed": false,
     "input": [
      "# reload pickled file for testing\n",
      "new_sym_network = pickle.load( open(pickle_dir + os.sep + pickle_name, \"rb\") )\n",
      "print \"loaded network from \", pickle_dir + os.sep + pickle_name"
     ],
     "language": "python",
     "metadata": {},
     "outputs": [
      {
       "output_type": "stream",
       "stream": "stdout",
       "text": [
        "loaded network from  C:\\Users\\FG\\Desktop\\PhD\\Research\\reddit\\Pickled Data\\Snapshot_data_network.pckl\n"
       ]
      }
     ],
     "prompt_number": 12
    },
    {
     "cell_type": "code",
     "collapsed": false,
     "input": [
      "# number of user/node in complete network\n",
      "print \"number of users: \", len(new_sym_network)"
     ],
     "language": "python",
     "metadata": {},
     "outputs": [
      {
       "output_type": "stream",
       "stream": "stdout",
       "text": [
        "number of users:  136173\n"
       ]
      }
     ],
     "prompt_number": 13
    },
    {
     "cell_type": "code",
     "collapsed": false,
     "input": [],
     "language": "python",
     "metadata": {},
     "outputs": [],
     "prompt_number": 13
    },
    {
     "cell_type": "code",
     "collapsed": false,
     "input": [
      "# ### Deprecated (moved to reddit tools)\n",
      "# # user oriented data structure\n",
      "# # network  = {user_name:{username:set(messages) }}\n",
      "# network = dict()\n",
      "\n",
      "# # testing variables\n",
      "# post_count = 0\n",
      "# deleted_post_count = 0\n",
      "\n",
      "# # import XML parser\n",
      "# import xml.etree.ElementTree as ET\n",
      "\n",
      "# # walk directory\n",
      "# for dir_name, subdir_list, file_list in os.walk(latest_subdir):\n",
      "#     print \"working in \" + dir_name\n",
      "    \n",
      "#     for file_name in file_list:\n",
      "#         # open file\n",
      "#         if (\"Thread\" in file_name) and (\".xml\" in file_name):\n",
      "# #             print \"working on \" + dir_name + '/' + file_name\n",
      "            \n",
      "#             # parse the file\n",
      "#             tree = ET.parse(dir_name + '/' + file_name)\n",
      "#             root = tree.getroot()\n",
      "            \n",
      "#             # depth first traversal \n",
      "#             for elem in root.iter():\n",
      "#                 # is this a node with comments?\n",
      "#                 comments = elem.find('Comments')\n",
      "#                 if comments != None:\n",
      "#                     # if it is it should have a poster\n",
      "#                     poster = elem.find('user').text.strip()\n",
      "#                     # find the name of users that replied\n",
      "#                     for comment in comments.findall('Comment'):\n",
      "#                         post_count += 1\n",
      "#                         commenter = comment.find('user').text.strip()\n",
      "#                         comment_text = comment.find('body').text\n",
      "#                         if comment_text == None:\n",
      "#                             #if somehow the comment has no body, exit this loop\n",
      "#                             deleted_post_count += 1\n",
      "#                             break\n",
      "                        \n",
      "                                \n",
      "#                         #save these in the dictionary\n",
      "#                         if poster not in network:\n",
      "#                             # first time seing this user as poster. add him\n",
      "#                             network[poster] = {commenter: set([comment_text.strip()]) }\n",
      "#                         else:\n",
      "#                             if commenter not in network[poster]:\n",
      "#                                 # first time this commenter is commenting on this user \n",
      "#                                 network[poster][commenter] = set([comment_text.strip()])\n",
      "#                             else:\n",
      "#                                 # add text to existing list\n",
      "#                                 network[poster][commenter] = network[poster][commenter] | set([comment_text.strip()])\n",
      "        "
     ],
     "language": "python",
     "metadata": {},
     "outputs": [],
     "prompt_number": 14
    },
    {
     "cell_type": "code",
     "collapsed": false,
     "input": [
      "### Deprecated (moved to reddit_tools.py)\n",
      "\n",
      "# #symmetrize network\n",
      "# def symmetrize_network(network):\n",
      "#     # given a network of the form {user_name1 : {user_name2 : {relationship features} } }\n",
      "#     # returns a symmetrical version of that network\n",
      "    \n",
      "#     import copy\n",
      "#     sym_network = copy.deepcopy(network)\n",
      "    \n",
      "#     #go through network\n",
      "#     for user_A in network.keys():\n",
      "#         for user_B in network[user_A].keys():\n",
      "#             msgs = network[user_A][user_B]\n",
      "            \n",
      "#             if user_B not in sym_network:\n",
      "#                 sym_network[user_B] = {user_A:msgs}\n",
      "#             elif user_A not in sym_network[user_B]:\n",
      "#                 sym_network[user_B][user_A] =  msgs\n",
      "#             else:\n",
      "#                 sym_network[user_B][user_A] = sym_network[user_B][user_A] | msgs\n",
      "    \n",
      "    \n",
      "#     return sym_network\n"
     ],
     "language": "python",
     "metadata": {},
     "outputs": [],
     "prompt_number": 15
    }
   ],
   "metadata": {}
  }
 ]
}