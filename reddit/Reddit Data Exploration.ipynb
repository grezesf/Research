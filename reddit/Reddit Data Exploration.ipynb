{
 "metadata": {
  "name": "",
  "signature": "sha256:c51aece37d32570b7b5c523ea7a6e18f37db069d47ea5577eb241e157fa204e3"
 },
 "nbformat": 3,
 "nbformat_minor": 0,
 "worksheets": [
  {
   "cells": [
    {
     "cell_type": "markdown",
     "metadata": {},
     "source": [
      "Reddit Data Exploration"
     ]
    },
    {
     "cell_type": "code",
     "collapsed": false,
     "input": [
      "# preambles\n",
      "import re\n",
      "\n",
      "#Data path\n",
      "data_dir = '/home/denys/Research/PowerRelations/Reddit'\n",
      "# print data_dir\n",
      "\n",
      "#open latest directory\n",
      "import os\n",
      "latest_subdir = max([os.path.join(data_dir,d) for d in os.listdir(data_dir)], key=os.path.getmtime)\n",
      "print latest_subdir"
     ],
     "language": "python",
     "metadata": {},
     "outputs": [
      {
       "output_type": "stream",
       "stream": "stdout",
       "text": [
        "/home/denys/Research/PowerRelations/Reddit/Data_pol8\n"
       ]
      }
     ],
     "prompt_number": 1
    },
    {
     "cell_type": "code",
     "collapsed": false,
     "input": [
      "# user oriented data structure\n",
      "# user_list  = {user_name:{thread_name:msg_count}}\n",
      "user_list = dict()\n",
      "\n",
      "# thread oriented data structure\n",
      "# thread list = {thread_name:{user_name:msg_count}}\n",
      "thread_list = dict()"
     ],
     "language": "python",
     "metadata": {},
     "outputs": [],
     "prompt_number": 2
    },
    {
     "cell_type": "code",
     "collapsed": false,
     "input": [
      "# walk directory\n",
      "for dir_name, subdir_list, file_list in os.walk(latest_subdir):\n",
      "    print \"working in \" + dir_name\n",
      "    for file_name in file_list:\n",
      "        # open file\n",
      "        if (\"Thread\" in file_name) and (\".xml\" in file_name):\n",
      "            # print \"working on \" + dir_name + '/' + file_name\n",
      "            \n",
      "            #parse file\n",
      "            with open(dir_name + '/' + file_name, 'r') as open_file:\n",
      "                for line in open_file:\n",
      "                             \n",
      "                    #look at lines with user names using regexp\n",
      "                    match_obj = re.match(r'\\s*<user>(.*)</user>\\n', line)\n",
      "\n",
      "                    if match_obj:\n",
      "                        # user tag found\n",
      "                        # work on user oriented data\n",
      "                        if match_obj.group(1) not in user_list:\n",
      "                            # first time seeing this user\n",
      "                            user_list[match_obj.group(1)] = {file_name:1}\n",
      "                        else:\n",
      "                            if file_name not in user_list[match_obj.group(1)]:\n",
      "                                # first time seeing this user in this thread\n",
      "                                user_list[match_obj.group(1)][file_name] = 1\n",
      "                            else:\n",
      "                                #user has multiple posts in this thread\n",
      "                                user_list[match_obj.group(1)][file_name] += 1\n",
      "                        \n",
      "                        #work on thread oriented data\n",
      "                        if file_name not in thread_list:\n",
      "                            # first time in thread\n",
      "                            thread_list[file_name] = {match_obj.group(1):1}\n",
      "                        else:\n",
      "                            if match_obj.group(1) not in thread_list[file_name]:\n",
      "                                #first time seeing user in this thread\n",
      "                                thread_list[file_name][match_obj.group(1)] = 1\n",
      "                            else:\n",
      "                                #user has multiple posts in this thread\n",
      "                                thread_list[file_name][match_obj.group(1)] += 1"
     ],
     "language": "python",
     "metadata": {},
     "outputs": [
      {
       "output_type": "stream",
       "stream": "stdout",
       "text": [
        "working in /home/denys/Research/PowerRelations/Reddit/Data_pol8\n"
       ]
      }
     ],
     "prompt_number": 3
    },
    {
     "cell_type": "code",
     "collapsed": false,
     "input": [
      "print \"number of users: \", len(user_list)\n",
      "print \"number of thread: \", len(thread_list)"
     ],
     "language": "python",
     "metadata": {},
     "outputs": [
      {
       "output_type": "stream",
       "stream": "stdout",
       "text": [
        "number of users:  14061\n",
        "number of thread:  2794\n"
       ]
      }
     ],
     "prompt_number": 4
    },
    {
     "cell_type": "code",
     "collapsed": false,
     "input": [
      "for user in user_list.keys()[:10]:\n",
      "    print user, user_list[user]\n",
      "\n",
      "print \n",
      "\n",
      "for thread in thread_list.keys()[:2]:\n",
      "    print thread, thread_list[thread]"
     ],
     "language": "python",
     "metadata": {},
     "outputs": [
      {
       "output_type": "stream",
       "stream": "stdout",
       "text": [
        "Metaphoricalsimile {'Thread_2054.xml': 1}\n",
        "jacklocke2342 {'Thread_4.xml': 1}\n",
        "asdfriend {'Thread_683.xml': 2}\n",
        "winduken {'Thread_2425.xml': 1}\n",
        "BroncosFFL {'Thread_1567.xml': 1}\n",
        "mvs5191 {'Thread_1536.xml': 1, 'Thread_602.xml': 1, 'Thread_1545.xml': 1, 'Thread_1484.xml': 1}\n",
        "snakeyed {'Thread_1209.xml': 1}\n",
        "Sparkykc124 {'Thread_573.xml': 1, 'Thread_2481.xml': 1, 'Thread_1971.xml': 1, 'Thread_735.xml': 2, 'Thread_541.xml': 2}\n",
        "gaqua {'Thread_497.xml': 2}\n",
        "AngryPeon1 {'Thread_349.xml': 1}\n",
        "\n",
        "Thread_123.xml {'madam1': 1}\n",
        "Thread_1658.xml {'DBDude': 1, 'cd411': 1, 'Xenophore': 1}\n"
       ]
      }
     ],
     "prompt_number": 5
    },
    {
     "cell_type": "code",
     "collapsed": false,
     "input": [
      "# sanity check\n",
      "# total number of posts\n",
      "sum = 0\n",
      "for user in user_list.keys():\n",
      "    for thread in user_list[user].keys():\n",
      "        sum += user_list[user][thread] \n",
      "print sum \n",
      "\n",
      "sum = 0\n",
      "for thread in thread_list.keys():\n",
      "    for user in thread_list[thread].keys():\n",
      "        sum += thread_list[thread][user]\n",
      "print sum    \n"
     ],
     "language": "python",
     "metadata": {},
     "outputs": [
      {
       "output_type": "stream",
       "stream": "stdout",
       "text": [
        "53077\n",
        "53077\n"
       ]
      }
     ],
     "prompt_number": 6
    },
    {
     "cell_type": "code",
     "collapsed": false,
     "input": [
      "import matplotlib.pyplot as plt\n",
      "%matplotlib inline"
     ],
     "language": "python",
     "metadata": {},
     "outputs": [],
     "prompt_number": 7
    },
    {
     "cell_type": "code",
     "collapsed": false,
     "input": [
      "# plot the number of people posting in n threads\n",
      "\n",
      "#find max length\n",
      "max_len = 0\n",
      "for user in user_list.keys():\n",
      "    max_len = max(len(user_list[user]), max_len, 0)\n",
      "print \"the largest number of threads a user has posted in is: \", max_len\n",
      "\n",
      "# set initial counts to 0\n",
      "counts_1 = [0] * (max_len+1)\n",
      "\n",
      "# aggregate counts\n",
      "for user in user_list.keys():\n",
      "    # increment count\n",
      "    counts_1[len(user_list[user])] += 1\n",
      "\n",
      "# plot relevant results\n",
      "max_x = 20\n",
      "plt.bar(range(max_len+1)[:max_x], counts_1[:max_x], align='center')\n",
      "plt.xlim(0,max_x)\n",
      "plt.show()"
     ],
     "language": "python",
     "metadata": {},
     "outputs": [
      {
       "output_type": "stream",
       "stream": "stdout",
       "text": [
        "the largest number of threads a user has posted in is:  170\n"
       ]
      },
      {
       "metadata": {},
       "output_type": "display_data",
       "png": "[encoded data removed]",
       "text": [
        "<matplotlib.figure.Figure at 0x7f1f29dc1690>"
       ]
      }
     ],
     "prompt_number": 8
    },
    {
     "cell_type": "code",
     "collapsed": false,
     "input": [
      "#count of how many posts per user per thread\n",
      "\n",
      "# find max posts by a single user in a thread\n",
      "max_count = 0\n",
      "for user in user_list.keys():\n",
      "    for thread in user_list[user].keys():\n",
      "        max_count = max(max_count, user_list[user][thread])\n",
      "print \"max posts by a single user in a thread: \", max_count\n",
      "\n",
      "# initialize\n",
      "counts_2 = [0]*(max_count+1)\n",
      "\n",
      "for user in user_list.keys():\n",
      "    for thread in user_list[user].keys():\n",
      "        counts_2[user_list[user][thread]] += 1\n",
      "\n",
      "# plot relevant results\n",
      "max_x = 20\n",
      "plt.bar(range(max_len+1)[:max_x], counts_2[:max_x], align='center')\n",
      "plt.xlim(0,max_x)\n",
      "plt.show()\n",
      "\n",
      "print \"first 20 values: \",counts_2[:20]"
     ],
     "language": "python",
     "metadata": {},
     "outputs": [
      {
       "output_type": "stream",
       "stream": "stdout",
       "text": [
        "max posts by a single user in a thread:  29\n"
       ]
      },
      {
       "metadata": {},
       "output_type": "display_data",
       "png": "[encoded data removed]",
       "text": [
        "<matplotlib.figure.Figure at 0x7f1f29ce76d0>"
       ]
      },
      {
       "output_type": "stream",
       "stream": "stdout",
       "text": [
        "first 20 values:  [0, 28668, 4937, 1634, 705, 365, 237, 112, 70, 56, 35, 26, 10, 14, 9, 10, 6, 9, 0, 4]\n"
       ]
      }
     ],
     "prompt_number": 9
    },
    {
     "cell_type": "code",
     "collapsed": false,
     "input": [
      "# number of messages per thread\n",
      "counts_3 = dict()\n",
      "\n",
      "for user in user_list.keys():\n",
      "    for thread in user_list[user].keys():\n",
      "        if thread not in counts_3:\n",
      "            counts_3[thread] = user_list[user][thread]\n",
      "        else:\n",
      "            counts_3[thread] += user_list[user][thread]\n",
      "            \n",
      "#  plot relevant results\n",
      "counts_3_list = sorted(counts_3.values(), reverse=True)\n",
      "plt.bar(range(len(counts_3_list)), counts_3_list, align='center')\n",
      "plt.xlim(-0.5,len(counts_3_list)+1)\n",
      "plt.show()"
     ],
     "language": "python",
     "metadata": {},
     "outputs": [
      {
       "metadata": {},
       "output_type": "display_data",
       "png": "[encoded data removed]",
       "text": [
        "<matplotlib.figure.Figure at 0x7f1f29c95c50>"
       ]
      }
     ],
     "prompt_number": 10
    },
    {
     "cell_type": "code",
     "collapsed": false,
     "input": [
      "# how many users per thread\n",
      "max_users = 0\n",
      "for thread in thread_list.keys():\n",
      "    max_users = max(max_users, len(thread_list[thread]))\n",
      "print \"Max number of users in a thread: \", max_users\n",
      "\n",
      "counts_4 = sorted([len(thread_list[x]) for x in thread_list.keys()], reverse=True)\n",
      "#  plot relevant results\n",
      "plt.bar(range(len(counts_4)), counts_4, align='center')\n",
      "plt.xlim(-0.5,len(counts_4)+1)\n",
      "plt.show()\n"
     ],
     "language": "python",
     "metadata": {},
     "outputs": [
      {
       "output_type": "stream",
       "stream": "stdout",
       "text": [
        "Max number of users in a thread:  190\n"
       ]
      },
      {
       "metadata": {},
       "output_type": "display_data",
       "png": "[encoded data removed]",
       "text": [
        "<matplotlib.figure.Figure at 0x7f1f299138d0>"
       ]
      }
     ],
     "prompt_number": 13
    }
   ],
   "metadata": {}
  }
 ]
}