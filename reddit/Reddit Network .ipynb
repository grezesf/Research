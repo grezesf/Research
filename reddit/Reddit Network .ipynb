{
 "metadata": {
  "name": "",
  "signature": "sha256:9c4fd4ff662e520f92ef8204b4b4d555c2afcf07cbdc7e656f0e47c0a620ca3d"
 },
 "nbformat": 3,
 "nbformat_minor": 0,
 "worksheets": [
  {
   "cells": [
    {
     "cell_type": "raw",
     "metadata": {},
     "source": [
      "Network achitecture:\n",
      "{user_name1 : {user_name2 : {relationship features} } }\n",
      "Current relationship features: messages from 2->1\n"
     ]
    },
    {
     "cell_type": "code",
     "collapsed": false,
     "input": [
      "# preambles\n",
      "import re\n",
      "\n",
      "#Cats machine Data path\n",
      "data_dir = '/home/denys/Research/PowerRelations/Reddit'\n",
      "\n",
      "#felix's local dev dir\n",
      "data_dir = 'C:\\\\Users\\\\FG\\\\Desktop\\\\PhD\\\\Research\\\\reddit\\\\devdata'\n",
      "print data_dir\n",
      "\n",
      "#open latest directory\n",
      "import os\n",
      "latest_subdir = max([os.path.join(data_dir,d) for d in os.listdir(data_dir)], key=os.path.getmtime)\n",
      "print latest_subdir"
     ],
     "language": "python",
     "metadata": {},
     "outputs": [
      {
       "output_type": "stream",
       "stream": "stdout",
       "text": [
        "C:\\Users\\FG\\Desktop\\PhD\\Research\\reddit\\devdata\n",
        "C:\\Users\\FG\\Desktop\\PhD\\Research\\reddit\\devdata\\Data_world8\n"
       ]
      }
     ],
     "prompt_number": 21
    },
    {
     "cell_type": "code",
     "collapsed": false,
     "input": [
      "# user oriented data structure\n",
      "# network  = {user_name:{username:[texts]}}\n",
      "network = dict()\n",
      "\n",
      "# testing variables\n",
      "post_count = 0\n",
      "deleted_post_count = 0"
     ],
     "language": "python",
     "metadata": {},
     "outputs": [],
     "prompt_number": 22
    },
    {
     "cell_type": "code",
     "collapsed": false,
     "input": [
      "# import XML parser\n",
      "import xml.etree.ElementTree as ET\n",
      "\n",
      "# walk directory\n",
      "for dir_name, subdir_list, file_list in os.walk(latest_subdir):\n",
      "    print \"working in \" + dir_name\n",
      "    \n",
      "    for file_name in file_list:\n",
      "        # open file\n",
      "        if (\"Thread\" in file_name) and (\".xml\" in file_name):\n",
      "#             print \"working on \" + dir_name + '/' + file_name\n",
      "            \n",
      "            # parse the file\n",
      "            tree = ET.parse(dir_name + '/' + file_name)\n",
      "            root = tree.getroot()\n",
      "            \n",
      "            # depth first traversal \n",
      "            for elem in root.iter():\n",
      "                # is this a node with comments?\n",
      "                comments = elem.find('Comments')\n",
      "                if comments != None:\n",
      "                    # if it is it should have a poster\n",
      "                    poster = elem.find('user').text.strip()\n",
      "                    # find the name of users that replied\n",
      "                    for comment in comments.findall('Comment'):\n",
      "                        post_count += 1\n",
      "                        commenter = comment.find('user').text.strip()\n",
      "                        comment_text = comment.find('body').text\n",
      "                        if comment_text == None:\n",
      "                            #if somehow the comment has no body, exit this loop\n",
      "                            deleted_post_count += 1\n",
      "                            break\n",
      "                        \n",
      "                                \n",
      "                        #save these in the dictionary\n",
      "                        if poster not in network:\n",
      "                            # first time seing this user as poster. add him\n",
      "                            network[poster] = {commenter:[comment_text.strip()]}\n",
      "                        else:\n",
      "                            if commenter not in network[poster]:\n",
      "                                # first time this commenter is commenting on this user \n",
      "                                network[poster][commenter] = [comment_text.strip()]\n",
      "                            else:\n",
      "                                # add text to existing list\n",
      "                                if comment_text.strip() not in network[poster][commenter]:\n",
      "                                    network[poster][commenter] += [comment_text.strip()]\n",
      "        "
     ],
     "language": "python",
     "metadata": {},
     "outputs": [
      {
       "output_type": "stream",
       "stream": "stdout",
       "text": [
        "working in C:\\Users\\FG\\Desktop\\PhD\\Research\\reddit\\devdata\\Data_world8\n"
       ]
      }
     ],
     "prompt_number": 23
    },
    {
     "cell_type": "code",
     "collapsed": false,
     "input": [
      "#number of users in the network\n",
      "print len(network)\n",
      "print post_count, deleted_post_count"
     ],
     "language": "python",
     "metadata": {},
     "outputs": [
      {
       "output_type": "stream",
       "stream": "stdout",
       "text": [
        "18275\n",
        "94572 2\n"
       ]
      }
     ],
     "prompt_number": 24
    },
    {
     "cell_type": "code",
     "collapsed": false,
     "input": [
      "for user in network.keys()[:10]:\n",
      "    print user, network[user]"
     ],
     "language": "python",
     "metadata": {},
     "outputs": [
      {
       "output_type": "stream",
       "stream": "stdout",
       "text": [
        "FieelChannel {'Vandbg': [\"Probably suicide I'd guess. It's happened before (see SilkAir 185 and Pacific 773)\"], 'Immortal_Wombat': [\"When the Abu Ghraib abuse scandal hit the news a number of pictures weren't released to the public.\\n\\n[Lynndie England](http://upload.wikimedia.org/wikipedia/commons/9/93/AG-10B.JPG) apparently appears in various explicit sex acts.\"]}\n",
        "lynzee {'KuriTokyo': ['The new slogan is \"Yeah, It\\'s alright.\"\\n\\nThe Alright Barrier Reef.']}\n",
        "Metaphoricalsimile {'orru': ['How the fuck is not wanting your country to go to war anti- your country?']}\n",
        "stevenlu2 {'Ameisen': ['&gt; Since when is \"taking greater hit\" considered more contribution? Did the French contribute more than the Americans and British in WW2?\\n\\n* French Military Casualties: 200,000\\n* British Military Casualties: 383,800\\n* American Military Casualties: 407,000\\n* Soviet Military Casualties: 8,700,000\\n\\n* Nationalist Military Casualties: 3,200,000\\n* Communist Military Casualties: 580,000\\n\\nThose numbers are from the official *PRC* register. The official *ROC* (Taiwanese) register states that 3,238,000 Nationalist soldiers were killed.\\n\\n&gt; the New Fourth Army Incident is when KMT ambushed and destroyed the whole CCP New Fourth Army, that\\'s only contrary to your ideas.\\n\\nIf you want to follow the PRC\\'s version of events, sure. According to the ROC, the NFA attacked the Nationalists first. Even Benton\\'s version of events suggest that even if the ROC attacked first and if the incident was a counterattack, it was because Chen Yi\\'s forces were harassing Nationalist forces in the first place.', \"&gt; Before the war ended, Communist China controlled an area of 1200 thousand square km, a population of 100 million, with nearly 1 million troops\\n\\nI'm curious how you think this supports your viewpoint, especially since a substantial amount of that territory was, before the war, Nationalist territory.\\n\\nDuring the war, there were *numerous* instances of the CCP actually raiding KMT armies which were fighting the Japanese.\"], 'PandaBearShenyu': ['China overtook U.S. Several years ago.'], 'Seriouslybrochill': ['Herp'], 'M4dx': [\"According to [this](https://yearbook.enerdata.net/), after 2008 China's energy consumption has been bigger than US energy consumption.\"], 'victorjds': [\"This hasn't been true for the last couple of years.\"], 'happyscrappy': ['No. China is. They build a coal plant every week right now.']}\n",
        "slayer828 {'WrongPeninsula': ['Check out /r/vxjunkies for a humorous take on exactly this.']}\n",
        "PointAndClick {'ComicSonic': [\"Yemen is about as far from Iraq as Libya is..  and guess what, there are ISIS members in Libya.    All they need is a black flag, some white paint and an AK-47 to declare their allegiance, whatever country they are in.  I don't imagine for one second that IS members walked from Iraq or Syria to Libya or Yemen, more likely they are locals that have declared themselves part of IS.  \\n\\nI suspect that's why ISIS / ISIL re-branded themselves IS as well, to remove the geographical boundaries to their proposed caliphate.\"], 'Morgaith': [\"Are you telling me if these three groups meet they won't kill the Shia Muslims or any other innocent people for that matter? All those groups are terrorists and have the same objective and ideology.\", \"I meant the Saudi's.\"], 'DementedProphet': ['I bet there are recruiters. There are ISIS recruiters in a *lot* of places.'], 'Wakata': ['wtf self-identified \"ISIS Sanaa Province\" bombed two Yemeni mosques the other day, killing more than 130 Shia, and you\\'re claiming no ISIS in Yemen  ffs']}\n",
        "Rraymond123 {'Jocavo': ['The original red alert is freeware. I think its called openRA, best part is, iirc is that its optimized for use on 64 bit operating systems']}\n",
        "simkessy {'akpenguin': ['\"The Secret Diary of a Satanic Orgy Participant\"']}\n",
        "xrmrct45 {'muslim859': ['Yeah among the youth.\\nThe old guys are normally arab nationalists.']}\n",
        "grad97 {'herticalt': [\"They're not concerned about people's eating habits it's about pushing their religious beliefs onto others. The ruling party BJP are Hindu nationalists, have connections to Hindu extremist organizations, and have been implicated in connection to religious violence on a number of occasions. To include the destruction of [the famous Babri Mosque](http://en.wikipedia.org/wiki/Ayodhya_dispute#Demolition_of_the_Babri_Mosque).\"]}\n"
       ]
      }
     ],
     "prompt_number": 25
    }
   ],
   "metadata": {}
  }
 ]
}