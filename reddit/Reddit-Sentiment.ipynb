{
 "metadata": {
  "name": "",
  "signature": "sha256:f9298644260662d8d603aa5f50dc49611dc28da11646a1482c30ed2445b39dfe"
 },
 "nbformat": 3,
 "nbformat_minor": 0,
 "worksheets": [
  {
   "cells": [
    {
     "cell_type": "raw",
     "metadata": {},
     "source": [
      "use OpinionFinder to classify interactions"
     ]
    },
    {
     "cell_type": "code",
     "collapsed": false,
     "input": [
      "# preambles\n",
      "import networkx as nx\n",
      "import cPickle as pickle\n",
      "import os\n",
      "\n",
      "# load pickled network file\n",
      "pickle_name = 'Data_world8_network.pckl'\n",
      "pickle_dir = 'C:\\\\Users\\\\FG\\\\Desktop\\\\PhD\\\\Research\\\\reddit\\\\Pickled Data'\n",
      "reddit_network = pickle.load( open(pickle_dir + os.sep + pickle_name, \"rb\") )\n",
      "print \"loaded reddit network from \", pickle_dir + os.sep + pickle_name"
     ],
     "language": "python",
     "metadata": {},
     "outputs": [
      {
       "output_type": "stream",
       "stream": "stdout",
       "text": [
        "loaded reddit network from  C:\\Users\\FG\\Desktop\\PhD\\Research\\reddit\\Pickled Data\\Data_world8_network.pckl\n"
       ]
      }
     ],
     "prompt_number": 21
    },
    {
     "cell_type": "code",
     "collapsed": false,
     "input": [
      "# save first interaction\n",
      "for userA in reddit_network.keys():\n",
      "    for userB in reddit_network[userA]:\n",
      "        print userA, userB, reddit_network[userA][userB]\n",
      "        break\n",
      "    break"
     ],
     "language": "python",
     "metadata": {},
     "outputs": [
      {
       "output_type": "stream",
       "stream": "stdout",
       "text": [
        "grad97 herticalt set([\"They're not concerned about people's eating habits it's about pushing their religious beliefs onto others. The ruling party BJP are Hindu nationalists, have connections to Hindu extremist organizations, and have been implicated in connection to religious violence on a number of occasions. To include the destruction of [the famous Babri Mosque](http://en.wikipedia.org/wiki/Ayodhya_dispute#Demolition_of_the_Babri_Mosque).\"])\n"
       ]
      }
     ],
     "prompt_number": 28
    },
    {
     "cell_type": "code",
     "collapsed": false,
     "input": [
      "# !cd opinionfinderv2.0\\\n",
      "!java -classpath opinionfinderv2.0\\lib\\weka.jar;opinionfinderv2.0\\lib\\stanford-postagger.jar;opinionfinderv2.0\\opinionfinder.jar opin.main.RunOpinionFinder opinionfinderv2.0\\README.txt -m opinionfinderv2.0\\models -l  opinionfinderv2.0\\lexicons"
     ],
     "language": "python",
     "metadata": {},
     "outputs": [
      {
       "output_type": "stream",
       "stream": "stdout",
       "text": [
        "preprocessor: processing opinionfinderv2.0\\README.txt\n",
        "cluefinder: processing opinionfinderv2.0\\README.txt\n",
        "rulebased: processing opinionfinderv2.0\\README.txt\n",
        "subjclassifier: processing opinionfinderv2.0\\README.txt\n",
        "polarityclassifier: processing opinionfinderv2.0\\README.txt\n",
        "SGMLOutput: processing opinionfinderv2.0\\README.txt\n"
       ]
      },
      {
       "output_type": "stream",
       "stream": "stderr",
       "text": [
        "Loading default properties from trained tagger C:\\Users\\FG\\Desktop\\PhD\\Research\\reddit\\opinionfinderv2.0\\models\\english-left3words-distsim.tagger\n",
        "Reading POS tagger model from C:\\Users\\FG\\Desktop\\PhD\\Research\\reddit\\opinionfinderv2.0\\models\\english-left3words-distsim.tagger ... done [1.9 sec].\n",
        "Picked up _JAVA_OPTIONS: -Xmx512M\n"
       ]
      }
     ],
     "prompt_number": 42
    },
    {
     "cell_type": "code",
     "collapsed": false,
     "input": [],
     "language": "python",
     "metadata": {},
     "outputs": []
    }
   ],
   "metadata": {}
  }
 ]
}