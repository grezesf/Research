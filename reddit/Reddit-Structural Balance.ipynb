{
 "metadata": {
  "name": "",
  "signature": "sha256:00a8dd33702958a96725c03b5b6734c79f23ec8307464e9cfdf440a52bd2471d"
 },
 "nbformat": 3,
 "nbformat_minor": 0,
 "worksheets": [
  {
   "cells": [
    {
     "cell_type": "raw",
     "metadata": {},
     "source": [
      "Exploration of Structural Balance Theory"
     ]
    },
    {
     "cell_type": "code",
     "collapsed": false,
     "input": [
      "# preambles\n",
      "import networkx as nx\n",
      "import cPickle as pickle\n",
      "import os\n",
      "\n",
      "# load pickled network file\n",
      "pickle_name = 'Data_world8_network.pckl'\n",
      "pickle_dir = 'C:\\\\Users\\\\FG\\\\Desktop\\\\PhD\\\\Research\\\\reddit\\\\Pickled Data'\n",
      "reddit_network = pickle.load( open(pickle_dir + os.sep + pickle_name, \"rb\") )\n",
      "print \"loaded reddit network from \", pickle_dir + os.sep + pickle_name"
     ],
     "language": "python",
     "metadata": {},
     "outputs": [
      {
       "output_type": "stream",
       "stream": "stdout",
       "text": [
        "loaded reddit network from  C:\\Users\\FG\\Desktop\\PhD\\Research\\reddit\\Pickled Data\\Data_world8_network.pckl\n"
       ]
      }
     ],
     "prompt_number": 1
    },
    {
     "cell_type": "code",
     "collapsed": false,
     "input": [
      "import matplotlib.pyplot as plt\n",
      "%matplotlib inline"
     ],
     "language": "python",
     "metadata": {},
     "outputs": [],
     "prompt_number": 2
    },
    {
     "cell_type": "code",
     "collapsed": false,
     "input": [
      "#create graph\n",
      "reddit_graph = nx.Graph(name='Reddit Graph')\n",
      "\n",
      "# add edges (nodes added automatically)\n",
      "for userA in reddit_network.keys():\n",
      "    for userB in reddit_network[userA].keys():\n",
      "        # add only if enough messages between the two users\n",
      "        if len(reddit_network[userA][userB])>=2 and (userA != userB):\n",
      "            reddit_graph.add_edge(userA, userB)\n",
      "#             print reddit_graph[userA][userB]['polarity']\n",
      "\n",
      "# save largest connected subgraph\n",
      "reddit_graph = sorted(nx.connected_component_subgraphs(reddit_graph), key = len, reverse=True)[0]"
     ],
     "language": "python",
     "metadata": {},
     "outputs": [],
     "prompt_number": 3
    },
    {
     "cell_type": "code",
     "collapsed": false,
     "input": [
      "# Stats\n",
      "# print 'degrees:',nx.degree_histogram(reddit_graph)\n",
      "print 'info: ', nx.info(reddit_graph)\n",
      "print 'density: ', nx.density(reddit_graph), ' (0-1 scale, 0 for empty graph, 1 for complete graph)'\n",
      "# triangles\n",
      "triangles_dict = nx.triangles(reddit_graph)\n",
      "nodes_in_triangles = [node for node in reddit_graph.nodes() if triangles_dict[node]>=1]\n",
      "print '# of triangles in graph:', sum(nx.triangles(reddit_graph).values())/3\n",
      "\n",
      "# plot the degre dist\n",
      "print \"Degree Distribution\"\n",
      "hist=nx.degree_histogram(reddit_graph)\n",
      "plt.bar(range(len(hist)), hist, align='center')\n",
      "plt.xlim(0,30)\n",
      "plt.show()\n"
     ],
     "language": "python",
     "metadata": {},
     "outputs": [
      {
       "output_type": "stream",
       "stream": "stdout",
       "text": [
        "info:  Name: Reddit Graph\n",
        "Type: Graph\n",
        "Number of nodes: 6804\n",
        "Number of edges: 9279\n",
        "Average degree:   2.7275\n",
        "density:  0.000400928006396  (0-1 scale, 0 for empty graph, 1 for complete graph)\n",
        "# of triangles in graph:"
       ]
      },
      {
       "output_type": "stream",
       "stream": "stdout",
       "text": [
        " 151\n",
        "Degree Distribution\n"
       ]
      },
      {
       "metadata": {},
       "output_type": "display_data",
       "png": "[encoded data removed]",
       "text": [
        "<matplotlib.figure.Figure at 0x11aed530>"
       ]
      }
     ],
     "prompt_number": 4
    },
    {
     "cell_type": "code",
     "collapsed": false,
     "input": [
      "# extract list of triangles\n",
      "triangle_list=[] \n",
      "done=set()  \n",
      "for n in reddit_graph: \n",
      "    done.add(n)    # \n",
      "    nbrdone=set()    # \n",
      "    nbrs=set(reddit_graph[n]) \n",
      "    for nbr in nbrs: \n",
      "        if nbr in done:    # \n",
      "            continue    # \n",
      "        nbrdone.add(nbr)    # \n",
      "        for both in nbrs.intersection(reddit_graph[nbr]): \n",
      "            if both in done or both in nbrdone:    # \n",
      "                continue    # \n",
      "            triangle_list.append( (n,nbr,both) )\n",
      "\n",
      "print len(triangle_list)"
     ],
     "language": "python",
     "metadata": {},
     "outputs": [
      {
       "output_type": "stream",
       "stream": "stdout",
       "text": [
        "151\n"
       ]
      }
     ],
     "prompt_number": 13
    },
    {
     "cell_type": "code",
     "collapsed": false,
     "input": [
      "#reconstruct graph from triangles (with only edges in those triangles)\n",
      "\n",
      "from itertools import combinations\n",
      "\n",
      "triangles_reddit_graph = nx.Graph(name='Triangles Reddit Graph')\n",
      "\n",
      "for triangle in triangle_list:\n",
      "    for n1, n2 in combinations(triangle,2):\n",
      "        # add edge \n",
      "         triangles_reddit_graph.add_edge(n1, n2)"
     ],
     "language": "python",
     "metadata": {},
     "outputs": [],
     "prompt_number": 14
    },
    {
     "cell_type": "code",
     "collapsed": false,
     "input": [
      "# distribution of types of triangles in a random network\n",
      "# right half of table 4 in paper\n",
      "\n",
      "import random\n",
      "\n",
      "# # randomize edges\n",
      "for edge in triangles_reddit_graph.edges():\n",
      "#     #-1 for neg, +1 for pos\n",
      "    triangles_reddit_graph.edge[edge[0]][edge[1]]['polarity'] = 2*random.randint(0,1)-1\n"
     ],
     "language": "python",
     "metadata": {},
     "outputs": [],
     "prompt_number": 19
    },
    {
     "cell_type": "code",
     "collapsed": false,
     "input": [
      "# analyse triangle types\n",
      "from itertools import combinations\n",
      "\n",
      "# counts of +++, ++-, +--, --- triangles respectively\n",
      "counts = {'+++':0, '++-':0, '+--':0, '---':0}\n",
      "\n",
      "for triangle in triangle_list:\n",
      "    pairs  = combinations(triangle, 2)\n",
      "    tot = 0\n",
      "    for pair in pairs:\n",
      "        tot += triangles_reddit_graph.edge[pair[0]][pair[1]]['polarity']\n",
      "    \n",
      "    if tot == 3:\n",
      "        counts['+++'] += 1\n",
      "    elif tot == 1:\n",
      "        counts['++-'] += 1\n",
      "    elif tot == -1:\n",
      "         counts['+--'] += 1\n",
      "    elif tot == -3:\n",
      "        counts['---'] += 1\n",
      "    else:\n",
      "        print \"ERROR\"\n",
      "\n",
      "print \"counts in a randomized network: \", counts"
     ],
     "language": "python",
     "metadata": {},
     "outputs": [
      {
       "output_type": "stream",
       "stream": "stdout",
       "text": [
        "counts in a randomized network:  {'++-': 56, '---': 13, '+--': 62, '+++': 20}\n"
       ]
      }
     ],
     "prompt_number": 20
    },
    {
     "cell_type": "code",
     "collapsed": false,
     "input": [
      "# apply opinion finder to each edge\n",
      "\n",
      "for edge in triangles_reddit_graph.edges():\n",
      "    # extract text data\n",
      "    userA, userB = edge[0],edge[1]\n",
      "    # print userA, userB\n",
      "    text_list = reddit_network[userA][userB]\n",
      "    #print text_list\n",
      "    \n",
      "    # save text to temp file\n",
      "    with open(\"tmp.txt\", \"w\") as text_file:\n",
      "        for msg in text_list: \n",
      "            text_file.write(msg + '\\n')\n",
      "            \n",
      "    # analyse polarity\n",
      "    os.system('java -classpath opinionfinderv2.0\\lib\\weka.jar;opinionfinderv2.0\\lib\\stanford-postagger.jar;opinionfinderv2.0\\opinionfinder.jar opin.main.RunOpinionFinder tmp.txt -m opinionfinderv2.0\\models -l  opinionfinderv2.0\\lexicons')\n",
      "    break"
     ],
     "language": "python",
     "metadata": {},
     "outputs": [],
     "prompt_number": 28
    },
    {
     "cell_type": "code",
     "collapsed": false,
     "input": [
      "# save first interaction\n",
      "for userA in reddit_network.keys():\n",
      "    for userB in reddit_network[userA]:\n",
      "        print userA, userB, reddit_network[userA][userB]\n",
      "        break\n",
      "    break"
     ],
     "language": "python",
     "metadata": {},
     "outputs": []
    },
    {
     "cell_type": "code",
     "collapsed": false,
     "input": [],
     "language": "python",
     "metadata": {},
     "outputs": []
    },
    {
     "cell_type": "code",
     "collapsed": false,
     "input": [
      "# !cd opinionfinderv2.0\\\n",
      "!java -classpath opinionfinderv2.0\\lib\\weka.jar;opinionfinderv2.0\\lib\\stanford-postagger.jar;opinionfinderv2.0\\opinionfinder.jar opin.main.RunOpinionFinder opinionfinderv2.0\\README.txt -m opinionfinderv2.0\\models -l  opinionfinderv2.0\\lexicons"
     ],
     "language": "python",
     "metadata": {},
     "outputs": []
    }
   ],
   "metadata": {}
  }
 ]
}