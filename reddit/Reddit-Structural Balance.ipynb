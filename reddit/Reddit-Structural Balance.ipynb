{
 "metadata": {
  "name": "",
  "signature": "sha256:82718a910655c444a24f32b764e7b8ca7095a3357ac41fe03d69b9e9dbcaae97"
 },
 "nbformat": 3,
 "nbformat_minor": 0,
 "worksheets": [
  {
   "cells": [
    {
     "cell_type": "raw",
     "metadata": {},
     "source": [
      "Exploration of Structural Balance Theory"
     ]
    },
    {
     "cell_type": "code",
     "collapsed": false,
     "input": [
      "# preambles\n",
      "import networkx as nx\n",
      "import cPickle as pickle\n",
      "import os\n",
      "\n",
      "# load pickled network file\n",
      "pickle_name = 'Data_world8_network.pckl'\n",
      "pickle_dir = 'C:\\\\Users\\\\FG\\\\Desktop\\\\PhD\\\\Research\\\\reddit\\\\Pickled Data'\n",
      "reddit_network = pickle.load( open(pickle_dir + os.sep + pickle_name, \"rb\") )\n",
      "print \"loaded reddit network from \", pickle_dir + os.sep + pickle_name"
     ],
     "language": "python",
     "metadata": {},
     "outputs": [
      {
       "output_type": "stream",
       "stream": "stdout",
       "text": [
        "loaded reddit network from  C:\\Users\\FG\\Desktop\\PhD\\Research\\reddit\\Pickled Data\\Data_world8_network.pckl\n"
       ]
      }
     ],
     "prompt_number": 1
    },
    {
     "cell_type": "code",
     "collapsed": false,
     "input": [
      "import matplotlib.pyplot as plt\n",
      "%matplotlib inline"
     ],
     "language": "python",
     "metadata": {},
     "outputs": [],
     "prompt_number": 2
    },
    {
     "cell_type": "code",
     "collapsed": false,
     "input": [
      "#create graph\n",
      "reddit_graph = nx.Graph(name='Reddit Graph')\n",
      "\n",
      "# add edges (nodes added automatically)\n",
      "for userA in reddit_network.keys():\n",
      "    for userB in reddit_network[userA].keys():\n",
      "        # add only if enough messages between the two users\n",
      "        if len(reddit_network[userA][userB])>=2 and (userA != userB):\n",
      "            reddit_graph.add_edge(userA, userB)\n",
      "#             print reddit_graph[userA][userB]['polarity']\n",
      "\n",
      "# save largest connected subgraph\n",
      "reddit_graph = sorted(nx.connected_component_subgraphs(reddit_graph), key = len, reverse=True)[0]"
     ],
     "language": "python",
     "metadata": {},
     "outputs": [],
     "prompt_number": 3
    },
    {
     "cell_type": "code",
     "collapsed": false,
     "input": [
      "# Stats\n",
      "# print 'degrees:',nx.degree_histogram(reddit_graph)\n",
      "print 'info: ', nx.info(reddit_graph)\n",
      "print 'density: ', nx.density(reddit_graph), ' (0-1 scale, 0 for empty graph, 1 for complete graph)'\n",
      "# triangles\n",
      "triangles_dict = nx.triangles(reddit_graph)\n",
      "nodes_in_triangles = [node for node in reddit_graph.nodes() if triangles_dict[node]>=1]\n",
      "print '# of triangles in graph:', sum(nx.triangles(reddit_graph).values())/3\n",
      "\n",
      "# plot the degre dist\n",
      "print \"Degree Distribution\"\n",
      "hist=nx.degree_histogram(reddit_graph)\n",
      "plt.bar(range(len(hist)), hist, align='center')\n",
      "plt.xlim(0,30)\n",
      "plt.show()\n"
     ],
     "language": "python",
     "metadata": {},
     "outputs": [
      {
       "output_type": "stream",
       "stream": "stdout",
       "text": [
        "info:  Name: Reddit Graph\n",
        "Type: Graph\n",
        "Number of nodes: 6804\n",
        "Number of edges: 9279\n",
        "Average degree:   2.7275\n",
        "density:  0.000400928006396  (0-1 scale, 0 for empty graph, 1 for complete graph)\n",
        "# of triangles in graph:"
       ]
      },
      {
       "output_type": "stream",
       "stream": "stdout",
       "text": [
        " 151\n",
        "Degree Distribution\n"
       ]
      },
      {
       "metadata": {},
       "output_type": "display_data",
       "png": "[encoded data removed]",
       "text": [
        "<matplotlib.figure.Figure at 0x10481750>"
       ]
      }
     ],
     "prompt_number": 4
    },
    {
     "cell_type": "code",
     "collapsed": false,
     "input": [
      "# extract list of triangles\n",
      "triangle_list=[] \n",
      "done=set()  \n",
      "for n in reddit_graph: \n",
      "    done.add(n)    # \n",
      "    nbrdone=set()    # \n",
      "    nbrs=set(reddit_graph[n]) \n",
      "    for nbr in nbrs: \n",
      "        if nbr in done:    # \n",
      "            continue    # \n",
      "        nbrdone.add(nbr)    # \n",
      "        for both in nbrs.intersection(reddit_graph[nbr]): \n",
      "            if both in done or both in nbrdone:    # \n",
      "                continue    # \n",
      "            triangle_list.append( (n,nbr,both) )\n",
      "\n",
      "print len(triangle_list)"
     ],
     "language": "python",
     "metadata": {},
     "outputs": [
      {
       "output_type": "stream",
       "stream": "stdout",
       "text": [
        "151\n"
       ]
      }
     ],
     "prompt_number": 5
    },
    {
     "cell_type": "code",
     "collapsed": false,
     "input": [
      "#reconstruct graph from triangles (with only edges in those triangles)\n",
      "\n",
      "from itertools import combinations\n",
      "\n",
      "triangles_reddit_graph = nx.Graph(name='Triangles Reddit Graph')\n",
      "\n",
      "for triangle in triangle_list:\n",
      "    for n1, n2 in combinations(triangle,2):\n",
      "        # add edge \n",
      "         triangles_reddit_graph.add_edge(n1, n2)"
     ],
     "language": "python",
     "metadata": {},
     "outputs": [],
     "prompt_number": 6
    },
    {
     "cell_type": "code",
     "collapsed": false,
     "input": [
      "# Stats\n",
      "# print 'degrees:',nx.degree_histogram(reddit_graph)\n",
      "print 'info: ', nx.info(triangles_reddit_graph)\n",
      "print 'density: ', nx.density(triangles_reddit_graph), ' (0-1 scale, 0 for empty graph, 1 for complete graph)'\n",
      "# triangles\n",
      "triangles_dict = nx.triangles(triangles_reddit_graph)\n",
      "nodes_in_triangles = [node for node in triangles_reddit_graph.nodes() if triangles_dict[node]>=1]\n",
      "print '# of triangles in graph:', sum(nx.triangles(triangles_reddit_graph).values())/3\n",
      "\n",
      "# plot the degre dist\n",
      "print \"Degree Distribution\"\n",
      "hist=nx.degree_histogram(triangles_reddit_graph)\n",
      "plt.bar(range(len(hist)), hist, align='center')\n",
      "plt.xlim(0,30)\n",
      "plt.show()\n"
     ],
     "language": "python",
     "metadata": {},
     "outputs": [
      {
       "output_type": "stream",
       "stream": "stdout",
       "text": [
        "info:  Name: Triangles Reddit Graph\n",
        "Type: Graph\n",
        "Number of nodes: 243\n",
        "Number of edges: 377\n",
        "Average degree:   3.1029\n",
        "density:  0.0128218209026  (0-1 scale, 0 for empty graph, 1 for complete graph)\n",
        "# of triangles in graph: 151\n",
        "Degree Distribution\n"
       ]
      },
      {
       "metadata": {},
       "output_type": "display_data",
       "png": "[encoded data removed]",
       "text": [
        "<matplotlib.figure.Figure at 0x11467d70>"
       ]
      }
     ],
     "prompt_number": 7
    },
    {
     "cell_type": "code",
     "collapsed": false,
     "input": [
      "# distribution of types of triangles in a random network\n",
      "# right half of table 4 in paper"
     ],
     "language": "python",
     "metadata": {},
     "outputs": [],
     "prompt_number": 8
    },
    {
     "cell_type": "code",
     "collapsed": false,
     "input": [
      "import random\n",
      "\n",
      "# # randomize edges\n",
      "for edge in triangles_reddit_graph.edges():\n",
      "#     #-1 for neg, +1 for pos\n",
      "    triangles_reddit_graph.edge[edge[0]][edge[1]]['polarity'] = 2*random.randint(0,1)-1"
     ],
     "language": "python",
     "metadata": {},
     "outputs": [],
     "prompt_number": 9
    },
    {
     "cell_type": "code",
     "collapsed": false,
     "input": [
      "# analyse triangle types\n",
      "from itertools import combinations\n",
      "\n",
      "# counts of +++, ++-, +--, --- triangles respectively\n",
      "counts = {'+++':0, '++-':0, '+--':0, '---':0}\n",
      "\n",
      "for triangle in triangle_list:\n",
      "    pairs  = combinations(triangle, 2)\n",
      "    tot = 0\n",
      "    for pair in pairs:\n",
      "        tot += triangles_reddit_graph.edge[pair[0]][pair[1]]['polarity']\n",
      "    \n",
      "    if tot == 3:\n",
      "        counts['+++'] += 1\n",
      "    elif tot == 1:\n",
      "        counts['++-'] += 1\n",
      "    elif tot == -1:\n",
      "         counts['+--'] += 1\n",
      "    elif tot == -3:\n",
      "        counts['---'] += 1\n",
      "    else:\n",
      "        print \"ERROR\"\n",
      "\n",
      "print \"counts in a randomized network: \", counts"
     ],
     "language": "python",
     "metadata": {},
     "outputs": [
      {
       "output_type": "stream",
       "stream": "stdout",
       "text": [
        "counts in a randomized network:  {'++-': 56, '---': 17, '+--': 60, '+++': 18}\n"
       ]
      }
     ],
     "prompt_number": 10
    },
    {
     "cell_type": "code",
     "collapsed": false,
     "input": [
      "# apply opinion finder to each edge\n",
      "\n",
      "import string\n",
      "\n",
      "for edge in triangles_reddit_graph.edges():\n",
      "    # extract text data\n",
      "    userA, userB = edge[0],edge[1]\n",
      "    # print userA, userB\n",
      "    text_list = reddit_network[userA][userB]\n",
      "    #print text_list\n",
      "    \n",
      "    # save text to temp file\n",
      "    with open(\"tmp.txt\", \"w\") as text_file:\n",
      "        for msg in text_list: \n",
      "            # remove non-ascii for opinionfinder\n",
      "            msg_filtered = filter(lambda x: x in string.printable, msg)\n",
      "#             print msg_filtered\n",
      "            text_file.write(msg_filtered + '\\n')\n",
      "            \n",
      "    # analyse polarity\n",
      "    os.system('java -classpath opinionfinderv2.0\\lib\\weka.jar;opinionfinderv2.0\\lib\\stanford-postagger.jar;opinionfinderv2.0\\opinionfinder.jar opin.main.RunOpinionFinder tmp.txt -m opinionfinderv2.0\\models -l  opinionfinderv2.0\\lexicons')\n",
      "    \n",
      "    # open polarity results\n",
      "    with open(\"tmp.txt_auto_anns\\markup.txt\", \"r\") as res_file:\n",
      "        content = res_file.read()\n",
      "        positives = content.count(\"positive\")\n",
      "        negatives = content.count(\"negative\")\n",
      "        neutrals = content.count(\"neutral\")\n",
      "        print userA, userB, positives, negatives, neutrals\n",
      "        \n",
      "        # assign polarity\n",
      "        if negatives>positives:\n",
      "            polarity_val = -1\n",
      "        elif negatives<positives:\n",
      "            polarity_val = 1\n",
      "        else:\n",
      "            polarity_val = 0\n",
      "        \n",
      "        triangles_reddit_graph.edge[userA][userB]['polarity'] = polarity_val\n",
      "\n",
      "print \"DONE\"    "
     ],
     "language": "python",
     "metadata": {},
     "outputs": [
      {
       "output_type": "stream",
       "stream": "stdout",
       "text": [
        "speedisavirus Reditski 0 1 10\n",
        "speedisavirus"
       ]
      },
      {
       "output_type": "stream",
       "stream": "stdout",
       "text": [
        " ISeeSharp 0 1 7\n",
        "Tripwire3"
       ]
      },
      {
       "output_type": "stream",
       "stream": "stdout",
       "text": [
        " vecnyj 0 1 6\n",
        "Tripwire3"
       ]
      },
      {
       "output_type": "stream",
       "stream": "stdout",
       "text": [
        " grammaryan 1 1 13\n",
        "AdClemson"
       ]
      },
      {
       "output_type": "stream",
       "stream": "stdout",
       "text": [
        " TheLightningbolt 1 5 11\n",
        "AdClemson"
       ]
      },
      {
       "output_type": "stream",
       "stream": "stdout",
       "text": [
        " jkess04 2 1 30\n",
        "most_original_nick"
       ]
      },
      {
       "output_type": "stream",
       "stream": "stdout",
       "text": [
        " PreciseCobra 2 13 23\n",
        "most_original_nick"
       ]
      },
      {
       "output_type": "stream",
       "stream": "stdout",
       "text": [
        " puffpuff9 3 2 8\n",
        "MrGraeme"
       ]
      },
      {
       "output_type": "stream",
       "stream": "stdout",
       "text": [
        " holocauster-ride 0 0 2\n",
        "MrGraeme"
       ]
      },
      {
       "output_type": "stream",
       "stream": "stdout",
       "text": [
        " Darius1618 3 10 22\n",
        "lktgrss"
       ]
      },
      {
       "output_type": "stream",
       "stream": "stdout",
       "text": [
        " tehbored 1 0 5\n",
        "lktgrss"
       ]
      },
      {
       "output_type": "stream",
       "stream": "stdout",
       "text": [
        " mrnovember5 1 3 22\n",
        "artureposir"
       ]
      },
      {
       "output_type": "stream",
       "stream": "stdout",
       "text": [
        " Maso_del_Saggio 1 0 10\n",
        "artureposir"
       ]
      },
      {
       "output_type": "stream",
       "stream": "stdout",
       "text": [
        " TangoJager 1 0 4\n",
        "artureposir"
       ]
      },
      {
       "output_type": "stream",
       "stream": "stdout",
       "text": [
        " improb 0 2 2\n",
        "critfist"
       ]
      },
      {
       "output_type": "stream",
       "stream": "stdout",
       "text": [
        " holocauster-ride 1 2 8\n",
        "critfist"
       ]
      },
      {
       "output_type": "stream",
       "stream": "stdout",
       "text": [
        " Hamartolus 2 0 5\n",
        "my__name__is"
       ]
      },
      {
       "output_type": "stream",
       "stream": "stdout",
       "text": [
        " 50ShadesOfPatriotic 1 0 9\n",
        "my__name__is"
       ]
      },
      {
       "output_type": "stream",
       "stream": "stdout",
       "text": [
        " damndirtylies 2 1 5\n",
        "orru"
       ]
      },
      {
       "output_type": "stream",
       "stream": "stdout",
       "text": [
        " toomanynoobs 0 1 4\n",
        "orru"
       ]
      },
      {
       "output_type": "stream",
       "stream": "stdout",
       "text": [
        " particle409 3 7 27\n",
        "NinjaDiscoJesus"
       ]
      },
      {
       "output_type": "stream",
       "stream": "stdout",
       "text": [
        " bitofnewsbot 4 19 91\n",
        "NinjaDiscoJesus"
       ]
      },
      {
       "output_type": "stream",
       "stream": "stdout",
       "text": [
        " Wagamaga 5 16 4\n",
        "sternee"
       ]
      },
      {
       "output_type": "stream",
       "stream": "stdout",
       "text": [
        " GhostOfWhatsIAName 0 5 6\n",
        "sternee"
       ]
      },
      {
       "output_type": "stream",
       "stream": "stdout",
       "text": [
        " MaltyBeverage 3 12 23\n",
        "iMark70"
       ]
      },
      {
       "output_type": "stream",
       "stream": "stdout",
       "text": [
        " 1x10_-24 0 0 1\n",
        "iMark70"
       ]
      },
      {
       "output_type": "stream",
       "stream": "stdout",
       "text": [
        " Wagamaga 0 2 7\n",
        "midasz"
       ]
      },
      {
       "output_type": "stream",
       "stream": "stdout",
       "text": [
        " JohnMiltonJamesJoyce 0 1 4\n",
        "midasz"
       ]
      },
      {
       "output_type": "stream",
       "stream": "stdout",
       "text": [
        " retardcharizard 1 0 3\n",
        "bigdeal42"
       ]
      },
      {
       "output_type": "stream",
       "stream": "stdout",
       "text": [
        " damndirtylies 0 1 4\n",
        "bigdeal42"
       ]
      },
      {
       "output_type": "stream",
       "stream": "stdout",
       "text": [
        " trolls_brigade 0 4 21\n",
        "puffpuff9"
       ]
      },
      {
       "output_type": "stream",
       "stream": "stdout",
       "text": [
        " PreciseCobra 13 10 6\n",
        "InternetPropagandist"
       ]
      },
      {
       "output_type": "stream",
       "stream": "stdout",
       "text": [
        " itsfineitsgreat 3 4 22\n",
        "InternetPropagandist"
       ]
      },
      {
       "output_type": "stream",
       "stream": "stdout",
       "text": [
        " TooLoudToSilence 0 1 4\n",
        "RaikerCat"
       ]
      },
      {
       "output_type": "stream",
       "stream": "stdout",
       "text": [
        " bigplrbear 0 0 6\n",
        "RaikerCat"
       ]
      },
      {
       "output_type": "stream",
       "stream": "stdout",
       "text": [
        " Mad_Jukes 0 1 6\n",
        "Conflict_Observer"
       ]
      },
      {
       "output_type": "stream",
       "stream": "stdout",
       "text": [
        " 1x10_-24 2 1 11\n",
        "Conflict_Observer"
       ]
      },
      {
       "output_type": "stream",
       "stream": "stdout",
       "text": [
        " putupyourdukes 0 0 1\n",
        "Dividedstein"
       ]
      },
      {
       "output_type": "stream",
       "stream": "stdout",
       "text": [
        " Israil_Akbar 0 1 2\n",
        "Dividedstein"
       ]
      },
      {
       "output_type": "stream",
       "stream": "stdout",
       "text": [
        " ZionistShark 1 4 4\n",
        "jonzobot"
       ]
      },
      {
       "output_type": "stream",
       "stream": "stdout",
       "text": [
        " Brett686 3 5 13\n",
        "jonzobot"
       ]
      },
      {
       "output_type": "stream",
       "stream": "stdout",
       "text": [
        " ultraspontane 1 3 9\n",
        "_Perfectionist"
       ]
      },
      {
       "output_type": "stream",
       "stream": "stdout",
       "text": [
        " DrBoomkin 1 0 3\n",
        "_Perfectionist"
       ]
      },
      {
       "output_type": "stream",
       "stream": "stdout",
       "text": [
        " i_love_hezbollah 0 17 52\n",
        "mehdika"
       ]
      },
      {
       "output_type": "stream",
       "stream": "stdout",
       "text": [
        " Tachels 3 0 6\n",
        "mehdika"
       ]
      },
      {
       "output_type": "stream",
       "stream": "stdout",
       "text": [
        " heavyyy 3 3 5\n",
        "mehdika"
       ]
      },
      {
       "output_type": "stream",
       "stream": "stdout",
       "text": [
        " Mordredbas 2 6 17\n",
        "RabidRaccoon"
       ]
      },
      {
       "output_type": "stream",
       "stream": "stdout",
       "text": [
        " oneofmanyshills 20 40 236\n",
        "RabidRaccoon"
       ]
      },
      {
       "output_type": "stream",
       "stream": "stdout",
       "text": [
        " an_actual_lawyer 0 0 8\n",
        "RabidRaccoon"
       ]
      },
      {
       "output_type": "stream",
       "stream": "stdout",
       "text": [
        " FnordFinder 4 0 20\n",
        "RabidRaccoon"
       ]
      },
      {
       "output_type": "stream",
       "stream": "stdout",
       "text": [
        " Riash 1 0 4\n",
        "RabidRaccoon"
       ]
      },
      {
       "output_type": "stream",
       "stream": "stdout",
       "text": [
        " DineLointHarpie 10 30 62\n",
        "RabidRaccoon"
       ]
      },
      {
       "output_type": "stream",
       "stream": "stdout",
       "text": [
        " Slyndrr 0 2 7\n",
        "RabidRaccoon"
       ]
      },
      {
       "output_type": "stream",
       "stream": "stdout",
       "text": [
        " Sleekery 1 0 7\n",
        "RabidRaccoon"
       ]
      },
      {
       "output_type": "stream",
       "stream": "stdout",
       "text": [
        " Romek_himself 0 0 4\n",
        "RabidRaccoon"
       ]
      },
      {
       "output_type": "stream",
       "stream": "stdout",
       "text": [
        " BlackTeaLeaves 2 3 15\n",
        "RabidRaccoon"
       ]
      },
      {
       "output_type": "stream",
       "stream": "stdout",
       "text": [
        " varietygamer 3 4 20\n",
        "itsfineitsgreat"
       ]
      },
      {
       "output_type": "stream",
       "stream": "stdout",
       "text": [
        " I_love_Israel 0 0 8\n",
        "itsfineitsgreat"
       ]
      },
      {
       "output_type": "stream",
       "stream": "stdout",
       "text": [
        " koolaidkirby 0 0 12\n",
        "itsfineitsgreat"
       ]
      },
      {
       "output_type": "stream",
       "stream": "stdout",
       "text": [
        " kulkke 1 2 8\n",
        "itsfineitsgreat"
       ]
      },
      {
       "output_type": "stream",
       "stream": "stdout",
       "text": [
        " TooLoudToSilence 2 17 49\n",
        "project_a_jackie"
       ]
      },
      {
       "output_type": "stream",
       "stream": "stdout",
       "text": [
        " Hamartolus 4 5 13\n",
        "project_a_jackie"
       ]
      },
      {
       "output_type": "stream",
       "stream": "stdout",
       "text": [
        " kriegson 1 5 6\n",
        "090078601"
       ]
      },
      {
       "output_type": "stream",
       "stream": "stdout",
       "text": [
        " ahyuknyuk 14 30 118\n",
        "090078601"
       ]
      },
      {
       "output_type": "stream",
       "stream": "stdout",
       "text": [
        " triggerthedigger 2 1 2\n",
        "Lionstrong"
       ]
      },
      {
       "output_type": "stream",
       "stream": "stdout",
       "text": [
        " vaguerant107 0 3 6\n",
        "Lionstrong"
       ]
      },
      {
       "output_type": "stream",
       "stream": "stdout",
       "text": [
        " ForFUCKSSAKE_ 9 13 46\n",
        "readerseven"
       ]
      },
      {
       "output_type": "stream",
       "stream": "stdout",
       "text": [
        " 1x10_-24 3 2 11\n",
        "readerseven"
       ]
      },
      {
       "output_type": "stream",
       "stream": "stdout",
       "text": [
        " StargateParadox 0 0 8\n",
        "readerseven"
       ]
      },
      {
       "output_type": "stream",
       "stream": "stdout",
       "text": [
        " OB1_kenobi 0 2 14\n",
        "moushoo"
       ]
      },
      {
       "output_type": "stream",
       "stream": "stdout",
       "text": [
        " NoHorseInThisRace 0 0 1\n",
        "moushoo"
       ]
      },
      {
       "output_type": "stream",
       "stream": "stdout",
       "text": [
        " uncannylizard 1 2 6\n",
        "moushoo"
       ]
      },
      {
       "output_type": "stream",
       "stream": "stdout",
       "text": [
        " vainglory7 7 3 16\n",
        "moushoo"
       ]
      },
      {
       "output_type": "stream",
       "stream": "stdout",
       "text": [
        " StabbiRabbi 19 15 93\n",
        "moushoo"
       ]
      },
      {
       "output_type": "stream",
       "stream": "stdout",
       "text": [
        " Batatata 1 2 9\n",
        "moushoo"
       ]
      },
      {
       "output_type": "stream",
       "stream": "stdout",
       "text": [
        " i_love_hezbollah 0 0 7\n",
        "soon2beaher"
       ]
      },
      {
       "output_type": "stream",
       "stream": "stdout",
       "text": [
        " orr250mph 1 2 2\n",
        "soon2beaher"
       ]
      },
      {
       "output_type": "stream",
       "stream": "stdout",
       "text": [
        " DrSalted 0 0 2\n",
        "JudLew"
       ]
      },
      {
       "output_type": "stream",
       "stream": "stdout",
       "text": [
        " rosinthebow 0 1 1\n",
        "JudLew"
       ]
      },
      {
       "output_type": "stream",
       "stream": "stdout",
       "text": [
        " uncannylizard 2 6 31\n",
        "razerxs"
       ]
      },
      {
       "output_type": "stream",
       "stream": "stdout",
       "text": [
        " bitofnewsbot 1 3 34\n",
        "razerxs"
       ]
      },
      {
       "output_type": "stream",
       "stream": "stdout",
       "text": [
        " Wagamaga 3 6 27\n",
        "Nautil"
       ]
      },
      {
       "output_type": "stream",
       "stream": "stdout",
       "text": [
        " DrivenDogged 4 5 42\n",
        "Nautil"
       ]
      },
      {
       "output_type": "stream",
       "stream": "stdout",
       "text": [
        " Hagtzel 8 5 40\n",
        "sphere2040"
       ]
      },
      {
       "output_type": "stream",
       "stream": "stdout",
       "text": [
        " xanadu_reloaded 0 2 5\n",
        "sphere2040"
       ]
      },
      {
       "output_type": "stream",
       "stream": "stdout",
       "text": [
        " InternetOfficer 1 2 7\n",
        "kriegson"
       ]
      },
      {
       "output_type": "stream",
       "stream": "stdout",
       "text": [
        " machinedog 3 4 8\n",
        "kriegson"
       ]
      },
      {
       "output_type": "stream",
       "stream": "stdout",
       "text": [
        " Hamartolus 2 7 16\n",
        "kriegson"
       ]
      },
      {
       "output_type": "stream",
       "stream": "stdout",
       "text": [
        " Zenarchist 0 2 5\n",
        "1x10_-24"
       ]
      },
      {
       "output_type": "stream",
       "stream": "stdout",
       "text": [
        " Flower_Ninja 0 1 3\n",
        "1x10_-24"
       ]
      },
      {
       "output_type": "stream",
       "stream": "stdout",
       "text": [
        " poonhounds 0 0 2\n",
        "1x10_-24"
       ]
      },
      {
       "output_type": "stream",
       "stream": "stdout",
       "text": [
        " JamesColesPardon 0 4 12\n",
        "1x10_-24"
       ]
      },
      {
       "output_type": "stream",
       "stream": "stdout",
       "text": [
        " zahrul3 1 0 4\n",
        "1x10_-24"
       ]
      },
      {
       "output_type": "stream",
       "stream": "stdout",
       "text": [
        " PixelBlaster 0 0 2\n",
        "1x10_-24"
       ]
      },
      {
       "output_type": "stream",
       "stream": "stdout",
       "text": [
        " lordderplythethird 0 0 3\n",
        "1x10_-24"
       ]
      },
      {
       "output_type": "stream",
       "stream": "stdout",
       "text": [
        " TooLoudToSilence 0 4 3\n",
        "1x10_-24"
       ]
      },
      {
       "output_type": "stream",
       "stream": "stdout",
       "text": [
        " putupyourdukes 0 0 2\n",
        "1x10_-24"
       ]
      },
      {
       "output_type": "stream",
       "stream": "stdout",
       "text": [
        " quiteintriguing 1 3 14\n",
        "1x10_-24"
       ]
      },
      {
       "output_type": "stream",
       "stream": "stdout",
       "text": [
        " madazzahatter 1 5 21\n",
        "1x10_-24"
       ]
      },
      {
       "output_type": "stream",
       "stream": "stdout",
       "text": [
        " HunterSThompson_says 0 1 2\n",
        "1x10_-24"
       ]
      },
      {
       "output_type": "stream",
       "stream": "stdout",
       "text": [
        " Wagamaga 0 0 8\n",
        "1x10_-24"
       ]
      },
      {
       "output_type": "stream",
       "stream": "stdout",
       "text": [
        " StargateParadox 1 2 4\n",
        "1x10_-24"
       ]
      },
      {
       "output_type": "stream",
       "stream": "stdout",
       "text": [
        " holocauster-ride 0 4 6\n",
        "1x10_-24"
       ]
      },
      {
       "output_type": "stream",
       "stream": "stdout",
       "text": [
        " herticalt 3 11 23\n",
        "1x10_-24"
       ]
      },
      {
       "output_type": "stream",
       "stream": "stdout",
       "text": [
        " OB1_kenobi 0 0 9\n",
        "zolzks"
       ]
      },
      {
       "output_type": "stream",
       "stream": "stdout",
       "text": [
        " yes_thats_right 1 19 30\n",
        "zolzks"
       ]
      },
      {
       "output_type": "stream",
       "stream": "stdout",
       "text": [
        " Wagamaga 0 4 9\n",
        "Flower_Ninja"
       ]
      },
      {
       "output_type": "stream",
       "stream": "stdout",
       "text": [
        " OB1_kenobi 2 2 11\n",
        "VulvaVulva"
       ]
      },
      {
       "output_type": "stream",
       "stream": "stdout",
       "text": [
        " holocauster-ride 3 14 17\n",
        "VulvaVulva"
       ]
      },
      {
       "output_type": "stream",
       "stream": "stdout",
       "text": [
        " eazye187 0 0 3\n",
        "VulvaVulva"
       ]
      },
      {
       "output_type": "stream",
       "stream": "stdout",
       "text": [
        " an_actual_lawyer 0 1 10\n",
        "VulvaVulva"
       ]
      },
      {
       "output_type": "stream",
       "stream": "stdout",
       "text": [
        " Oreo_Speedwagon 2 10 9\n",
        "Carter1116"
       ]
      },
      {
       "output_type": "stream",
       "stream": "stdout",
       "text": [
        " holocauster-ride 0 2 6\n",
        "Carter1116"
       ]
      },
      {
       "output_type": "stream",
       "stream": "stdout",
       "text": [
        " AlmostTheNewestDad 0 0 3\n",
        "Darius1618"
       ]
      },
      {
       "output_type": "stream",
       "stream": "stdout",
       "text": [
        " holocauster-ride 1 3 5\n",
        "Darius1618"
       ]
      },
      {
       "output_type": "stream",
       "stream": "stdout",
       "text": [
        " xanadu_reloaded 1 0 5\n",
        "Darius1618"
       ]
      },
      {
       "output_type": "stream",
       "stream": "stdout",
       "text": [
        " Hamartolus 1 1 9\n",
        "Darius1618"
       ]
      },
      {
       "output_type": "stream",
       "stream": "stdout",
       "text": [
        " Sir_Beelzebub 3 0 2\n",
        "toomanynoobs"
       ]
      },
      {
       "output_type": "stream",
       "stream": "stdout",
       "text": [
        " StabbiRabbi 2 7 4\n",
        "toomanynoobs"
       ]
      },
      {
       "output_type": "stream",
       "stream": "stdout",
       "text": [
        " particle409 2 8 14\n",
        "toomanynoobs"
       ]
      },
      {
       "output_type": "stream",
       "stream": "stdout",
       "text": [
        " Garet-Jax 0 1 2\n",
        "i-no-u-no-i-no"
       ]
      },
      {
       "output_type": "stream",
       "stream": "stdout",
       "text": [
        " cock_pussy_up 1 0 4\n",
        "i-no-u-no-i-no"
       ]
      },
      {
       "output_type": "stream",
       "stream": "stdout",
       "text": [
        " Wagamaga 6 3 22\n",
        "crazehoarse"
       ]
      },
      {
       "output_type": "stream",
       "stream": "stdout",
       "text": [
        " busdriverbuddha 0 14 68\n",
        "crazehoarse"
       ]
      },
      {
       "output_type": "stream",
       "stream": "stdout",
       "text": [
        " hellzorak 0 0 4\n",
        "Tachels"
       ]
      },
      {
       "output_type": "stream",
       "stream": "stdout",
       "text": [
        " uncannylizard 1 3 9\n",
        "Tachels"
       ]
      },
      {
       "output_type": "stream",
       "stream": "stdout",
       "text": [
        " Mordredbas 2 3 5\n",
        "Tachels"
       ]
      },
      {
       "output_type": "stream",
       "stream": "stdout",
       "text": [
        " NoHorseInThisRace 1 5 22\n",
        "koolaidkirby"
       ]
      },
      {
       "output_type": "stream",
       "stream": "stdout",
       "text": [
        " I_love_Israel 1 2 11\n",
        "yes_thats_right"
       ]
      },
      {
       "output_type": "stream",
       "stream": "stdout",
       "text": [
        " Wagamaga 3 0 16\n",
        "eazye187"
       ]
      },
      {
       "output_type": "stream",
       "stream": "stdout",
       "text": [
        " holocauster-ride 4 2 19\n",
        "eazye187"
       ]
      },
      {
       "output_type": "stream",
       "stream": "stdout",
       "text": [
        " putupyourdukes 1 0 9\n",
        "eazye187"
       ]
      },
      {
       "output_type": "stream",
       "stream": "stdout",
       "text": [
        " guanaco55 0 5 9\n",
        "Kahing"
       ]
      },
      {
       "output_type": "stream",
       "stream": "stdout",
       "text": [
        " StabbiRabbi 14 31 38\n",
        "Kahing"
       ]
      },
      {
       "output_type": "stream",
       "stream": "stdout",
       "text": [
        " i_love_hezbollah 1 0 8\n",
        "machinedog"
       ]
      },
      {
       "output_type": "stream",
       "stream": "stdout",
       "text": [
        " Zenarchist 4 9 42\n",
        "tehbored"
       ]
      },
      {
       "output_type": "stream",
       "stream": "stdout",
       "text": [
        " mrnovember5 1 12 4\n",
        "Batatata"
       ]
      },
      {
       "output_type": "stream",
       "stream": "stdout",
       "text": [
        " vainglory7 0 0 5\n",
        "vecnyj"
       ]
      },
      {
       "output_type": "stream",
       "stream": "stdout",
       "text": [
        " grammaryan 1 2 13\n",
        "TheLastOfYou"
       ]
      },
      {
       "output_type": "stream",
       "stream": "stdout",
       "text": [
        " holocauster-ride 1 13 20\n",
        "TheLastOfYou"
       ]
      },
      {
       "output_type": "stream",
       "stream": "stdout",
       "text": [
        " Boris45 2 0 6\n",
        "TheLastOfYou"
       ]
      },
      {
       "output_type": "stream",
       "stream": "stdout",
       "text": [
        " Wisdom_from_the_Ages 4 19 52\n",
        "TheLastOfYou"
       ]
      },
      {
       "output_type": "stream",
       "stream": "stdout",
       "text": [
        " guanaco55 1 4 7\n",
        "Mosetsfire84"
       ]
      },
      {
       "output_type": "stream",
       "stream": "stdout",
       "text": [
        " hpsyk 3 11 63\n",
        "Mosetsfire84"
       ]
      },
      {
       "output_type": "stream",
       "stream": "stdout",
       "text": [
        " EatingSandwiches1 0 0 7\n",
        "JohnMiltonJamesJoyce"
       ]
      },
      {
       "output_type": "stream",
       "stream": "stdout",
       "text": [
        " MonsieurAnon 0 0 3\n",
        "JohnMiltonJamesJoyce"
       ]
      },
      {
       "output_type": "stream",
       "stream": "stdout",
       "text": [
        " KnotPtelling 0 2 5\n",
        "JohnMiltonJamesJoyce"
       ]
      },
      {
       "output_type": "stream",
       "stream": "stdout",
       "text": [
        " retardcharizard 4 1 18\n",
        "ComplexityAhhoy"
       ]
      },
      {
       "output_type": "stream",
       "stream": "stdout",
       "text": [
        " Tacoman404 0 1 14\n",
        "ComplexityAhhoy"
       ]
      },
      {
       "output_type": "stream",
       "stream": "stdout",
       "text": [
        " Romek_himself 0 4 4\n",
        "ComplexityAhhoy"
       ]
      },
      {
       "output_type": "stream",
       "stream": "stdout",
       "text": [
        " MongolPerson 2 26 78\n",
        "WiseChoices"
       ]
      },
      {
       "output_type": "stream",
       "stream": "stdout",
       "text": [
        " 50ShadesOfPatriotic 3 3 7\n",
        "WiseChoices"
       ]
      },
      {
       "output_type": "stream",
       "stream": "stdout",
       "text": [
        " DoremusJessup 0 0 3\n",
        "Mordredbas"
       ]
      },
      {
       "output_type": "stream",
       "stream": "stdout",
       "text": [
        " heavyyy 5 16 55\n",
        "ZionistShark"
       ]
      },
      {
       "output_type": "stream",
       "stream": "stdout",
       "text": [
        " 50ShadesOfPatriotic 0 2 1\n",
        "ZionistShark"
       ]
      },
      {
       "output_type": "stream",
       "stream": "stdout",
       "text": [
        " Israil_Akbar 1 8 9\n",
        "ZionistShark"
       ]
      },
      {
       "output_type": "stream",
       "stream": "stdout",
       "text": [
        " i_love_hezbollah 0 1 8\n",
        "bitofnewsbot"
       ]
      },
      {
       "output_type": "stream",
       "stream": "stdout",
       "text": [
        " DrSalted 2 8 77\n",
        "bitofnewsbot"
       ]
      },
      {
       "output_type": "stream",
       "stream": "stdout",
       "text": [
        " Wagamaga 1 8 75\n",
        "oneofmanyshills"
       ]
      },
      {
       "output_type": "stream",
       "stream": "stdout",
       "text": [
        " ThatGetItKid 3 3 20\n",
        "oneofmanyshills"
       ]
      },
      {
       "output_type": "stream",
       "stream": "stdout",
       "text": [
        " Slyndrr 7 24 47\n",
        "oneofmanyshills"
       ]
      },
      {
       "output_type": "stream",
       "stream": "stdout",
       "text": [
        " gonnaupvote3 3 11 87\n",
        "50ShadesOfPatriotic"
       ]
      },
      {
       "output_type": "stream",
       "stream": "stdout",
       "text": [
        " kwonza 1 2 10\n",
        "50ShadesOfPatriotic"
       ]
      },
      {
       "output_type": "stream",
       "stream": "stdout",
       "text": [
        " jaaaack 0 1 13\n",
        "50ShadesOfPatriotic"
       ]
      },
      {
       "output_type": "stream",
       "stream": "stdout",
       "text": [
        " BannedByZionists 0 4 23\n",
        "50ShadesOfPatriotic"
       ]
      },
      {
       "output_type": "stream",
       "stream": "stdout",
       "text": [
        " trolls_brigade 0 0 1\n",
        "50ShadesOfPatriotic"
       ]
      },
      {
       "output_type": "stream",
       "stream": "stdout",
       "text": [
        " plato1123 2 2 3\n",
        "50ShadesOfPatriotic"
       ]
      },
      {
       "output_type": "stream",
       "stream": "stdout",
       "text": [
        " StabbiRabbi 2 1 22\n",
        "50ShadesOfPatriotic"
       ]
      },
      {
       "output_type": "stream",
       "stream": "stdout",
       "text": [
        " Computer_Name 0 0 4\n",
        "50ShadesOfPatriotic"
       ]
      },
      {
       "output_type": "stream",
       "stream": "stdout",
       "text": [
        " damndirtylies 5 3 20\n",
        "50ShadesOfPatriotic"
       ]
      },
      {
       "output_type": "stream",
       "stream": "stdout",
       "text": [
        " vigorous 2 2 11\n",
        "50ShadesOfPatriotic"
       ]
      },
      {
       "output_type": "stream",
       "stream": "stdout",
       "text": [
        " DoremusJessup 1 2 4\n",
        "50ShadesOfPatriotic"
       ]
      },
      {
       "output_type": "stream",
       "stream": "stdout",
       "text": [
        " Hamartolus 2 8 26\n",
        "50ShadesOfPatriotic"
       ]
      },
      {
       "output_type": "stream",
       "stream": "stdout",
       "text": [
        " i_love_hezbollah 1 3 3\n",
        "50ShadesOfPatriotic"
       ]
      },
      {
       "output_type": "stream",
       "stream": "stdout",
       "text": [
        " Cantmemba 2 4 19\n",
        "sansaset"
       ]
      },
      {
       "output_type": "stream",
       "stream": "stdout",
       "text": [
        " putupyourdukes 3 3 9\n",
        "sansaset"
       ]
      },
      {
       "output_type": "stream",
       "stream": "stdout",
       "text": [
        " jaywalker32 1 1 3\n",
        "DrivenDogged"
       ]
      },
      {
       "output_type": "stream",
       "stream": "stdout",
       "text": [
        " steelnuts 12 25 64\n",
        "DrivenDogged"
       ]
      },
      {
       "output_type": "stream",
       "stream": "stdout",
       "text": [
        " Hagtzel 4 11 39\n",
        "DrivenDogged"
       ]
      },
      {
       "output_type": "stream",
       "stream": "stdout",
       "text": [
        " endprism 0 0 1\n",
        "hippylarvae"
       ]
      },
      {
       "output_type": "stream",
       "stream": "stdout",
       "text": [
        " damndirtylies 1 7 9\n",
        "hippylarvae"
       ]
      },
      {
       "output_type": "stream",
       "stream": "stdout",
       "text": [
        " putupyourdukes 0 13 6\n",
        "hippylarvae"
       ]
      },
      {
       "output_type": "stream",
       "stream": "stdout",
       "text": [
        " WillRedditForBitcoin 1 7 8\n",
        "ultraspontane"
       ]
      },
      {
       "output_type": "stream",
       "stream": "stdout",
       "text": [
        " Brett686 9 25 58\n",
        "holocauster-ride"
       ]
      },
      {
       "output_type": "stream",
       "stream": "stdout",
       "text": [
        " chuckaway9 0 3 10\n",
        "holocauster-ride"
       ]
      },
      {
       "output_type": "stream",
       "stream": "stdout",
       "text": [
        " Boris45 5 9 56\n",
        "holocauster-ride"
       ]
      },
      {
       "output_type": "stream",
       "stream": "stdout",
       "text": [
        " kslusherplantman 0 0 4\n",
        "holocauster-ride"
       ]
      },
      {
       "output_type": "stream",
       "stream": "stdout",
       "text": [
        " Tatalebuj 1 0 9\n",
        "holocauster-ride"
       ]
      },
      {
       "output_type": "stream",
       "stream": "stdout",
       "text": [
        " PixelBlaster 0 2 6\n",
        "holocauster-ride"
       ]
      },
      {
       "output_type": "stream",
       "stream": "stdout",
       "text": [
        " AlmostTheNewestDad 0 3 1\n",
        "holocauster-ride"
       ]
      },
      {
       "output_type": "stream",
       "stream": "stdout",
       "text": [
        " putupyourdukes 0 1 2\n",
        "holocauster-ride"
       ]
      },
      {
       "output_type": "stream",
       "stream": "stdout",
       "text": [
        " Wisdom_from_the_Ages 2 0 5\n",
        "holocauster-ride"
       ]
      },
      {
       "output_type": "stream",
       "stream": "stdout",
       "text": [
        " TooLoudToSilence 0 0 1\n",
        "holocauster-ride"
       ]
      },
      {
       "output_type": "stream",
       "stream": "stdout",
       "text": [
        " Smoke_Meth_in_Butt 0 0 10\n",
        "holocauster-ride"
       ]
      },
      {
       "output_type": "stream",
       "stream": "stdout",
       "text": [
        " herticalt 1 5 7\n",
        "holocauster-ride"
       ]
      },
      {
       "output_type": "stream",
       "stream": "stdout",
       "text": [
        " Hamartolus 1 2 4\n",
        "holocauster-ride"
       ]
      },
      {
       "output_type": "stream",
       "stream": "stdout",
       "text": [
        " guanaco55 3 0 4\n",
        "lukeyflukey"
       ]
      },
      {
       "output_type": "stream",
       "stream": "stdout",
       "text": [
        " Smoke_Meth_in_Butt 2 2 5\n",
        "lukeyflukey"
       ]
      },
      {
       "output_type": "stream",
       "stream": "stdout",
       "text": [
        " Hamartolus 0 0 3\n",
        "GhostOfWhatsIAName"
       ]
      },
      {
       "output_type": "stream",
       "stream": "stdout",
       "text": [
        " MaltyBeverage 1 6 19\n",
        "MonsieurAnon"
       ]
      },
      {
       "output_type": "stream",
       "stream": "stdout",
       "text": [
        " KnotPtelling 0 2 1\n",
        "MonsieurAnon"
       ]
      },
      {
       "output_type": "stream",
       "stream": "stdout",
       "text": [
        " arqoi 0 1 3\n",
        "tigersharkwushen_"
       ]
      },
      {
       "output_type": "stream",
       "stream": "stdout",
       "text": [
        " dafez7 0 0 6\n",
        "tigersharkwushen_"
       ]
      },
      {
       "output_type": "stream",
       "stream": "stdout",
       "text": [
        " MaltyBeverage 0 0 6\n",
        "NSA_ActiveMonitor"
       ]
      },
      {
       "output_type": "stream",
       "stream": "stdout",
       "text": [
        " gethighandthink 0 0 1\n",
        "NSA_ActiveMonitor"
       ]
      },
      {
       "output_type": "stream",
       "stream": "stdout",
       "text": [
        " Ameri-KKK-aSucksMan 5 5 28\n",
        "CIKAFIUMPH"
       ]
      },
      {
       "output_type": "stream",
       "stream": "stdout",
       "text": [
        " HoliHandGrenades 1 1 4\n",
        "CIKAFIUMPH"
       ]
      },
      {
       "output_type": "stream",
       "stream": "stdout",
       "text": [
        " ZachofFables 0 0 2\n",
        "AngryVegetable"
       ]
      },
      {
       "output_type": "stream",
       "stream": "stdout",
       "text": [
        " umakemefunny 2 3 10\n",
        "AngryVegetable"
       ]
      },
      {
       "output_type": "stream",
       "stream": "stdout",
       "text": [
        " ripcitybitch 0 2 3\n",
        "kefeer"
       ]
      },
      {
       "output_type": "stream",
       "stream": "stdout",
       "text": [
        " jheohdgs 0 1 8\n",
        "kefeer"
       ]
      },
      {
       "output_type": "stream",
       "stream": "stdout",
       "text": [
        " varietygamer 0 0 4\n",
        "kefeer"
       ]
      },
      {
       "output_type": "stream",
       "stream": "stdout",
       "text": [
        " putupyourdukes 0 0 2\n",
        "kslusherplantman"
       ]
      },
      {
       "output_type": "stream",
       "stream": "stdout",
       "text": [
        " herticalt 0 1 5\n",
        "ISeeSharp"
       ]
      },
      {
       "output_type": "stream",
       "stream": "stdout",
       "text": [
        " Reditski 1 1 16\n",
        "gonnaupvote3"
       ]
      },
      {
       "output_type": "stream",
       "stream": "stdout",
       "text": [
        " ThatGetItKid 6 5 13\n",
        "damndirtylies"
       ]
      },
      {
       "output_type": "stream",
       "stream": "stdout",
       "text": [
        " trolls_brigade 0 2 6\n",
        "damndirtylies"
       ]
      },
      {
       "output_type": "stream",
       "stream": "stdout",
       "text": [
        " putupyourdukes 0 2 7\n",
        "kwonza"
       ]
      },
      {
       "output_type": "stream",
       "stream": "stdout",
       "text": [
        " trolls_brigade 0 0 7\n",
        "jdscarface"
       ]
      },
      {
       "output_type": "stream",
       "stream": "stdout",
       "text": [
        " herticalt 0 8 23\n",
        "jdscarface"
       ]
      },
      {
       "output_type": "stream",
       "stream": "stdout",
       "text": [
        " varietygamer 1 0 7\n",
        "jdscarface"
       ]
      },
      {
       "output_type": "stream",
       "stream": "stdout",
       "text": [
        " putupyourdukes 0 1 3\n",
        "DrBoomkin"
       ]
      },
      {
       "output_type": "stream",
       "stream": "stdout",
       "text": [
        " DoctorExplosion 0 2 14\n",
        "DrBoomkin"
       ]
      },
      {
       "output_type": "stream",
       "stream": "stdout",
       "text": [
        " StevefromRetail 3 4 40\n",
        "DrBoomkin"
       ]
      },
      {
       "output_type": "stream",
       "stream": "stdout",
       "text": [
        " hpsyk 0 1 10\n",
        "DrBoomkin"
       ]
      },
      {
       "output_type": "stream",
       "stream": "stdout",
       "text": [
        " failbotron 6 10 53\n",
        "DrBoomkin"
       ]
      },
      {
       "output_type": "stream",
       "stream": "stdout",
       "text": [
        " RufusTheFirefly 0 0 14\n",
        "DrBoomkin"
       ]
      },
      {
       "output_type": "stream",
       "stream": "stdout",
       "text": [
        " i_love_hezbollah 1 1 5\n",
        "DrBoomkin"
       ]
      },
      {
       "output_type": "stream",
       "stream": "stdout",
       "text": [
        " OB1_kenobi 0 0 4\n",
        "WillRedditForBitcoin"
       ]
      },
      {
       "output_type": "stream",
       "stream": "stdout",
       "text": [
        " putupyourdukes 0 0 7\n",
        "jaywalker32"
       ]
      },
      {
       "output_type": "stream",
       "stream": "stdout",
       "text": [
        " putupyourdukes 0 0 5\n",
        "Loki-L"
       ]
      },
      {
       "output_type": "stream",
       "stream": "stdout",
       "text": [
        " Drak_is_Right 2 2 5\n",
        "Loki-L"
       ]
      },
      {
       "output_type": "stream",
       "stream": "stdout",
       "text": [
        " klug3 0 1 3\n",
        "HunterSThompson_says"
       ]
      },
      {
       "output_type": "stream",
       "stream": "stdout",
       "text": [
        " quiteintriguing 8 12 31\n",
        "HunterSThompson_says"
       ]
      },
      {
       "output_type": "stream",
       "stream": "stdout",
       "text": [
        " TooLoudToSilence 0 0 4\n",
        "RufusTheFirefly"
       ]
      },
      {
       "output_type": "stream",
       "stream": "stdout",
       "text": [
        " zahrul3 0 0 11\n",
        "RufusTheFirefly"
       ]
      },
      {
       "output_type": "stream",
       "stream": "stdout",
       "text": [
        " hpsyk 0 0 5\n",
        "RufusTheFirefly"
       ]
      },
      {
       "output_type": "stream",
       "stream": "stdout",
       "text": [
        " OB1_kenobi 0 5 16\n",
        "CVSer"
       ]
      },
      {
       "output_type": "stream",
       "stream": "stdout",
       "text": [
        " Shoudlaz 3 38 61\n",
        "CVSer"
       ]
      },
      {
       "output_type": "stream",
       "stream": "stdout",
       "text": [
        " Computer_Name 8 13 33\n",
        "DarthQuerious"
       ]
      },
      {
       "output_type": "stream",
       "stream": "stdout",
       "text": [
        " boomanwho 3 15 35\n",
        "DarthQuerious"
       ]
      },
      {
       "output_type": "stream",
       "stream": "stdout",
       "text": [
        " Tatalebuj 1 0 9\n",
        "Cantmemba"
       ]
      },
      {
       "output_type": "stream",
       "stream": "stdout",
       "text": [
        " jaaaack 0 1 5\n",
        "RoswellSpaceman"
       ]
      },
      {
       "output_type": "stream",
       "stream": "stdout",
       "text": [
        " umakemefunny 1 1 8\n",
        "RoswellSpaceman"
       ]
      },
      {
       "output_type": "stream",
       "stream": "stdout",
       "text": [
        " EatingSandwiches1 3 4 8\n",
        "gethighandthink"
       ]
      },
      {
       "output_type": "stream",
       "stream": "stdout",
       "text": [
        " Ameri-KKK-aSucksMan 2 1 14\n",
        "poonhounds"
       ]
      },
      {
       "output_type": "stream",
       "stream": "stdout",
       "text": [
        " TooLoudToSilence 2 5 10\n",
        "SilentTyrant1"
       ]
      },
      {
       "output_type": "stream",
       "stream": "stdout",
       "text": [
        " randomfact8472 1 4 6\n",
        "SilentTyrant1"
       ]
      },
      {
       "output_type": "stream",
       "stream": "stdout",
       "text": [
        " TheCeilingisGreen 2 1 4\n",
        "DineLointHarpie"
       ]
      },
      {
       "output_type": "stream",
       "stream": "stdout",
       "text": [
        " Slyndrr 9 29 65\n",
        "TangoJager"
       ]
      },
      {
       "output_type": "stream",
       "stream": "stdout",
       "text": [
        " Maso_del_Saggio 0 0 3\n",
        "Recoi1"
       ]
      },
      {
       "output_type": "stream",
       "stream": "stdout",
       "text": [
        " Romek_himself 0 2 4\n",
        "Recoi1"
       ]
      },
      {
       "output_type": "stream",
       "stream": "stdout",
       "text": [
        " MongolPerson 0 5 7\n",
        "Shoudlaz"
       ]
      },
      {
       "output_type": "stream",
       "stream": "stdout",
       "text": [
        " Computer_Name 0 1 0\n",
        "madazzahatter"
       ]
      },
      {
       "output_type": "stream",
       "stream": "stdout",
       "text": [
        " StargateParadox 0 0 3\n",
        "madazzahatter"
       ]
      },
      {
       "output_type": "stream",
       "stream": "stdout",
       "text": [
        " OB1_kenobi 0 0 5\n",
        "HitlersFleshlight"
       ]
      },
      {
       "output_type": "stream",
       "stream": "stdout",
       "text": [
        " Reditski 0 0 8\n",
        "HitlersFleshlight"
       ]
      },
      {
       "output_type": "stream",
       "stream": "stdout",
       "text": [
        " Hamartolus 0 2 8\n",
        "umakemefunny"
       ]
      },
      {
       "output_type": "stream",
       "stream": "stdout",
       "text": [
        " ripcitybitch 4 6 24\n",
        "umakemefunny"
       ]
      },
      {
       "output_type": "stream",
       "stream": "stdout",
       "text": [
        " EatingSandwiches1 1 4 6\n",
        "existentialadvisor"
       ]
      },
      {
       "output_type": "stream",
       "stream": "stdout",
       "text": [
        " MongolPerson 0 1 5\n",
        "existentialadvisor"
       ]
      },
      {
       "output_type": "stream",
       "stream": "stdout",
       "text": [
        " Perniciouss 7 7 58\n",
        "georgevader"
       ]
      },
      {
       "output_type": "stream",
       "stream": "stdout",
       "text": [
        " Ithikari 0 6 15\n",
        "georgevader"
       ]
      },
      {
       "output_type": "stream",
       "stream": "stdout",
       "text": [
        " vintruvian 2 5 13\n",
        "xHaGGeNx"
       ]
      },
      {
       "output_type": "stream",
       "stream": "stdout",
       "text": [
        " Garet-Jax 1 2 22\n",
        "xHaGGeNx"
       ]
      },
      {
       "output_type": "stream",
       "stream": "stdout",
       "text": [
        " LurkerEurope 2 5 12\n",
        "MongolPerson"
       ]
      },
      {
       "output_type": "stream",
       "stream": "stdout",
       "text": [
        " putupyourdukes 1 0 2\n",
        "MongolPerson"
       ]
      },
      {
       "output_type": "stream",
       "stream": "stdout",
       "text": [
        " Perniciouss 1 15 27\n",
        "MongolPerson"
       ]
      },
      {
       "output_type": "stream",
       "stream": "stdout",
       "text": [
        " Tacoman404 0 1 3\n",
        "MongolPerson"
       ]
      },
      {
       "output_type": "stream",
       "stream": "stdout",
       "text": [
        " Romek_himself 2 3 7\n",
        "Smoke_Meth_in_Butt"
       ]
      },
      {
       "output_type": "stream",
       "stream": "stdout",
       "text": [
        " Hamartolus 2 5 12\n",
        "i_love_hezbollah"
       ]
      },
      {
       "output_type": "stream",
       "stream": "stdout",
       "text": [
        " richjew 3 6 13\n",
        "i_love_hezbollah"
       ]
      },
      {
       "output_type": "stream",
       "stream": "stdout",
       "text": [
        " TheLastSovietSniper 0 0 4\n",
        "i_love_hezbollah"
       ]
      },
      {
       "output_type": "stream",
       "stream": "stdout",
       "text": [
        " BannedByZionists 2 11 6\n",
        "i_love_hezbollah"
       ]
      },
      {
       "output_type": "stream",
       "stream": "stdout",
       "text": [
        " StabbiRabbi 24 50 25\n",
        "NewtonianCooking"
       ]
      },
      {
       "output_type": "stream",
       "stream": "stdout",
       "text": [
        " Sleekery 9 17 25\n",
        "NewtonianCooking"
       ]
      },
      {
       "output_type": "stream",
       "stream": "stdout",
       "text": [
        " rindindin 1 1 18\n",
        "NewtonianCooking"
       ]
      },
      {
       "output_type": "stream",
       "stream": "stdout",
       "text": [
        " DoremusJessup 0 0 4\n",
        "NewtonianCooking"
       ]
      },
      {
       "output_type": "stream",
       "stream": "stdout",
       "text": [
        " cityofkern 4 0 9\n",
        "bigplrbear"
       ]
      },
      {
       "output_type": "stream",
       "stream": "stdout",
       "text": [
        " Mad_Jukes 0 3 12\n",
        "Reditski"
       ]
      },
      {
       "output_type": "stream",
       "stream": "stdout",
       "text": [
        " Hamartolus 6 2 23\n",
        "richjew"
       ]
      },
      {
       "output_type": "stream",
       "stream": "stdout",
       "text": [
        " TheLastSovietSniper 0 0 1\n",
        "rindindin"
       ]
      },
      {
       "output_type": "stream",
       "stream": "stdout",
       "text": [
        " DoremusJessup 0 1 11\n",
        "TheCeilingisGreen"
       ]
      },
      {
       "output_type": "stream",
       "stream": "stdout",
       "text": [
        " randomfact8472 0 1 6\n",
        "Garet-Jax"
       ]
      },
      {
       "output_type": "stream",
       "stream": "stdout",
       "text": [
        " aminice 1 1 2\n",
        "Garet-Jax"
       ]
      },
      {
       "output_type": "stream",
       "stream": "stdout",
       "text": [
        " StabbiRabbi 4 10 15\n",
        "Garet-Jax"
       ]
      },
      {
       "output_type": "stream",
       "stream": "stdout",
       "text": [
        " moskonia 0 0 2\n",
        "Garet-Jax"
       ]
      },
      {
       "output_type": "stream",
       "stream": "stdout",
       "text": [
        " LurkerEurope 2 0 16\n",
        "trolls_brigade"
       ]
      },
      {
       "output_type": "stream",
       "stream": "stdout",
       "text": [
        " vigorous 0 1 5\n",
        "plato1123"
       ]
      },
      {
       "output_type": "stream",
       "stream": "stdout",
       "text": [
        " Computer_Name 1 0 1\n",
        "an_actual_lawyer"
       ]
      },
      {
       "output_type": "stream",
       "stream": "stdout",
       "text": [
        " BlackTeaLeaves 9 7 24\n",
        "an_actual_lawyer"
       ]
      },
      {
       "output_type": "stream",
       "stream": "stdout",
       "text": [
        " Romek_himself 2 1 9\n",
        "an_actual_lawyer"
       ]
      },
      {
       "output_type": "stream",
       "stream": "stdout",
       "text": [
        " Oreo_Speedwagon 7 14 68\n",
        "Zodiac13"
       ]
      },
      {
       "output_type": "stream",
       "stream": "stdout",
       "text": [
        " Computer_Name 0 2 2\n",
        "Zodiac13"
       ]
      },
      {
       "output_type": "stream",
       "stream": "stdout",
       "text": [
        " QUAD_PENETRATION 0 0 1\n",
        "vintruvian"
       ]
      },
      {
       "output_type": "stream",
       "stream": "stdout",
       "text": [
        " Ithikari 1 1 8\n",
        "arqoi"
       ]
      },
      {
       "output_type": "stream",
       "stream": "stdout",
       "text": [
        " KnotPtelling 1 3 5\n",
        "admronoc"
       ]
      },
      {
       "output_type": "stream",
       "stream": "stdout",
       "text": [
        " jackrousseau 2 4 15\n",
        "admronoc"
       ]
      },
      {
       "output_type": "stream",
       "stream": "stdout",
       "text": [
        " dragon_nipples 4 3 19\n",
        "hellzorak"
       ]
      },
      {
       "output_type": "stream",
       "stream": "stdout",
       "text": [
        " busdriverbuddha 7 3 5\n",
        "jwax33"
       ]
      },
      {
       "output_type": "stream",
       "stream": "stdout",
       "text": [
        " varietygamer 0 0 10\n",
        "jwax33"
       ]
      },
      {
       "output_type": "stream",
       "stream": "stdout",
       "text": [
        " OB1_kenobi 0 1 15\n",
        "NoHorseInThisRace"
       ]
      },
      {
       "output_type": "stream",
       "stream": "stdout",
       "text": [
        " uncannylizard 0 0 2\n",
        "TheLightningbolt"
       ]
      },
      {
       "output_type": "stream",
       "stream": "stdout",
       "text": [
        " rosinthebow 5 3 11\n",
        "TheLightningbolt"
       ]
      },
      {
       "output_type": "stream",
       "stream": "stdout",
       "text": [
        " akingpa 2 10 38\n",
        "TheLightningbolt"
       ]
      },
      {
       "output_type": "stream",
       "stream": "stdout",
       "text": [
        " jkess04 1 6 30\n",
        "TastyLipid"
       ]
      },
      {
       "output_type": "stream",
       "stream": "stdout",
       "text": [
        " thatsmrdickface 0 3 24\n",
        "TastyLipid"
       ]
      },
      {
       "output_type": "stream",
       "stream": "stdout",
       "text": [
        " Fuadius 0 0 4\n",
        "prutopls"
       ]
      },
      {
       "output_type": "stream",
       "stream": "stdout",
       "text": [
        " rubyroacher 4 6 57\n",
        "prutopls"
       ]
      },
      {
       "output_type": "stream",
       "stream": "stdout",
       "text": [
        " AndrewFGleich 1 0 10\n",
        "orr250mph"
       ]
      },
      {
       "output_type": "stream",
       "stream": "stdout",
       "text": [
        " DrSalted 0 0 1\n",
        "putupyourdukes"
       ]
      },
      {
       "output_type": "stream",
       "stream": "stdout",
       "text": [
        " fredy5 9 1 7\n",
        "putupyourdukes"
       ]
      },
      {
       "output_type": "stream",
       "stream": "stdout",
       "text": [
        " varietygamer 1 1 9\n",
        "putupyourdukes"
       ]
      },
      {
       "output_type": "stream",
       "stream": "stdout",
       "text": [
        " Romek_himself 0 1 5\n",
        "moskonia"
       ]
      },
      {
       "output_type": "stream",
       "stream": "stdout",
       "text": [
        " aminice 5 6 26\n",
        "BlackTeaLeaves"
       ]
      },
      {
       "output_type": "stream",
       "stream": "stdout",
       "text": [
        " Sleekery 1 1 1\n",
        "zahrul3"
       ]
      },
      {
       "output_type": "stream",
       "stream": "stdout",
       "text": [
        " OB1_kenobi 0 0 2\n",
        "guanaco55"
       ]
      },
      {
       "output_type": "stream",
       "stream": "stdout",
       "text": [
        " chuckaway9 0 1 4\n",
        "xanadu_reloaded"
       ]
      },
      {
       "output_type": "stream",
       "stream": "stdout",
       "text": [
        " Sir_Beelzebub 1 2 5\n",
        "xanadu_reloaded"
       ]
      },
      {
       "output_type": "stream",
       "stream": "stdout",
       "text": [
        " InternetOfficer 0 3 4\n",
        "vigorous"
       ]
      },
      {
       "output_type": "stream",
       "stream": "stdout",
       "text": [
        " Hamartolus 1 2 34\n",
        "hpsyk"
       ]
      },
      {
       "output_type": "stream",
       "stream": "stdout",
       "text": [
        " DoctorExplosion 2 1 8\n",
        "hpsyk"
       ]
      },
      {
       "output_type": "stream",
       "stream": "stdout",
       "text": [
        " StevefromRetail 4 11 26\n",
        "hpsyk"
       ]
      },
      {
       "output_type": "stream",
       "stream": "stdout",
       "text": [
        " EatingSandwiches1 3 1 8\n",
        "jkess04"
       ]
      },
      {
       "output_type": "stream",
       "stream": "stdout",
       "text": [
        " akingpa 0 1 3\n",
        "Blindbandit809"
       ]
      },
      {
       "output_type": "stream",
       "stream": "stdout",
       "text": [
        " mrstickball 0 0 6\n",
        "Blindbandit809"
       ]
      },
      {
       "output_type": "stream",
       "stream": "stdout",
       "text": [
        " 77bc 3 8 21\n",
        "uncannylizard"
       ]
      },
      {
       "output_type": "stream",
       "stream": "stdout",
       "text": [
        " rosinthebow 0 1 0\n",
        "cityofkern"
       ]
      },
      {
       "output_type": "stream",
       "stream": "stdout",
       "text": [
        " Sleekery 1 4 2\n",
        "dafez7"
       ]
      },
      {
       "output_type": "stream",
       "stream": "stdout",
       "text": [
        " MaltyBeverage 1 3 15\n",
        "Maso_del_Saggio"
       ]
      },
      {
       "output_type": "stream",
       "stream": "stdout",
       "text": [
        " improb 0 5 38\n",
        "rosinthebow"
       ]
      },
      {
       "output_type": "stream",
       "stream": "stdout",
       "text": [
        " akingpa 0 3 6\n",
        "cock_pussy_up"
       ]
      },
      {
       "output_type": "stream",
       "stream": "stdout",
       "text": [
        " Wagamaga 0 1 10\n",
        "failbotron"
       ]
      },
      {
       "output_type": "stream",
       "stream": "stdout",
       "text": [
        " StevefromRetail 2 2 34\n",
        "Computer_Name"
       ]
      },
      {
       "output_type": "stream",
       "stream": "stdout",
       "text": [
        " QUAD_PENETRATION 0 0 1\n",
        "Hagtzel"
       ]
      },
      {
       "output_type": "stream",
       "stream": "stdout",
       "text": [
        " fandrei 1 0 11\n",
        "Hagtzel"
       ]
      },
      {
       "output_type": "stream",
       "stream": "stdout",
       "text": [
        " BrightTomorrow 2 11 47\n",
        "fredy5"
       ]
      },
      {
       "output_type": "stream",
       "stream": "stdout",
       "text": [
        " varietygamer 3 2 34\n",
        "Tatalebuj"
       ]
      },
      {
       "output_type": "stream",
       "stream": "stdout",
       "text": [
        " boomanwho 12 26 99\n",
        "Tatalebuj"
       ]
      },
      {
       "output_type": "stream",
       "stream": "stdout",
       "text": [
        " TooLoudToSilence 9 21 30\n",
        "AlmostTheNewestDad"
       ]
      },
      {
       "output_type": "stream",
       "stream": "stdout",
       "text": [
        " herticalt 3 6 12\n",
        "HoliHandGrenades"
       ]
      },
      {
       "output_type": "stream",
       "stream": "stdout",
       "text": [
        " ZachofFables 0 0 0\n",
        "TranslationRussian"
       ]
      },
      {
       "output_type": "stream",
       "stream": "stdout",
       "text": [
        " bell_peppers_n_beef 0 0 4\n",
        "TranslationRussian"
       ]
      },
      {
       "output_type": "stream",
       "stream": "stdout",
       "text": [
        " infiniZii 3 5 19\n",
        "mrstickball"
       ]
      },
      {
       "output_type": "stream",
       "stream": "stdout",
       "text": [
        " 77bc 1 6 21\n",
        "herticalt"
       ]
      },
      {
       "output_type": "stream",
       "stream": "stdout",
       "text": [
        " Rosalee 4 25 36\n",
        "herticalt"
       ]
      },
      {
       "output_type": "stream",
       "stream": "stdout",
       "text": [
        " JamesColesPardon 15 28 131\n",
        "herticalt"
       ]
      },
      {
       "output_type": "stream",
       "stream": "stdout",
       "text": [
        " DrSalted 3 2 5\n",
        "herticalt"
       ]
      },
      {
       "output_type": "stream",
       "stream": "stdout",
       "text": [
        " Wagamaga 7 13 73\n",
        "herticalt"
       ]
      },
      {
       "output_type": "stream",
       "stream": "stdout",
       "text": [
        " varietygamer 0 2 8\n",
        "Slyndrr"
       ]
      },
      {
       "output_type": "stream",
       "stream": "stdout",
       "text": [
        " FnordFinder 0 8 13\n",
        "klug3"
       ]
      },
      {
       "output_type": "stream",
       "stream": "stdout",
       "text": [
        " Drak_is_Right 0 1 2\n",
        "rubyroacher"
       ]
      },
      {
       "output_type": "stream",
       "stream": "stdout",
       "text": [
        " AndrewFGleich 5 11 31\n",
        "CitationX_N7V11C"
       ]
      },
      {
       "output_type": "stream",
       "stream": "stdout",
       "text": [
        " DrSalted 0 0 2\n",
        "CitationX_N7V11C"
       ]
      },
      {
       "output_type": "stream",
       "stream": "stdout",
       "text": [
        " Wagamaga 1 1 8\n",
        "dragon_nipples"
       ]
      },
      {
       "output_type": "stream",
       "stream": "stdout",
       "text": [
        " jackrousseau 4 8 68\n",
        "varietygamer"
       ]
      },
      {
       "output_type": "stream",
       "stream": "stdout",
       "text": [
        " Music_King 5 2 17\n",
        "varietygamer"
       ]
      },
      {
       "output_type": "stream",
       "stream": "stdout",
       "text": [
        " jheohdgs 0 1 1\n",
        "varietygamer"
       ]
      },
      {
       "output_type": "stream",
       "stream": "stdout",
       "text": [
        " OB1_kenobi 3 10 23\n",
        "varietygamer"
       ]
      },
      {
       "output_type": "stream",
       "stream": "stdout",
       "text": [
        " Riash 0 0 7\n",
        "varietygamer"
       ]
      },
      {
       "output_type": "stream",
       "stream": "stdout",
       "text": [
        " eskimobrother319 0 0 9\n",
        "vaguerant107"
       ]
      },
      {
       "output_type": "stream",
       "stream": "stdout",
       "text": [
        " ForFUCKSSAKE_ 3 0 13\n",
        "endprism"
       ]
      },
      {
       "output_type": "stream",
       "stream": "stdout",
       "text": [
        " steelnuts 3 1 4\n",
        "OB1_kenobi"
       ]
      },
      {
       "output_type": "stream",
       "stream": "stdout",
       "text": [
        " StevefromRetail 1 2 11\n",
        "OB1_kenobi"
       ]
      },
      {
       "output_type": "stream",
       "stream": "stdout",
       "text": [
        " Music_King 0 0 2\n",
        "OB1_kenobi"
       ]
      },
      {
       "output_type": "stream",
       "stream": "stdout",
       "text": [
        " eskimobrother319 3 6 17\n",
        "JamesColesPardon"
       ]
      },
      {
       "output_type": "stream",
       "stream": "stdout",
       "text": [
        " Rosalee 1 0 6\n",
        "BrightTomorrow"
       ]
      },
      {
       "output_type": "stream",
       "stream": "stdout",
       "text": [
        " fandrei 0 0 9\n",
        "lordderplythethird"
       ]
      },
      {
       "output_type": "stream",
       "stream": "stdout",
       "text": [
        " Wagamaga 6 14 75\n",
        "TooLoudToSilence"
       ]
      },
      {
       "output_type": "stream",
       "stream": "stdout",
       "text": [
        " kulkke 0 3 2\n",
        "Allthewaylive215"
       ]
      },
      {
       "output_type": "stream",
       "stream": "stdout",
       "text": [
        " panzerlieder 0 1 12\n",
        "Allthewaylive215"
       ]
      },
      {
       "output_type": "stream",
       "stream": "stdout",
       "text": [
        " chabanais 0 0 1\n",
        "Fuadius"
       ]
      },
      {
       "output_type": "stream",
       "stream": "stdout",
       "text": [
        " thatsmrdickface 0 4 17\n",
        "ahyuknyuk"
       ]
      },
      {
       "output_type": "stream",
       "stream": "stdout",
       "text": [
        " triggerthedigger 0 3 7\n",
        "chabanais"
       ]
      },
      {
       "output_type": "stream",
       "stream": "stdout",
       "text": [
        " panzerlieder 1 0 0\n",
        "DrSalted"
       ]
      },
      {
       "output_type": "stream",
       "stream": "stdout",
       "text": [
        " Wagamaga 1 4 4\n",
        "bell_peppers_n_beef"
       ]
      },
      {
       "output_type": "stream",
       "stream": "stdout",
       "text": [
        " infiniZii 0 1 8\n",
        "DONE\n"
       ]
      }
     ],
     "prompt_number": 11
    },
    {
     "cell_type": "code",
     "collapsed": false,
     "input": [
      "# analyse triangle types\n",
      "# counts of +++, ++-, +--, --- triangles respectively\n",
      "counts = {'+++':0, '++-':0, '+--':0, '---':0}\n",
      "\n",
      "for triangle in triangle_list:\n",
      "    pairs  = combinations(triangle, 2)\n",
      "    tot = 0\n",
      "    for pair in pairs:\n",
      "        tot += triangles_reddit_graph.edge[pair[0]][pair[1]]['polarity']\n",
      "    \n",
      "    if tot == 3:\n",
      "        counts['+++'] += 1\n",
      "    elif tot == 1:\n",
      "        counts['++-'] += 1\n",
      "    elif tot == -1:\n",
      "         counts['+--'] += 1\n",
      "    elif tot == -3:\n",
      "        counts['---'] += 1\n",
      "    else:\n",
      "       pass\n",
      "\n",
      "print \"counts in a labeled network: \", counts"
     ],
     "language": "python",
     "metadata": {},
     "outputs": [
      {
       "output_type": "stream",
       "stream": "stdout",
       "text": [
        "counts in a labeled network:  {'++-': 11, '---': 34, '+--': 48, '+++': 1}\n"
       ]
      }
     ],
     "prompt_number": 12
    },
    {
     "cell_type": "code",
     "collapsed": false,
     "input": [
      "# Subgroup detection aproximation algorithm\n",
      "\n",
      "# param from paper\n",
      "alpha = 0.5\n",
      "max_cluster_num = 5\n",
      "\n",
      "#network to work on\n",
      "work_graph = triangles_reddit_graph.copy()\n",
      "best_cluster_graph = work_graph.copy()\n",
      "\n",
      "best_price = float(\"inf\")\n",
      "\n",
      "# for each cluster size >=2\n",
      "for t in range(max_cluster_num+1)[2:]:\n",
      "    \n",
      "    # partition network into t clusters randomly\n",
      "    # (assign random value to node)\n",
      "    for node in work_graph.nodes():\n",
      "        work_graph.node[node]['cluster'] = random.randint(1,t)\n",
      "         \n",
      "    # compute price of partition\n",
      "    cur_price = 0\n",
      "    for edge in work_graph.edges():\n",
      "        userA, userB, pol = edge[0], edge[1], work_graph.edge[edge[0]][edge[1]]['polarity']\n",
      "        \n",
      "        if pol == -1 and  (work_graph.node[userA]['cluster'] == work_graph.node[userB]['cluster']):\n",
      "            # same group, disagreement\n",
      "            cur_price += (1-alpha)\n",
      "        elif pol == 1 and  (work_graph.node[userA]['cluster'] != work_graph.node[userB]['cluster']):\n",
      "            # dif groups, agreement\n",
      "            cur_price += alpha\n",
      "        else:\n",
      "            # do not increase price\n",
      "            pass\n",
      "    print \"clusters: \", t, \"initial price\", cur_price\n",
      "    \n",
      "    if cur_price < best_price:\n",
      "        best_cluster_graph = work_graph.copy()\n",
      "        best_price = cur_price\n",
      "        \n",
      "    # look at all neighbor clusters\n",
      "    copy_graph = work_graph.copy()\n",
      "    \n",
      "    # while neigbors are better\n",
      "    neighbor_better = True\n",
      "    while neighbor_better == True:\n",
      "        \n",
      "        # set loop break\n",
      "        neighbor_better = False\n",
      "\n",
      "        # -1 try each node as switch\n",
      "        for switch_node in copy_graph.nodes():\n",
      "            # save cluster value\n",
      "            save_val = copy_graph.node[switch_node]['cluster']\n",
      "\n",
      "            # change cluster value \n",
      "            for cluster_val in [x for x in range(max_cluster_num+1)[2:] if x != save_val]:\n",
      "                # try new value\n",
      "                copy_graph.node[node]['cluster'] = cluster_val\n",
      "\n",
      "                #compute new price\n",
      "                neigh_price = 0\n",
      "                for edge in copy_graph.edges():\n",
      "                    userA, userB, pol = edge[0], edge[1], copy_graph.edge[edge[0]][edge[1]]['polarity']\n",
      "\n",
      "                    if pol == -1 and (copy_graph.node[userA]['cluster'] == copy_graph.node[userB]['cluster']):\n",
      "                        # same group, disagreement\n",
      "                        neigh_price += (1-alpha)\n",
      "                    elif pol == 1 and (copy_graph.node[userA]['cluster'] != copy_graph.node[userB]['cluster']):\n",
      "                        # dif groups, agreement\n",
      "                        neigh_price += alpha\n",
      "                    else:\n",
      "                        # do not increase price\n",
      "                        pass\n",
      "                                    \n",
      "                # assign new values if better\n",
      "                if neigh_price < cur_price:\n",
      "                    cur_price = neigh_price\n",
      "                    best_switch = [switch_node, cluster_val]\n",
      "                    neighbor_better = True\n",
      "\n",
      "                if cur_price < best_price:\n",
      "                    best_cluster_graph = copy_graph.copy()\n",
      "                    best_price = cur_price\n",
      "\n",
      "                # reset value\n",
      "                copy_graph.node[switch_node]['cluster'] = save_val\n",
      "\n",
      "\n",
      "        # -2 try each edge as switch\n",
      "        for switch_edge in copy_graph.edges():\n",
      "\n",
      "            # switch values\n",
      "            copy_graph.node[switch_edge[0]]['cluster'],copy_graph.node[switch_edge[1]]['cluster'] = copy_graph.node[switch_edge[1]]['cluster'],copy_graph.node[switch_edge[0]]['cluster']\n",
      "\n",
      "            #compute new price\n",
      "            neigh_price = 0\n",
      "            for edge in copy_graph.edges():\n",
      "                userA, userB, pol = edge[0], edge[1], copy_graph.edge[edge[0]][edge[1]]['polarity']\n",
      "\n",
      "                if pol == -1 and (copy_graph.node[userA]['cluster'] == copy_graph.node[userB]['cluster']):\n",
      "                    # same group, disagreement\n",
      "                    neigh_price += (1-alpha)\n",
      "                elif pol == 1 and (copy_graph.node[userA]['cluster'] != copy_graph.node[userB]['cluster']):\n",
      "                    # dif groups, agreement\n",
      "                    neigh_price += alpha\n",
      "                else:\n",
      "                    # do not increase price\n",
      "                    pass \n",
      "\n",
      "            # assign new price if better\n",
      "            if neigh_price < cur_price:\n",
      "                cur_price = neigh_price \n",
      "                best_switch = switch_edge\n",
      "                neighbor_better = True\n",
      "\n",
      "            if cur_price < best_price:\n",
      "                best_cluster_graph = copy_graph.copy()\n",
      "                best_price = cur_price\n",
      "\n",
      "            # reset values\n",
      "            copy_graph.node[switch_edge[0]]['cluster'],copy_graph.node[switch_edge[1]]['cluster'] = copy_graph.node[switch_edge[1]]['cluster'],copy_graph.node[switch_edge[0]]['cluster']\n",
      "\n",
      "        #apply switch\n",
      "        if type(best_switch) == tuple:\n",
      "            # best switch is edge\n",
      "            copy_graph.node[best_switch[0]]['cluster'],copy_graph.node[best_switch[1]]['cluster'] = copy_graph.node[best_switch[1]]['cluster'],copy_graph.node[best_switch[0]]['cluster']\n",
      "        elif type(best_switch) == list:\n",
      "            # best switch is node'\n",
      "            copy_graph.node[best_switch[0]]['cluster'] = best_switch[1]\n",
      "        \n",
      "        print neighbor_better\n",
      "\n",
      "        print \"best neighbor\",cur_price"
     ],
     "language": "python",
     "metadata": {},
     "outputs": [
      {
       "output_type": "stream",
       "stream": "stdout",
       "text": [
        "clusters:  2 initial price 79.5\n",
        "True"
       ]
      },
      {
       "output_type": "stream",
       "stream": "stdout",
       "text": [
        "\n",
        "best neighbor 75.5\n",
        "True"
       ]
      },
      {
       "output_type": "stream",
       "stream": "stdout",
       "text": [
        "\n",
        "best neighbor 72.5\n",
        "True"
       ]
      },
      {
       "output_type": "stream",
       "stream": "stdout",
       "text": [
        "\n",
        "best neighbor 70.5\n",
        "True"
       ]
      },
      {
       "output_type": "stream",
       "stream": "stdout",
       "text": [
        "\n",
        "best neighbor 68.5\n",
        "True"
       ]
      },
      {
       "output_type": "stream",
       "stream": "stdout",
       "text": [
        "\n",
        "best neighbor 66.5\n",
        "True"
       ]
      },
      {
       "output_type": "stream",
       "stream": "stdout",
       "text": [
        "\n",
        "best neighbor 65.0\n",
        "True"
       ]
      },
      {
       "output_type": "stream",
       "stream": "stdout",
       "text": [
        "\n",
        "best neighbor 63.5\n",
        "True"
       ]
      },
      {
       "output_type": "stream",
       "stream": "stdout",
       "text": [
        "\n",
        "best neighbor 62.0\n",
        "True"
       ]
      },
      {
       "output_type": "stream",
       "stream": "stdout",
       "text": [
        "\n",
        "best neighbor 61.5\n",
        "True"
       ]
      },
      {
       "output_type": "stream",
       "stream": "stdout",
       "text": [
        "\n",
        "best neighbor 60.5\n",
        "True"
       ]
      },
      {
       "output_type": "stream",
       "stream": "stdout",
       "text": [
        "\n",
        "best neighbor 59.5\n",
        "True"
       ]
      },
      {
       "output_type": "stream",
       "stream": "stdout",
       "text": [
        "\n",
        "best neighbor 58.5\n",
        "True"
       ]
      },
      {
       "output_type": "stream",
       "stream": "stdout",
       "text": [
        "\n",
        "best neighbor 57.5\n",
        "True"
       ]
      },
      {
       "output_type": "stream",
       "stream": "stdout",
       "text": [
        "\n",
        "best neighbor 56.5\n",
        "True"
       ]
      },
      {
       "output_type": "stream",
       "stream": "stdout",
       "text": [
        "\n",
        "best neighbor 55.5\n",
        "True"
       ]
      },
      {
       "output_type": "stream",
       "stream": "stdout",
       "text": [
        "\n",
        "best neighbor 54.5\n",
        "True"
       ]
      },
      {
       "output_type": "stream",
       "stream": "stdout",
       "text": [
        "\n",
        "best neighbor 53.5\n",
        "True"
       ]
      },
      {
       "output_type": "stream",
       "stream": "stdout",
       "text": [
        "\n",
        "best neighbor 52.5\n",
        "True"
       ]
      },
      {
       "output_type": "stream",
       "stream": "stdout",
       "text": [
        "\n",
        "best neighbor 51.5\n",
        "True"
       ]
      },
      {
       "output_type": "stream",
       "stream": "stdout",
       "text": [
        "\n",
        "best neighbor 50.5\n",
        "True"
       ]
      },
      {
       "output_type": "stream",
       "stream": "stdout",
       "text": [
        "\n",
        "best neighbor 49.5\n",
        "True"
       ]
      },
      {
       "output_type": "stream",
       "stream": "stdout",
       "text": [
        "\n",
        "best neighbor 48.5\n",
        "True"
       ]
      },
      {
       "output_type": "stream",
       "stream": "stdout",
       "text": [
        "\n",
        "best neighbor 48.0\n",
        "True"
       ]
      },
      {
       "output_type": "stream",
       "stream": "stdout",
       "text": [
        "\n",
        "best neighbor 47.5\n",
        "False"
       ]
      },
      {
       "output_type": "stream",
       "stream": "stdout",
       "text": [
        "\n",
        "best neighbor 47.5\n",
        "clusters:  3 initial price 56.5\n",
        "True"
       ]
      },
      {
       "output_type": "stream",
       "stream": "stdout",
       "text": [
        "\n",
        "best neighbor 53.5\n",
        "True"
       ]
      },
      {
       "output_type": "stream",
       "stream": "stdout",
       "text": [
        "\n",
        "best neighbor 51.5\n",
        "True"
       ]
      },
      {
       "output_type": "stream",
       "stream": "stdout",
       "text": [
        "\n",
        "best neighbor 50.0\n",
        "True"
       ]
      },
      {
       "output_type": "stream",
       "stream": "stdout",
       "text": [
        "\n",
        "best neighbor 48.5\n",
        "True"
       ]
      },
      {
       "output_type": "stream",
       "stream": "stdout",
       "text": [
        "\n",
        "best neighbor 47.0\n",
        "True"
       ]
      },
      {
       "output_type": "stream",
       "stream": "stdout",
       "text": [
        "\n",
        "best neighbor 45.5\n",
        "True"
       ]
      },
      {
       "output_type": "stream",
       "stream": "stdout",
       "text": [
        "\n",
        "best neighbor 44.5\n",
        "True"
       ]
      },
      {
       "output_type": "stream",
       "stream": "stdout",
       "text": [
        "\n",
        "best neighbor 43.5\n",
        "True"
       ]
      },
      {
       "output_type": "stream",
       "stream": "stdout",
       "text": [
        "\n",
        "best neighbor 42.5\n",
        "True"
       ]
      },
      {
       "output_type": "stream",
       "stream": "stdout",
       "text": [
        "\n",
        "best neighbor 41.5\n",
        "True"
       ]
      },
      {
       "output_type": "stream",
       "stream": "stdout",
       "text": [
        "\n",
        "best neighbor 40.5\n",
        "True"
       ]
      },
      {
       "output_type": "stream",
       "stream": "stdout",
       "text": [
        "\n",
        "best neighbor 39.5\n",
        "True"
       ]
      },
      {
       "output_type": "stream",
       "stream": "stdout",
       "text": [
        "\n",
        "best neighbor 38.5\n",
        "True"
       ]
      },
      {
       "output_type": "stream",
       "stream": "stdout",
       "text": [
        "\n",
        "best neighbor 37.5\n",
        "True"
       ]
      },
      {
       "output_type": "stream",
       "stream": "stdout",
       "text": [
        "\n",
        "best neighbor 36.5\n",
        "True"
       ]
      },
      {
       "output_type": "stream",
       "stream": "stdout",
       "text": [
        "\n",
        "best neighbor 35.5\n",
        "True"
       ]
      },
      {
       "output_type": "stream",
       "stream": "stdout",
       "text": [
        "\n",
        "best neighbor 34.5\n",
        "True"
       ]
      },
      {
       "output_type": "stream",
       "stream": "stdout",
       "text": [
        "\n",
        "best neighbor 33.5\n",
        "True"
       ]
      },
      {
       "output_type": "stream",
       "stream": "stdout",
       "text": [
        "\n",
        "best neighbor 33.0\n",
        "True"
       ]
      },
      {
       "output_type": "stream",
       "stream": "stdout",
       "text": [
        "\n",
        "best neighbor 32.5\n",
        "True"
       ]
      },
      {
       "output_type": "stream",
       "stream": "stdout",
       "text": [
        "\n",
        "best neighbor 32.0\n",
        "True"
       ]
      },
      {
       "output_type": "stream",
       "stream": "stdout",
       "text": [
        "\n",
        "best neighbor 31.5\n",
        "True"
       ]
      },
      {
       "output_type": "stream",
       "stream": "stdout",
       "text": [
        "\n",
        "best neighbor 31.0\n",
        "True"
       ]
      },
      {
       "output_type": "stream",
       "stream": "stdout",
       "text": [
        "\n",
        "best neighbor 30.5\n",
        "True"
       ]
      },
      {
       "output_type": "stream",
       "stream": "stdout",
       "text": [
        "\n",
        "best neighbor 30.0\n",
        "True"
       ]
      },
      {
       "output_type": "stream",
       "stream": "stdout",
       "text": [
        "\n",
        "best neighbor 29.5\n",
        "True"
       ]
      },
      {
       "output_type": "stream",
       "stream": "stdout",
       "text": [
        "\n",
        "best neighbor 29.0\n",
        "True"
       ]
      },
      {
       "output_type": "stream",
       "stream": "stdout",
       "text": [
        "\n",
        "best neighbor 28.5\n",
        "True"
       ]
      },
      {
       "output_type": "stream",
       "stream": "stdout",
       "text": [
        "\n",
        "best neighbor 28.0\n",
        "True"
       ]
      },
      {
       "output_type": "stream",
       "stream": "stdout",
       "text": [
        "\n",
        "best neighbor 27.5\n",
        "True"
       ]
      },
      {
       "output_type": "stream",
       "stream": "stdout",
       "text": [
        "\n",
        "best neighbor 27.0\n",
        "False"
       ]
      },
      {
       "output_type": "stream",
       "stream": "stdout",
       "text": [
        "\n",
        "best neighbor 27.0\n",
        "clusters:  4 initial price 51.5\n",
        "True"
       ]
      },
      {
       "output_type": "stream",
       "stream": "stdout",
       "text": [
        "\n",
        "best neighbor 48.5\n",
        "True"
       ]
      },
      {
       "output_type": "stream",
       "stream": "stdout",
       "text": [
        "\n",
        "best neighbor 46.0\n",
        "True"
       ]
      },
      {
       "output_type": "stream",
       "stream": "stdout",
       "text": [
        "\n",
        "best neighbor 44.5\n",
        "True"
       ]
      },
      {
       "output_type": "stream",
       "stream": "stdout",
       "text": [
        "\n",
        "best neighbor 43.0\n",
        "True"
       ]
      },
      {
       "output_type": "stream",
       "stream": "stdout",
       "text": [
        "\n",
        "best neighbor 41.5\n",
        "True"
       ]
      },
      {
       "output_type": "stream",
       "stream": "stdout",
       "text": [
        "\n",
        "best neighbor 40.0\n",
        "True"
       ]
      },
      {
       "output_type": "stream",
       "stream": "stdout",
       "text": [
        "\n",
        "best neighbor 39.0\n",
        "True"
       ]
      },
      {
       "output_type": "stream",
       "stream": "stdout",
       "text": [
        "\n",
        "best neighbor 38.0\n",
        "True"
       ]
      },
      {
       "output_type": "stream",
       "stream": "stdout",
       "text": [
        "\n",
        "best neighbor 37.0\n",
        "True"
       ]
      },
      {
       "output_type": "stream",
       "stream": "stdout",
       "text": [
        "\n",
        "best neighbor 36.0\n",
        "True"
       ]
      },
      {
       "output_type": "stream",
       "stream": "stdout",
       "text": [
        "\n",
        "best neighbor 35.0\n",
        "True"
       ]
      },
      {
       "output_type": "stream",
       "stream": "stdout",
       "text": [
        "\n",
        "best neighbor 34.0\n",
        "True"
       ]
      },
      {
       "output_type": "stream",
       "stream": "stdout",
       "text": [
        "\n",
        "best neighbor 33.0\n",
        "True"
       ]
      },
      {
       "output_type": "stream",
       "stream": "stdout",
       "text": [
        "\n",
        "best neighbor 32.0\n",
        "True"
       ]
      },
      {
       "output_type": "stream",
       "stream": "stdout",
       "text": [
        "\n",
        "best neighbor 31.0\n",
        "True"
       ]
      },
      {
       "output_type": "stream",
       "stream": "stdout",
       "text": [
        "\n",
        "best neighbor 30.0\n",
        "True"
       ]
      },
      {
       "output_type": "stream",
       "stream": "stdout",
       "text": [
        "\n",
        "best neighbor 29.5\n",
        "True"
       ]
      },
      {
       "output_type": "stream",
       "stream": "stdout",
       "text": [
        "\n",
        "best neighbor 29.0\n",
        "True"
       ]
      },
      {
       "output_type": "stream",
       "stream": "stdout",
       "text": [
        "\n",
        "best neighbor 28.5\n",
        "True"
       ]
      },
      {
       "output_type": "stream",
       "stream": "stdout",
       "text": [
        "\n",
        "best neighbor 28.0\n",
        "True"
       ]
      },
      {
       "output_type": "stream",
       "stream": "stdout",
       "text": [
        "\n",
        "best neighbor 27.5\n",
        "True"
       ]
      },
      {
       "output_type": "stream",
       "stream": "stdout",
       "text": [
        "\n",
        "best neighbor 27.0\n",
        "True"
       ]
      },
      {
       "output_type": "stream",
       "stream": "stdout",
       "text": [
        "\n",
        "best neighbor 26.5\n",
        "True"
       ]
      },
      {
       "output_type": "stream",
       "stream": "stdout",
       "text": [
        "\n",
        "best neighbor 26.0\n",
        "True"
       ]
      },
      {
       "output_type": "stream",
       "stream": "stdout",
       "text": [
        "\n",
        "best neighbor 25.5\n",
        "True"
       ]
      },
      {
       "output_type": "stream",
       "stream": "stdout",
       "text": [
        "\n",
        "best neighbor 25.0\n",
        "True"
       ]
      },
      {
       "output_type": "stream",
       "stream": "stdout",
       "text": [
        "\n",
        "best neighbor 24.5\n",
        "True"
       ]
      },
      {
       "output_type": "stream",
       "stream": "stdout",
       "text": [
        "\n",
        "best neighbor 24.0\n",
        "True"
       ]
      },
      {
       "output_type": "stream",
       "stream": "stdout",
       "text": [
        "\n",
        "best neighbor 23.5\n",
        "True"
       ]
      },
      {
       "output_type": "stream",
       "stream": "stdout",
       "text": [
        "\n",
        "best neighbor 23.0\n",
        "True"
       ]
      },
      {
       "output_type": "stream",
       "stream": "stdout",
       "text": [
        "\n",
        "best neighbor 22.5\n",
        "False"
       ]
      },
      {
       "output_type": "stream",
       "stream": "stdout",
       "text": [
        "\n",
        "best neighbor 22.5\n",
        "clusters:  5 initial price 45.5\n",
        "True"
       ]
      },
      {
       "output_type": "stream",
       "stream": "stdout",
       "text": [
        "\n",
        "best neighbor 42.5\n",
        "True"
       ]
      },
      {
       "output_type": "stream",
       "stream": "stdout",
       "text": [
        "\n",
        "best neighbor 40.0\n",
        "True"
       ]
      },
      {
       "output_type": "stream",
       "stream": "stdout",
       "text": [
        "\n",
        "best neighbor 38.0\n",
        "True"
       ]
      },
      {
       "output_type": "stream",
       "stream": "stdout",
       "text": [
        "\n",
        "best neighbor 36.5\n",
        "True"
       ]
      },
      {
       "output_type": "stream",
       "stream": "stdout",
       "text": [
        "\n",
        "best neighbor 35.5\n",
        "True"
       ]
      },
      {
       "output_type": "stream",
       "stream": "stdout",
       "text": [
        "\n",
        "best neighbor 34.5\n",
        "True"
       ]
      },
      {
       "output_type": "stream",
       "stream": "stdout",
       "text": [
        "\n",
        "best neighbor 33.5\n",
        "True"
       ]
      },
      {
       "output_type": "stream",
       "stream": "stdout",
       "text": [
        "\n",
        "best neighbor 32.5\n",
        "True"
       ]
      },
      {
       "output_type": "stream",
       "stream": "stdout",
       "text": [
        "\n",
        "best neighbor 31.5\n",
        "True"
       ]
      },
      {
       "output_type": "stream",
       "stream": "stdout",
       "text": [
        "\n",
        "best neighbor 30.5\n",
        "True"
       ]
      },
      {
       "output_type": "stream",
       "stream": "stdout",
       "text": [
        "\n",
        "best neighbor 30.0\n",
        "True"
       ]
      },
      {
       "output_type": "stream",
       "stream": "stdout",
       "text": [
        "\n",
        "best neighbor 29.5\n",
        "True"
       ]
      },
      {
       "output_type": "stream",
       "stream": "stdout",
       "text": [
        "\n",
        "best neighbor 29.0\n",
        "True"
       ]
      },
      {
       "output_type": "stream",
       "stream": "stdout",
       "text": [
        "\n",
        "best neighbor 28.5\n",
        "True"
       ]
      },
      {
       "output_type": "stream",
       "stream": "stdout",
       "text": [
        "\n",
        "best neighbor 28.0\n",
        "True"
       ]
      },
      {
       "output_type": "stream",
       "stream": "stdout",
       "text": [
        "\n",
        "best neighbor 27.5\n",
        "True"
       ]
      },
      {
       "output_type": "stream",
       "stream": "stdout",
       "text": [
        "\n",
        "best neighbor 27.0\n",
        "True"
       ]
      },
      {
       "output_type": "stream",
       "stream": "stdout",
       "text": [
        "\n",
        "best neighbor 26.5\n",
        "True"
       ]
      },
      {
       "output_type": "stream",
       "stream": "stdout",
       "text": [
        "\n",
        "best neighbor 26.0\n",
        "True"
       ]
      },
      {
       "output_type": "stream",
       "stream": "stdout",
       "text": [
        "\n",
        "best neighbor 25.5\n",
        "True"
       ]
      },
      {
       "output_type": "stream",
       "stream": "stdout",
       "text": [
        "\n",
        "best neighbor 25.0\n",
        "True"
       ]
      },
      {
       "output_type": "stream",
       "stream": "stdout",
       "text": [
        "\n",
        "best neighbor 24.5\n",
        "True"
       ]
      },
      {
       "output_type": "stream",
       "stream": "stdout",
       "text": [
        "\n",
        "best neighbor 24.0\n",
        "True"
       ]
      },
      {
       "output_type": "stream",
       "stream": "stdout",
       "text": [
        "\n",
        "best neighbor 23.5\n",
        "True"
       ]
      },
      {
       "output_type": "stream",
       "stream": "stdout",
       "text": [
        "\n",
        "best neighbor 23.0\n",
        "True"
       ]
      },
      {
       "output_type": "stream",
       "stream": "stdout",
       "text": [
        "\n",
        "best neighbor 22.5\n",
        "True"
       ]
      },
      {
       "output_type": "stream",
       "stream": "stdout",
       "text": [
        "\n",
        "best neighbor 22.0\n",
        "True"
       ]
      },
      {
       "output_type": "stream",
       "stream": "stdout",
       "text": [
        "\n",
        "best neighbor 21.5\n",
        "True"
       ]
      },
      {
       "output_type": "stream",
       "stream": "stdout",
       "text": [
        "\n",
        "best neighbor 21.0\n",
        "False"
       ]
      },
      {
       "output_type": "stream",
       "stream": "stdout",
       "text": [
        "\n",
        "best neighbor 21.0\n"
       ]
      }
     ],
     "prompt_number": 38
    },
    {
     "cell_type": "code",
     "collapsed": false,
     "input": [
      "print best_price\n",
      "for node in best_cluster_graph.nodes():\n",
      "    print node, best_cluster_graph.node[node]['cluster']"
     ],
     "language": "python",
     "metadata": {},
     "outputs": [
      {
       "output_type": "stream",
       "stream": "stdout",
       "text": [
        " 21.0\n",
        "speedisavirus 2\n",
        "Tripwire3 4\n",
        "AdClemson 1\n",
        "most_original_nick 4\n",
        "MrGraeme 3\n",
        "chuckaway9 1\n",
        "artureposir 5\n",
        "critfist 5\n",
        "my__name__is 4\n",
        "mrstickball 1\n",
        "orru 1\n",
        "NinjaDiscoJesus 3\n",
        "sternee 2\n",
        "kriegson 1\n",
        "midasz 5\n",
        "bigdeal42 3\n",
        "puffpuff9 5\n",
        "InternetPropagandist 5\n",
        "Carter1116 5\n",
        "Dividedstein 3\n",
        "zolzks 3\n",
        "Garet-Jax 4\n",
        "mehdika 3\n",
        "RabidRaccoon 3\n",
        "itsfineitsgreat 3\n",
        "umakemefunny 5\n",
        "project_a_jackie 2\n",
        "Lionstrong 2\n",
        "readerseven 1\n",
        "moushoo 2\n",
        "triggerthedigger 2\n",
        "JudLew 2\n",
        "razerxs 4\n",
        "sphere2040 5\n",
        "iMark70 3\n",
        "Romek_himself 3\n",
        "jonzobot 2\n",
        "Flower_Ninja 3\n",
        "VulvaVulva 2\n",
        "soon2beaher 2\n",
        "akingpa 2\n",
        "toomanynoobs 5\n",
        "i-no-u-no-i-no 2\n",
        "crazehoarse 1\n",
        "koolaidkirby 2\n",
        "yes_thats_right 2\n",
        "kulkke 5\n",
        "eazye187 1\n",
        "Kahing 4\n",
        "machinedog 4\n",
        "Batatata 4\n",
        "vecnyj 3\n",
        "georgevader 3\n",
        "Mosetsfire84 4\n",
        "JohnMiltonJamesJoyce 1\n",
        "ComplexityAhhoy 1\n",
        "WiseChoices 4\n",
        "Mordredbas 1\n",
        "ZionistShark 2\n",
        "bitofnewsbot 1\n",
        "oneofmanyshills 5\n",
        "50ShadesOfPatriotic 1\n",
        "sansaset 2\n",
        "KnotPtelling 3\n",
        "dragon_nipples 1\n",
        "holocauster-ride 3\n",
        "Israil_Akbar 4\n",
        "lukeyflukey 1\n",
        "GhostOfWhatsIAName 4\n",
        "Boris45 1\n",
        "MonsieurAnon 2\n",
        "tigersharkwushen_ 1\n",
        "NSA_ActiveMonitor 4\n",
        "jaaaack 3\n",
        "CIKAFIUMPH 5\n",
        "AngryVegetable 3\n",
        "Tatalebuj 3\n",
        "kefeer 5\n",
        "kslusherplantman 5\n",
        "ISeeSharp 3\n",
        "gonnaupvote3 3\n",
        "damndirtylies 4\n",
        "mrnovember5 3\n",
        "kwonza 3\n",
        "jdscarface 3\n",
        "DrBoomkin 1\n",
        "WillRedditForBitcoin 3\n",
        "jaywalker32 1\n",
        "090078601 2\n",
        "HunterSThompson_says 4\n",
        "Loki-L 2\n",
        "TheLastOfYou 1\n",
        "RufusTheFirefly 3\n",
        "CVSer 2\n",
        "DarthQuerious 4\n",
        "grammaryan 4\n",
        "RaikerCat 2\n",
        "Tachels 3\n",
        "gethighandthink 1\n",
        "poonhounds 3\n",
        "TangoJager 5\n",
        "Recoi1 2\n",
        "Shoudlaz 2\n",
        "DineLointHarpie 5\n",
        "vainglory7 2\n",
        "HitlersFleshlight 1\n",
        "ThatGetItKid 3\n",
        "Drak_is_Right 2\n",
        "existentialadvisor 1\n",
        "xHaGGeNx 1\n",
        "MongolPerson 3\n",
        "Smoke_Meth_in_Butt 3\n",
        "Ameri-KKK-aSucksMan 1\n",
        "i_love_hezbollah 4\n",
        "DrSalted 3\n",
        "bigplrbear 4\n",
        "Reditski 3\n",
        "richjew 3\n",
        "rindindin 4\n",
        "TheCeilingisGreen 3\n",
        "QUAD_PENETRATION 4\n",
        "_Perfectionist 5\n",
        "tehbored 2\n",
        "plato1123 5\n",
        "an_actual_lawyer 3\n",
        "putupyourdukes 1\n",
        "Wisdom_from_the_Ages 3\n",
        "Zodiac13 3\n",
        "vintruvian 4\n",
        "arqoi 1\n",
        "DoremusJessup 3\n",
        "PreciseCobra 1\n",
        "hellzorak 2\n",
        "TheLastSovietSniper 1\n",
        "jwax33 1\n",
        "NoHorseInThisRace 4\n",
        "TheLightningbolt 3\n",
        "TastyLipid 5\n",
        "prutopls 5\n",
        "orr250mph 1\n",
        "Conflict_Observer 5\n",
        "moskonia 3\n",
        "Cantmemba 2\n",
        "SilentTyrant1 3\n",
        "guanaco55 2\n",
        "xanadu_reloaded 2\n",
        "vigorous 3\n",
        "hpsyk 2\n",
        "RoswellSpaceman 4\n",
        "aminice 2\n",
        "Blindbandit809 4\n",
        "uncannylizard 1\n",
        "cityofkern 1\n",
        "Maso_del_Saggio 3\n",
        "rosinthebow 3\n",
        "randomfact8472 1\n",
        "Oreo_Speedwagon 5\n",
        "Computer_Name 4\n",
        "Tacoman404 2\n",
        "Hagtzel 4\n",
        "Zenarchist 2\n",
        "BlackTeaLeaves 1\n",
        "Ithikari 4\n",
        "Darius1618 2\n",
        "dafez7 2\n",
        "PixelBlaster 5\n",
        "particle409 4\n",
        "hippylarvae 5\n",
        "retardcharizard 1\n",
        "HoliHandGrenades 5\n",
        "TranslationRussian 2\n",
        "admronoc 2\n",
        "I_love_Israel 5\n",
        "Perniciouss 1\n",
        "herticalt 4\n",
        "LurkerEurope 5\n",
        "ripcitybitch 4\n",
        "InternetOfficer 3\n",
        "klug3 3\n",
        "rubyroacher 4\n",
        "CitationX_N7V11C 3\n",
        "ultraspontane 5\n",
        "failbotron 5\n",
        "improb 1\n",
        "AlmostTheNewestDad 3\n",
        "StabbiRabbi 2\n",
        "varietygamer 3\n",
        "vaguerant107 1\n",
        "endprism 4\n",
        "OB1_kenobi 2\n",
        "JamesColesPardon 5\n",
        "BrightTomorrow 5\n",
        "DrivenDogged 3\n",
        "Mad_Jukes 3\n",
        "jkess04 1\n",
        "BannedByZionists 5\n",
        "lordderplythethird 1\n",
        "TooLoudToSilence 2\n",
        "Allthewaylive215 1\n",
        "Slyndrr 1\n",
        "AndrewFGleich 2\n",
        "StargateParadox 2\n",
        "Riash 2\n",
        "Nautil 1\n",
        "1x10_-24 1\n",
        "fredy5 2\n",
        "StevefromRetail 5\n",
        "infiniZii 1\n",
        "DoctorExplosion 5\n",
        "Music_King 3\n",
        "ahyuknyuk 2\n",
        "EatingSandwiches1 3\n",
        "chabanais 4\n",
        "Sir_Beelzebub 1\n",
        "FnordFinder 5\n",
        "panzerlieder 4\n",
        "jheohdgs 1\n",
        "NewtonianCooking 4\n",
        "Wagamaga 2\n",
        "Sleekery 3\n",
        "77bc 3\n",
        "heavyyy 4\n",
        "ZachofFables 3\n",
        "trolls_brigade 1\n",
        "Rosalee 2\n",
        "Brett686 3\n",
        "jackrousseau 5\n",
        "zahrul3 1\n",
        "lktgrss 4\n",
        "bell_peppers_n_beef 2\n",
        "fandrei 4\n",
        "cock_pussy_up 4\n",
        "quiteintriguing 2\n",
        "madazzahatter 2\n",
        "MaltyBeverage 1\n",
        "Fuadius 3\n",
        "ForFUCKSSAKE_ 5\n",
        "steelnuts 5\n",
        "boomanwho 5\n",
        "Hamartolus 4\n",
        "thatsmrdickface 2\n",
        "busdriverbuddha 4\n",
        "eskimobrother319 5\n"
       ]
      }
     ],
     "prompt_number": 44
    },
    {
     "cell_type": "code",
     "collapsed": false,
     "input": [
      "for edge in triangles_reddit_graph.edges():\n",
      "    print type(edge)\n",
      "    break\n",
      "    \n",
      "for node in triangles_reddit_graph.nodes():\n",
      "    print type(node)\n",
      "    break\n",
      "\n",
      "print type(('test', 1)) == tuple\n"
     ],
     "language": "python",
     "metadata": {},
     "outputs": [
      {
       "output_type": "stream",
       "stream": "stdout",
       "text": [
        "<type 'tuple'>\n",
        "<type 'str'>\n",
        "True\n"
       ]
      }
     ],
     "prompt_number": 35
    },
    {
     "cell_type": "code",
     "collapsed": false,
     "input": [
      "# !cd opinionfinderv2.0\\\n",
      "!java -classpath opinionfinderv2.0\\lib\\weka.jar;opinionfinderv2.0\\lib\\stanford-postagger.jar;opinionfinderv2.0\\opinionfinder.jar opin.main.RunOpinionFinder opinionfinderv2.0\\README.txt -m opinionfinderv2.0\\models -l  opinionfinderv2.0\\lexicons"
     ],
     "language": "python",
     "metadata": {},
     "outputs": [
      {
       "output_type": "stream",
       "stream": "stdout",
       "text": [
        "preprocessor: processing opinionfinderv2.0\\README.txt\n",
        "cluefinder: processing opinionfinderv2.0\\README.txt\n",
        "rulebased: processing opinionfinderv2.0\\README.txt\n",
        "subjclassifier: processing opinionfinderv2.0\\README.txt\n",
        "polarityclassifier: processing opinionfinderv2.0\\README.txt\n",
        "SGMLOutput: processing opinionfinderv2.0\\README.txt\n"
       ]
      },
      {
       "output_type": "stream",
       "stream": "stderr",
       "text": [
        "Loading default properties from trained tagger C:\\Users\\FG\\Desktop\\PhD\\Research\\reddit\\opinionfinderv2.0\\models\\english-left3words-distsim.tagger\n",
        "Reading POS tagger model from C:\\Users\\FG\\Desktop\\PhD\\Research\\reddit\\opinionfinderv2.0\\models\\english-left3words-distsim.tagger ... done [1.7 sec].\n",
        "Picked up _JAVA_OPTIONS: -Xmx512M\n"
       ]
      }
     ],
     "prompt_number": 14
    }
   ],
   "metadata": {}
  }
 ]
}