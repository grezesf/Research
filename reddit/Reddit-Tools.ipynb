{
 "metadata": {
  "name": "",
  "signature": "sha256:08968b6d9e646ca91bcdc5e6eeec8391a313f1a5a661e2ead9e1c9e4b5d1eb2d"
 },
 "nbformat": 3,
 "nbformat_minor": 0,
 "worksheets": [
  {
   "cells": [
    {
     "cell_type": "raw",
     "metadata": {},
     "source": [
      "A collection of functions"
     ]
    },
    {
     "cell_type": "code",
     "collapsed": false,
     "input": [
      "# create a network given a directory\n",
      "# this can be added to a previous network if provided\n",
      "# network architecture: {user_name1 : {user_name2 : set(messages between) } }\n",
      "def extract_network(directory, current_network = dict()):\n",
      "    \n",
      "    # new network\n",
      "    network = current_network\n",
      "    \n",
      "    # import XML parser\n",
      "    import xml.etree.ElementTree as ET\n",
      "    \n",
      "    import os\n",
      "\n",
      "    # walk directory\n",
      "    for dir_name, subdir_list, file_list in os.walk(directory):\n",
      "\n",
      "        print \"working in \" + dir_name\n",
      "\n",
      "        for file_name in file_list:\n",
      "            # open file\n",
      "            if (\"Thread\" in file_name) and (\".xml\" in file_name):\n",
      "    #             print \"working on \" + dir_name + '/' + file_name\n",
      "\n",
      "                # parse the file\n",
      "                tree = ET.parse(dir_name + '/' + file_name)\n",
      "                root = tree.getroot()\n",
      "\n",
      "                # depth first traversal \n",
      "                for elem in root.iter():\n",
      "                    # is this a node with comments?\n",
      "                    comments = elem.find('Comments')\n",
      "                    if comments != None:\n",
      "                        # if it is it should have a poster\n",
      "                        poster = elem.find('user').text.strip()\n",
      "                        # find the name of users that replied\n",
      "                        for comment in comments.findall('Comment'):\n",
      "                            commenter = comment.find('user').text.strip()\n",
      "                            comment_text = comment.find('body').text\n",
      "                            if comment_text == None:\n",
      "                                #if somehow the comment has no body, exit this loop\n",
      "                                break\n",
      "\n",
      "                            #save these in the dictionary\n",
      "                            if poster not in network:\n",
      "                                # first time seing this user as poster. add him\n",
      "                                network[poster] = {commenter: set([comment_text.strip()]) }\n",
      "                            else:\n",
      "                                if commenter not in network[poster]:\n",
      "                                    # first time this commenter is commenting on this user \n",
      "                                    network[poster][commenter] = set([comment_text.strip()])\n",
      "                                else:\n",
      "                                    # add text to existing list\n",
      "                                    network[poster][commenter] = network[poster][commenter] | set([comment_text.strip()])\n",
      "    return network\n"
     ],
     "language": "python",
     "metadata": {},
     "outputs": [],
     "prompt_number": 3
    },
    {
     "cell_type": "code",
     "collapsed": false,
     "input": [
      "#symmetrizse a given network\n",
      "def symmetrize_network(network):\n",
      "    # given a network of the form {user_name1 : {user_name2 : {relationship features} } }\n",
      "    # returns a symmetrical version of that network\n",
      "\n",
      "    import copy\n",
      "    sym_network = copy.deepcopy(network)\n",
      "\n",
      "    #go through network\n",
      "    for user_A in network.keys():\n",
      "        for user_B in network[user_A].keys():\n",
      "            msgs = network[user_A][user_B]\n",
      "\n",
      "            if user_B not in sym_network:\n",
      "                sym_network[user_B] = {user_A:msgs}\n",
      "            elif user_A not in sym_network[user_B]:\n",
      "                sym_network[user_B][user_A] =  msgs\n",
      "            else:\n",
      "                sym_network[user_B][user_A] = sym_network[user_B][user_A] | msgs\n",
      "\n",
      "\n",
      "    return sym_network\n"
     ],
     "language": "python",
     "metadata": {},
     "outputs": [],
     "prompt_number": 4
    },
    {
     "cell_type": "code",
     "collapsed": false,
     "input": [],
     "language": "python",
     "metadata": {},
     "outputs": []
    }
   ],
   "metadata": {}
  }
 ]
}